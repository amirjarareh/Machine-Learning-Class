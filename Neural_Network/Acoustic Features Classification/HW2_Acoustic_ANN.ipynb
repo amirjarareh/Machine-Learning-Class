{
  "nbformat": 4,
  "nbformat_minor": 0,
  "metadata": {
    "colab": {
      "provenance": [],
      "toc_visible": true
    },
    "kernelspec": {
      "name": "python3",
      "display_name": "Python 3"
    },
    "language_info": {
      "name": "python"
    },
    "gpuClass": "standard"
  },
  "cells": [
    {
      "cell_type": "markdown",
      "source": [
        "# Load Dataset"
      ],
      "metadata": {
        "id": "9tjX0mtJ206H"
      }
    },
    {
      "cell_type": "code",
      "execution_count": null,
      "metadata": {
        "colab": {
          "base_uri": "https://localhost:8080/"
        },
        "id": "Sml4eU-U5Rfm",
        "outputId": "31c05b99-3afe-413b-e8b0-588fa1e58818"
      },
      "outputs": [
        {
          "output_type": "stream",
          "name": "stdout",
          "text": [
            "Cloning into 'Machine-Learning-Class'...\n",
            "remote: Enumerating objects: 61, done.\u001b[K\n",
            "remote: Counting objects: 100% (61/61), done.\u001b[K\n",
            "remote: Compressing objects: 100% (53/53), done.\u001b[K\n",
            "remote: Total 61 (delta 11), reused 0 (delta 0), pack-reused 0\u001b[K\n",
            "Unpacking objects: 100% (61/61), done.\n"
          ]
        }
      ],
      "source": [
        "%rm -rf /content/*\n",
        "!git clone https://github.com/hmda77/Machine-Learning-Class\n",
        "\n",
        "%mv /content/Machine-Learning-Class/Neural_Network/'Acoustic Features Classification'/* /content/\n",
        "%rm -rf /content/Machine-Learning-Class/"
      ]
    },
    {
      "cell_type": "markdown",
      "source": [
        "# Import libraries"
      ],
      "metadata": {
        "id": "EZ3PuxIL25gV"
      }
    },
    {
      "cell_type": "code",
      "source": [
        "import numpy as np\n",
        "import pandas as pd\n",
        "import matplotlib\n",
        "import matplotlib.pyplot as plt\n",
        "\n",
        "from sklearn.model_selection import train_test_split\n",
        "from sklearn import preprocessing\n",
        "from sklearn.metrics import accuracy_score, confusion_matrix, roc_auc_score, roc_curve, classification_report, auc\n",
        "import seaborn as sns"
      ],
      "metadata": {
        "id": "pLwRMBWL7mb9"
      },
      "execution_count": null,
      "outputs": []
    },
    {
      "cell_type": "code",
      "source": [
        "import torch.nn as nn\n",
        "import torch.nn.functional as F\n",
        "import torch.optim as optim\n",
        "from torch.autograd import Variable"
      ],
      "metadata": {
        "id": "50Wc9P1KavFH"
      },
      "execution_count": null,
      "outputs": []
    },
    {
      "cell_type": "code",
      "source": [
        "import torch\n",
        "from torch.utils.data import DataLoader, TensorDataset\n",
        "from torchvision.utils import make_grid\n",
        "import torchvision\n",
        "import torchvision.transforms as transforms\n"
      ],
      "metadata": {
        "id": "7i3aL-1fBmPa"
      },
      "execution_count": null,
      "outputs": []
    },
    {
      "cell_type": "markdown",
      "source": [
        "# Preproccess data"
      ],
      "metadata": {
        "id": "25omST1H9iaT"
      }
    },
    {
      "cell_type": "code",
      "source": [
        "data = pd.read_csv(\"/content/HW2_Acoustic Features.csv\")\n",
        "data.head(5)"
      ],
      "metadata": {
        "colab": {
          "base_uri": "https://localhost:8080/",
          "height": 299
        },
        "id": "9GXCYI2r7pCq",
        "outputId": "254fcbf0-6d5d-4950-f783-8eccdfdc93c3"
      },
      "execution_count": null,
      "outputs": [
        {
          "output_type": "execute_result",
          "data": {
            "text/plain": [
              "   Class  _RMSenergy_Mean  _Lowenergy_Mean  _Fluctuation_Mean  _Tempo_Mean  \\\n",
              "0  relax            0.052            0.591              9.136      130.043   \n",
              "1  relax            0.125            0.439              6.680      142.240   \n",
              "2  relax            0.046            0.639             10.578      188.154   \n",
              "3  relax            0.135            0.603             10.442       65.991   \n",
              "4  relax            0.066            0.591              9.769       88.890   \n",
              "\n",
              "   _MFCC_Mean_1  _MFCC_Mean_2  _MFCC_Mean_3  _MFCC_Mean_4  _MFCC_Mean_5  ...  \\\n",
              "0         3.997         0.363         0.887         0.078         0.221  ...   \n",
              "1         4.058         0.516         0.785         0.397         0.556  ...   \n",
              "2         2.775         0.903         0.502         0.329         0.287  ...   \n",
              "3         2.841         1.552         0.612         0.351         0.011  ...   \n",
              "4         3.217         0.228         0.814         0.096         0.434  ...   \n",
              "\n",
              "   _Chromagram_Mean_9  _Chromagram_Mean_10  _Chromagram_Mean_11  \\\n",
              "0               0.426                1.000                0.008   \n",
              "1               0.002                1.000                0.000   \n",
              "2               0.184                0.746                0.016   \n",
              "3               0.038                1.000                0.161   \n",
              "4               0.004                0.404                1.000   \n",
              "\n",
              "   _Chromagram_Mean_12  _HarmonicChangeDetectionFunction_Mean  \\\n",
              "0                0.101                                  0.316   \n",
              "1                0.984                                  0.285   \n",
              "2                1.000                                  0.413   \n",
              "3                0.757                                  0.422   \n",
              "4                0.001                                  0.345   \n",
              "\n",
              "   _HarmonicChangeDetectionFunction_Std  \\\n",
              "0                                 0.261   \n",
              "1                                 0.211   \n",
              "2                                 0.299   \n",
              "3                                 0.265   \n",
              "4                                 0.261   \n",
              "\n",
              "   _HarmonicChangeDetectionFunction_Slope  \\\n",
              "0                                   0.018   \n",
              "1                                  -0.082   \n",
              "2                                   0.134   \n",
              "3                                   0.042   \n",
              "4                                   0.089   \n",
              "\n",
              "   _HarmonicChangeDetectionFunction_PeriodFreq  \\\n",
              "0                                        1.035   \n",
              "1                                        3.364   \n",
              "2                                        1.682   \n",
              "3                                        0.354   \n",
              "4                                        0.748   \n",
              "\n",
              "   _HarmonicChangeDetectionFunction_PeriodAmp  \\\n",
              "0                                       0.593   \n",
              "1                                       0.702   \n",
              "2                                       0.692   \n",
              "3                                       0.743   \n",
              "4                                       0.674   \n",
              "\n",
              "   _HarmonicChangeDetectionFunction_PeriodEntropy  \n",
              "0                                           0.970  \n",
              "1                                           0.967  \n",
              "2                                           0.963  \n",
              "3                                           0.968  \n",
              "4                                           0.957  \n",
              "\n",
              "[5 rows x 51 columns]"
            ],
            "text/html": [
              "\n",
              "  <div id=\"df-0f48e3dd-f73e-40f3-8da4-975c39451abb\">\n",
              "    <div class=\"colab-df-container\">\n",
              "      <div>\n",
              "<style scoped>\n",
              "    .dataframe tbody tr th:only-of-type {\n",
              "        vertical-align: middle;\n",
              "    }\n",
              "\n",
              "    .dataframe tbody tr th {\n",
              "        vertical-align: top;\n",
              "    }\n",
              "\n",
              "    .dataframe thead th {\n",
              "        text-align: right;\n",
              "    }\n",
              "</style>\n",
              "<table border=\"1\" class=\"dataframe\">\n",
              "  <thead>\n",
              "    <tr style=\"text-align: right;\">\n",
              "      <th></th>\n",
              "      <th>Class</th>\n",
              "      <th>_RMSenergy_Mean</th>\n",
              "      <th>_Lowenergy_Mean</th>\n",
              "      <th>_Fluctuation_Mean</th>\n",
              "      <th>_Tempo_Mean</th>\n",
              "      <th>_MFCC_Mean_1</th>\n",
              "      <th>_MFCC_Mean_2</th>\n",
              "      <th>_MFCC_Mean_3</th>\n",
              "      <th>_MFCC_Mean_4</th>\n",
              "      <th>_MFCC_Mean_5</th>\n",
              "      <th>...</th>\n",
              "      <th>_Chromagram_Mean_9</th>\n",
              "      <th>_Chromagram_Mean_10</th>\n",
              "      <th>_Chromagram_Mean_11</th>\n",
              "      <th>_Chromagram_Mean_12</th>\n",
              "      <th>_HarmonicChangeDetectionFunction_Mean</th>\n",
              "      <th>_HarmonicChangeDetectionFunction_Std</th>\n",
              "      <th>_HarmonicChangeDetectionFunction_Slope</th>\n",
              "      <th>_HarmonicChangeDetectionFunction_PeriodFreq</th>\n",
              "      <th>_HarmonicChangeDetectionFunction_PeriodAmp</th>\n",
              "      <th>_HarmonicChangeDetectionFunction_PeriodEntropy</th>\n",
              "    </tr>\n",
              "  </thead>\n",
              "  <tbody>\n",
              "    <tr>\n",
              "      <th>0</th>\n",
              "      <td>relax</td>\n",
              "      <td>0.052</td>\n",
              "      <td>0.591</td>\n",
              "      <td>9.136</td>\n",
              "      <td>130.043</td>\n",
              "      <td>3.997</td>\n",
              "      <td>0.363</td>\n",
              "      <td>0.887</td>\n",
              "      <td>0.078</td>\n",
              "      <td>0.221</td>\n",
              "      <td>...</td>\n",
              "      <td>0.426</td>\n",
              "      <td>1.000</td>\n",
              "      <td>0.008</td>\n",
              "      <td>0.101</td>\n",
              "      <td>0.316</td>\n",
              "      <td>0.261</td>\n",
              "      <td>0.018</td>\n",
              "      <td>1.035</td>\n",
              "      <td>0.593</td>\n",
              "      <td>0.970</td>\n",
              "    </tr>\n",
              "    <tr>\n",
              "      <th>1</th>\n",
              "      <td>relax</td>\n",
              "      <td>0.125</td>\n",
              "      <td>0.439</td>\n",
              "      <td>6.680</td>\n",
              "      <td>142.240</td>\n",
              "      <td>4.058</td>\n",
              "      <td>0.516</td>\n",
              "      <td>0.785</td>\n",
              "      <td>0.397</td>\n",
              "      <td>0.556</td>\n",
              "      <td>...</td>\n",
              "      <td>0.002</td>\n",
              "      <td>1.000</td>\n",
              "      <td>0.000</td>\n",
              "      <td>0.984</td>\n",
              "      <td>0.285</td>\n",
              "      <td>0.211</td>\n",
              "      <td>-0.082</td>\n",
              "      <td>3.364</td>\n",
              "      <td>0.702</td>\n",
              "      <td>0.967</td>\n",
              "    </tr>\n",
              "    <tr>\n",
              "      <th>2</th>\n",
              "      <td>relax</td>\n",
              "      <td>0.046</td>\n",
              "      <td>0.639</td>\n",
              "      <td>10.578</td>\n",
              "      <td>188.154</td>\n",
              "      <td>2.775</td>\n",
              "      <td>0.903</td>\n",
              "      <td>0.502</td>\n",
              "      <td>0.329</td>\n",
              "      <td>0.287</td>\n",
              "      <td>...</td>\n",
              "      <td>0.184</td>\n",
              "      <td>0.746</td>\n",
              "      <td>0.016</td>\n",
              "      <td>1.000</td>\n",
              "      <td>0.413</td>\n",
              "      <td>0.299</td>\n",
              "      <td>0.134</td>\n",
              "      <td>1.682</td>\n",
              "      <td>0.692</td>\n",
              "      <td>0.963</td>\n",
              "    </tr>\n",
              "    <tr>\n",
              "      <th>3</th>\n",
              "      <td>relax</td>\n",
              "      <td>0.135</td>\n",
              "      <td>0.603</td>\n",
              "      <td>10.442</td>\n",
              "      <td>65.991</td>\n",
              "      <td>2.841</td>\n",
              "      <td>1.552</td>\n",
              "      <td>0.612</td>\n",
              "      <td>0.351</td>\n",
              "      <td>0.011</td>\n",
              "      <td>...</td>\n",
              "      <td>0.038</td>\n",
              "      <td>1.000</td>\n",
              "      <td>0.161</td>\n",
              "      <td>0.757</td>\n",
              "      <td>0.422</td>\n",
              "      <td>0.265</td>\n",
              "      <td>0.042</td>\n",
              "      <td>0.354</td>\n",
              "      <td>0.743</td>\n",
              "      <td>0.968</td>\n",
              "    </tr>\n",
              "    <tr>\n",
              "      <th>4</th>\n",
              "      <td>relax</td>\n",
              "      <td>0.066</td>\n",
              "      <td>0.591</td>\n",
              "      <td>9.769</td>\n",
              "      <td>88.890</td>\n",
              "      <td>3.217</td>\n",
              "      <td>0.228</td>\n",
              "      <td>0.814</td>\n",
              "      <td>0.096</td>\n",
              "      <td>0.434</td>\n",
              "      <td>...</td>\n",
              "      <td>0.004</td>\n",
              "      <td>0.404</td>\n",
              "      <td>1.000</td>\n",
              "      <td>0.001</td>\n",
              "      <td>0.345</td>\n",
              "      <td>0.261</td>\n",
              "      <td>0.089</td>\n",
              "      <td>0.748</td>\n",
              "      <td>0.674</td>\n",
              "      <td>0.957</td>\n",
              "    </tr>\n",
              "  </tbody>\n",
              "</table>\n",
              "<p>5 rows × 51 columns</p>\n",
              "</div>\n",
              "      <button class=\"colab-df-convert\" onclick=\"convertToInteractive('df-0f48e3dd-f73e-40f3-8da4-975c39451abb')\"\n",
              "              title=\"Convert this dataframe to an interactive table.\"\n",
              "              style=\"display:none;\">\n",
              "        \n",
              "  <svg xmlns=\"http://www.w3.org/2000/svg\" height=\"24px\"viewBox=\"0 0 24 24\"\n",
              "       width=\"24px\">\n",
              "    <path d=\"M0 0h24v24H0V0z\" fill=\"none\"/>\n",
              "    <path d=\"M18.56 5.44l.94 2.06.94-2.06 2.06-.94-2.06-.94-.94-2.06-.94 2.06-2.06.94zm-11 1L8.5 8.5l.94-2.06 2.06-.94-2.06-.94L8.5 2.5l-.94 2.06-2.06.94zm10 10l.94 2.06.94-2.06 2.06-.94-2.06-.94-.94-2.06-.94 2.06-2.06.94z\"/><path d=\"M17.41 7.96l-1.37-1.37c-.4-.4-.92-.59-1.43-.59-.52 0-1.04.2-1.43.59L10.3 9.45l-7.72 7.72c-.78.78-.78 2.05 0 2.83L4 21.41c.39.39.9.59 1.41.59.51 0 1.02-.2 1.41-.59l7.78-7.78 2.81-2.81c.8-.78.8-2.07 0-2.86zM5.41 20L4 18.59l7.72-7.72 1.47 1.35L5.41 20z\"/>\n",
              "  </svg>\n",
              "      </button>\n",
              "      \n",
              "  <style>\n",
              "    .colab-df-container {\n",
              "      display:flex;\n",
              "      flex-wrap:wrap;\n",
              "      gap: 12px;\n",
              "    }\n",
              "\n",
              "    .colab-df-convert {\n",
              "      background-color: #E8F0FE;\n",
              "      border: none;\n",
              "      border-radius: 50%;\n",
              "      cursor: pointer;\n",
              "      display: none;\n",
              "      fill: #1967D2;\n",
              "      height: 32px;\n",
              "      padding: 0 0 0 0;\n",
              "      width: 32px;\n",
              "    }\n",
              "\n",
              "    .colab-df-convert:hover {\n",
              "      background-color: #E2EBFA;\n",
              "      box-shadow: 0px 1px 2px rgba(60, 64, 67, 0.3), 0px 1px 3px 1px rgba(60, 64, 67, 0.15);\n",
              "      fill: #174EA6;\n",
              "    }\n",
              "\n",
              "    [theme=dark] .colab-df-convert {\n",
              "      background-color: #3B4455;\n",
              "      fill: #D2E3FC;\n",
              "    }\n",
              "\n",
              "    [theme=dark] .colab-df-convert:hover {\n",
              "      background-color: #434B5C;\n",
              "      box-shadow: 0px 1px 3px 1px rgba(0, 0, 0, 0.15);\n",
              "      filter: drop-shadow(0px 1px 2px rgba(0, 0, 0, 0.3));\n",
              "      fill: #FFFFFF;\n",
              "    }\n",
              "  </style>\n",
              "\n",
              "      <script>\n",
              "        const buttonEl =\n",
              "          document.querySelector('#df-0f48e3dd-f73e-40f3-8da4-975c39451abb button.colab-df-convert');\n",
              "        buttonEl.style.display =\n",
              "          google.colab.kernel.accessAllowed ? 'block' : 'none';\n",
              "\n",
              "        async function convertToInteractive(key) {\n",
              "          const element = document.querySelector('#df-0f48e3dd-f73e-40f3-8da4-975c39451abb');\n",
              "          const dataTable =\n",
              "            await google.colab.kernel.invokeFunction('convertToInteractive',\n",
              "                                                     [key], {});\n",
              "          if (!dataTable) return;\n",
              "\n",
              "          const docLinkHtml = 'Like what you see? Visit the ' +\n",
              "            '<a target=\"_blank\" href=https://colab.research.google.com/notebooks/data_table.ipynb>data table notebook</a>'\n",
              "            + ' to learn more about interactive tables.';\n",
              "          element.innerHTML = '';\n",
              "          dataTable['output_type'] = 'display_data';\n",
              "          await google.colab.output.renderOutput(dataTable, element);\n",
              "          const docLink = document.createElement('div');\n",
              "          docLink.innerHTML = docLinkHtml;\n",
              "          element.appendChild(docLink);\n",
              "        }\n",
              "      </script>\n",
              "    </div>\n",
              "  </div>\n",
              "  "
            ]
          },
          "metadata": {},
          "execution_count": 20
        }
      ]
    },
    {
      "cell_type": "code",
      "source": [
        "# split data & label\n",
        "X_train = data.iloc[:, 1:].values.astype(np.float32)\n",
        "Y_train = data.iloc[:, 0].values\n",
        "\n",
        "data_classes = ['relax', 'happy', 'sad', 'angry']\n",
        "d = dict(zip(data_classes, range(0,4)))\n",
        "Y_train = data.iloc[:, 0].map(d, na_action='ignore').values\n",
        "# Y_train = preprocessing.scale(Y_train)\n",
        "\n",
        "# make Train & validation set\n",
        "train_set, test_set, train_labels, test_labels = train_test_split(X_train, Y_train, stratify=Y_train,\n",
        "                                                                      random_state= 231,test_size=0.20)\n",
        "train_set, val_set, train_labels, val_labels = train_test_split(train_set, train_labels, stratify=train_labels,\n",
        "                                                                      random_state= 312,test_size=0.10)"
      ],
      "metadata": {
        "id": "Azbwfd9470e6"
      },
      "execution_count": null,
      "outputs": []
    },
    {
      "cell_type": "code",
      "source": [
        "print(train_set.shape,val_set.shape,test_set.shape)\n",
        "print(train_labels.shape,val_labels.shape,test_labels.shape)"
      ],
      "metadata": {
        "colab": {
          "base_uri": "https://localhost:8080/"
        },
        "id": "kpw-baPS9hHl",
        "outputId": "bb33c121-68b9-4118-aeae-5dc4b360cd24"
      },
      "execution_count": null,
      "outputs": [
        {
          "output_type": "stream",
          "name": "stdout",
          "text": [
            "(288, 50) (32, 50) (80, 50)\n",
            "(288,) (32,) (80,)\n"
          ]
        }
      ]
    },
    {
      "cell_type": "markdown",
      "source": [
        "## normalize data"
      ],
      "metadata": {
        "id": "RsjjaYEl9ozL"
      }
    },
    {
      "cell_type": "code",
      "source": [
        "# preproccess data\n",
        "train_set = preprocessing.scale(train_set)\n",
        "val_set = preprocessing.scale(val_set)\n",
        "test_set = preprocessing.scale(test_set)"
      ],
      "metadata": {
        "colab": {
          "base_uri": "https://localhost:8080/"
        },
        "id": "NDT5oaI4-pQn",
        "outputId": "3b4228f2-e4b8-484e-db31-b51bc84c958e"
      },
      "execution_count": null,
      "outputs": [
        {
          "output_type": "stream",
          "name": "stderr",
          "text": [
            "/usr/local/lib/python3.8/dist-packages/sklearn/preprocessing/_data.py:235: UserWarning: Numerical issues were encountered when centering the data and might not be solved. Dataset may contain too large values. You may need to prescale your features.\n",
            "  warnings.warn(\n",
            "/usr/local/lib/python3.8/dist-packages/sklearn/preprocessing/_data.py:254: UserWarning: Numerical issues were encountered when scaling the data and might not be solved. The standard deviation of the data is probably very close to 0. \n",
            "  warnings.warn(\n",
            "/usr/local/lib/python3.8/dist-packages/sklearn/preprocessing/_data.py:235: UserWarning: Numerical issues were encountered when centering the data and might not be solved. Dataset may contain too large values. You may need to prescale your features.\n",
            "  warnings.warn(\n",
            "/usr/local/lib/python3.8/dist-packages/sklearn/preprocessing/_data.py:254: UserWarning: Numerical issues were encountered when scaling the data and might not be solved. The standard deviation of the data is probably very close to 0. \n",
            "  warnings.warn(\n",
            "/usr/local/lib/python3.8/dist-packages/sklearn/preprocessing/_data.py:235: UserWarning: Numerical issues were encountered when centering the data and might not be solved. Dataset may contain too large values. You may need to prescale your features.\n",
            "  warnings.warn(\n",
            "/usr/local/lib/python3.8/dist-packages/sklearn/preprocessing/_data.py:254: UserWarning: Numerical issues were encountered when scaling the data and might not be solved. The standard deviation of the data is probably very close to 0. \n",
            "  warnings.warn(\n"
          ]
        }
      ]
    },
    {
      "cell_type": "markdown",
      "source": [
        "## make dataloader"
      ],
      "metadata": {
        "id": "Na9eHvNw9leU"
      }
    },
    {
      "cell_type": "code",
      "source": [
        "# prepare dataset for torch\n",
        "train_set_tensor = torch.tensor(train_set)\n",
        "train_labels_tensor = torch.tensor(train_labels)\n",
        "train_tensor = TensorDataset(train_set_tensor, train_labels_tensor)\n",
        "train_loader = DataLoader(train_tensor, batch_size=16, num_workers=2, shuffle=True)\n",
        "\n",
        "val_set_tensor = torch.tensor(val_set)\n",
        "val_labels_tensor = torch.tensor(val_labels)\n",
        "val_tensor = TensorDataset(val_set_tensor, val_labels_tensor)\n",
        "val_loader =   DataLoader(val_tensor, batch_size=16, num_workers=2, shuffle=True)\n",
        "\n",
        "test_set_tensor = torch.tensor(test_set)\n",
        "test_labels_tensor = torch.tensor(test_labels)\n",
        "test_tensor = TensorDataset(test_set_tensor, test_labels_tensor)\n",
        "test_loader = DataLoader(test_tensor, batch_size=16, num_workers=2, shuffle=False)"
      ],
      "metadata": {
        "id": "jUcGH05pAvve"
      },
      "execution_count": null,
      "outputs": []
    },
    {
      "cell_type": "markdown",
      "source": [
        "# Functions  for Train, evaluation and Test"
      ],
      "metadata": {
        "id": "CniDua4_-OmK"
      }
    },
    {
      "cell_type": "code",
      "source": [
        "def train_model(model,train_loader,num_epoch):\n",
        "    model.train()\n",
        "    exp_lr_scheduler.step()\n",
        "    \n",
        "    for batch_idx, (data, target) in enumerate(train_loader):\n",
        "        data = data.unsqueeze(1)\n",
        "        data, target = data, target\n",
        "        \n",
        "        if torch.cuda.is_available():\n",
        "            data = data.cuda()\n",
        "            target = target.cuda()\n",
        "            \n",
        "        optimizer.zero_grad()\n",
        "        output = model(data)\n",
        "        loss = criterion(output, target)\n",
        "        loss.backward()\n",
        "        optimizer.step()\n",
        "        \n",
        "        if (batch_idx + 1)% 100 == 0:\n",
        "            print('Train Epoch: {} [{}/{} ({:.0f}%)]\\tLoss: {:.6f}'.format(\n",
        "                num_epoch, (batch_idx + 1) * len(data), len(train_loader.dataset),\n",
        "                100. * (batch_idx + 1) / len(train_loader), loss.data))\n",
        "            \n",
        "def evaluate(model,data_loader):\n",
        "    model.eval()\n",
        "    loss = 0\n",
        "    acc = 0\n",
        "    correct = 0\n",
        "    \n",
        "    for data, target in data_loader:\n",
        "        data = data.unsqueeze(1)\n",
        "        data, target = data, target\n",
        "        \n",
        "        if torch.cuda.is_available():\n",
        "            data = data.cuda()\n",
        "            target = target.cuda()\n",
        "        \n",
        "        output = model(data)\n",
        "        \n",
        "        loss += F.cross_entropy(output, target, size_average=False).data\n",
        "\n",
        "        pred = output.data.max(1, keepdim=True)[1]\n",
        "        correct += pred.eq(target.data.view_as(pred)).cpu().sum()\n",
        "        \n",
        "    loss /= len(data_loader.dataset)\n",
        "        \n",
        "    print('\\nAverage Val Loss: {:.4f}, Val Accuracy: {}/{} ({:.3f}%)\\n'.format(\n",
        "        loss, correct, len(data_loader.dataset),\n",
        "        100. * correct / len(data_loader.dataset)))\n",
        "    acc = 100. * correct / len(data_loader.dataset)\n",
        "    return loss.cpu(), acc.cpu()"
      ],
      "metadata": {
        "id": "UuwclWBePLTV"
      },
      "execution_count": null,
      "outputs": []
    },
    {
      "cell_type": "code",
      "source": [
        "def get_output(model, loader, with_prob=True):\n",
        "    y_pred, y_true, = [], []\n",
        "    loss = 0\n",
        "    correct = 0\n",
        "    if with_prob:\n",
        "        y_prob = []\n",
        "    else:\n",
        "        y_prob = None\n",
        "    for inputs, labels in loader:\n",
        "        if torch.cuda.is_available():\n",
        "            inputs = inputs.cuda()\n",
        "            labels = labels.cuda()\n",
        "        outputs = model(inputs)\n",
        "        loss += F.cross_entropy(outputs, labels, size_average=False).data\n",
        "        _, preds = torch.max(outputs, 1)\n",
        "        if with_prob:\n",
        "            probs = torch.nn.functional.softmax(outputs, dim=1)\n",
        "        else:\n",
        "            probs = None\n",
        "        y_pred.append(preds.cpu().numpy())\n",
        "        y_true.append(labels.cpu().numpy())\n",
        "        if with_prob:\n",
        "            y_prob.append(probs.detach().cpu().numpy())\n",
        "\n",
        "        correct += preds.eq(labels.data.view_as(preds)).cpu().sum()\n",
        "\n",
        "    loss /= len(loader.dataset)\n",
        "    print('\\nAverage Val Loss: {:.4f}, Val Accuracy: {}/{} ({:.3f}%)\\n'.format(\n",
        "        loss, correct, len(loader.dataset),\n",
        "        100. * correct / len(loader.dataset)))\n",
        "    y_pred = np.concatenate(y_pred)\n",
        "    y_true = np.concatenate(y_true)\n",
        "    if with_prob:\n",
        "        y_prob = np.concatenate(y_prob)\n",
        "    return y_pred, y_true, y_prob"
      ],
      "metadata": {
        "id": "z28um4HaPN6H"
      },
      "execution_count": null,
      "outputs": []
    },
    {
      "cell_type": "markdown",
      "source": [
        "# Report Functions"
      ],
      "metadata": {
        "id": "uVF9Aea5_j-O"
      }
    },
    {
      "cell_type": "code",
      "source": [
        "# Make the confusion matrix\n",
        "def confusion_plot(y_test,y_pred):\n",
        "    cmt = confusion_matrix(y_test,y_pred)\n",
        "    plt.rcParams['figure.figsize'] = (10,8)\n",
        "    sns.heatmap(cmt,fmt='',annot=True,linewidth=0.01,cmap=sns.cubehelix_palette(as_cmap=True))\n",
        "    plt.title(\"confusion matrix heat map\")\n",
        "    plt.xlabel(\"predicted\")\n",
        "    plt.ylabel(\"true\")\n",
        "    plt.show()\n",
        "\n",
        "\n",
        "# generate classification report\n",
        "def generate_classification_report(y_test,y_pred):\n",
        "    report=pd.DataFrame.from_dict(classification_report(y_pred,y_test,output_dict=True)).T\n",
        "    report['Label']=[i  if x.isdigit() else \" \" for i,x in enumerate(report.index)]\n",
        "    report=report[['Label','f1-score','precision','recall','support']]\n",
        "    pd.set_option('display.max_rows', report.shape[0]+1)\n",
        "    return report\n",
        "\n",
        "# ROC Curve\n",
        "def plot_roc_curve(y_test,proba,pos_label):\n",
        "    fpr, tpr, thresholds = roc_curve(y_test, proba[:,pos_label], pos_label= pos_label)\n",
        "    roc_auc = roc_auc_score(y_test, proba, multi_class='ovr')\n",
        "\n",
        "    plt.rcParams['figure.figsize'] = (10,8)\n",
        "    plt.plot(fpr, tpr,'k:',lw=5, label='average ROC curve (area = {0:0.2f})'.format(roc_auc))\n",
        "    plt.plot([0 ,1],[0 ,1],'r')\n",
        "    plt.legend(loc=\"lower right\")\n",
        "    plt.title('ROC Curve for {0}'.format(pos_label))\n",
        "    plt.ylabel('True Positive Rate')\n",
        "    plt.xlabel('False Positive Rate')\n",
        "    plt.show()\n",
        "\n",
        "\n",
        "# ROC Curve for all classes\n",
        "def plot_roc_curve_all(y_test,proba,n_class,figsize):\n",
        "    plt.figure(figsize=figsize)\n",
        "    for i in range(n_class):\n",
        "      fpr, tpr, thresholds = roc_curve(y_test, proba[:,i], pos_label= i)\n",
        "      plt.plot(fpr, tpr,lw=3, label = data_classes[i])\n",
        "    plt.plot([0 ,1],[0 ,1],'r')\n",
        "    roc_auc = roc_auc_score(y_test, proba, multi_class='ovr')\n",
        "    plt.title('ROC Curve for all classes, auc score = {}'.format(roc_auc))\n",
        "    plt.ylabel('True Positive Rate')\n",
        "    plt.xlabel('False Positive Rate')\n",
        "    plt.legend(loc=\"lower right\")\n",
        "    plt.show()"
      ],
      "metadata": {
        "id": "Dsx8b5zH_jvs"
      },
      "execution_count": null,
      "outputs": []
    },
    {
      "cell_type": "markdown",
      "source": [
        "# Network 1 hidden layer 2048 ReLU as Act. Func."
      ],
      "metadata": {
        "id": "qxsw7_r_DtEo"
      }
    },
    {
      "cell_type": "code",
      "source": [
        "class Net(nn.Module):\n",
        "    def __init__(self):\n",
        "        super(Net, self).__init__()\n",
        "        \n",
        "        self.linear_block = nn.Sequential(\n",
        "            nn.Dropout(0.1),\n",
        "\n",
        "            nn.Linear(50,2048),\n",
        "            nn.ReLU(),\n",
        "            nn.Dropout(0.1),\n",
        "\n",
        "            nn.Linear(2048,4),\n",
        "            nn.Softmax(),\n",
        "        )\n",
        "        \n",
        "    def forward(self, x):\n",
        "        x = x.view(x.size(0), -1)\n",
        "        x = self.linear_block(x)\n",
        "        \n",
        "        return x"
      ],
      "metadata": {
        "id": "A8jO0_kIDtEv"
      },
      "execution_count": null,
      "outputs": []
    },
    {
      "cell_type": "markdown",
      "source": [
        "## add optimizar and loss function"
      ],
      "metadata": {
        "id": "DDf4yY7ODtEv"
      }
    },
    {
      "cell_type": "code",
      "source": [
        "ann_model = Net()\n",
        "if torch.cuda.is_available():\n",
        "    ann_model = ann_model.cuda()\n",
        "ann_model\n",
        "\n",
        "optimizer = optim.Adam(params=ann_model.parameters(), lr=0.01)\n",
        "criterion = nn.CrossEntropyLoss()\n",
        "\n",
        "exp_lr_scheduler = optim.lr_scheduler.StepLR(optimizer, step_size=7, gamma=0.1)\n",
        "\n",
        "if torch.cuda.is_available():\n",
        "    criterion = criterion.cuda()"
      ],
      "metadata": {
        "id": "a4KvIh4_DtEv"
      },
      "execution_count": null,
      "outputs": []
    },
    {
      "cell_type": "markdown",
      "source": [
        "## Training"
      ],
      "metadata": {
        "id": "78Pej57YDtEw"
      }
    },
    {
      "cell_type": "code",
      "source": [
        "num_epochs = 100\n",
        "loss_per_epoch = np.array([])\n",
        "acc_per_epoch = np.array([])\n",
        "for n in range(num_epochs):\n",
        "    train_model(ann_model, train_loader, n)\n",
        "    lpe,ape = evaluate(ann_model, val_loader)\n",
        "    loss_per_epoch = np.append(loss_per_epoch,lpe)\n",
        "    acc_per_epoch = np.append(acc_per_epoch,ape)"
      ],
      "metadata": {
        "colab": {
          "base_uri": "https://localhost:8080/"
        },
        "outputId": "732ee06a-80da-4f79-958d-3a2ef3de1497",
        "id": "JoS3SHpFDtEw"
      },
      "execution_count": null,
      "outputs": [
        {
          "output_type": "stream",
          "name": "stderr",
          "text": [
            "/usr/local/lib/python3.8/dist-packages/torch/optim/lr_scheduler.py:138: UserWarning: Detected call of `lr_scheduler.step()` before `optimizer.step()`. In PyTorch 1.1.0 and later, you should call them in the opposite order: `optimizer.step()` before `lr_scheduler.step()`.  Failure to do this will result in PyTorch skipping the first value of the learning rate schedule. See more details at https://pytorch.org/docs/stable/optim.html#how-to-adjust-learning-rate\n",
            "  warnings.warn(\"Detected call of `lr_scheduler.step()` before `optimizer.step()`. \"\n",
            "/usr/local/lib/python3.8/dist-packages/torch/nn/modules/container.py:204: UserWarning: Implicit dimension choice for softmax has been deprecated. Change the call to include dim=X as an argument.\n",
            "  input = module(input)\n"
          ]
        },
        {
          "output_type": "stream",
          "name": "stdout",
          "text": [
            "\n",
            "Average Val Loss: 1.0434, Val Accuracy: 22/32 (68.750%)\n",
            "\n"
          ]
        },
        {
          "output_type": "stream",
          "name": "stderr",
          "text": [
            "/usr/local/lib/python3.8/dist-packages/torch/nn/_reduction.py:42: UserWarning: size_average and reduce args will be deprecated, please use reduction='sum' instead.\n",
            "  warnings.warn(warning.format(ret))\n"
          ]
        },
        {
          "output_type": "stream",
          "name": "stdout",
          "text": [
            "\n",
            "Average Val Loss: 1.1779, Val Accuracy: 18/32 (56.250%)\n",
            "\n",
            "\n",
            "Average Val Loss: 1.0788, Val Accuracy: 21/32 (65.625%)\n",
            "\n",
            "\n",
            "Average Val Loss: 1.0487, Val Accuracy: 22/32 (68.750%)\n",
            "\n",
            "\n",
            "Average Val Loss: 1.0099, Val Accuracy: 23/32 (71.875%)\n",
            "\n",
            "\n",
            "Average Val Loss: 1.0434, Val Accuracy: 23/32 (71.875%)\n",
            "\n",
            "\n",
            "Average Val Loss: 1.0416, Val Accuracy: 22/32 (68.750%)\n",
            "\n",
            "\n",
            "Average Val Loss: 1.0545, Val Accuracy: 22/32 (68.750%)\n",
            "\n",
            "\n",
            "Average Val Loss: 1.0870, Val Accuracy: 21/32 (65.625%)\n",
            "\n",
            "\n",
            "Average Val Loss: 1.0599, Val Accuracy: 22/32 (68.750%)\n",
            "\n",
            "\n",
            "Average Val Loss: 1.0562, Val Accuracy: 22/32 (68.750%)\n",
            "\n",
            "\n",
            "Average Val Loss: 1.0326, Val Accuracy: 23/32 (71.875%)\n",
            "\n",
            "\n",
            "Average Val Loss: 1.0249, Val Accuracy: 23/32 (71.875%)\n",
            "\n",
            "\n",
            "Average Val Loss: 1.0249, Val Accuracy: 23/32 (71.875%)\n",
            "\n",
            "\n",
            "Average Val Loss: 1.0249, Val Accuracy: 23/32 (71.875%)\n",
            "\n",
            "\n",
            "Average Val Loss: 1.0249, Val Accuracy: 23/32 (71.875%)\n",
            "\n",
            "\n",
            "Average Val Loss: 1.0249, Val Accuracy: 23/32 (71.875%)\n",
            "\n",
            "\n",
            "Average Val Loss: 1.0249, Val Accuracy: 23/32 (71.875%)\n",
            "\n",
            "\n",
            "Average Val Loss: 1.0249, Val Accuracy: 23/32 (71.875%)\n",
            "\n",
            "\n",
            "Average Val Loss: 1.0249, Val Accuracy: 23/32 (71.875%)\n",
            "\n",
            "\n",
            "Average Val Loss: 1.0249, Val Accuracy: 23/32 (71.875%)\n",
            "\n",
            "\n",
            "Average Val Loss: 1.0249, Val Accuracy: 23/32 (71.875%)\n",
            "\n",
            "\n",
            "Average Val Loss: 1.0249, Val Accuracy: 23/32 (71.875%)\n",
            "\n",
            "\n",
            "Average Val Loss: 1.0249, Val Accuracy: 23/32 (71.875%)\n",
            "\n",
            "\n",
            "Average Val Loss: 1.0249, Val Accuracy: 23/32 (71.875%)\n",
            "\n",
            "\n",
            "Average Val Loss: 1.0249, Val Accuracy: 23/32 (71.875%)\n",
            "\n",
            "\n",
            "Average Val Loss: 1.0249, Val Accuracy: 23/32 (71.875%)\n",
            "\n",
            "\n",
            "Average Val Loss: 1.0249, Val Accuracy: 23/32 (71.875%)\n",
            "\n",
            "\n",
            "Average Val Loss: 1.0249, Val Accuracy: 23/32 (71.875%)\n",
            "\n",
            "\n",
            "Average Val Loss: 1.0249, Val Accuracy: 23/32 (71.875%)\n",
            "\n",
            "\n",
            "Average Val Loss: 1.0249, Val Accuracy: 23/32 (71.875%)\n",
            "\n",
            "\n",
            "Average Val Loss: 1.0249, Val Accuracy: 23/32 (71.875%)\n",
            "\n",
            "\n",
            "Average Val Loss: 1.0249, Val Accuracy: 23/32 (71.875%)\n",
            "\n",
            "\n",
            "Average Val Loss: 1.0249, Val Accuracy: 23/32 (71.875%)\n",
            "\n",
            "\n",
            "Average Val Loss: 1.0249, Val Accuracy: 23/32 (71.875%)\n",
            "\n",
            "\n",
            "Average Val Loss: 1.0249, Val Accuracy: 23/32 (71.875%)\n",
            "\n",
            "\n",
            "Average Val Loss: 1.0249, Val Accuracy: 23/32 (71.875%)\n",
            "\n",
            "\n",
            "Average Val Loss: 1.0249, Val Accuracy: 23/32 (71.875%)\n",
            "\n",
            "\n",
            "Average Val Loss: 1.0249, Val Accuracy: 23/32 (71.875%)\n",
            "\n",
            "\n",
            "Average Val Loss: 1.0249, Val Accuracy: 23/32 (71.875%)\n",
            "\n",
            "\n",
            "Average Val Loss: 1.0249, Val Accuracy: 23/32 (71.875%)\n",
            "\n",
            "\n",
            "Average Val Loss: 1.0249, Val Accuracy: 23/32 (71.875%)\n",
            "\n",
            "\n",
            "Average Val Loss: 1.0249, Val Accuracy: 23/32 (71.875%)\n",
            "\n",
            "\n",
            "Average Val Loss: 1.0249, Val Accuracy: 23/32 (71.875%)\n",
            "\n",
            "\n",
            "Average Val Loss: 1.0249, Val Accuracy: 23/32 (71.875%)\n",
            "\n",
            "\n",
            "Average Val Loss: 1.0249, Val Accuracy: 23/32 (71.875%)\n",
            "\n",
            "\n",
            "Average Val Loss: 1.0249, Val Accuracy: 23/32 (71.875%)\n",
            "\n",
            "\n",
            "Average Val Loss: 1.0249, Val Accuracy: 23/32 (71.875%)\n",
            "\n",
            "\n",
            "Average Val Loss: 1.0249, Val Accuracy: 23/32 (71.875%)\n",
            "\n",
            "\n",
            "Average Val Loss: 1.0249, Val Accuracy: 23/32 (71.875%)\n",
            "\n",
            "\n",
            "Average Val Loss: 1.0249, Val Accuracy: 23/32 (71.875%)\n",
            "\n",
            "\n",
            "Average Val Loss: 1.0249, Val Accuracy: 23/32 (71.875%)\n",
            "\n",
            "\n",
            "Average Val Loss: 1.0249, Val Accuracy: 23/32 (71.875%)\n",
            "\n",
            "\n",
            "Average Val Loss: 1.0249, Val Accuracy: 23/32 (71.875%)\n",
            "\n",
            "\n",
            "Average Val Loss: 1.0249, Val Accuracy: 23/32 (71.875%)\n",
            "\n",
            "\n",
            "Average Val Loss: 1.0249, Val Accuracy: 23/32 (71.875%)\n",
            "\n",
            "\n",
            "Average Val Loss: 1.0249, Val Accuracy: 23/32 (71.875%)\n",
            "\n",
            "\n",
            "Average Val Loss: 1.0249, Val Accuracy: 23/32 (71.875%)\n",
            "\n",
            "\n",
            "Average Val Loss: 1.0249, Val Accuracy: 23/32 (71.875%)\n",
            "\n",
            "\n",
            "Average Val Loss: 1.0249, Val Accuracy: 23/32 (71.875%)\n",
            "\n",
            "\n",
            "Average Val Loss: 1.0249, Val Accuracy: 23/32 (71.875%)\n",
            "\n",
            "\n",
            "Average Val Loss: 1.0249, Val Accuracy: 23/32 (71.875%)\n",
            "\n",
            "\n",
            "Average Val Loss: 1.0249, Val Accuracy: 23/32 (71.875%)\n",
            "\n",
            "\n",
            "Average Val Loss: 1.0249, Val Accuracy: 23/32 (71.875%)\n",
            "\n",
            "\n",
            "Average Val Loss: 1.0249, Val Accuracy: 23/32 (71.875%)\n",
            "\n",
            "\n",
            "Average Val Loss: 1.0249, Val Accuracy: 23/32 (71.875%)\n",
            "\n",
            "\n",
            "Average Val Loss: 1.0249, Val Accuracy: 23/32 (71.875%)\n",
            "\n",
            "\n",
            "Average Val Loss: 1.0249, Val Accuracy: 23/32 (71.875%)\n",
            "\n",
            "\n",
            "Average Val Loss: 1.0249, Val Accuracy: 23/32 (71.875%)\n",
            "\n",
            "\n",
            "Average Val Loss: 1.0249, Val Accuracy: 23/32 (71.875%)\n",
            "\n",
            "\n",
            "Average Val Loss: 1.0249, Val Accuracy: 23/32 (71.875%)\n",
            "\n",
            "\n",
            "Average Val Loss: 1.0249, Val Accuracy: 23/32 (71.875%)\n",
            "\n",
            "\n",
            "Average Val Loss: 1.0249, Val Accuracy: 23/32 (71.875%)\n",
            "\n",
            "\n",
            "Average Val Loss: 1.0249, Val Accuracy: 23/32 (71.875%)\n",
            "\n",
            "\n",
            "Average Val Loss: 1.0249, Val Accuracy: 23/32 (71.875%)\n",
            "\n",
            "\n",
            "Average Val Loss: 1.0249, Val Accuracy: 23/32 (71.875%)\n",
            "\n",
            "\n",
            "Average Val Loss: 1.0249, Val Accuracy: 23/32 (71.875%)\n",
            "\n",
            "\n",
            "Average Val Loss: 1.0249, Val Accuracy: 23/32 (71.875%)\n",
            "\n",
            "\n",
            "Average Val Loss: 1.0249, Val Accuracy: 23/32 (71.875%)\n",
            "\n",
            "\n",
            "Average Val Loss: 1.0249, Val Accuracy: 23/32 (71.875%)\n",
            "\n",
            "\n",
            "Average Val Loss: 1.0249, Val Accuracy: 23/32 (71.875%)\n",
            "\n",
            "\n",
            "Average Val Loss: 1.0249, Val Accuracy: 23/32 (71.875%)\n",
            "\n",
            "\n",
            "Average Val Loss: 1.0249, Val Accuracy: 23/32 (71.875%)\n",
            "\n",
            "\n",
            "Average Val Loss: 1.0249, Val Accuracy: 23/32 (71.875%)\n",
            "\n",
            "\n",
            "Average Val Loss: 1.0249, Val Accuracy: 23/32 (71.875%)\n",
            "\n",
            "\n",
            "Average Val Loss: 1.0249, Val Accuracy: 23/32 (71.875%)\n",
            "\n",
            "\n",
            "Average Val Loss: 1.0249, Val Accuracy: 23/32 (71.875%)\n",
            "\n",
            "\n",
            "Average Val Loss: 1.0249, Val Accuracy: 23/32 (71.875%)\n",
            "\n",
            "\n",
            "Average Val Loss: 1.0249, Val Accuracy: 23/32 (71.875%)\n",
            "\n",
            "\n",
            "Average Val Loss: 1.0249, Val Accuracy: 23/32 (71.875%)\n",
            "\n",
            "\n",
            "Average Val Loss: 1.0249, Val Accuracy: 23/32 (71.875%)\n",
            "\n",
            "\n",
            "Average Val Loss: 1.0249, Val Accuracy: 23/32 (71.875%)\n",
            "\n",
            "\n",
            "Average Val Loss: 1.0249, Val Accuracy: 23/32 (71.875%)\n",
            "\n",
            "\n",
            "Average Val Loss: 1.0249, Val Accuracy: 23/32 (71.875%)\n",
            "\n",
            "\n",
            "Average Val Loss: 1.0249, Val Accuracy: 23/32 (71.875%)\n",
            "\n",
            "\n",
            "Average Val Loss: 1.0249, Val Accuracy: 23/32 (71.875%)\n",
            "\n",
            "\n",
            "Average Val Loss: 1.0249, Val Accuracy: 23/32 (71.875%)\n",
            "\n",
            "\n",
            "Average Val Loss: 1.0249, Val Accuracy: 23/32 (71.875%)\n",
            "\n",
            "\n",
            "Average Val Loss: 1.0249, Val Accuracy: 23/32 (71.875%)\n",
            "\n",
            "\n",
            "Average Val Loss: 1.0249, Val Accuracy: 23/32 (71.875%)\n",
            "\n"
          ]
        }
      ]
    },
    {
      "cell_type": "markdown",
      "source": [
        "### Training Plot"
      ],
      "metadata": {
        "id": "SnXduxIbDtEw"
      }
    },
    {
      "cell_type": "code",
      "source": [
        "plt.rcParams['figure.figsize'] = (10,8)\n",
        "plt.plot(range(num_epochs),loss_per_epoch)\n",
        "plt.title('Average Loss Per epochs')\n",
        "plt.xlabel(\"epochs\")\n",
        "plt.ylabel(\"Loss\")"
      ],
      "metadata": {
        "colab": {
          "base_uri": "https://localhost:8080/"
        },
        "outputId": "5c5ac0e8-7720-4ec2-e8f7-5af66a114fc1",
        "id": "4gqSI7AxDtEw"
      },
      "execution_count": null,
      "outputs": [
        {
          "output_type": "stream",
          "name": "stderr",
          "text": [
            "Exception ignored in: <function _MultiProcessingDataLoaderIter.__del__ at 0x7fa0ae8bb1f0>\n",
            "Traceback (most recent call last):\n",
            "  File \"/usr/local/lib/python3.8/dist-packages/torch/utils/data/dataloader.py\", line 1466, in __del__\n",
            "    self._shutdown_workers()\n",
            "  File \"/usr/local/lib/python3.8/dist-packages/torch/utils/data/dataloader.py\", line 1424, in _shutdown_workers\n",
            "    if self._persistent_workers or self._workers_status[worker_id]:\n",
            "AttributeError: '_MultiProcessingDataLoaderIter' object has no attribute '_workers_status'\n"
          ]
        },
        {
          "output_type": "execute_result",
          "data": {
            "text/plain": [
              "Text(0, 0.5, 'Loss')"
            ]
          },
          "metadata": {},
          "execution_count": 121
        },
        {
          "output_type": "display_data",
          "data": {
            "text/plain": [
              "<Figure size 720x576 with 1 Axes>"
            ],
            "image/png": "[encoded data removed]"
          },
          "metadata": {
            "needs_background": "light"
          }
        }
      ]
    },
    {
      "cell_type": "code",
      "source": [
        "plt.rcParams['figure.figsize'] = (10,8)\n",
        "plt.plot(range(num_epochs),acc_per_epoch)\n",
        "plt.title('Val accuracy Per epochs')\n",
        "plt.xlabel(\"epochs\")\n",
        "plt.ylabel(\"Accuracy\")"
      ],
      "metadata": {
        "colab": {
          "base_uri": "https://localhost:8080/"
        },
        "outputId": "f5ca0889-69d3-433d-d114-f7d7aabbb816",
        "id": "B8QGzLo5DtEw"
      },
      "execution_count": null,
      "outputs": [
        {
          "output_type": "execute_result",
          "data": {
            "text/plain": [
              "Text(0, 0.5, 'Accuracy')"
            ]
          },
          "metadata": {},
          "execution_count": 122
        },
        {
          "output_type": "display_data",
          "data": {
            "text/plain": [
              "<Figure size 720x576 with 1 Axes>"
            ],
            "image/png": "[encoded data removed]"
          },
          "metadata": {
            "needs_background": "light"
          }
        }
      ]
    },
    {
      "cell_type": "code",
      "source": [
        "y_pred, y_true, y_prob = get_output(ann_model,test_loader)"
      ],
      "metadata": {
        "colab": {
          "base_uri": "https://localhost:8080/"
        },
        "outputId": "e8067477-0a33-4d0f-b8a8-37b318664681",
        "id": "0oZxTq59DtEw"
      },
      "execution_count": null,
      "outputs": [
        {
          "output_type": "stream",
          "name": "stdout",
          "text": [
            "\n",
            "Average Val Loss: 1.0990, Val Accuracy: 51/80 (63.750%)\n",
            "\n"
          ]
        },
        {
          "output_type": "stream",
          "name": "stderr",
          "text": [
            "/usr/local/lib/python3.8/dist-packages/torch/nn/modules/container.py:204: UserWarning: Implicit dimension choice for softmax has been deprecated. Change the call to include dim=X as an argument.\n",
            "  input = module(input)\n",
            "/usr/local/lib/python3.8/dist-packages/torch/nn/_reduction.py:42: UserWarning: size_average and reduce args will be deprecated, please use reduction='sum' instead.\n",
            "  warnings.warn(warning.format(ret))\n"
          ]
        }
      ]
    },
    {
      "cell_type": "markdown",
      "source": [
        "## report classification"
      ],
      "metadata": {
        "id": "s6oYdhNEDtEw"
      }
    },
    {
      "cell_type": "code",
      "source": [
        "# Make the confusion matrix\n",
        "confusion_plot(y_true,y_pred)"
      ],
      "metadata": {
        "colab": {
          "base_uri": "https://localhost:8080/"
        },
        "outputId": "3b7c5e23-6ca2-4427-bd9f-fbf6bc09eaee",
        "id": "XbSH_XrFDtEw"
      },
      "execution_count": null,
      "outputs": [
        {
          "output_type": "display_data",
          "data": {
            "text/plain": [
              "<Figure size 720x576 with 2 Axes>"
            ],
            "image/png": "[encoded data removed]"
          },
          "metadata": {
            "needs_background": "light"
          }
        }
      ]
    },
    {
      "cell_type": "code",
      "source": [
        "generate_classification_report(y_true,y_pred)"
      ],
      "metadata": {
        "colab": {
          "base_uri": "https://localhost:8080/"
        },
        "outputId": "74b6a8f5-18ec-4262-fe57-6445de813658",
        "id": "eUBYD6nODtEx"
      },
      "execution_count": null,
      "outputs": [
        {
          "output_type": "execute_result",
          "data": {
            "text/plain": [
              "             Label  f1-score  precision    recall  support\n",
              "0                0  0.413793   0.300000  0.666667   9.0000\n",
              "1                1  0.869565   1.000000  0.769231  26.0000\n",
              "2                2  0.416667   0.500000  0.357143  28.0000\n",
              "3                3  0.810811   0.750000  0.882353  17.0000\n",
              "accuracy            0.637500   0.637500  0.637500   0.6375\n",
              "macro avg           0.627709   0.637500  0.668848  80.0000\n",
              "weighted avg        0.647291   0.693125  0.637500  80.0000"
            ],
            "text/html": [
              "\n",
              "  <div id=\"df-28ea56de-2c3d-48b8-9090-40dddbfa19dd\">\n",
              "    <div class=\"colab-df-container\">\n",
              "      <div>\n",
              "<style scoped>\n",
              "    .dataframe tbody tr th:only-of-type {\n",
              "        vertical-align: middle;\n",
              "    }\n",
              "\n",
              "    .dataframe tbody tr th {\n",
              "        vertical-align: top;\n",
              "    }\n",
              "\n",
              "    .dataframe thead th {\n",
              "        text-align: right;\n",
              "    }\n",
              "</style>\n",
              "<table border=\"1\" class=\"dataframe\">\n",
              "  <thead>\n",
              "    <tr style=\"text-align: right;\">\n",
              "      <th></th>\n",
              "      <th>Label</th>\n",
              "      <th>f1-score</th>\n",
              "      <th>precision</th>\n",
              "      <th>recall</th>\n",
              "      <th>support</th>\n",
              "    </tr>\n",
              "  </thead>\n",
              "  <tbody>\n",
              "    <tr>\n",
              "      <th>0</th>\n",
              "      <td>0</td>\n",
              "      <td>0.413793</td>\n",
              "      <td>0.300000</td>\n",
              "      <td>0.666667</td>\n",
              "      <td>9.0000</td>\n",
              "    </tr>\n",
              "    <tr>\n",
              "      <th>1</th>\n",
              "      <td>1</td>\n",
              "      <td>0.869565</td>\n",
              "      <td>1.000000</td>\n",
              "      <td>0.769231</td>\n",
              "      <td>26.0000</td>\n",
              "    </tr>\n",
              "    <tr>\n",
              "      <th>2</th>\n",
              "      <td>2</td>\n",
              "      <td>0.416667</td>\n",
              "      <td>0.500000</td>\n",
              "      <td>0.357143</td>\n",
              "      <td>28.0000</td>\n",
              "    </tr>\n",
              "    <tr>\n",
              "      <th>3</th>\n",
              "      <td>3</td>\n",
              "      <td>0.810811</td>\n",
              "      <td>0.750000</td>\n",
              "      <td>0.882353</td>\n",
              "      <td>17.0000</td>\n",
              "    </tr>\n",
              "    <tr>\n",
              "      <th>accuracy</th>\n",
              "      <td></td>\n",
              "      <td>0.637500</td>\n",
              "      <td>0.637500</td>\n",
              "      <td>0.637500</td>\n",
              "      <td>0.6375</td>\n",
              "    </tr>\n",
              "    <tr>\n",
              "      <th>macro avg</th>\n",
              "      <td></td>\n",
              "      <td>0.627709</td>\n",
              "      <td>0.637500</td>\n",
              "      <td>0.668848</td>\n",
              "      <td>80.0000</td>\n",
              "    </tr>\n",
              "    <tr>\n",
              "      <th>weighted avg</th>\n",
              "      <td></td>\n",
              "      <td>0.647291</td>\n",
              "      <td>0.693125</td>\n",
              "      <td>0.637500</td>\n",
              "      <td>80.0000</td>\n",
              "    </tr>\n",
              "  </tbody>\n",
              "</table>\n",
              "</div>\n",
              "      <button class=\"colab-df-convert\" onclick=\"convertToInteractive('df-28ea56de-2c3d-48b8-9090-40dddbfa19dd')\"\n",
              "              title=\"Convert this dataframe to an interactive table.\"\n",
              "              style=\"display:none;\">\n",
              "        \n",
              "  <svg xmlns=\"http://www.w3.org/2000/svg\" height=\"24px\"viewBox=\"0 0 24 24\"\n",
              "       width=\"24px\">\n",
              "    <path d=\"M0 0h24v24H0V0z\" fill=\"none\"/>\n",
              "    <path d=\"M18.56 5.44l.94 2.06.94-2.06 2.06-.94-2.06-.94-.94-2.06-.94 2.06-2.06.94zm-11 1L8.5 8.5l.94-2.06 2.06-.94-2.06-.94L8.5 2.5l-.94 2.06-2.06.94zm10 10l.94 2.06.94-2.06 2.06-.94-2.06-.94-.94-2.06-.94 2.06-2.06.94z\"/><path d=\"M17.41 7.96l-1.37-1.37c-.4-.4-.92-.59-1.43-.59-.52 0-1.04.2-1.43.59L10.3 9.45l-7.72 7.72c-.78.78-.78 2.05 0 2.83L4 21.41c.39.39.9.59 1.41.59.51 0 1.02-.2 1.41-.59l7.78-7.78 2.81-2.81c.8-.78.8-2.07 0-2.86zM5.41 20L4 18.59l7.72-7.72 1.47 1.35L5.41 20z\"/>\n",
              "  </svg>\n",
              "      </button>\n",
              "      \n",
              "  <style>\n",
              "    .colab-df-container {\n",
              "      display:flex;\n",
              "      flex-wrap:wrap;\n",
              "      gap: 12px;\n",
              "    }\n",
              "\n",
              "    .colab-df-convert {\n",
              "      background-color: #E8F0FE;\n",
              "      border: none;\n",
              "      border-radius: 50%;\n",
              "      cursor: pointer;\n",
              "      display: none;\n",
              "      fill: #1967D2;\n",
              "      height: 32px;\n",
              "      padding: 0 0 0 0;\n",
              "      width: 32px;\n",
              "    }\n",
              "\n",
              "    .colab-df-convert:hover {\n",
              "      background-color: #E2EBFA;\n",
              "      box-shadow: 0px 1px 2px rgba(60, 64, 67, 0.3), 0px 1px 3px 1px rgba(60, 64, 67, 0.15);\n",
              "      fill: #174EA6;\n",
              "    }\n",
              "\n",
              "    [theme=dark] .colab-df-convert {\n",
              "      background-color: #3B4455;\n",
              "      fill: #D2E3FC;\n",
              "    }\n",
              "\n",
              "    [theme=dark] .colab-df-convert:hover {\n",
              "      background-color: #434B5C;\n",
              "      box-shadow: 0px 1px 3px 1px rgba(0, 0, 0, 0.15);\n",
              "      filter: drop-shadow(0px 1px 2px rgba(0, 0, 0, 0.3));\n",
              "      fill: #FFFFFF;\n",
              "    }\n",
              "  </style>\n",
              "\n",
              "      <script>\n",
              "        const buttonEl =\n",
              "          document.querySelector('#df-28ea56de-2c3d-48b8-9090-40dddbfa19dd button.colab-df-convert');\n",
              "        buttonEl.style.display =\n",
              "          google.colab.kernel.accessAllowed ? 'block' : 'none';\n",
              "\n",
              "        async function convertToInteractive(key) {\n",
              "          const element = document.querySelector('#df-28ea56de-2c3d-48b8-9090-40dddbfa19dd');\n",
              "          const dataTable =\n",
              "            await google.colab.kernel.invokeFunction('convertToInteractive',\n",
              "                                                     [key], {});\n",
              "          if (!dataTable) return;\n",
              "\n",
              "          const docLinkHtml = 'Like what you see? Visit the ' +\n",
              "            '<a target=\"_blank\" href=https://colab.research.google.com/notebooks/data_table.ipynb>data table notebook</a>'\n",
              "            + ' to learn more about interactive tables.';\n",
              "          element.innerHTML = '';\n",
              "          dataTable['output_type'] = 'display_data';\n",
              "          await google.colab.output.renderOutput(dataTable, element);\n",
              "          const docLink = document.createElement('div');\n",
              "          docLink.innerHTML = docLinkHtml;\n",
              "          element.appendChild(docLink);\n",
              "        }\n",
              "      </script>\n",
              "    </div>\n",
              "  </div>\n",
              "  "
            ]
          },
          "metadata": {},
          "execution_count": 125
        }
      ]
    },
    {
      "cell_type": "code",
      "source": [
        "plot_roc_curve_all(y_true, y_prob,4,(10,8))"
      ],
      "metadata": {
        "colab": {
          "base_uri": "https://localhost:8080/"
        },
        "outputId": "dba478d8-c6f7-4812-f626-9acdb525be4c",
        "id": "MAfe_3r-DtEx"
      },
      "execution_count": null,
      "outputs": [
        {
          "output_type": "display_data",
          "data": {
            "text/plain": [
              "<Figure size 720x576 with 1 Axes>"
            ],
            "image/png": "[encoded data removed]"
          },
          "metadata": {
            "needs_background": "light"
          }
        }
      ]
    },
    {
      "cell_type": "code",
      "source": [],
      "metadata": {
        "id": "CLJwmcnDFXne"
      },
      "execution_count": null,
      "outputs": []
    },
    {
      "cell_type": "markdown",
      "source": [
        "# Network 2 hidden layer 512, 64 Relue as Act. Func."
      ],
      "metadata": {
        "id": "M55WIA-J9vcq"
      }
    },
    {
      "cell_type": "code",
      "source": [
        "class Net(nn.Module):\n",
        "    def __init__(self):\n",
        "        super(Net, self).__init__()\n",
        "        \n",
        "        self.linear_block = nn.Sequential(\n",
        "            nn.BatchNorm1d(50),\n",
        "            nn.Dropout(0.1),\n",
        "            nn.Linear(50, 512),\n",
        "            nn.BatchNorm1d(512),\n",
        "            nn.ReLU(),\n",
        "\n",
        "            nn.Dropout(0.1),\n",
        "            nn.Linear(512, 64),\n",
        "            nn.BatchNorm1d(64),\n",
        "            nn.ReLU(),\n",
        "\n",
        "            nn.Dropout(0.1),\n",
        "            nn.Linear(64, 4),\n",
        "            nn.BatchNorm1d(4),\n",
        "        )\n",
        "        \n",
        "    def forward(self, x):\n",
        "        x = x.view(x.size(0), -1)\n",
        "        x = self.linear_block(x)\n",
        "        \n",
        "        return x"
      ],
      "metadata": {
        "id": "alRwAN8CaPI-"
      },
      "execution_count": null,
      "outputs": []
    },
    {
      "cell_type": "markdown",
      "source": [
        "## add optimizar and loss function"
      ],
      "metadata": {
        "id": "Pswbdvmd-CMz"
      }
    },
    {
      "cell_type": "code",
      "source": [
        "ann_model = Net()\n",
        "if torch.cuda.is_available():\n",
        "    ann_model = ann_model.cuda()\n",
        "ann_model\n",
        "\n",
        "optimizer = optim.Adam(params=ann_model.parameters(), lr=0.01)\n",
        "criterion = nn.CrossEntropyLoss()\n",
        "\n",
        "exp_lr_scheduler = optim.lr_scheduler.StepLR(optimizer, step_size=7, gamma=0.1)\n",
        "\n",
        "if torch.cuda.is_available():\n",
        "    criterion = criterion.cuda()"
      ],
      "metadata": {
        "id": "m9zt9b11O28v"
      },
      "execution_count": null,
      "outputs": []
    },
    {
      "cell_type": "markdown",
      "source": [
        "## Training"
      ],
      "metadata": {
        "id": "T4VxG-_k-yJC"
      }
    },
    {
      "cell_type": "code",
      "source": [
        "num_epochs = 100\n",
        "loss_per_epoch = np.array([])\n",
        "acc_per_epoch = np.array([])\n",
        "for n in range(num_epochs):\n",
        "    train_model(ann_model, train_loader, n)\n",
        "    lpe,ape = evaluate(ann_model, val_loader)\n",
        "    loss_per_epoch = np.append(loss_per_epoch,lpe)\n",
        "    acc_per_epoch = np.append(acc_per_epoch,ape)"
      ],
      "metadata": {
        "colab": {
          "base_uri": "https://localhost:8080/"
        },
        "id": "YWMK1P9sPP1-",
        "outputId": "786e7c3a-a345-45bc-dfac-429757afaa26"
      },
      "execution_count": null,
      "outputs": [
        {
          "output_type": "stream",
          "name": "stderr",
          "text": [
            "/usr/local/lib/python3.8/dist-packages/torch/optim/lr_scheduler.py:138: UserWarning: Detected call of `lr_scheduler.step()` before `optimizer.step()`. In PyTorch 1.1.0 and later, you should call them in the opposite order: `optimizer.step()` before `lr_scheduler.step()`.  Failure to do this will result in PyTorch skipping the first value of the learning rate schedule. See more details at https://pytorch.org/docs/stable/optim.html#how-to-adjust-learning-rate\n",
            "  warnings.warn(\"Detected call of `lr_scheduler.step()` before `optimizer.step()`. \"\n"
          ]
        },
        {
          "output_type": "stream",
          "name": "stdout",
          "text": [
            "\n",
            "Average Val Loss: 0.6130, Val Accuracy: 25/32 (78.125%)\n",
            "\n",
            "\n",
            "Average Val Loss: 0.5807, Val Accuracy: 26/32 (81.250%)\n",
            "\n",
            "\n",
            "Average Val Loss: 0.5558, Val Accuracy: 26/32 (81.250%)\n",
            "\n",
            "\n",
            "Average Val Loss: 0.4419, Val Accuracy: 29/32 (90.625%)\n",
            "\n",
            "\n",
            "Average Val Loss: 0.4658, Val Accuracy: 27/32 (84.375%)\n",
            "\n",
            "\n",
            "Average Val Loss: 0.3806, Val Accuracy: 30/32 (93.750%)\n",
            "\n",
            "\n",
            "Average Val Loss: 0.3946, Val Accuracy: 29/32 (90.625%)\n",
            "\n",
            "\n",
            "Average Val Loss: 0.3987, Val Accuracy: 30/32 (93.750%)\n",
            "\n",
            "\n",
            "Average Val Loss: 0.3882, Val Accuracy: 30/32 (93.750%)\n",
            "\n",
            "\n",
            "Average Val Loss: 0.4016, Val Accuracy: 29/32 (90.625%)\n",
            "\n",
            "\n",
            "Average Val Loss: 0.3834, Val Accuracy: 30/32 (93.750%)\n",
            "\n",
            "\n",
            "Average Val Loss: 0.3906, Val Accuracy: 30/32 (93.750%)\n",
            "\n",
            "\n",
            "Average Val Loss: 0.3769, Val Accuracy: 31/32 (96.875%)\n",
            "\n",
            "\n",
            "Average Val Loss: 0.3839, Val Accuracy: 31/32 (96.875%)\n",
            "\n",
            "\n",
            "Average Val Loss: 0.3705, Val Accuracy: 31/32 (96.875%)\n",
            "\n",
            "\n",
            "Average Val Loss: 0.3814, Val Accuracy: 31/32 (96.875%)\n",
            "\n",
            "\n",
            "Average Val Loss: 0.3793, Val Accuracy: 31/32 (96.875%)\n",
            "\n",
            "\n",
            "Average Val Loss: 0.3857, Val Accuracy: 31/32 (96.875%)\n",
            "\n",
            "\n",
            "Average Val Loss: 0.3843, Val Accuracy: 31/32 (96.875%)\n",
            "\n",
            "\n",
            "Average Val Loss: 0.3769, Val Accuracy: 31/32 (96.875%)\n",
            "\n",
            "\n",
            "Average Val Loss: 0.3883, Val Accuracy: 30/32 (93.750%)\n",
            "\n",
            "\n",
            "Average Val Loss: 0.3811, Val Accuracy: 31/32 (96.875%)\n",
            "\n",
            "\n",
            "Average Val Loss: 0.3731, Val Accuracy: 31/32 (96.875%)\n",
            "\n",
            "\n",
            "Average Val Loss: 0.3837, Val Accuracy: 30/32 (93.750%)\n",
            "\n",
            "\n",
            "Average Val Loss: 0.3703, Val Accuracy: 31/32 (96.875%)\n",
            "\n",
            "\n",
            "Average Val Loss: 0.3759, Val Accuracy: 31/32 (96.875%)\n",
            "\n",
            "\n",
            "Average Val Loss: 0.3808, Val Accuracy: 30/32 (93.750%)\n",
            "\n",
            "\n",
            "Average Val Loss: 0.3711, Val Accuracy: 31/32 (96.875%)\n",
            "\n",
            "\n",
            "Average Val Loss: 0.3680, Val Accuracy: 30/32 (93.750%)\n",
            "\n",
            "\n",
            "Average Val Loss: 0.3751, Val Accuracy: 31/32 (96.875%)\n",
            "\n",
            "\n",
            "Average Val Loss: 0.3739, Val Accuracy: 31/32 (96.875%)\n",
            "\n",
            "\n",
            "Average Val Loss: 0.3707, Val Accuracy: 31/32 (96.875%)\n",
            "\n",
            "\n",
            "Average Val Loss: 0.3768, Val Accuracy: 31/32 (96.875%)\n",
            "\n",
            "\n",
            "Average Val Loss: 0.3768, Val Accuracy: 30/32 (93.750%)\n",
            "\n",
            "\n",
            "Average Val Loss: 0.3752, Val Accuracy: 31/32 (96.875%)\n",
            "\n",
            "\n",
            "Average Val Loss: 0.3791, Val Accuracy: 31/32 (96.875%)\n",
            "\n",
            "\n",
            "Average Val Loss: 0.3726, Val Accuracy: 31/32 (96.875%)\n",
            "\n",
            "\n",
            "Average Val Loss: 0.3656, Val Accuracy: 30/32 (93.750%)\n",
            "\n",
            "\n",
            "Average Val Loss: 0.3699, Val Accuracy: 31/32 (96.875%)\n",
            "\n",
            "\n",
            "Average Val Loss: 0.3722, Val Accuracy: 31/32 (96.875%)\n",
            "\n",
            "\n",
            "Average Val Loss: 0.3722, Val Accuracy: 30/32 (93.750%)\n",
            "\n",
            "\n",
            "Average Val Loss: 0.3758, Val Accuracy: 31/32 (96.875%)\n",
            "\n",
            "\n",
            "Average Val Loss: 0.3805, Val Accuracy: 30/32 (93.750%)\n",
            "\n",
            "\n",
            "Average Val Loss: 0.3780, Val Accuracy: 30/32 (93.750%)\n",
            "\n",
            "\n",
            "Average Val Loss: 0.3756, Val Accuracy: 31/32 (96.875%)\n",
            "\n",
            "\n",
            "Average Val Loss: 0.3831, Val Accuracy: 31/32 (96.875%)\n",
            "\n",
            "\n",
            "Average Val Loss: 0.3751, Val Accuracy: 31/32 (96.875%)\n",
            "\n",
            "\n",
            "Average Val Loss: 0.3852, Val Accuracy: 31/32 (96.875%)\n",
            "\n",
            "\n",
            "Average Val Loss: 0.3860, Val Accuracy: 31/32 (96.875%)\n",
            "\n",
            "\n",
            "Average Val Loss: 0.3797, Val Accuracy: 30/32 (93.750%)\n",
            "\n",
            "\n",
            "Average Val Loss: 0.3814, Val Accuracy: 31/32 (96.875%)\n",
            "\n",
            "\n",
            "Average Val Loss: 0.3786, Val Accuracy: 31/32 (96.875%)\n",
            "\n",
            "\n",
            "Average Val Loss: 0.3637, Val Accuracy: 31/32 (96.875%)\n",
            "\n",
            "\n",
            "Average Val Loss: 0.3715, Val Accuracy: 30/32 (93.750%)\n",
            "\n",
            "\n",
            "Average Val Loss: 0.3724, Val Accuracy: 31/32 (96.875%)\n",
            "\n",
            "\n",
            "Average Val Loss: 0.3753, Val Accuracy: 31/32 (96.875%)\n",
            "\n",
            "\n",
            "Average Val Loss: 0.3744, Val Accuracy: 31/32 (96.875%)\n",
            "\n",
            "\n",
            "Average Val Loss: 0.3787, Val Accuracy: 31/32 (96.875%)\n",
            "\n",
            "\n",
            "Average Val Loss: 0.3941, Val Accuracy: 31/32 (96.875%)\n",
            "\n",
            "\n",
            "Average Val Loss: 0.3725, Val Accuracy: 31/32 (96.875%)\n",
            "\n",
            "\n",
            "Average Val Loss: 0.3950, Val Accuracy: 31/32 (96.875%)\n",
            "\n",
            "\n",
            "Average Val Loss: 0.3737, Val Accuracy: 31/32 (96.875%)\n",
            "\n",
            "\n",
            "Average Val Loss: 0.3715, Val Accuracy: 31/32 (96.875%)\n",
            "\n",
            "\n",
            "Average Val Loss: 0.3695, Val Accuracy: 31/32 (96.875%)\n",
            "\n",
            "\n",
            "Average Val Loss: 0.3809, Val Accuracy: 30/32 (93.750%)\n",
            "\n",
            "\n",
            "Average Val Loss: 0.3782, Val Accuracy: 30/32 (93.750%)\n",
            "\n",
            "\n",
            "Average Val Loss: 0.3755, Val Accuracy: 31/32 (96.875%)\n",
            "\n",
            "\n",
            "Average Val Loss: 0.3769, Val Accuracy: 31/32 (96.875%)\n",
            "\n",
            "\n",
            "Average Val Loss: 0.3815, Val Accuracy: 31/32 (96.875%)\n",
            "\n",
            "\n",
            "Average Val Loss: 0.3734, Val Accuracy: 31/32 (96.875%)\n",
            "\n",
            "\n",
            "Average Val Loss: 0.3866, Val Accuracy: 30/32 (93.750%)\n",
            "\n",
            "\n",
            "Average Val Loss: 0.3864, Val Accuracy: 31/32 (96.875%)\n",
            "\n",
            "\n",
            "Average Val Loss: 0.3834, Val Accuracy: 31/32 (96.875%)\n",
            "\n",
            "\n",
            "Average Val Loss: 0.3815, Val Accuracy: 31/32 (96.875%)\n",
            "\n",
            "\n",
            "Average Val Loss: 0.3791, Val Accuracy: 30/32 (93.750%)\n",
            "\n",
            "\n",
            "Average Val Loss: 0.3781, Val Accuracy: 31/32 (96.875%)\n",
            "\n",
            "\n",
            "Average Val Loss: 0.3622, Val Accuracy: 31/32 (96.875%)\n",
            "\n",
            "\n",
            "Average Val Loss: 0.3756, Val Accuracy: 30/32 (93.750%)\n",
            "\n",
            "\n",
            "Average Val Loss: 0.3703, Val Accuracy: 30/32 (93.750%)\n",
            "\n",
            "\n",
            "Average Val Loss: 0.3724, Val Accuracy: 31/32 (96.875%)\n",
            "\n",
            "\n",
            "Average Val Loss: 0.3743, Val Accuracy: 31/32 (96.875%)\n",
            "\n",
            "\n",
            "Average Val Loss: 0.3850, Val Accuracy: 31/32 (96.875%)\n",
            "\n",
            "\n",
            "Average Val Loss: 0.3863, Val Accuracy: 31/32 (96.875%)\n",
            "\n",
            "\n",
            "Average Val Loss: 0.3878, Val Accuracy: 31/32 (96.875%)\n",
            "\n",
            "\n",
            "Average Val Loss: 0.3760, Val Accuracy: 31/32 (96.875%)\n",
            "\n",
            "\n",
            "Average Val Loss: 0.3713, Val Accuracy: 30/32 (93.750%)\n",
            "\n",
            "\n",
            "Average Val Loss: 0.3756, Val Accuracy: 31/32 (96.875%)\n",
            "\n",
            "\n",
            "Average Val Loss: 0.3795, Val Accuracy: 31/32 (96.875%)\n",
            "\n",
            "\n",
            "Average Val Loss: 0.3753, Val Accuracy: 31/32 (96.875%)\n",
            "\n",
            "\n",
            "Average Val Loss: 0.3739, Val Accuracy: 30/32 (93.750%)\n",
            "\n",
            "\n",
            "Average Val Loss: 0.3822, Val Accuracy: 31/32 (96.875%)\n",
            "\n",
            "\n",
            "Average Val Loss: 0.3733, Val Accuracy: 29/32 (90.625%)\n",
            "\n",
            "\n",
            "Average Val Loss: 0.3791, Val Accuracy: 30/32 (93.750%)\n",
            "\n",
            "\n",
            "Average Val Loss: 0.3826, Val Accuracy: 30/32 (93.750%)\n",
            "\n",
            "\n",
            "Average Val Loss: 0.3590, Val Accuracy: 31/32 (96.875%)\n",
            "\n",
            "\n",
            "Average Val Loss: 0.3633, Val Accuracy: 31/32 (96.875%)\n",
            "\n",
            "\n",
            "Average Val Loss: 0.3716, Val Accuracy: 31/32 (96.875%)\n",
            "\n",
            "\n",
            "Average Val Loss: 0.3775, Val Accuracy: 31/32 (96.875%)\n",
            "\n",
            "\n",
            "Average Val Loss: 0.3769, Val Accuracy: 30/32 (93.750%)\n",
            "\n",
            "\n",
            "Average Val Loss: 0.3672, Val Accuracy: 30/32 (93.750%)\n",
            "\n"
          ]
        }
      ]
    },
    {
      "cell_type": "markdown",
      "source": [
        "### Training Plot"
      ],
      "metadata": {
        "id": "hZR7SGMb_Awr"
      }
    },
    {
      "cell_type": "code",
      "source": [
        "plt.rcParams['figure.figsize'] = (10,8)\n",
        "plt.plot(range(num_epochs),loss_per_epoch)\n",
        "plt.title('Average Loss Per epochs')\n",
        "plt.xlabel(\"epochs\")\n",
        "plt.ylabel(\"Loss\")"
      ],
      "metadata": {
        "colab": {
          "base_uri": "https://localhost:8080/",
          "height": 531
        },
        "id": "Gf5acGjy--zW",
        "outputId": "9efbedd9-83b9-4e36-dc2c-d7b748e8b844"
      },
      "execution_count": null,
      "outputs": [
        {
          "output_type": "execute_result",
          "data": {
            "text/plain": [
              "Text(0, 0.5, 'Loss')"
            ]
          },
          "metadata": {},
          "execution_count": 40
        },
        {
          "output_type": "display_data",
          "data": {
            "text/plain": [
              "<Figure size 720x576 with 1 Axes>"
            ],
            "image/png": "[encoded data removed]"
          },
          "metadata": {
            "needs_background": "light"
          }
        }
      ]
    },
    {
      "cell_type": "code",
      "source": [
        "plt.rcParams['figure.figsize'] = (10,8)\n",
        "plt.plot(range(num_epochs),acc_per_epoch)\n",
        "plt.title('Val accuracy Per epochs')\n",
        "plt.xlabel(\"epochs\")\n",
        "plt.ylabel(\"Accuracy\")"
      ],
      "metadata": {
        "colab": {
          "base_uri": "https://localhost:8080/",
          "height": 531
        },
        "id": "Jsv1S7fj_AdV",
        "outputId": "796b3492-cc6b-4cdd-e67d-3fc0ae608b7e"
      },
      "execution_count": null,
      "outputs": [
        {
          "output_type": "execute_result",
          "data": {
            "text/plain": [
              "Text(0, 0.5, 'Accuracy')"
            ]
          },
          "metadata": {},
          "execution_count": 41
        },
        {
          "output_type": "display_data",
          "data": {
            "text/plain": [
              "<Figure size 720x576 with 1 Axes>"
            ],
            "image/png": "[encoded data removed]"
          },
          "metadata": {
            "needs_background": "light"
          }
        }
      ]
    },
    {
      "cell_type": "code",
      "source": [
        "y_pred, y_true, y_prob = get_output(ann_model,test_loader)"
      ],
      "metadata": {
        "colab": {
          "base_uri": "https://localhost:8080/"
        },
        "id": "PupXqW2TQzd5",
        "outputId": "f886e7bb-b8de-49e4-d108-3d967c214669"
      },
      "execution_count": null,
      "outputs": [
        {
          "output_type": "stream",
          "name": "stdout",
          "text": [
            "\n",
            "Average Val Loss: 0.5921, Val Accuracy: 60/80 (75.000%)\n",
            "\n"
          ]
        },
        {
          "output_type": "stream",
          "name": "stderr",
          "text": [
            "/usr/local/lib/python3.8/dist-packages/torch/nn/_reduction.py:42: UserWarning: size_average and reduce args will be deprecated, please use reduction='sum' instead.\n",
            "  warnings.warn(warning.format(ret))\n"
          ]
        }
      ]
    },
    {
      "cell_type": "markdown",
      "source": [
        "## report classification"
      ],
      "metadata": {
        "id": "8YASG_v5AKYz"
      }
    },
    {
      "cell_type": "code",
      "source": [
        "# Make the confusion matrix\n",
        "confusion_plot(y_true,y_pred)"
      ],
      "metadata": {
        "colab": {
          "base_uri": "https://localhost:8080/",
          "height": 513
        },
        "id": "o1FNkeOIQ4Mb",
        "outputId": "8b3272ab-a7df-4093-a61a-cb0eb16466e9"
      },
      "execution_count": null,
      "outputs": [
        {
          "output_type": "display_data",
          "data": {
            "text/plain": [
              "<Figure size 720x576 with 2 Axes>"
            ],
            "image/png": "[encoded data removed]"
          },
          "metadata": {
            "needs_background": "light"
          }
        }
      ]
    },
    {
      "cell_type": "code",
      "source": [
        "generate_classification_report(y_true,y_pred)"
      ],
      "metadata": {
        "colab": {
          "base_uri": "https://localhost:8080/",
          "height": 269
        },
        "id": "do8ajiTdQ_Pe",
        "outputId": "0079614e-1553-4cc7-e293-694483bd4d40"
      },
      "execution_count": null,
      "outputs": [
        {
          "output_type": "execute_result",
          "data": {
            "text/plain": [
              "             Label  f1-score  precision    recall  support\n",
              "0                0  0.722222    0.65000  0.812500    16.00\n",
              "1                1  0.863636    0.95000  0.791667    24.00\n",
              "2                2  0.604651    0.65000  0.565217    23.00\n",
              "3                3  0.810811    0.75000  0.882353    17.00\n",
              "accuracy            0.750000    0.75000  0.750000     0.75\n",
              "macro avg           0.750330    0.75000  0.762934    80.00\n",
              "weighted avg        0.749670    0.76125  0.750000    80.00"
            ],
            "text/html": [
              "\n",
              "  <div id=\"df-3db050a5-2d19-4a1f-94ad-3fd871171ddd\">\n",
              "    <div class=\"colab-df-container\">\n",
              "      <div>\n",
              "<style scoped>\n",
              "    .dataframe tbody tr th:only-of-type {\n",
              "        vertical-align: middle;\n",
              "    }\n",
              "\n",
              "    .dataframe tbody tr th {\n",
              "        vertical-align: top;\n",
              "    }\n",
              "\n",
              "    .dataframe thead th {\n",
              "        text-align: right;\n",
              "    }\n",
              "</style>\n",
              "<table border=\"1\" class=\"dataframe\">\n",
              "  <thead>\n",
              "    <tr style=\"text-align: right;\">\n",
              "      <th></th>\n",
              "      <th>Label</th>\n",
              "      <th>f1-score</th>\n",
              "      <th>precision</th>\n",
              "      <th>recall</th>\n",
              "      <th>support</th>\n",
              "    </tr>\n",
              "  </thead>\n",
              "  <tbody>\n",
              "    <tr>\n",
              "      <th>0</th>\n",
              "      <td>0</td>\n",
              "      <td>0.722222</td>\n",
              "      <td>0.65000</td>\n",
              "      <td>0.812500</td>\n",
              "      <td>16.00</td>\n",
              "    </tr>\n",
              "    <tr>\n",
              "      <th>1</th>\n",
              "      <td>1</td>\n",
              "      <td>0.863636</td>\n",
              "      <td>0.95000</td>\n",
              "      <td>0.791667</td>\n",
              "      <td>24.00</td>\n",
              "    </tr>\n",
              "    <tr>\n",
              "      <th>2</th>\n",
              "      <td>2</td>\n",
              "      <td>0.604651</td>\n",
              "      <td>0.65000</td>\n",
              "      <td>0.565217</td>\n",
              "      <td>23.00</td>\n",
              "    </tr>\n",
              "    <tr>\n",
              "      <th>3</th>\n",
              "      <td>3</td>\n",
              "      <td>0.810811</td>\n",
              "      <td>0.75000</td>\n",
              "      <td>0.882353</td>\n",
              "      <td>17.00</td>\n",
              "    </tr>\n",
              "    <tr>\n",
              "      <th>accuracy</th>\n",
              "      <td></td>\n",
              "      <td>0.750000</td>\n",
              "      <td>0.75000</td>\n",
              "      <td>0.750000</td>\n",
              "      <td>0.75</td>\n",
              "    </tr>\n",
              "    <tr>\n",
              "      <th>macro avg</th>\n",
              "      <td></td>\n",
              "      <td>0.750330</td>\n",
              "      <td>0.75000</td>\n",
              "      <td>0.762934</td>\n",
              "      <td>80.00</td>\n",
              "    </tr>\n",
              "    <tr>\n",
              "      <th>weighted avg</th>\n",
              "      <td></td>\n",
              "      <td>0.749670</td>\n",
              "      <td>0.76125</td>\n",
              "      <td>0.750000</td>\n",
              "      <td>80.00</td>\n",
              "    </tr>\n",
              "  </tbody>\n",
              "</table>\n",
              "</div>\n",
              "      <button class=\"colab-df-convert\" onclick=\"convertToInteractive('df-3db050a5-2d19-4a1f-94ad-3fd871171ddd')\"\n",
              "              title=\"Convert this dataframe to an interactive table.\"\n",
              "              style=\"display:none;\">\n",
              "        \n",
              "  <svg xmlns=\"http://www.w3.org/2000/svg\" height=\"24px\"viewBox=\"0 0 24 24\"\n",
              "       width=\"24px\">\n",
              "    <path d=\"M0 0h24v24H0V0z\" fill=\"none\"/>\n",
              "    <path d=\"M18.56 5.44l.94 2.06.94-2.06 2.06-.94-2.06-.94-.94-2.06-.94 2.06-2.06.94zm-11 1L8.5 8.5l.94-2.06 2.06-.94-2.06-.94L8.5 2.5l-.94 2.06-2.06.94zm10 10l.94 2.06.94-2.06 2.06-.94-2.06-.94-.94-2.06-.94 2.06-2.06.94z\"/><path d=\"M17.41 7.96l-1.37-1.37c-.4-.4-.92-.59-1.43-.59-.52 0-1.04.2-1.43.59L10.3 9.45l-7.72 7.72c-.78.78-.78 2.05 0 2.83L4 21.41c.39.39.9.59 1.41.59.51 0 1.02-.2 1.41-.59l7.78-7.78 2.81-2.81c.8-.78.8-2.07 0-2.86zM5.41 20L4 18.59l7.72-7.72 1.47 1.35L5.41 20z\"/>\n",
              "  </svg>\n",
              "      </button>\n",
              "      \n",
              "  <style>\n",
              "    .colab-df-container {\n",
              "      display:flex;\n",
              "      flex-wrap:wrap;\n",
              "      gap: 12px;\n",
              "    }\n",
              "\n",
              "    .colab-df-convert {\n",
              "      background-color: #E8F0FE;\n",
              "      border: none;\n",
              "      border-radius: 50%;\n",
              "      cursor: pointer;\n",
              "      display: none;\n",
              "      fill: #1967D2;\n",
              "      height: 32px;\n",
              "      padding: 0 0 0 0;\n",
              "      width: 32px;\n",
              "    }\n",
              "\n",
              "    .colab-df-convert:hover {\n",
              "      background-color: #E2EBFA;\n",
              "      box-shadow: 0px 1px 2px rgba(60, 64, 67, 0.3), 0px 1px 3px 1px rgba(60, 64, 67, 0.15);\n",
              "      fill: #174EA6;\n",
              "    }\n",
              "\n",
              "    [theme=dark] .colab-df-convert {\n",
              "      background-color: #3B4455;\n",
              "      fill: #D2E3FC;\n",
              "    }\n",
              "\n",
              "    [theme=dark] .colab-df-convert:hover {\n",
              "      background-color: #434B5C;\n",
              "      box-shadow: 0px 1px 3px 1px rgba(0, 0, 0, 0.15);\n",
              "      filter: drop-shadow(0px 1px 2px rgba(0, 0, 0, 0.3));\n",
              "      fill: #FFFFFF;\n",
              "    }\n",
              "  </style>\n",
              "\n",
              "      <script>\n",
              "        const buttonEl =\n",
              "          document.querySelector('#df-3db050a5-2d19-4a1f-94ad-3fd871171ddd button.colab-df-convert');\n",
              "        buttonEl.style.display =\n",
              "          google.colab.kernel.accessAllowed ? 'block' : 'none';\n",
              "\n",
              "        async function convertToInteractive(key) {\n",
              "          const element = document.querySelector('#df-3db050a5-2d19-4a1f-94ad-3fd871171ddd');\n",
              "          const dataTable =\n",
              "            await google.colab.kernel.invokeFunction('convertToInteractive',\n",
              "                                                     [key], {});\n",
              "          if (!dataTable) return;\n",
              "\n",
              "          const docLinkHtml = 'Like what you see? Visit the ' +\n",
              "            '<a target=\"_blank\" href=https://colab.research.google.com/notebooks/data_table.ipynb>data table notebook</a>'\n",
              "            + ' to learn more about interactive tables.';\n",
              "          element.innerHTML = '';\n",
              "          dataTable['output_type'] = 'display_data';\n",
              "          await google.colab.output.renderOutput(dataTable, element);\n",
              "          const docLink = document.createElement('div');\n",
              "          docLink.innerHTML = docLinkHtml;\n",
              "          element.appendChild(docLink);\n",
              "        }\n",
              "      </script>\n",
              "    </div>\n",
              "  </div>\n",
              "  "
            ]
          },
          "metadata": {},
          "execution_count": 43
        }
      ]
    },
    {
      "cell_type": "code",
      "source": [
        "plot_roc_curve_all(y_true, y_prob,4,(10,8))"
      ],
      "metadata": {
        "colab": {
          "base_uri": "https://localhost:8080/",
          "height": 513
        },
        "id": "R43GwwAQcdDg",
        "outputId": "58128376-b7ea-4e8a-89c1-bb4f1b1ff68d"
      },
      "execution_count": null,
      "outputs": [
        {
          "output_type": "display_data",
          "data": {
            "text/plain": [
              "<Figure size 720x576 with 1 Axes>"
            ],
            "image/png": "[encoded data removed]"
          },
          "metadata": {
            "needs_background": "light"
          }
        }
      ]
    },
    {
      "cell_type": "code",
      "source": [
        "class Net(nn.Module):\n",
        "    def __init__(self):\n",
        "        super(Net, self).__init__()\n",
        "        \n",
        "        self.linear_block = nn.Sequential(\n",
        "\n",
        "            nn.Linear(50,64),\n",
        "            # nn.BatchNorm1d(64),\n",
        "            nn.Tanh(),\n",
        "            nn.Dropout(),\n",
        "\n",
        "            nn.Linear(64,512),\n",
        "            # nn.BatchNorm1d(512),\n",
        "            nn.Tanh(),\n",
        "            nn.Dropout(),\n",
        "\n",
        "            nn.Linear(512,64),\n",
        "            # nn.BatchNorm1d(64),\n",
        "            nn.Tanh(),\n",
        "            nn.Dropout(),\n",
        "\n",
        "            nn.Linear(64,32),\n",
        "            # nn.BatchNorm1d(64),\n",
        "            nn.Tanh(),\n",
        "            nn.Dropout(),\n",
        "\n",
        "\n",
        "            nn.Linear(32,4),\n",
        "            # nn.BatchNorm1d(4),\n",
        "            nn.Softmax(dim=1),\n",
        "        )\n",
        "        \n",
        "    def forward(self, x):\n",
        "        x = x.view(x.size(0), -1)\n",
        "        x = self.linear_block(x)\n",
        "        \n",
        "        return x"
      ],
      "metadata": {
        "id": "Cjn6Dm5TSbBW"
      },
      "execution_count": null,
      "outputs": []
    },
    {
      "cell_type": "markdown",
      "source": [
        "# Network 2 hidden layer 512, 64 tanh as Act. Func."
      ],
      "metadata": {
        "id": "1tUq3eOrFUuc"
      }
    },
    {
      "cell_type": "code",
      "source": [
        "class Net(nn.Module):\n",
        "    def __init__(self):\n",
        "        super(Net, self).__init__()\n",
        "        \n",
        "        self.linear_block = nn.Sequential(\n",
        "            nn.BatchNorm1d(50),\n",
        "            nn.Dropout(0.1),\n",
        "            nn.Linear(50, 512),\n",
        "            nn.BatchNorm1d(512),\n",
        "            nn.Tanh(),\n",
        "\n",
        "            nn.Dropout(0.1),\n",
        "            nn.Linear(512, 64),\n",
        "            nn.BatchNorm1d(64),\n",
        "            nn.Tanh(),\n",
        "\n",
        "            nn.Dropout(0.1),\n",
        "            nn.Linear(64, 4),\n",
        "            nn.BatchNorm1d(4),\n",
        "        )\n",
        "        \n",
        "    def forward(self, x):\n",
        "        x = x.view(x.size(0), -1)\n",
        "        x = self.linear_block(x)\n",
        "        \n",
        "        return x"
      ],
      "metadata": {
        "id": "weZPyOUFFUul"
      },
      "execution_count": null,
      "outputs": []
    },
    {
      "cell_type": "markdown",
      "source": [
        "## add optimizar and loss function"
      ],
      "metadata": {
        "id": "xH0UqrcGFUul"
      }
    },
    {
      "cell_type": "code",
      "source": [
        "ann_model = Net()\n",
        "if torch.cuda.is_available():\n",
        "    ann_model = ann_model.cuda()\n",
        "ann_model\n",
        "\n",
        "optimizer = optim.Adam(params=ann_model.parameters(), lr=0.01)\n",
        "criterion = nn.CrossEntropyLoss()\n",
        "\n",
        "exp_lr_scheduler = optim.lr_scheduler.StepLR(optimizer, step_size=7, gamma=0.1)\n",
        "\n",
        "if torch.cuda.is_available():\n",
        "    criterion = criterion.cuda()"
      ],
      "metadata": {
        "id": "lq8VbOlwFUul"
      },
      "execution_count": null,
      "outputs": []
    },
    {
      "cell_type": "markdown",
      "source": [
        "## Training"
      ],
      "metadata": {
        "id": "WSOMqHHjFUum"
      }
    },
    {
      "cell_type": "code",
      "source": [
        "num_epochs = 100\n",
        "loss_per_epoch = np.array([])\n",
        "acc_per_epoch = np.array([])\n",
        "for n in range(num_epochs):\n",
        "    train_model(ann_model, train_loader, n)\n",
        "    lpe,ape = evaluate(ann_model, val_loader)\n",
        "    loss_per_epoch = np.append(loss_per_epoch,lpe)\n",
        "    acc_per_epoch = np.append(acc_per_epoch,ape)"
      ],
      "metadata": {
        "colab": {
          "base_uri": "https://localhost:8080/"
        },
        "outputId": "27572f1f-3c79-499b-a810-78f42d654736",
        "id": "tyAjpAxDFUum"
      },
      "execution_count": null,
      "outputs": [
        {
          "output_type": "stream",
          "name": "stderr",
          "text": [
            "/usr/local/lib/python3.8/dist-packages/torch/optim/lr_scheduler.py:138: UserWarning: Detected call of `lr_scheduler.step()` before `optimizer.step()`. In PyTorch 1.1.0 and later, you should call them in the opposite order: `optimizer.step()` before `lr_scheduler.step()`.  Failure to do this will result in PyTorch skipping the first value of the learning rate schedule. See more details at https://pytorch.org/docs/stable/optim.html#how-to-adjust-learning-rate\n",
            "  warnings.warn(\"Detected call of `lr_scheduler.step()` before `optimizer.step()`. \"\n"
          ]
        },
        {
          "output_type": "stream",
          "name": "stdout",
          "text": [
            "\n",
            "Average Val Loss: 0.6875, Val Accuracy: 25/32 (78.125%)\n",
            "\n"
          ]
        },
        {
          "output_type": "stream",
          "name": "stderr",
          "text": [
            "/usr/local/lib/python3.8/dist-packages/torch/nn/_reduction.py:42: UserWarning: size_average and reduce args will be deprecated, please use reduction='sum' instead.\n",
            "  warnings.warn(warning.format(ret))\n"
          ]
        },
        {
          "output_type": "stream",
          "name": "stdout",
          "text": [
            "\n",
            "Average Val Loss: 0.6248, Val Accuracy: 24/32 (75.000%)\n",
            "\n",
            "\n",
            "Average Val Loss: 0.5155, Val Accuracy: 26/32 (81.250%)\n",
            "\n",
            "\n",
            "Average Val Loss: 0.4804, Val Accuracy: 28/32 (87.500%)\n",
            "\n",
            "\n",
            "Average Val Loss: 0.5183, Val Accuracy: 27/32 (84.375%)\n",
            "\n",
            "\n",
            "Average Val Loss: 0.4872, Val Accuracy: 28/32 (87.500%)\n",
            "\n",
            "\n",
            "Average Val Loss: 0.4643, Val Accuracy: 28/32 (87.500%)\n",
            "\n",
            "\n",
            "Average Val Loss: 0.4583, Val Accuracy: 28/32 (87.500%)\n",
            "\n",
            "\n",
            "Average Val Loss: 0.4566, Val Accuracy: 28/32 (87.500%)\n",
            "\n",
            "\n",
            "Average Val Loss: 0.4536, Val Accuracy: 28/32 (87.500%)\n",
            "\n",
            "\n",
            "Average Val Loss: 0.4515, Val Accuracy: 29/32 (90.625%)\n",
            "\n",
            "\n",
            "Average Val Loss: 0.4498, Val Accuracy: 29/32 (90.625%)\n",
            "\n",
            "\n",
            "Average Val Loss: 0.4436, Val Accuracy: 29/32 (90.625%)\n",
            "\n",
            "\n",
            "Average Val Loss: 0.4403, Val Accuracy: 29/32 (90.625%)\n",
            "\n",
            "\n",
            "Average Val Loss: 0.4437, Val Accuracy: 29/32 (90.625%)\n",
            "\n",
            "\n",
            "Average Val Loss: 0.4420, Val Accuracy: 29/32 (90.625%)\n",
            "\n",
            "\n",
            "Average Val Loss: 0.4412, Val Accuracy: 29/32 (90.625%)\n",
            "\n",
            "\n",
            "Average Val Loss: 0.4381, Val Accuracy: 29/32 (90.625%)\n",
            "\n",
            "\n",
            "Average Val Loss: 0.4322, Val Accuracy: 29/32 (90.625%)\n",
            "\n",
            "\n",
            "Average Val Loss: 0.4271, Val Accuracy: 29/32 (90.625%)\n",
            "\n",
            "\n",
            "Average Val Loss: 0.4365, Val Accuracy: 29/32 (90.625%)\n",
            "\n",
            "\n",
            "Average Val Loss: 0.4269, Val Accuracy: 29/32 (90.625%)\n",
            "\n",
            "\n",
            "Average Val Loss: 0.4426, Val Accuracy: 29/32 (90.625%)\n",
            "\n",
            "\n",
            "Average Val Loss: 0.4373, Val Accuracy: 28/32 (87.500%)\n",
            "\n",
            "\n",
            "Average Val Loss: 0.4374, Val Accuracy: 29/32 (90.625%)\n",
            "\n",
            "\n",
            "Average Val Loss: 0.4450, Val Accuracy: 29/32 (90.625%)\n",
            "\n",
            "\n",
            "Average Val Loss: 0.4402, Val Accuracy: 29/32 (90.625%)\n",
            "\n",
            "\n",
            "Average Val Loss: 0.4363, Val Accuracy: 29/32 (90.625%)\n",
            "\n",
            "\n",
            "Average Val Loss: 0.4429, Val Accuracy: 29/32 (90.625%)\n",
            "\n",
            "\n",
            "Average Val Loss: 0.4343, Val Accuracy: 29/32 (90.625%)\n",
            "\n",
            "\n",
            "Average Val Loss: 0.4336, Val Accuracy: 29/32 (90.625%)\n",
            "\n",
            "\n",
            "Average Val Loss: 0.4453, Val Accuracy: 29/32 (90.625%)\n",
            "\n",
            "\n",
            "Average Val Loss: 0.4416, Val Accuracy: 29/32 (90.625%)\n",
            "\n",
            "\n",
            "Average Val Loss: 0.4429, Val Accuracy: 29/32 (90.625%)\n",
            "\n",
            "\n",
            "Average Val Loss: 0.4396, Val Accuracy: 29/32 (90.625%)\n",
            "\n",
            "\n",
            "Average Val Loss: 0.4390, Val Accuracy: 29/32 (90.625%)\n",
            "\n",
            "\n",
            "Average Val Loss: 0.4326, Val Accuracy: 29/32 (90.625%)\n",
            "\n",
            "\n",
            "Average Val Loss: 0.4364, Val Accuracy: 29/32 (90.625%)\n",
            "\n",
            "\n",
            "Average Val Loss: 0.4348, Val Accuracy: 29/32 (90.625%)\n",
            "\n",
            "\n",
            "Average Val Loss: 0.4402, Val Accuracy: 29/32 (90.625%)\n",
            "\n",
            "\n",
            "Average Val Loss: 0.4393, Val Accuracy: 29/32 (90.625%)\n",
            "\n",
            "\n",
            "Average Val Loss: 0.4364, Val Accuracy: 29/32 (90.625%)\n",
            "\n",
            "\n",
            "Average Val Loss: 0.4390, Val Accuracy: 29/32 (90.625%)\n",
            "\n",
            "\n",
            "Average Val Loss: 0.4343, Val Accuracy: 29/32 (90.625%)\n",
            "\n",
            "\n",
            "Average Val Loss: 0.4410, Val Accuracy: 29/32 (90.625%)\n",
            "\n",
            "\n",
            "Average Val Loss: 0.4368, Val Accuracy: 29/32 (90.625%)\n",
            "\n",
            "\n",
            "Average Val Loss: 0.4390, Val Accuracy: 29/32 (90.625%)\n",
            "\n",
            "\n",
            "Average Val Loss: 0.4349, Val Accuracy: 29/32 (90.625%)\n",
            "\n",
            "\n",
            "Average Val Loss: 0.4411, Val Accuracy: 29/32 (90.625%)\n",
            "\n",
            "\n",
            "Average Val Loss: 0.4339, Val Accuracy: 29/32 (90.625%)\n",
            "\n",
            "\n",
            "Average Val Loss: 0.4422, Val Accuracy: 29/32 (90.625%)\n",
            "\n",
            "\n",
            "Average Val Loss: 0.4433, Val Accuracy: 29/32 (90.625%)\n",
            "\n",
            "\n",
            "Average Val Loss: 0.4409, Val Accuracy: 29/32 (90.625%)\n",
            "\n",
            "\n",
            "Average Val Loss: 0.4435, Val Accuracy: 29/32 (90.625%)\n",
            "\n",
            "\n",
            "Average Val Loss: 0.4536, Val Accuracy: 29/32 (90.625%)\n",
            "\n",
            "\n",
            "Average Val Loss: 0.4440, Val Accuracy: 29/32 (90.625%)\n",
            "\n",
            "\n",
            "Average Val Loss: 0.4397, Val Accuracy: 29/32 (90.625%)\n",
            "\n",
            "\n",
            "Average Val Loss: 0.4450, Val Accuracy: 29/32 (90.625%)\n",
            "\n",
            "\n",
            "Average Val Loss: 0.4380, Val Accuracy: 29/32 (90.625%)\n",
            "\n",
            "\n",
            "Average Val Loss: 0.4392, Val Accuracy: 29/32 (90.625%)\n",
            "\n",
            "\n",
            "Average Val Loss: 0.4394, Val Accuracy: 29/32 (90.625%)\n",
            "\n",
            "\n",
            "Average Val Loss: 0.4369, Val Accuracy: 29/32 (90.625%)\n",
            "\n",
            "\n",
            "Average Val Loss: 0.4390, Val Accuracy: 29/32 (90.625%)\n",
            "\n",
            "\n",
            "Average Val Loss: 0.4374, Val Accuracy: 29/32 (90.625%)\n",
            "\n",
            "\n",
            "Average Val Loss: 0.4372, Val Accuracy: 29/32 (90.625%)\n",
            "\n",
            "\n",
            "Average Val Loss: 0.4407, Val Accuracy: 29/32 (90.625%)\n",
            "\n",
            "\n",
            "Average Val Loss: 0.4340, Val Accuracy: 29/32 (90.625%)\n",
            "\n",
            "\n",
            "Average Val Loss: 0.4405, Val Accuracy: 29/32 (90.625%)\n",
            "\n",
            "\n",
            "Average Val Loss: 0.4289, Val Accuracy: 29/32 (90.625%)\n",
            "\n",
            "\n",
            "Average Val Loss: 0.4431, Val Accuracy: 29/32 (90.625%)\n",
            "\n",
            "\n",
            "Average Val Loss: 0.4447, Val Accuracy: 29/32 (90.625%)\n",
            "\n",
            "\n",
            "Average Val Loss: 0.4402, Val Accuracy: 29/32 (90.625%)\n",
            "\n",
            "\n",
            "Average Val Loss: 0.4451, Val Accuracy: 29/32 (90.625%)\n",
            "\n",
            "\n",
            "Average Val Loss: 0.4377, Val Accuracy: 29/32 (90.625%)\n",
            "\n",
            "\n",
            "Average Val Loss: 0.4442, Val Accuracy: 29/32 (90.625%)\n",
            "\n",
            "\n",
            "Average Val Loss: 0.4418, Val Accuracy: 29/32 (90.625%)\n",
            "\n",
            "\n",
            "Average Val Loss: 0.4428, Val Accuracy: 29/32 (90.625%)\n",
            "\n",
            "\n",
            "Average Val Loss: 0.4362, Val Accuracy: 29/32 (90.625%)\n",
            "\n",
            "\n",
            "Average Val Loss: 0.4485, Val Accuracy: 29/32 (90.625%)\n",
            "\n",
            "\n",
            "Average Val Loss: 0.4367, Val Accuracy: 29/32 (90.625%)\n",
            "\n",
            "\n",
            "Average Val Loss: 0.4379, Val Accuracy: 29/32 (90.625%)\n",
            "\n",
            "\n",
            "Average Val Loss: 0.4391, Val Accuracy: 29/32 (90.625%)\n",
            "\n",
            "\n",
            "Average Val Loss: 0.4384, Val Accuracy: 29/32 (90.625%)\n",
            "\n",
            "\n",
            "Average Val Loss: 0.4497, Val Accuracy: 29/32 (90.625%)\n",
            "\n",
            "\n",
            "Average Val Loss: 0.4416, Val Accuracy: 29/32 (90.625%)\n",
            "\n",
            "\n",
            "Average Val Loss: 0.4312, Val Accuracy: 29/32 (90.625%)\n",
            "\n",
            "\n",
            "Average Val Loss: 0.4381, Val Accuracy: 29/32 (90.625%)\n",
            "\n",
            "\n",
            "Average Val Loss: 0.4361, Val Accuracy: 29/32 (90.625%)\n",
            "\n",
            "\n",
            "Average Val Loss: 0.4403, Val Accuracy: 29/32 (90.625%)\n",
            "\n",
            "\n",
            "Average Val Loss: 0.4398, Val Accuracy: 29/32 (90.625%)\n",
            "\n",
            "\n",
            "Average Val Loss: 0.4430, Val Accuracy: 29/32 (90.625%)\n",
            "\n",
            "\n",
            "Average Val Loss: 0.4391, Val Accuracy: 29/32 (90.625%)\n",
            "\n",
            "\n",
            "Average Val Loss: 0.4354, Val Accuracy: 29/32 (90.625%)\n",
            "\n",
            "\n",
            "Average Val Loss: 0.4401, Val Accuracy: 29/32 (90.625%)\n",
            "\n",
            "\n",
            "Average Val Loss: 0.4500, Val Accuracy: 29/32 (90.625%)\n",
            "\n",
            "\n",
            "Average Val Loss: 0.4489, Val Accuracy: 29/32 (90.625%)\n",
            "\n",
            "\n",
            "Average Val Loss: 0.4399, Val Accuracy: 29/32 (90.625%)\n",
            "\n",
            "\n",
            "Average Val Loss: 0.4505, Val Accuracy: 29/32 (90.625%)\n",
            "\n",
            "\n",
            "Average Val Loss: 0.4426, Val Accuracy: 29/32 (90.625%)\n",
            "\n",
            "\n",
            "Average Val Loss: 0.4387, Val Accuracy: 29/32 (90.625%)\n",
            "\n"
          ]
        }
      ]
    },
    {
      "cell_type": "markdown",
      "source": [
        "### Training Plot"
      ],
      "metadata": {
        "id": "j_04u9VbFUum"
      }
    },
    {
      "cell_type": "code",
      "source": [
        "plt.rcParams['figure.figsize'] = (10,8)\n",
        "plt.plot(range(num_epochs),loss_per_epoch)\n",
        "plt.title('Average Loss Per epochs')\n",
        "plt.xlabel(\"epochs\")\n",
        "plt.ylabel(\"Loss\")"
      ],
      "metadata": {
        "colab": {
          "base_uri": "https://localhost:8080/",
          "height": 531
        },
        "outputId": "5a273159-5084-47bc-f94b-ae14d1720811",
        "id": "8r8fiQr7FUum"
      },
      "execution_count": null,
      "outputs": [
        {
          "output_type": "execute_result",
          "data": {
            "text/plain": [
              "Text(0, 0.5, 'Loss')"
            ]
          },
          "metadata": {},
          "execution_count": 139
        },
        {
          "output_type": "display_data",
          "data": {
            "text/plain": [
              "<Figure size 720x576 with 1 Axes>"
            ],
            "image/png": "[encoded data removed]"
          },
          "metadata": {
            "needs_background": "light"
          }
        }
      ]
    },
    {
      "cell_type": "code",
      "source": [
        "plt.rcParams['figure.figsize'] = (10,8)\n",
        "plt.plot(range(num_epochs),acc_per_epoch)\n",
        "plt.title('Val accuracy Per epochs')\n",
        "plt.xlabel(\"epochs\")\n",
        "plt.ylabel(\"Accuracy\")"
      ],
      "metadata": {
        "colab": {
          "base_uri": "https://localhost:8080/",
          "height": 531
        },
        "outputId": "084d26a5-5603-4614-ea34-c06bcda076c4",
        "id": "W85QYvEyFUum"
      },
      "execution_count": null,
      "outputs": [
        {
          "output_type": "execute_result",
          "data": {
            "text/plain": [
              "Text(0, 0.5, 'Accuracy')"
            ]
          },
          "metadata": {},
          "execution_count": 140
        },
        {
          "output_type": "display_data",
          "data": {
            "text/plain": [
              "<Figure size 720x576 with 1 Axes>"
            ],
            "image/png": "[encoded data removed]"
          },
          "metadata": {
            "needs_background": "light"
          }
        }
      ]
    },
    {
      "cell_type": "code",
      "source": [
        "y_pred, y_true, y_prob = get_output(ann_model,test_loader)"
      ],
      "metadata": {
        "colab": {
          "base_uri": "https://localhost:8080/"
        },
        "outputId": "20ca01b7-c0a8-4001-e1ad-16d4704c8cf3",
        "id": "OGAVjgPoFUun"
      },
      "execution_count": null,
      "outputs": [
        {
          "output_type": "stream",
          "name": "stdout",
          "text": [
            "\n",
            "Average Val Loss: 0.5725, Val Accuracy: 66/80 (82.500%)\n",
            "\n"
          ]
        },
        {
          "output_type": "stream",
          "name": "stderr",
          "text": [
            "/usr/local/lib/python3.8/dist-packages/torch/nn/_reduction.py:42: UserWarning: size_average and reduce args will be deprecated, please use reduction='sum' instead.\n",
            "  warnings.warn(warning.format(ret))\n"
          ]
        }
      ]
    },
    {
      "cell_type": "markdown",
      "source": [
        "## report classification"
      ],
      "metadata": {
        "id": "1LSbI2caFUun"
      }
    },
    {
      "cell_type": "code",
      "source": [
        "# Make the confusion matrix\n",
        "confusion_plot(y_true,y_pred)"
      ],
      "metadata": {
        "colab": {
          "base_uri": "https://localhost:8080/",
          "height": 513
        },
        "outputId": "6bc43d49-0518-4313-aefc-0369e158c5bf",
        "id": "6V9C9C3yFUun"
      },
      "execution_count": null,
      "outputs": [
        {
          "output_type": "display_data",
          "data": {
            "text/plain": [
              "<Figure size 720x576 with 2 Axes>"
            ],
            "image/png": "[encoded data removed]"
          },
          "metadata": {
            "needs_background": "light"
          }
        }
      ]
    },
    {
      "cell_type": "code",
      "source": [
        "generate_classification_report(y_true,y_pred)"
      ],
      "metadata": {
        "colab": {
          "base_uri": "https://localhost:8080/",
          "height": 269
        },
        "outputId": "fc106c3b-13bb-4899-f6f5-1f5de43f2e43",
        "id": "0XATuZlwFUun"
      },
      "execution_count": null,
      "outputs": [
        {
          "output_type": "execute_result",
          "data": {
            "text/plain": [
              "             Label  f1-score  precision    recall  support\n",
              "0                0  0.850000    0.85000  0.850000   20.000\n",
              "1                1  0.883721    0.95000  0.826087   23.000\n",
              "2                2  0.684211    0.65000  0.722222   18.000\n",
              "3                3  0.871795    0.85000  0.894737   19.000\n",
              "accuracy            0.825000    0.82500  0.825000    0.825\n",
              "macro avg           0.822432    0.82500  0.823262   80.000\n",
              "weighted avg        0.827568    0.83375  0.825000   80.000"
            ],
            "text/html": [
              "\n",
              "  <div id=\"df-6b2c224a-9578-404d-889c-74806d0e5ed5\">\n",
              "    <div class=\"colab-df-container\">\n",
              "      <div>\n",
              "<style scoped>\n",
              "    .dataframe tbody tr th:only-of-type {\n",
              "        vertical-align: middle;\n",
              "    }\n",
              "\n",
              "    .dataframe tbody tr th {\n",
              "        vertical-align: top;\n",
              "    }\n",
              "\n",
              "    .dataframe thead th {\n",
              "        text-align: right;\n",
              "    }\n",
              "</style>\n",
              "<table border=\"1\" class=\"dataframe\">\n",
              "  <thead>\n",
              "    <tr style=\"text-align: right;\">\n",
              "      <th></th>\n",
              "      <th>Label</th>\n",
              "      <th>f1-score</th>\n",
              "      <th>precision</th>\n",
              "      <th>recall</th>\n",
              "      <th>support</th>\n",
              "    </tr>\n",
              "  </thead>\n",
              "  <tbody>\n",
              "    <tr>\n",
              "      <th>0</th>\n",
              "      <td>0</td>\n",
              "      <td>0.850000</td>\n",
              "      <td>0.85000</td>\n",
              "      <td>0.850000</td>\n",
              "      <td>20.000</td>\n",
              "    </tr>\n",
              "    <tr>\n",
              "      <th>1</th>\n",
              "      <td>1</td>\n",
              "      <td>0.883721</td>\n",
              "      <td>0.95000</td>\n",
              "      <td>0.826087</td>\n",
              "      <td>23.000</td>\n",
              "    </tr>\n",
              "    <tr>\n",
              "      <th>2</th>\n",
              "      <td>2</td>\n",
              "      <td>0.684211</td>\n",
              "      <td>0.65000</td>\n",
              "      <td>0.722222</td>\n",
              "      <td>18.000</td>\n",
              "    </tr>\n",
              "    <tr>\n",
              "      <th>3</th>\n",
              "      <td>3</td>\n",
              "      <td>0.871795</td>\n",
              "      <td>0.85000</td>\n",
              "      <td>0.894737</td>\n",
              "      <td>19.000</td>\n",
              "    </tr>\n",
              "    <tr>\n",
              "      <th>accuracy</th>\n",
              "      <td></td>\n",
              "      <td>0.825000</td>\n",
              "      <td>0.82500</td>\n",
              "      <td>0.825000</td>\n",
              "      <td>0.825</td>\n",
              "    </tr>\n",
              "    <tr>\n",
              "      <th>macro avg</th>\n",
              "      <td></td>\n",
              "      <td>0.822432</td>\n",
              "      <td>0.82500</td>\n",
              "      <td>0.823262</td>\n",
              "      <td>80.000</td>\n",
              "    </tr>\n",
              "    <tr>\n",
              "      <th>weighted avg</th>\n",
              "      <td></td>\n",
              "      <td>0.827568</td>\n",
              "      <td>0.83375</td>\n",
              "      <td>0.825000</td>\n",
              "      <td>80.000</td>\n",
              "    </tr>\n",
              "  </tbody>\n",
              "</table>\n",
              "</div>\n",
              "      <button class=\"colab-df-convert\" onclick=\"convertToInteractive('df-6b2c224a-9578-404d-889c-74806d0e5ed5')\"\n",
              "              title=\"Convert this dataframe to an interactive table.\"\n",
              "              style=\"display:none;\">\n",
              "        \n",
              "  <svg xmlns=\"http://www.w3.org/2000/svg\" height=\"24px\"viewBox=\"0 0 24 24\"\n",
              "       width=\"24px\">\n",
              "    <path d=\"M0 0h24v24H0V0z\" fill=\"none\"/>\n",
              "    <path d=\"M18.56 5.44l.94 2.06.94-2.06 2.06-.94-2.06-.94-.94-2.06-.94 2.06-2.06.94zm-11 1L8.5 8.5l.94-2.06 2.06-.94-2.06-.94L8.5 2.5l-.94 2.06-2.06.94zm10 10l.94 2.06.94-2.06 2.06-.94-2.06-.94-.94-2.06-.94 2.06-2.06.94z\"/><path d=\"M17.41 7.96l-1.37-1.37c-.4-.4-.92-.59-1.43-.59-.52 0-1.04.2-1.43.59L10.3 9.45l-7.72 7.72c-.78.78-.78 2.05 0 2.83L4 21.41c.39.39.9.59 1.41.59.51 0 1.02-.2 1.41-.59l7.78-7.78 2.81-2.81c.8-.78.8-2.07 0-2.86zM5.41 20L4 18.59l7.72-7.72 1.47 1.35L5.41 20z\"/>\n",
              "  </svg>\n",
              "      </button>\n",
              "      \n",
              "  <style>\n",
              "    .colab-df-container {\n",
              "      display:flex;\n",
              "      flex-wrap:wrap;\n",
              "      gap: 12px;\n",
              "    }\n",
              "\n",
              "    .colab-df-convert {\n",
              "      background-color: #E8F0FE;\n",
              "      border: none;\n",
              "      border-radius: 50%;\n",
              "      cursor: pointer;\n",
              "      display: none;\n",
              "      fill: #1967D2;\n",
              "      height: 32px;\n",
              "      padding: 0 0 0 0;\n",
              "      width: 32px;\n",
              "    }\n",
              "\n",
              "    .colab-df-convert:hover {\n",
              "      background-color: #E2EBFA;\n",
              "      box-shadow: 0px 1px 2px rgba(60, 64, 67, 0.3), 0px 1px 3px 1px rgba(60, 64, 67, 0.15);\n",
              "      fill: #174EA6;\n",
              "    }\n",
              "\n",
              "    [theme=dark] .colab-df-convert {\n",
              "      background-color: #3B4455;\n",
              "      fill: #D2E3FC;\n",
              "    }\n",
              "\n",
              "    [theme=dark] .colab-df-convert:hover {\n",
              "      background-color: #434B5C;\n",
              "      box-shadow: 0px 1px 3px 1px rgba(0, 0, 0, 0.15);\n",
              "      filter: drop-shadow(0px 1px 2px rgba(0, 0, 0, 0.3));\n",
              "      fill: #FFFFFF;\n",
              "    }\n",
              "  </style>\n",
              "\n",
              "      <script>\n",
              "        const buttonEl =\n",
              "          document.querySelector('#df-6b2c224a-9578-404d-889c-74806d0e5ed5 button.colab-df-convert');\n",
              "        buttonEl.style.display =\n",
              "          google.colab.kernel.accessAllowed ? 'block' : 'none';\n",
              "\n",
              "        async function convertToInteractive(key) {\n",
              "          const element = document.querySelector('#df-6b2c224a-9578-404d-889c-74806d0e5ed5');\n",
              "          const dataTable =\n",
              "            await google.colab.kernel.invokeFunction('convertToInteractive',\n",
              "                                                     [key], {});\n",
              "          if (!dataTable) return;\n",
              "\n",
              "          const docLinkHtml = 'Like what you see? Visit the ' +\n",
              "            '<a target=\"_blank\" href=https://colab.research.google.com/notebooks/data_table.ipynb>data table notebook</a>'\n",
              "            + ' to learn more about interactive tables.';\n",
              "          element.innerHTML = '';\n",
              "          dataTable['output_type'] = 'display_data';\n",
              "          await google.colab.output.renderOutput(dataTable, element);\n",
              "          const docLink = document.createElement('div');\n",
              "          docLink.innerHTML = docLinkHtml;\n",
              "          element.appendChild(docLink);\n",
              "        }\n",
              "      </script>\n",
              "    </div>\n",
              "  </div>\n",
              "  "
            ]
          },
          "metadata": {},
          "execution_count": 143
        }
      ]
    },
    {
      "cell_type": "code",
      "source": [
        "plot_roc_curve_all(y_true, y_prob,4,(10,8))"
      ],
      "metadata": {
        "colab": {
          "base_uri": "https://localhost:8080/",
          "height": 513
        },
        "outputId": "ad2321af-b1e1-4ec5-d3d7-5a903f5ef60a",
        "id": "tqavLl2eFUun"
      },
      "execution_count": null,
      "outputs": [
        {
          "output_type": "display_data",
          "data": {
            "text/plain": [
              "<Figure size 720x576 with 1 Axes>"
            ],
            "image/png": "[encoded data removed]"
          },
          "metadata": {
            "needs_background": "light"
          }
        }
      ]
    },
    {
      "cell_type": "markdown",
      "source": [
        "# Network 2 hidden layer 512, 64 sigmoid as Act. Func."
      ],
      "metadata": {
        "id": "HdGL2eppFzT9"
      }
    },
    {
      "cell_type": "code",
      "source": [
        "class Net(nn.Module):\n",
        "    def __init__(self):\n",
        "        super(Net, self).__init__()\n",
        "        \n",
        "        self.linear_block = nn.Sequential(\n",
        "            nn.BatchNorm1d(50),\n",
        "            nn.Dropout(0.1),\n",
        "            nn.Linear(50, 512),\n",
        "            nn.BatchNorm1d(512),\n",
        "            nn.Sigmoid(),\n",
        "\n",
        "            nn.Dropout(0.1),\n",
        "            nn.Linear(512, 64),\n",
        "            nn.BatchNorm1d(64),\n",
        "            nn.Sigmoid(),\n",
        "\n",
        "            nn.Dropout(0.1),\n",
        "            nn.Linear(64, 4),\n",
        "            nn.BatchNorm1d(4),\n",
        "        )\n",
        "        \n",
        "    def forward(self, x):\n",
        "        x = x.view(x.size(0), -1)\n",
        "        x = self.linear_block(x)\n",
        "        \n",
        "        return x"
      ],
      "metadata": {
        "id": "FFjQqm16FzUE"
      },
      "execution_count": null,
      "outputs": []
    },
    {
      "cell_type": "markdown",
      "source": [
        "## add optimizar and loss function"
      ],
      "metadata": {
        "id": "q09tWXktFzUE"
      }
    },
    {
      "cell_type": "code",
      "source": [
        "ann_model = Net()\n",
        "if torch.cuda.is_available():\n",
        "    ann_model = ann_model.cuda()\n",
        "ann_model\n",
        "\n",
        "optimizer = optim.Adam(params=ann_model.parameters(), lr=0.01)\n",
        "criterion = nn.CrossEntropyLoss()\n",
        "\n",
        "exp_lr_scheduler = optim.lr_scheduler.StepLR(optimizer, step_size=7, gamma=0.1)\n",
        "\n",
        "if torch.cuda.is_available():\n",
        "    criterion = criterion.cuda()"
      ],
      "metadata": {
        "id": "1H8hy4EFFzUE"
      },
      "execution_count": null,
      "outputs": []
    },
    {
      "cell_type": "markdown",
      "source": [
        "## Training"
      ],
      "metadata": {
        "id": "3Ncmxl0JFzUF"
      }
    },
    {
      "cell_type": "code",
      "source": [
        "num_epochs = 100\n",
        "loss_per_epoch = np.array([])\n",
        "acc_per_epoch = np.array([])\n",
        "for n in range(num_epochs):\n",
        "    train_model(ann_model, train_loader, n)\n",
        "    lpe,ape = evaluate(ann_model, val_loader)\n",
        "    loss_per_epoch = np.append(loss_per_epoch,lpe)\n",
        "    acc_per_epoch = np.append(acc_per_epoch,ape)"
      ],
      "metadata": {
        "colab": {
          "base_uri": "https://localhost:8080/"
        },
        "outputId": "e7112082-7a67-4e94-a578-43ff2cb52387",
        "id": "xC2glJISFzUF"
      },
      "execution_count": null,
      "outputs": [
        {
          "output_type": "stream",
          "name": "stderr",
          "text": [
            "/usr/local/lib/python3.8/dist-packages/torch/optim/lr_scheduler.py:138: UserWarning: Detected call of `lr_scheduler.step()` before `optimizer.step()`. In PyTorch 1.1.0 and later, you should call them in the opposite order: `optimizer.step()` before `lr_scheduler.step()`.  Failure to do this will result in PyTorch skipping the first value of the learning rate schedule. See more details at https://pytorch.org/docs/stable/optim.html#how-to-adjust-learning-rate\n",
            "  warnings.warn(\"Detected call of `lr_scheduler.step()` before `optimizer.step()`. \"\n",
            "/usr/local/lib/python3.8/dist-packages/torch/nn/_reduction.py:42: UserWarning: size_average and reduce args will be deprecated, please use reduction='sum' instead.\n",
            "  warnings.warn(warning.format(ret))\n"
          ]
        },
        {
          "output_type": "stream",
          "name": "stdout",
          "text": [
            "\n",
            "Average Val Loss: 0.6680, Val Accuracy: 27/32 (84.375%)\n",
            "\n",
            "\n",
            "Average Val Loss: 0.6005, Val Accuracy: 26/32 (81.250%)\n",
            "\n",
            "\n",
            "Average Val Loss: 0.5730, Val Accuracy: 26/32 (81.250%)\n",
            "\n",
            "\n",
            "Average Val Loss: 0.6095, Val Accuracy: 25/32 (78.125%)\n",
            "\n",
            "\n",
            "Average Val Loss: 0.5005, Val Accuracy: 28/32 (87.500%)\n",
            "\n",
            "\n",
            "Average Val Loss: 0.5783, Val Accuracy: 26/32 (81.250%)\n",
            "\n",
            "\n",
            "Average Val Loss: 0.5661, Val Accuracy: 26/32 (81.250%)\n",
            "\n",
            "\n",
            "Average Val Loss: 0.5408, Val Accuracy: 28/32 (87.500%)\n",
            "\n",
            "\n",
            "Average Val Loss: 0.5329, Val Accuracy: 28/32 (87.500%)\n",
            "\n",
            "\n",
            "Average Val Loss: 0.5250, Val Accuracy: 28/32 (87.500%)\n",
            "\n",
            "\n",
            "Average Val Loss: 0.5163, Val Accuracy: 27/32 (84.375%)\n",
            "\n",
            "\n",
            "Average Val Loss: 0.5087, Val Accuracy: 28/32 (87.500%)\n",
            "\n",
            "\n",
            "Average Val Loss: 0.5123, Val Accuracy: 28/32 (87.500%)\n",
            "\n",
            "\n",
            "Average Val Loss: 0.5007, Val Accuracy: 28/32 (87.500%)\n",
            "\n",
            "\n",
            "Average Val Loss: 0.5039, Val Accuracy: 28/32 (87.500%)\n",
            "\n",
            "\n",
            "Average Val Loss: 0.5026, Val Accuracy: 27/32 (84.375%)\n",
            "\n",
            "\n",
            "Average Val Loss: 0.5031, Val Accuracy: 28/32 (87.500%)\n",
            "\n",
            "\n",
            "Average Val Loss: 0.4975, Val Accuracy: 28/32 (87.500%)\n",
            "\n",
            "\n",
            "Average Val Loss: 0.5050, Val Accuracy: 28/32 (87.500%)\n",
            "\n",
            "\n",
            "Average Val Loss: 0.5073, Val Accuracy: 27/32 (84.375%)\n",
            "\n",
            "\n",
            "Average Val Loss: 0.5096, Val Accuracy: 27/32 (84.375%)\n",
            "\n",
            "\n",
            "Average Val Loss: 0.5003, Val Accuracy: 28/32 (87.500%)\n",
            "\n",
            "\n",
            "Average Val Loss: 0.4976, Val Accuracy: 28/32 (87.500%)\n",
            "\n",
            "\n",
            "Average Val Loss: 0.4977, Val Accuracy: 28/32 (87.500%)\n",
            "\n",
            "\n",
            "Average Val Loss: 0.5013, Val Accuracy: 28/32 (87.500%)\n",
            "\n",
            "\n",
            "Average Val Loss: 0.5003, Val Accuracy: 28/32 (87.500%)\n",
            "\n",
            "\n",
            "Average Val Loss: 0.4987, Val Accuracy: 28/32 (87.500%)\n",
            "\n",
            "\n",
            "Average Val Loss: 0.4981, Val Accuracy: 28/32 (87.500%)\n",
            "\n",
            "\n",
            "Average Val Loss: 0.4985, Val Accuracy: 28/32 (87.500%)\n",
            "\n",
            "\n",
            "Average Val Loss: 0.4952, Val Accuracy: 28/32 (87.500%)\n",
            "\n",
            "\n",
            "Average Val Loss: 0.4963, Val Accuracy: 28/32 (87.500%)\n",
            "\n",
            "\n",
            "Average Val Loss: 0.4961, Val Accuracy: 28/32 (87.500%)\n",
            "\n",
            "\n",
            "Average Val Loss: 0.4978, Val Accuracy: 28/32 (87.500%)\n",
            "\n",
            "\n",
            "Average Val Loss: 0.5010, Val Accuracy: 28/32 (87.500%)\n",
            "\n",
            "\n",
            "Average Val Loss: 0.5075, Val Accuracy: 28/32 (87.500%)\n",
            "\n",
            "\n",
            "Average Val Loss: 0.4996, Val Accuracy: 28/32 (87.500%)\n",
            "\n",
            "\n",
            "Average Val Loss: 0.5013, Val Accuracy: 28/32 (87.500%)\n",
            "\n",
            "\n",
            "Average Val Loss: 0.5021, Val Accuracy: 27/32 (84.375%)\n",
            "\n",
            "\n",
            "Average Val Loss: 0.4986, Val Accuracy: 28/32 (87.500%)\n",
            "\n",
            "\n",
            "Average Val Loss: 0.4934, Val Accuracy: 28/32 (87.500%)\n",
            "\n",
            "\n",
            "Average Val Loss: 0.4997, Val Accuracy: 28/32 (87.500%)\n",
            "\n",
            "\n",
            "Average Val Loss: 0.4986, Val Accuracy: 27/32 (84.375%)\n",
            "\n",
            "\n",
            "Average Val Loss: 0.5096, Val Accuracy: 28/32 (87.500%)\n",
            "\n",
            "\n",
            "Average Val Loss: 0.5025, Val Accuracy: 28/32 (87.500%)\n",
            "\n",
            "\n",
            "Average Val Loss: 0.5056, Val Accuracy: 28/32 (87.500%)\n",
            "\n",
            "\n",
            "Average Val Loss: 0.5012, Val Accuracy: 28/32 (87.500%)\n",
            "\n",
            "\n",
            "Average Val Loss: 0.5060, Val Accuracy: 28/32 (87.500%)\n",
            "\n",
            "\n",
            "Average Val Loss: 0.5054, Val Accuracy: 27/32 (84.375%)\n",
            "\n",
            "\n",
            "Average Val Loss: 0.5061, Val Accuracy: 28/32 (87.500%)\n",
            "\n",
            "\n",
            "Average Val Loss: 0.5006, Val Accuracy: 28/32 (87.500%)\n",
            "\n",
            "\n",
            "Average Val Loss: 0.5054, Val Accuracy: 28/32 (87.500%)\n",
            "\n",
            "\n",
            "Average Val Loss: 0.5075, Val Accuracy: 28/32 (87.500%)\n",
            "\n",
            "\n",
            "Average Val Loss: 0.5056, Val Accuracy: 28/32 (87.500%)\n",
            "\n",
            "\n",
            "Average Val Loss: 0.4978, Val Accuracy: 28/32 (87.500%)\n",
            "\n",
            "\n",
            "Average Val Loss: 0.4936, Val Accuracy: 28/32 (87.500%)\n",
            "\n",
            "\n",
            "Average Val Loss: 0.5027, Val Accuracy: 27/32 (84.375%)\n",
            "\n",
            "\n",
            "Average Val Loss: 0.4992, Val Accuracy: 28/32 (87.500%)\n",
            "\n",
            "\n",
            "Average Val Loss: 0.5043, Val Accuracy: 28/32 (87.500%)\n",
            "\n",
            "\n",
            "Average Val Loss: 0.4929, Val Accuracy: 28/32 (87.500%)\n",
            "\n",
            "\n",
            "Average Val Loss: 0.5004, Val Accuracy: 28/32 (87.500%)\n",
            "\n",
            "\n",
            "Average Val Loss: 0.4995, Val Accuracy: 28/32 (87.500%)\n",
            "\n",
            "\n",
            "Average Val Loss: 0.4957, Val Accuracy: 28/32 (87.500%)\n",
            "\n",
            "\n",
            "Average Val Loss: 0.4992, Val Accuracy: 27/32 (84.375%)\n",
            "\n",
            "\n",
            "Average Val Loss: 0.4974, Val Accuracy: 28/32 (87.500%)\n",
            "\n",
            "\n",
            "Average Val Loss: 0.5040, Val Accuracy: 28/32 (87.500%)\n",
            "\n",
            "\n",
            "Average Val Loss: 0.4975, Val Accuracy: 28/32 (87.500%)\n",
            "\n",
            "\n",
            "Average Val Loss: 0.5060, Val Accuracy: 28/32 (87.500%)\n",
            "\n",
            "\n",
            "Average Val Loss: 0.5027, Val Accuracy: 28/32 (87.500%)\n",
            "\n",
            "\n",
            "Average Val Loss: 0.5004, Val Accuracy: 28/32 (87.500%)\n",
            "\n",
            "\n",
            "Average Val Loss: 0.5033, Val Accuracy: 28/32 (87.500%)\n",
            "\n",
            "\n",
            "Average Val Loss: 0.4939, Val Accuracy: 28/32 (87.500%)\n",
            "\n",
            "\n",
            "Average Val Loss: 0.5024, Val Accuracy: 28/32 (87.500%)\n",
            "\n",
            "\n",
            "Average Val Loss: 0.4967, Val Accuracy: 28/32 (87.500%)\n",
            "\n",
            "\n",
            "Average Val Loss: 0.5025, Val Accuracy: 28/32 (87.500%)\n",
            "\n",
            "\n",
            "Average Val Loss: 0.5065, Val Accuracy: 27/32 (84.375%)\n",
            "\n",
            "\n",
            "Average Val Loss: 0.5047, Val Accuracy: 28/32 (87.500%)\n",
            "\n",
            "\n",
            "Average Val Loss: 0.5036, Val Accuracy: 28/32 (87.500%)\n",
            "\n",
            "\n",
            "Average Val Loss: 0.5049, Val Accuracy: 28/32 (87.500%)\n",
            "\n",
            "\n",
            "Average Val Loss: 0.5015, Val Accuracy: 28/32 (87.500%)\n",
            "\n",
            "\n",
            "Average Val Loss: 0.5053, Val Accuracy: 28/32 (87.500%)\n",
            "\n",
            "\n",
            "Average Val Loss: 0.5016, Val Accuracy: 27/32 (84.375%)\n",
            "\n",
            "\n",
            "Average Val Loss: 0.4971, Val Accuracy: 28/32 (87.500%)\n",
            "\n",
            "\n",
            "Average Val Loss: 0.4997, Val Accuracy: 28/32 (87.500%)\n",
            "\n",
            "\n",
            "Average Val Loss: 0.4969, Val Accuracy: 28/32 (87.500%)\n",
            "\n",
            "\n",
            "Average Val Loss: 0.5034, Val Accuracy: 28/32 (87.500%)\n",
            "\n",
            "\n",
            "Average Val Loss: 0.5075, Val Accuracy: 28/32 (87.500%)\n",
            "\n",
            "\n",
            "Average Val Loss: 0.5005, Val Accuracy: 28/32 (87.500%)\n",
            "\n",
            "\n",
            "Average Val Loss: 0.5059, Val Accuracy: 28/32 (87.500%)\n",
            "\n",
            "\n",
            "Average Val Loss: 0.5035, Val Accuracy: 28/32 (87.500%)\n",
            "\n",
            "\n",
            "Average Val Loss: 0.4980, Val Accuracy: 28/32 (87.500%)\n",
            "\n",
            "\n",
            "Average Val Loss: 0.4973, Val Accuracy: 28/32 (87.500%)\n",
            "\n",
            "\n",
            "Average Val Loss: 0.5065, Val Accuracy: 28/32 (87.500%)\n",
            "\n",
            "\n",
            "Average Val Loss: 0.4994, Val Accuracy: 28/32 (87.500%)\n",
            "\n",
            "\n",
            "Average Val Loss: 0.5081, Val Accuracy: 28/32 (87.500%)\n",
            "\n",
            "\n",
            "Average Val Loss: 0.5081, Val Accuracy: 28/32 (87.500%)\n",
            "\n",
            "\n",
            "Average Val Loss: 0.5013, Val Accuracy: 28/32 (87.500%)\n",
            "\n",
            "\n",
            "Average Val Loss: 0.5092, Val Accuracy: 28/32 (87.500%)\n",
            "\n",
            "\n",
            "Average Val Loss: 0.5012, Val Accuracy: 28/32 (87.500%)\n",
            "\n",
            "\n",
            "Average Val Loss: 0.4994, Val Accuracy: 28/32 (87.500%)\n",
            "\n",
            "\n",
            "Average Val Loss: 0.5013, Val Accuracy: 28/32 (87.500%)\n",
            "\n"
          ]
        }
      ]
    },
    {
      "cell_type": "markdown",
      "source": [
        "### Training Plot"
      ],
      "metadata": {
        "id": "3ezLt2KBFzUF"
      }
    },
    {
      "cell_type": "code",
      "source": [
        "plt.rcParams['figure.figsize'] = (10,8)\n",
        "plt.plot(range(num_epochs),loss_per_epoch)\n",
        "plt.title('Average Loss Per epochs')\n",
        "plt.xlabel(\"epochs\")\n",
        "plt.ylabel(\"Loss\")"
      ],
      "metadata": {
        "colab": {
          "base_uri": "https://localhost:8080/",
          "height": 531
        },
        "outputId": "29a0a470-7f90-422d-cd73-246cc31cf2f2",
        "id": "j72LmuvvFzUF"
      },
      "execution_count": null,
      "outputs": [
        {
          "output_type": "execute_result",
          "data": {
            "text/plain": [
              "Text(0, 0.5, 'Loss')"
            ]
          },
          "metadata": {},
          "execution_count": 148
        },
        {
          "output_type": "display_data",
          "data": {
            "text/plain": [
              "<Figure size 720x576 with 1 Axes>"
            ],
            "image/png": "[encoded data removed]"
          },
          "metadata": {
            "needs_background": "light"
          }
        }
      ]
    },
    {
      "cell_type": "code",
      "source": [
        "plt.rcParams['figure.figsize'] = (10,8)\n",
        "plt.plot(range(num_epochs),acc_per_epoch)\n",
        "plt.title('Val accuracy Per epochs')\n",
        "plt.xlabel(\"epochs\")\n",
        "plt.ylabel(\"Accuracy\")"
      ],
      "metadata": {
        "colab": {
          "base_uri": "https://localhost:8080/",
          "height": 531
        },
        "outputId": "fc2e133c-1c56-4a81-d795-5904a3bcc4cd",
        "id": "W_1MGowxFzUF"
      },
      "execution_count": null,
      "outputs": [
        {
          "output_type": "execute_result",
          "data": {
            "text/plain": [
              "Text(0, 0.5, 'Accuracy')"
            ]
          },
          "metadata": {},
          "execution_count": 149
        },
        {
          "output_type": "display_data",
          "data": {
            "text/plain": [
              "<Figure size 720x576 with 1 Axes>"
            ],
            "image/png": "[encoded data removed]"
          },
          "metadata": {
            "needs_background": "light"
          }
        }
      ]
    },
    {
      "cell_type": "code",
      "source": [
        "y_pred, y_true, y_prob = get_output(ann_model,test_loader)"
      ],
      "metadata": {
        "colab": {
          "base_uri": "https://localhost:8080/"
        },
        "outputId": "2da3ca30-9b34-4383-b459-deba10c34114",
        "id": "D0637i5nFzUF"
      },
      "execution_count": null,
      "outputs": [
        {
          "output_type": "stream",
          "name": "stdout",
          "text": [
            "\n",
            "Average Val Loss: 0.6028, Val Accuracy: 66/80 (82.500%)\n",
            "\n"
          ]
        },
        {
          "output_type": "stream",
          "name": "stderr",
          "text": [
            "/usr/local/lib/python3.8/dist-packages/torch/nn/_reduction.py:42: UserWarning: size_average and reduce args will be deprecated, please use reduction='sum' instead.\n",
            "  warnings.warn(warning.format(ret))\n"
          ]
        }
      ]
    },
    {
      "cell_type": "markdown",
      "source": [
        "## report classification"
      ],
      "metadata": {
        "id": "kZF7HHUCFzUF"
      }
    },
    {
      "cell_type": "code",
      "source": [
        "# Make the confusion matrix\n",
        "confusion_plot(y_true,y_pred)"
      ],
      "metadata": {
        "colab": {
          "base_uri": "https://localhost:8080/",
          "height": 513
        },
        "outputId": "90b330e4-408f-455d-8489-f6adadac10fe",
        "id": "YlgOKbZ4FzUG"
      },
      "execution_count": null,
      "outputs": [
        {
          "output_type": "display_data",
          "data": {
            "text/plain": [
              "<Figure size 720x576 with 2 Axes>"
            ],
            "image/png": "[encoded data removed]"
          },
          "metadata": {
            "needs_background": "light"
          }
        }
      ]
    },
    {
      "cell_type": "code",
      "source": [
        "generate_classification_report(y_true,y_pred)"
      ],
      "metadata": {
        "colab": {
          "base_uri": "https://localhost:8080/",
          "height": 269
        },
        "outputId": "6a16cb77-a8e8-40b2-b374-2e496b59b92d",
        "id": "w5QyiKwqFzUG"
      },
      "execution_count": null,
      "outputs": [
        {
          "output_type": "execute_result",
          "data": {
            "text/plain": [
              "             Label  f1-score  precision    recall  support\n",
              "0                0  0.829268   0.850000  0.809524   21.000\n",
              "1                1  0.952381   1.000000  0.909091   22.000\n",
              "2                2  0.650000   0.650000  0.650000   20.000\n",
              "3                3  0.864865   0.800000  0.941176   17.000\n",
              "accuracy            0.825000   0.825000  0.825000    0.825\n",
              "macro avg           0.824129   0.825000  0.827448   80.000\n",
              "weighted avg        0.825871   0.830625  0.825000   80.000"
            ],
            "text/html": [
              "\n",
              "  <div id=\"df-d64fbdd7-be76-4c36-b52e-ab42cc646db8\">\n",
              "    <div class=\"colab-df-container\">\n",
              "      <div>\n",
              "<style scoped>\n",
              "    .dataframe tbody tr th:only-of-type {\n",
              "        vertical-align: middle;\n",
              "    }\n",
              "\n",
              "    .dataframe tbody tr th {\n",
              "        vertical-align: top;\n",
              "    }\n",
              "\n",
              "    .dataframe thead th {\n",
              "        text-align: right;\n",
              "    }\n",
              "</style>\n",
              "<table border=\"1\" class=\"dataframe\">\n",
              "  <thead>\n",
              "    <tr style=\"text-align: right;\">\n",
              "      <th></th>\n",
              "      <th>Label</th>\n",
              "      <th>f1-score</th>\n",
              "      <th>precision</th>\n",
              "      <th>recall</th>\n",
              "      <th>support</th>\n",
              "    </tr>\n",
              "  </thead>\n",
              "  <tbody>\n",
              "    <tr>\n",
              "      <th>0</th>\n",
              "      <td>0</td>\n",
              "      <td>0.829268</td>\n",
              "      <td>0.850000</td>\n",
              "      <td>0.809524</td>\n",
              "      <td>21.000</td>\n",
              "    </tr>\n",
              "    <tr>\n",
              "      <th>1</th>\n",
              "      <td>1</td>\n",
              "      <td>0.952381</td>\n",
              "      <td>1.000000</td>\n",
              "      <td>0.909091</td>\n",
              "      <td>22.000</td>\n",
              "    </tr>\n",
              "    <tr>\n",
              "      <th>2</th>\n",
              "      <td>2</td>\n",
              "      <td>0.650000</td>\n",
              "      <td>0.650000</td>\n",
              "      <td>0.650000</td>\n",
              "      <td>20.000</td>\n",
              "    </tr>\n",
              "    <tr>\n",
              "      <th>3</th>\n",
              "      <td>3</td>\n",
              "      <td>0.864865</td>\n",
              "      <td>0.800000</td>\n",
              "      <td>0.941176</td>\n",
              "      <td>17.000</td>\n",
              "    </tr>\n",
              "    <tr>\n",
              "      <th>accuracy</th>\n",
              "      <td></td>\n",
              "      <td>0.825000</td>\n",
              "      <td>0.825000</td>\n",
              "      <td>0.825000</td>\n",
              "      <td>0.825</td>\n",
              "    </tr>\n",
              "    <tr>\n",
              "      <th>macro avg</th>\n",
              "      <td></td>\n",
              "      <td>0.824129</td>\n",
              "      <td>0.825000</td>\n",
              "      <td>0.827448</td>\n",
              "      <td>80.000</td>\n",
              "    </tr>\n",
              "    <tr>\n",
              "      <th>weighted avg</th>\n",
              "      <td></td>\n",
              "      <td>0.825871</td>\n",
              "      <td>0.830625</td>\n",
              "      <td>0.825000</td>\n",
              "      <td>80.000</td>\n",
              "    </tr>\n",
              "  </tbody>\n",
              "</table>\n",
              "</div>\n",
              "      <button class=\"colab-df-convert\" onclick=\"convertToInteractive('df-d64fbdd7-be76-4c36-b52e-ab42cc646db8')\"\n",
              "              title=\"Convert this dataframe to an interactive table.\"\n",
              "              style=\"display:none;\">\n",
              "        \n",
              "  <svg xmlns=\"http://www.w3.org/2000/svg\" height=\"24px\"viewBox=\"0 0 24 24\"\n",
              "       width=\"24px\">\n",
              "    <path d=\"M0 0h24v24H0V0z\" fill=\"none\"/>\n",
              "    <path d=\"M18.56 5.44l.94 2.06.94-2.06 2.06-.94-2.06-.94-.94-2.06-.94 2.06-2.06.94zm-11 1L8.5 8.5l.94-2.06 2.06-.94-2.06-.94L8.5 2.5l-.94 2.06-2.06.94zm10 10l.94 2.06.94-2.06 2.06-.94-2.06-.94-.94-2.06-.94 2.06-2.06.94z\"/><path d=\"M17.41 7.96l-1.37-1.37c-.4-.4-.92-.59-1.43-.59-.52 0-1.04.2-1.43.59L10.3 9.45l-7.72 7.72c-.78.78-.78 2.05 0 2.83L4 21.41c.39.39.9.59 1.41.59.51 0 1.02-.2 1.41-.59l7.78-7.78 2.81-2.81c.8-.78.8-2.07 0-2.86zM5.41 20L4 18.59l7.72-7.72 1.47 1.35L5.41 20z\"/>\n",
              "  </svg>\n",
              "      </button>\n",
              "      \n",
              "  <style>\n",
              "    .colab-df-container {\n",
              "      display:flex;\n",
              "      flex-wrap:wrap;\n",
              "      gap: 12px;\n",
              "    }\n",
              "\n",
              "    .colab-df-convert {\n",
              "      background-color: #E8F0FE;\n",
              "      border: none;\n",
              "      border-radius: 50%;\n",
              "      cursor: pointer;\n",
              "      display: none;\n",
              "      fill: #1967D2;\n",
              "      height: 32px;\n",
              "      padding: 0 0 0 0;\n",
              "      width: 32px;\n",
              "    }\n",
              "\n",
              "    .colab-df-convert:hover {\n",
              "      background-color: #E2EBFA;\n",
              "      box-shadow: 0px 1px 2px rgba(60, 64, 67, 0.3), 0px 1px 3px 1px rgba(60, 64, 67, 0.15);\n",
              "      fill: #174EA6;\n",
              "    }\n",
              "\n",
              "    [theme=dark] .colab-df-convert {\n",
              "      background-color: #3B4455;\n",
              "      fill: #D2E3FC;\n",
              "    }\n",
              "\n",
              "    [theme=dark] .colab-df-convert:hover {\n",
              "      background-color: #434B5C;\n",
              "      box-shadow: 0px 1px 3px 1px rgba(0, 0, 0, 0.15);\n",
              "      filter: drop-shadow(0px 1px 2px rgba(0, 0, 0, 0.3));\n",
              "      fill: #FFFFFF;\n",
              "    }\n",
              "  </style>\n",
              "\n",
              "      <script>\n",
              "        const buttonEl =\n",
              "          document.querySelector('#df-d64fbdd7-be76-4c36-b52e-ab42cc646db8 button.colab-df-convert');\n",
              "        buttonEl.style.display =\n",
              "          google.colab.kernel.accessAllowed ? 'block' : 'none';\n",
              "\n",
              "        async function convertToInteractive(key) {\n",
              "          const element = document.querySelector('#df-d64fbdd7-be76-4c36-b52e-ab42cc646db8');\n",
              "          const dataTable =\n",
              "            await google.colab.kernel.invokeFunction('convertToInteractive',\n",
              "                                                     [key], {});\n",
              "          if (!dataTable) return;\n",
              "\n",
              "          const docLinkHtml = 'Like what you see? Visit the ' +\n",
              "            '<a target=\"_blank\" href=https://colab.research.google.com/notebooks/data_table.ipynb>data table notebook</a>'\n",
              "            + ' to learn more about interactive tables.';\n",
              "          element.innerHTML = '';\n",
              "          dataTable['output_type'] = 'display_data';\n",
              "          await google.colab.output.renderOutput(dataTable, element);\n",
              "          const docLink = document.createElement('div');\n",
              "          docLink.innerHTML = docLinkHtml;\n",
              "          element.appendChild(docLink);\n",
              "        }\n",
              "      </script>\n",
              "    </div>\n",
              "  </div>\n",
              "  "
            ]
          },
          "metadata": {},
          "execution_count": 152
        }
      ]
    },
    {
      "cell_type": "code",
      "source": [
        "plot_roc_curve_all(y_true, y_prob,4,(10,8))"
      ],
      "metadata": {
        "colab": {
          "base_uri": "https://localhost:8080/",
          "height": 513
        },
        "outputId": "b5d4ebb9-a7dd-42f3-9d05-7c197f01e33e",
        "id": "Q5DGNxFRFzUG"
      },
      "execution_count": null,
      "outputs": [
        {
          "output_type": "display_data",
          "data": {
            "text/plain": [
              "<Figure size 720x576 with 1 Axes>"
            ],
            "image/png": "[encoded data removed]"
          },
          "metadata": {
            "needs_background": "light"
          }
        }
      ]
    },
    {
      "cell_type": "markdown",
      "source": [
        "# Network 3 hidden layer 256, 128, 64 ReLU as Act. Func."
      ],
      "metadata": {
        "id": "l2zGKeU9B9lt"
      }
    },
    {
      "cell_type": "code",
      "source": [
        "class Net(nn.Module):\n",
        "    def __init__(self):\n",
        "        super(Net, self).__init__()\n",
        "        \n",
        "        self.linear_block = nn.Sequential(\n",
        "            nn.Dropout(0.1),\n",
        "\n",
        "            nn.Linear(50,256),\n",
        "            nn.ReLU(),\n",
        "            nn.Dropout(0.1),\n",
        "\n",
        "            nn.Linear(256,128),\n",
        "            nn.ReLU(),\n",
        "            nn.Dropout(0.1),\n",
        "\n",
        "            nn.Linear(128,64),\n",
        "            nn.ReLU(),\n",
        "            nn.Dropout(0.1),\n",
        "\n",
        "\n",
        "            nn.Linear(64,4),\n",
        "            nn.Dropout(0.1),\n",
        "            nn.Softmax(dim=1),\n",
        "        )\n",
        "        \n",
        "    def forward(self, x):\n",
        "        x = x.view(x.size(0), -1)\n",
        "        x = self.linear_block(x)\n",
        "        \n",
        "        return x"
      ],
      "metadata": {
        "id": "bRUO0A40B9l0"
      },
      "execution_count": null,
      "outputs": []
    },
    {
      "cell_type": "markdown",
      "source": [
        "## add optimizar and loss function"
      ],
      "metadata": {
        "id": "wHWOwBICB9l1"
      }
    },
    {
      "cell_type": "code",
      "source": [
        "ann_model = Net()\n",
        "if torch.cuda.is_available():\n",
        "    ann_model = ann_model.cuda()\n",
        "ann_model\n",
        "\n",
        "optimizer = optim.Adam(params=ann_model.parameters(), lr=0.01)\n",
        "criterion = nn.CrossEntropyLoss()\n",
        "\n",
        "exp_lr_scheduler = optim.lr_scheduler.StepLR(optimizer, step_size=7, gamma=0.1)\n",
        "\n",
        "if torch.cuda.is_available():\n",
        "    criterion = criterion.cuda()"
      ],
      "metadata": {
        "id": "bUZALW4eB9l1"
      },
      "execution_count": null,
      "outputs": []
    },
    {
      "cell_type": "markdown",
      "source": [
        "## Training"
      ],
      "metadata": {
        "id": "BjEt24kIB9l1"
      }
    },
    {
      "cell_type": "code",
      "source": [
        "num_epochs = 100\n",
        "loss_per_epoch = np.array([])\n",
        "acc_per_epoch = np.array([])\n",
        "for n in range(num_epochs):\n",
        "    train_model(ann_model, train_loader, n)\n",
        "    lpe,ape = evaluate(ann_model, val_loader)\n",
        "    loss_per_epoch = np.append(loss_per_epoch,lpe)\n",
        "    acc_per_epoch = np.append(acc_per_epoch,ape)"
      ],
      "metadata": {
        "colab": {
          "base_uri": "https://localhost:8080/"
        },
        "outputId": "2134a1f7-d787-47cd-a2ce-9f80d4143c31",
        "id": "3sAjTfMgB9l1"
      },
      "execution_count": null,
      "outputs": [
        {
          "output_type": "stream",
          "name": "stderr",
          "text": [
            "/usr/local/lib/python3.8/dist-packages/torch/optim/lr_scheduler.py:138: UserWarning: Detected call of `lr_scheduler.step()` before `optimizer.step()`. In PyTorch 1.1.0 and later, you should call them in the opposite order: `optimizer.step()` before `lr_scheduler.step()`.  Failure to do this will result in PyTorch skipping the first value of the learning rate schedule. See more details at https://pytorch.org/docs/stable/optim.html#how-to-adjust-learning-rate\n",
            "  warnings.warn(\"Detected call of `lr_scheduler.step()` before `optimizer.step()`. \"\n"
          ]
        },
        {
          "output_type": "stream",
          "name": "stdout",
          "text": [
            "\n",
            "Average Val Loss: 1.1513, Val Accuracy: 18/32 (56.250%)\n",
            "\n"
          ]
        },
        {
          "output_type": "stream",
          "name": "stderr",
          "text": [
            "/usr/local/lib/python3.8/dist-packages/torch/nn/_reduction.py:42: UserWarning: size_average and reduce args will be deprecated, please use reduction='sum' instead.\n",
            "  warnings.warn(warning.format(ret))\n"
          ]
        },
        {
          "output_type": "stream",
          "name": "stdout",
          "text": [
            "\n",
            "Average Val Loss: 1.0231, Val Accuracy: 24/32 (75.000%)\n",
            "\n",
            "\n",
            "Average Val Loss: 1.2026, Val Accuracy: 17/32 (53.125%)\n",
            "\n",
            "\n",
            "Average Val Loss: 0.9940, Val Accuracy: 24/32 (75.000%)\n",
            "\n",
            "\n",
            "Average Val Loss: 0.9797, Val Accuracy: 24/32 (75.000%)\n",
            "\n",
            "\n",
            "Average Val Loss: 0.9579, Val Accuracy: 25/32 (78.125%)\n",
            "\n",
            "\n",
            "Average Val Loss: 0.9563, Val Accuracy: 25/32 (78.125%)\n",
            "\n",
            "\n",
            "Average Val Loss: 0.9614, Val Accuracy: 25/32 (78.125%)\n",
            "\n",
            "\n",
            "Average Val Loss: 0.9623, Val Accuracy: 25/32 (78.125%)\n",
            "\n",
            "\n",
            "Average Val Loss: 0.9625, Val Accuracy: 25/32 (78.125%)\n",
            "\n",
            "\n",
            "Average Val Loss: 0.9891, Val Accuracy: 24/32 (75.000%)\n",
            "\n",
            "\n",
            "Average Val Loss: 0.9937, Val Accuracy: 24/32 (75.000%)\n",
            "\n",
            "\n",
            "Average Val Loss: 0.9857, Val Accuracy: 24/32 (75.000%)\n",
            "\n",
            "\n",
            "Average Val Loss: 0.9865, Val Accuracy: 24/32 (75.000%)\n",
            "\n",
            "\n",
            "Average Val Loss: 0.9868, Val Accuracy: 24/32 (75.000%)\n",
            "\n",
            "\n",
            "Average Val Loss: 0.9877, Val Accuracy: 24/32 (75.000%)\n",
            "\n",
            "\n",
            "Average Val Loss: 0.9867, Val Accuracy: 24/32 (75.000%)\n",
            "\n",
            "\n",
            "Average Val Loss: 0.9868, Val Accuracy: 24/32 (75.000%)\n",
            "\n",
            "\n",
            "Average Val Loss: 0.9845, Val Accuracy: 24/32 (75.000%)\n",
            "\n",
            "\n",
            "Average Val Loss: 0.9805, Val Accuracy: 24/32 (75.000%)\n",
            "\n",
            "\n",
            "Average Val Loss: 0.9796, Val Accuracy: 24/32 (75.000%)\n",
            "\n",
            "\n",
            "Average Val Loss: 0.9789, Val Accuracy: 24/32 (75.000%)\n",
            "\n",
            "\n",
            "Average Val Loss: 0.9786, Val Accuracy: 24/32 (75.000%)\n",
            "\n",
            "\n",
            "Average Val Loss: 0.9783, Val Accuracy: 24/32 (75.000%)\n",
            "\n",
            "\n",
            "Average Val Loss: 0.9781, Val Accuracy: 24/32 (75.000%)\n",
            "\n",
            "\n",
            "Average Val Loss: 0.9774, Val Accuracy: 24/32 (75.000%)\n",
            "\n",
            "\n",
            "Average Val Loss: 0.9765, Val Accuracy: 24/32 (75.000%)\n",
            "\n",
            "\n",
            "Average Val Loss: 0.9764, Val Accuracy: 24/32 (75.000%)\n",
            "\n",
            "\n",
            "Average Val Loss: 0.9764, Val Accuracy: 24/32 (75.000%)\n",
            "\n",
            "\n",
            "Average Val Loss: 0.9764, Val Accuracy: 24/32 (75.000%)\n",
            "\n",
            "\n",
            "Average Val Loss: 0.9763, Val Accuracy: 24/32 (75.000%)\n",
            "\n",
            "\n",
            "Average Val Loss: 0.9763, Val Accuracy: 24/32 (75.000%)\n",
            "\n",
            "\n",
            "Average Val Loss: 0.9764, Val Accuracy: 24/32 (75.000%)\n",
            "\n",
            "\n",
            "Average Val Loss: 0.9764, Val Accuracy: 24/32 (75.000%)\n",
            "\n",
            "\n",
            "Average Val Loss: 0.9764, Val Accuracy: 24/32 (75.000%)\n",
            "\n",
            "\n",
            "Average Val Loss: 0.9764, Val Accuracy: 24/32 (75.000%)\n",
            "\n",
            "\n",
            "Average Val Loss: 0.9764, Val Accuracy: 24/32 (75.000%)\n",
            "\n",
            "\n",
            "Average Val Loss: 0.9764, Val Accuracy: 24/32 (75.000%)\n",
            "\n",
            "\n",
            "Average Val Loss: 0.9764, Val Accuracy: 24/32 (75.000%)\n",
            "\n",
            "\n",
            "Average Val Loss: 0.9764, Val Accuracy: 24/32 (75.000%)\n",
            "\n",
            "\n",
            "Average Val Loss: 0.9764, Val Accuracy: 24/32 (75.000%)\n",
            "\n",
            "\n",
            "Average Val Loss: 0.9764, Val Accuracy: 24/32 (75.000%)\n",
            "\n",
            "\n",
            "Average Val Loss: 0.9764, Val Accuracy: 24/32 (75.000%)\n",
            "\n",
            "\n",
            "Average Val Loss: 0.9764, Val Accuracy: 24/32 (75.000%)\n",
            "\n",
            "\n",
            "Average Val Loss: 0.9764, Val Accuracy: 24/32 (75.000%)\n",
            "\n",
            "\n",
            "Average Val Loss: 0.9764, Val Accuracy: 24/32 (75.000%)\n",
            "\n",
            "\n",
            "Average Val Loss: 0.9764, Val Accuracy: 24/32 (75.000%)\n",
            "\n",
            "\n",
            "Average Val Loss: 0.9764, Val Accuracy: 24/32 (75.000%)\n",
            "\n",
            "\n",
            "Average Val Loss: 0.9764, Val Accuracy: 24/32 (75.000%)\n",
            "\n",
            "\n",
            "Average Val Loss: 0.9764, Val Accuracy: 24/32 (75.000%)\n",
            "\n",
            "\n",
            "Average Val Loss: 0.9764, Val Accuracy: 24/32 (75.000%)\n",
            "\n",
            "\n",
            "Average Val Loss: 0.9764, Val Accuracy: 24/32 (75.000%)\n",
            "\n",
            "\n",
            "Average Val Loss: 0.9764, Val Accuracy: 24/32 (75.000%)\n",
            "\n",
            "\n",
            "Average Val Loss: 0.9764, Val Accuracy: 24/32 (75.000%)\n",
            "\n",
            "\n",
            "Average Val Loss: 0.9764, Val Accuracy: 24/32 (75.000%)\n",
            "\n",
            "\n",
            "Average Val Loss: 0.9764, Val Accuracy: 24/32 (75.000%)\n",
            "\n",
            "\n",
            "Average Val Loss: 0.9764, Val Accuracy: 24/32 (75.000%)\n",
            "\n",
            "\n",
            "Average Val Loss: 0.9764, Val Accuracy: 24/32 (75.000%)\n",
            "\n",
            "\n",
            "Average Val Loss: 0.9764, Val Accuracy: 24/32 (75.000%)\n",
            "\n",
            "\n",
            "Average Val Loss: 0.9764, Val Accuracy: 24/32 (75.000%)\n",
            "\n",
            "\n",
            "Average Val Loss: 0.9764, Val Accuracy: 24/32 (75.000%)\n",
            "\n",
            "\n",
            "Average Val Loss: 0.9764, Val Accuracy: 24/32 (75.000%)\n",
            "\n",
            "\n",
            "Average Val Loss: 0.9764, Val Accuracy: 24/32 (75.000%)\n",
            "\n",
            "\n",
            "Average Val Loss: 0.9764, Val Accuracy: 24/32 (75.000%)\n",
            "\n",
            "\n",
            "Average Val Loss: 0.9764, Val Accuracy: 24/32 (75.000%)\n",
            "\n",
            "\n",
            "Average Val Loss: 0.9764, Val Accuracy: 24/32 (75.000%)\n",
            "\n",
            "\n",
            "Average Val Loss: 0.9764, Val Accuracy: 24/32 (75.000%)\n",
            "\n",
            "\n",
            "Average Val Loss: 0.9764, Val Accuracy: 24/32 (75.000%)\n",
            "\n",
            "\n",
            "Average Val Loss: 0.9764, Val Accuracy: 24/32 (75.000%)\n",
            "\n",
            "\n",
            "Average Val Loss: 0.9764, Val Accuracy: 24/32 (75.000%)\n",
            "\n",
            "\n",
            "Average Val Loss: 0.9764, Val Accuracy: 24/32 (75.000%)\n",
            "\n",
            "\n",
            "Average Val Loss: 0.9764, Val Accuracy: 24/32 (75.000%)\n",
            "\n",
            "\n",
            "Average Val Loss: 0.9764, Val Accuracy: 24/32 (75.000%)\n",
            "\n",
            "\n",
            "Average Val Loss: 0.9764, Val Accuracy: 24/32 (75.000%)\n",
            "\n",
            "\n",
            "Average Val Loss: 0.9764, Val Accuracy: 24/32 (75.000%)\n",
            "\n",
            "\n",
            "Average Val Loss: 0.9764, Val Accuracy: 24/32 (75.000%)\n",
            "\n",
            "\n",
            "Average Val Loss: 0.9764, Val Accuracy: 24/32 (75.000%)\n",
            "\n",
            "\n",
            "Average Val Loss: 0.9764, Val Accuracy: 24/32 (75.000%)\n",
            "\n",
            "\n",
            "Average Val Loss: 0.9764, Val Accuracy: 24/32 (75.000%)\n",
            "\n",
            "\n",
            "Average Val Loss: 0.9764, Val Accuracy: 24/32 (75.000%)\n",
            "\n",
            "\n",
            "Average Val Loss: 0.9764, Val Accuracy: 24/32 (75.000%)\n",
            "\n",
            "\n",
            "Average Val Loss: 0.9764, Val Accuracy: 24/32 (75.000%)\n",
            "\n",
            "\n",
            "Average Val Loss: 0.9764, Val Accuracy: 24/32 (75.000%)\n",
            "\n",
            "\n",
            "Average Val Loss: 0.9764, Val Accuracy: 24/32 (75.000%)\n",
            "\n",
            "\n",
            "Average Val Loss: 0.9764, Val Accuracy: 24/32 (75.000%)\n",
            "\n",
            "\n",
            "Average Val Loss: 0.9764, Val Accuracy: 24/32 (75.000%)\n",
            "\n",
            "\n",
            "Average Val Loss: 0.9764, Val Accuracy: 24/32 (75.000%)\n",
            "\n",
            "\n",
            "Average Val Loss: 0.9764, Val Accuracy: 24/32 (75.000%)\n",
            "\n",
            "\n",
            "Average Val Loss: 0.9764, Val Accuracy: 24/32 (75.000%)\n",
            "\n",
            "\n",
            "Average Val Loss: 0.9764, Val Accuracy: 24/32 (75.000%)\n",
            "\n",
            "\n",
            "Average Val Loss: 0.9764, Val Accuracy: 24/32 (75.000%)\n",
            "\n",
            "\n",
            "Average Val Loss: 0.9764, Val Accuracy: 24/32 (75.000%)\n",
            "\n",
            "\n",
            "Average Val Loss: 0.9764, Val Accuracy: 24/32 (75.000%)\n",
            "\n",
            "\n",
            "Average Val Loss: 0.9764, Val Accuracy: 24/32 (75.000%)\n",
            "\n",
            "\n",
            "Average Val Loss: 0.9764, Val Accuracy: 24/32 (75.000%)\n",
            "\n",
            "\n",
            "Average Val Loss: 0.9764, Val Accuracy: 24/32 (75.000%)\n",
            "\n",
            "\n",
            "Average Val Loss: 0.9764, Val Accuracy: 24/32 (75.000%)\n",
            "\n",
            "\n",
            "Average Val Loss: 0.9764, Val Accuracy: 24/32 (75.000%)\n",
            "\n",
            "\n",
            "Average Val Loss: 0.9764, Val Accuracy: 24/32 (75.000%)\n",
            "\n",
            "\n",
            "Average Val Loss: 0.9764, Val Accuracy: 24/32 (75.000%)\n",
            "\n"
          ]
        }
      ]
    },
    {
      "cell_type": "markdown",
      "source": [
        "### Training Plot"
      ],
      "metadata": {
        "id": "oRWamzs7B9l1"
      }
    },
    {
      "cell_type": "code",
      "source": [
        "plt.rcParams['figure.figsize'] = (10,8)\n",
        "plt.plot(range(num_epochs),loss_per_epoch)\n",
        "plt.title('Average Loss Per epochs')\n",
        "plt.xlabel(\"epochs\")\n",
        "plt.ylabel(\"Loss\")"
      ],
      "metadata": {
        "colab": {
          "base_uri": "https://localhost:8080/",
          "height": 531
        },
        "outputId": "bde0c4d6-0b7a-4ff1-bcf7-b6f00f6fc618",
        "id": "tKOjtFtOB9l2"
      },
      "execution_count": null,
      "outputs": [
        {
          "output_type": "execute_result",
          "data": {
            "text/plain": [
              "Text(0, 0.5, 'Loss')"
            ]
          },
          "metadata": {},
          "execution_count": 158
        },
        {
          "output_type": "display_data",
          "data": {
            "text/plain": [
              "<Figure size 720x576 with 1 Axes>"
            ],
            "image/png": "[encoded data removed]"
          },
          "metadata": {
            "needs_background": "light"
          }
        }
      ]
    },
    {
      "cell_type": "code",
      "source": [
        "plt.rcParams['figure.figsize'] = (10,8)\n",
        "plt.plot(range(num_epochs),acc_per_epoch)\n",
        "plt.title('Val accuracy Per epochs')\n",
        "plt.xlabel(\"epochs\")\n",
        "plt.ylabel(\"Accuracy\")"
      ],
      "metadata": {
        "colab": {
          "base_uri": "https://localhost:8080/",
          "height": 531
        },
        "outputId": "888226cf-a833-4fec-a181-1710081417be",
        "id": "2zlx_f_WB9l2"
      },
      "execution_count": null,
      "outputs": [
        {
          "output_type": "execute_result",
          "data": {
            "text/plain": [
              "Text(0, 0.5, 'Accuracy')"
            ]
          },
          "metadata": {},
          "execution_count": 159
        },
        {
          "output_type": "display_data",
          "data": {
            "text/plain": [
              "<Figure size 720x576 with 1 Axes>"
            ],
            "image/png": "[encoded data removed]"
          },
          "metadata": {
            "needs_background": "light"
          }
        }
      ]
    },
    {
      "cell_type": "code",
      "source": [
        "y_pred, y_true, y_prob = get_output(ann_model,test_loader)"
      ],
      "metadata": {
        "colab": {
          "base_uri": "https://localhost:8080/"
        },
        "outputId": "9df9251d-f1cf-4134-84f7-c709f36b8b51",
        "id": "BsAxUtxnB9l2"
      },
      "execution_count": null,
      "outputs": [
        {
          "output_type": "stream",
          "name": "stdout",
          "text": [
            "\n",
            "Average Val Loss: 1.0297, Val Accuracy: 57/80 (71.250%)\n",
            "\n"
          ]
        },
        {
          "output_type": "stream",
          "name": "stderr",
          "text": [
            "/usr/local/lib/python3.8/dist-packages/torch/nn/_reduction.py:42: UserWarning: size_average and reduce args will be deprecated, please use reduction='sum' instead.\n",
            "  warnings.warn(warning.format(ret))\n"
          ]
        }
      ]
    },
    {
      "cell_type": "markdown",
      "source": [
        "## report classification"
      ],
      "metadata": {
        "id": "K5MgNLofB9l2"
      }
    },
    {
      "cell_type": "code",
      "source": [
        "# Make the confusion matrix\n",
        "confusion_plot(y_true,y_pred)"
      ],
      "metadata": {
        "colab": {
          "base_uri": "https://localhost:8080/",
          "height": 513
        },
        "outputId": "6478c428-a55d-4b24-af43-37dd69707b5d",
        "id": "P0-y0D12B9l3"
      },
      "execution_count": null,
      "outputs": [
        {
          "output_type": "display_data",
          "data": {
            "text/plain": [
              "<Figure size 720x576 with 2 Axes>"
            ],
            "image/png": "[encoded data removed]"
          },
          "metadata": {
            "needs_background": "light"
          }
        }
      ]
    },
    {
      "cell_type": "code",
      "source": [
        "generate_classification_report(y_true,y_pred)"
      ],
      "metadata": {
        "colab": {
          "base_uri": "https://localhost:8080/",
          "height": 269
        },
        "outputId": "5f9229f4-eed2-4f38-da23-2afba953196e",
        "id": "z118YGJzB9l3"
      },
      "execution_count": null,
      "outputs": [
        {
          "output_type": "execute_result",
          "data": {
            "text/plain": [
              "             Label  f1-score  precision    recall  support\n",
              "0                0  0.736842    0.70000  0.777778  18.0000\n",
              "1                1  0.809524    0.85000  0.772727  22.0000\n",
              "2                2  0.536585    0.55000  0.523810  21.0000\n",
              "3                3  0.769231    0.75000  0.789474  19.0000\n",
              "accuracy            0.712500    0.71250  0.712500   0.7125\n",
              "macro avg           0.713046    0.71250  0.715947  80.0000\n",
              "weighted avg        0.711954    0.71375  0.712500  80.0000"
            ],
            "text/html": [
              "\n",
              "  <div id=\"df-9d704437-e262-4352-86e2-59231ee78f90\">\n",
              "    <div class=\"colab-df-container\">\n",
              "      <div>\n",
              "<style scoped>\n",
              "    .dataframe tbody tr th:only-of-type {\n",
              "        vertical-align: middle;\n",
              "    }\n",
              "\n",
              "    .dataframe tbody tr th {\n",
              "        vertical-align: top;\n",
              "    }\n",
              "\n",
              "    .dataframe thead th {\n",
              "        text-align: right;\n",
              "    }\n",
              "</style>\n",
              "<table border=\"1\" class=\"dataframe\">\n",
              "  <thead>\n",
              "    <tr style=\"text-align: right;\">\n",
              "      <th></th>\n",
              "      <th>Label</th>\n",
              "      <th>f1-score</th>\n",
              "      <th>precision</th>\n",
              "      <th>recall</th>\n",
              "      <th>support</th>\n",
              "    </tr>\n",
              "  </thead>\n",
              "  <tbody>\n",
              "    <tr>\n",
              "      <th>0</th>\n",
              "      <td>0</td>\n",
              "      <td>0.736842</td>\n",
              "      <td>0.70000</td>\n",
              "      <td>0.777778</td>\n",
              "      <td>18.0000</td>\n",
              "    </tr>\n",
              "    <tr>\n",
              "      <th>1</th>\n",
              "      <td>1</td>\n",
              "      <td>0.809524</td>\n",
              "      <td>0.85000</td>\n",
              "      <td>0.772727</td>\n",
              "      <td>22.0000</td>\n",
              "    </tr>\n",
              "    <tr>\n",
              "      <th>2</th>\n",
              "      <td>2</td>\n",
              "      <td>0.536585</td>\n",
              "      <td>0.55000</td>\n",
              "      <td>0.523810</td>\n",
              "      <td>21.0000</td>\n",
              "    </tr>\n",
              "    <tr>\n",
              "      <th>3</th>\n",
              "      <td>3</td>\n",
              "      <td>0.769231</td>\n",
              "      <td>0.75000</td>\n",
              "      <td>0.789474</td>\n",
              "      <td>19.0000</td>\n",
              "    </tr>\n",
              "    <tr>\n",
              "      <th>accuracy</th>\n",
              "      <td></td>\n",
              "      <td>0.712500</td>\n",
              "      <td>0.71250</td>\n",
              "      <td>0.712500</td>\n",
              "      <td>0.7125</td>\n",
              "    </tr>\n",
              "    <tr>\n",
              "      <th>macro avg</th>\n",
              "      <td></td>\n",
              "      <td>0.713046</td>\n",
              "      <td>0.71250</td>\n",
              "      <td>0.715947</td>\n",
              "      <td>80.0000</td>\n",
              "    </tr>\n",
              "    <tr>\n",
              "      <th>weighted avg</th>\n",
              "      <td></td>\n",
              "      <td>0.711954</td>\n",
              "      <td>0.71375</td>\n",
              "      <td>0.712500</td>\n",
              "      <td>80.0000</td>\n",
              "    </tr>\n",
              "  </tbody>\n",
              "</table>\n",
              "</div>\n",
              "      <button class=\"colab-df-convert\" onclick=\"convertToInteractive('df-9d704437-e262-4352-86e2-59231ee78f90')\"\n",
              "              title=\"Convert this dataframe to an interactive table.\"\n",
              "              style=\"display:none;\">\n",
              "        \n",
              "  <svg xmlns=\"http://www.w3.org/2000/svg\" height=\"24px\"viewBox=\"0 0 24 24\"\n",
              "       width=\"24px\">\n",
              "    <path d=\"M0 0h24v24H0V0z\" fill=\"none\"/>\n",
              "    <path d=\"M18.56 5.44l.94 2.06.94-2.06 2.06-.94-2.06-.94-.94-2.06-.94 2.06-2.06.94zm-11 1L8.5 8.5l.94-2.06 2.06-.94-2.06-.94L8.5 2.5l-.94 2.06-2.06.94zm10 10l.94 2.06.94-2.06 2.06-.94-2.06-.94-.94-2.06-.94 2.06-2.06.94z\"/><path d=\"M17.41 7.96l-1.37-1.37c-.4-.4-.92-.59-1.43-.59-.52 0-1.04.2-1.43.59L10.3 9.45l-7.72 7.72c-.78.78-.78 2.05 0 2.83L4 21.41c.39.39.9.59 1.41.59.51 0 1.02-.2 1.41-.59l7.78-7.78 2.81-2.81c.8-.78.8-2.07 0-2.86zM5.41 20L4 18.59l7.72-7.72 1.47 1.35L5.41 20z\"/>\n",
              "  </svg>\n",
              "      </button>\n",
              "      \n",
              "  <style>\n",
              "    .colab-df-container {\n",
              "      display:flex;\n",
              "      flex-wrap:wrap;\n",
              "      gap: 12px;\n",
              "    }\n",
              "\n",
              "    .colab-df-convert {\n",
              "      background-color: #E8F0FE;\n",
              "      border: none;\n",
              "      border-radius: 50%;\n",
              "      cursor: pointer;\n",
              "      display: none;\n",
              "      fill: #1967D2;\n",
              "      height: 32px;\n",
              "      padding: 0 0 0 0;\n",
              "      width: 32px;\n",
              "    }\n",
              "\n",
              "    .colab-df-convert:hover {\n",
              "      background-color: #E2EBFA;\n",
              "      box-shadow: 0px 1px 2px rgba(60, 64, 67, 0.3), 0px 1px 3px 1px rgba(60, 64, 67, 0.15);\n",
              "      fill: #174EA6;\n",
              "    }\n",
              "\n",
              "    [theme=dark] .colab-df-convert {\n",
              "      background-color: #3B4455;\n",
              "      fill: #D2E3FC;\n",
              "    }\n",
              "\n",
              "    [theme=dark] .colab-df-convert:hover {\n",
              "      background-color: #434B5C;\n",
              "      box-shadow: 0px 1px 3px 1px rgba(0, 0, 0, 0.15);\n",
              "      filter: drop-shadow(0px 1px 2px rgba(0, 0, 0, 0.3));\n",
              "      fill: #FFFFFF;\n",
              "    }\n",
              "  </style>\n",
              "\n",
              "      <script>\n",
              "        const buttonEl =\n",
              "          document.querySelector('#df-9d704437-e262-4352-86e2-59231ee78f90 button.colab-df-convert');\n",
              "        buttonEl.style.display =\n",
              "          google.colab.kernel.accessAllowed ? 'block' : 'none';\n",
              "\n",
              "        async function convertToInteractive(key) {\n",
              "          const element = document.querySelector('#df-9d704437-e262-4352-86e2-59231ee78f90');\n",
              "          const dataTable =\n",
              "            await google.colab.kernel.invokeFunction('convertToInteractive',\n",
              "                                                     [key], {});\n",
              "          if (!dataTable) return;\n",
              "\n",
              "          const docLinkHtml = 'Like what you see? Visit the ' +\n",
              "            '<a target=\"_blank\" href=https://colab.research.google.com/notebooks/data_table.ipynb>data table notebook</a>'\n",
              "            + ' to learn more about interactive tables.';\n",
              "          element.innerHTML = '';\n",
              "          dataTable['output_type'] = 'display_data';\n",
              "          await google.colab.output.renderOutput(dataTable, element);\n",
              "          const docLink = document.createElement('div');\n",
              "          docLink.innerHTML = docLinkHtml;\n",
              "          element.appendChild(docLink);\n",
              "        }\n",
              "      </script>\n",
              "    </div>\n",
              "  </div>\n",
              "  "
            ]
          },
          "metadata": {},
          "execution_count": 162
        }
      ]
    },
    {
      "cell_type": "code",
      "source": [
        "plot_roc_curve_all(y_true, y_prob,4,(10,8))"
      ],
      "metadata": {
        "colab": {
          "base_uri": "https://localhost:8080/",
          "height": 513
        },
        "outputId": "e72e687a-28b2-4c3a-f752-9706936c8c3e",
        "id": "kda2QstHB9l3"
      },
      "execution_count": null,
      "outputs": [
        {
          "output_type": "display_data",
          "data": {
            "text/plain": [
              "<Figure size 720x576 with 1 Axes>"
            ],
            "image/png": "[encoded data removed]"
          },
          "metadata": {
            "needs_background": "light"
          }
        }
      ]
    },
    {
      "cell_type": "markdown",
      "source": [
        "# Network 4 hidden layer 64, 512, 64, 32 ReLU as Act. Func."
      ],
      "metadata": {
        "id": "0t45HBPeA-xl"
      }
    },
    {
      "cell_type": "code",
      "source": [
        "class Net(nn.Module):\n",
        "    def __init__(self):\n",
        "        super(Net, self).__init__()\n",
        "        \n",
        "        self.linear_block = nn.Sequential(\n",
        "            nn.Dropout(0.1),\n",
        "\n",
        "            nn.Linear(50,64),\n",
        "            nn.ReLU(),\n",
        "            nn.Dropout(0.1),\n",
        "\n",
        "            nn.Linear(64,512),\n",
        "            nn.ReLU(),\n",
        "            nn.Dropout(0.1),\n",
        "\n",
        "            nn.Linear(512,64),\n",
        "            nn.ReLU(),\n",
        "            nn.Dropout(0.1),\n",
        "\n",
        "            nn.Linear(64,32),\n",
        "            nn.ReLU(),\n",
        "            nn.Dropout(0.1),\n",
        "\n",
        "\n",
        "            nn.Linear(32,4),\n",
        "            nn.Softmax(dim=1),\n",
        "        )\n",
        "        \n",
        "    def forward(self, x):\n",
        "        x = x.view(x.size(0), -1)\n",
        "        x = self.linear_block(x)\n",
        "        \n",
        "        return x"
      ],
      "metadata": {
        "id": "O874lkLYA-xu"
      },
      "execution_count": null,
      "outputs": []
    },
    {
      "cell_type": "markdown",
      "source": [
        "## add optimizar and loss function"
      ],
      "metadata": {
        "id": "Ixm1gke5A-xs"
      }
    },
    {
      "cell_type": "code",
      "source": [
        "ann_model = Net()\n",
        "if torch.cuda.is_available():\n",
        "    ann_model = ann_model.cuda()\n",
        "ann_model\n",
        "\n",
        "optimizer = optim.Adam(params=ann_model.parameters(), lr=0.01)\n",
        "criterion = nn.CrossEntropyLoss()\n",
        "\n",
        "exp_lr_scheduler = optim.lr_scheduler.StepLR(optimizer, step_size=7, gamma=0.1)\n",
        "\n",
        "if torch.cuda.is_available():\n",
        "    criterion = criterion.cuda()"
      ],
      "metadata": {
        "id": "GcO6aaQ3A-xt"
      },
      "execution_count": null,
      "outputs": []
    },
    {
      "cell_type": "markdown",
      "source": [
        "## Training"
      ],
      "metadata": {
        "id": "VFATumj0A-xt"
      }
    },
    {
      "cell_type": "code",
      "source": [
        "num_epochs = 100\n",
        "loss_per_epoch = np.array([])\n",
        "acc_per_epoch = np.array([])\n",
        "for n in range(num_epochs):\n",
        "    train_model(ann_model, train_loader, n)\n",
        "    lpe,ape = evaluate(ann_model, val_loader)\n",
        "    loss_per_epoch = np.append(loss_per_epoch,lpe)\n",
        "    acc_per_epoch = np.append(acc_per_epoch,ape)"
      ],
      "metadata": {
        "colab": {
          "base_uri": "https://localhost:8080/"
        },
        "outputId": "be8ae7f5-63b5-4293-d7ca-30dd9b904bb7",
        "id": "s-bjoLEDA-xt"
      },
      "execution_count": null,
      "outputs": [
        {
          "output_type": "stream",
          "name": "stderr",
          "text": [
            "/usr/local/lib/python3.8/dist-packages/torch/optim/lr_scheduler.py:138: UserWarning: Detected call of `lr_scheduler.step()` before `optimizer.step()`. In PyTorch 1.1.0 and later, you should call them in the opposite order: `optimizer.step()` before `lr_scheduler.step()`.  Failure to do this will result in PyTorch skipping the first value of the learning rate schedule. See more details at https://pytorch.org/docs/stable/optim.html#how-to-adjust-learning-rate\n",
            "  warnings.warn(\"Detected call of `lr_scheduler.step()` before `optimizer.step()`. \"\n",
            "/usr/local/lib/python3.8/dist-packages/torch/nn/_reduction.py:42: UserWarning: size_average and reduce args will be deprecated, please use reduction='sum' instead.\n",
            "  warnings.warn(warning.format(ret))\n"
          ]
        },
        {
          "output_type": "stream",
          "name": "stdout",
          "text": [
            "\n",
            "Average Val Loss: 1.0279, Val Accuracy: 24/32 (75.000%)\n",
            "\n",
            "\n",
            "Average Val Loss: 1.0871, Val Accuracy: 21/32 (65.625%)\n",
            "\n",
            "\n",
            "Average Val Loss: 1.0863, Val Accuracy: 21/32 (65.625%)\n",
            "\n",
            "\n",
            "Average Val Loss: 1.1499, Val Accuracy: 19/32 (59.375%)\n",
            "\n",
            "\n",
            "Average Val Loss: 1.1185, Val Accuracy: 20/32 (62.500%)\n",
            "\n",
            "\n",
            "Average Val Loss: 1.3374, Val Accuracy: 13/32 (40.625%)\n",
            "\n",
            "\n",
            "Average Val Loss: 1.3572, Val Accuracy: 12/32 (37.500%)\n",
            "\n",
            "\n",
            "Average Val Loss: 1.3417, Val Accuracy: 13/32 (40.625%)\n",
            "\n",
            "\n",
            "Average Val Loss: 1.3683, Val Accuracy: 12/32 (37.500%)\n",
            "\n",
            "\n",
            "Average Val Loss: 1.3689, Val Accuracy: 12/32 (37.500%)\n",
            "\n",
            "\n",
            "Average Val Loss: 1.3694, Val Accuracy: 12/32 (37.500%)\n",
            "\n",
            "\n",
            "Average Val Loss: 1.3694, Val Accuracy: 12/32 (37.500%)\n",
            "\n",
            "\n",
            "Average Val Loss: 1.3697, Val Accuracy: 12/32 (37.500%)\n",
            "\n",
            "\n",
            "Average Val Loss: 1.3701, Val Accuracy: 12/32 (37.500%)\n",
            "\n",
            "\n",
            "Average Val Loss: 1.3702, Val Accuracy: 12/32 (37.500%)\n",
            "\n",
            "\n",
            "Average Val Loss: 1.3702, Val Accuracy: 12/32 (37.500%)\n",
            "\n",
            "\n",
            "Average Val Loss: 1.3689, Val Accuracy: 12/32 (37.500%)\n",
            "\n",
            "\n",
            "Average Val Loss: 1.3687, Val Accuracy: 12/32 (37.500%)\n",
            "\n",
            "\n",
            "Average Val Loss: 1.3687, Val Accuracy: 12/32 (37.500%)\n",
            "\n",
            "\n",
            "Average Val Loss: 1.3687, Val Accuracy: 12/32 (37.500%)\n",
            "\n",
            "\n",
            "Average Val Loss: 1.3687, Val Accuracy: 12/32 (37.500%)\n",
            "\n",
            "\n",
            "Average Val Loss: 1.3687, Val Accuracy: 12/32 (37.500%)\n",
            "\n",
            "\n",
            "Average Val Loss: 1.3687, Val Accuracy: 12/32 (37.500%)\n",
            "\n",
            "\n",
            "Average Val Loss: 1.3687, Val Accuracy: 12/32 (37.500%)\n",
            "\n",
            "\n",
            "Average Val Loss: 1.3687, Val Accuracy: 12/32 (37.500%)\n",
            "\n",
            "\n",
            "Average Val Loss: 1.3687, Val Accuracy: 12/32 (37.500%)\n",
            "\n",
            "\n",
            "Average Val Loss: 1.3687, Val Accuracy: 12/32 (37.500%)\n",
            "\n",
            "\n",
            "Average Val Loss: 1.3687, Val Accuracy: 12/32 (37.500%)\n",
            "\n",
            "\n",
            "Average Val Loss: 1.3687, Val Accuracy: 12/32 (37.500%)\n",
            "\n",
            "\n",
            "Average Val Loss: 1.3687, Val Accuracy: 12/32 (37.500%)\n",
            "\n",
            "\n",
            "Average Val Loss: 1.3687, Val Accuracy: 12/32 (37.500%)\n",
            "\n",
            "\n",
            "Average Val Loss: 1.3687, Val Accuracy: 12/32 (37.500%)\n",
            "\n",
            "\n",
            "Average Val Loss: 1.3687, Val Accuracy: 12/32 (37.500%)\n",
            "\n",
            "\n",
            "Average Val Loss: 1.3687, Val Accuracy: 12/32 (37.500%)\n",
            "\n",
            "\n",
            "Average Val Loss: 1.3687, Val Accuracy: 12/32 (37.500%)\n",
            "\n",
            "\n",
            "Average Val Loss: 1.3687, Val Accuracy: 12/32 (37.500%)\n",
            "\n",
            "\n",
            "Average Val Loss: 1.3687, Val Accuracy: 12/32 (37.500%)\n",
            "\n",
            "\n",
            "Average Val Loss: 1.3687, Val Accuracy: 12/32 (37.500%)\n",
            "\n",
            "\n",
            "Average Val Loss: 1.3687, Val Accuracy: 12/32 (37.500%)\n",
            "\n",
            "\n",
            "Average Val Loss: 1.3687, Val Accuracy: 12/32 (37.500%)\n",
            "\n",
            "\n",
            "Average Val Loss: 1.3687, Val Accuracy: 12/32 (37.500%)\n",
            "\n",
            "\n",
            "Average Val Loss: 1.3687, Val Accuracy: 12/32 (37.500%)\n",
            "\n",
            "\n",
            "Average Val Loss: 1.3687, Val Accuracy: 12/32 (37.500%)\n",
            "\n",
            "\n",
            "Average Val Loss: 1.3687, Val Accuracy: 12/32 (37.500%)\n",
            "\n",
            "\n",
            "Average Val Loss: 1.3687, Val Accuracy: 12/32 (37.500%)\n",
            "\n",
            "\n",
            "Average Val Loss: 1.3687, Val Accuracy: 12/32 (37.500%)\n",
            "\n",
            "\n",
            "Average Val Loss: 1.3687, Val Accuracy: 12/32 (37.500%)\n",
            "\n",
            "\n",
            "Average Val Loss: 1.3687, Val Accuracy: 12/32 (37.500%)\n",
            "\n",
            "\n",
            "Average Val Loss: 1.3687, Val Accuracy: 12/32 (37.500%)\n",
            "\n",
            "\n",
            "Average Val Loss: 1.3687, Val Accuracy: 12/32 (37.500%)\n",
            "\n",
            "\n",
            "Average Val Loss: 1.3687, Val Accuracy: 12/32 (37.500%)\n",
            "\n",
            "\n",
            "Average Val Loss: 1.3687, Val Accuracy: 12/32 (37.500%)\n",
            "\n",
            "\n",
            "Average Val Loss: 1.3687, Val Accuracy: 12/32 (37.500%)\n",
            "\n",
            "\n",
            "Average Val Loss: 1.3687, Val Accuracy: 12/32 (37.500%)\n",
            "\n",
            "\n",
            "Average Val Loss: 1.3687, Val Accuracy: 12/32 (37.500%)\n",
            "\n",
            "\n",
            "Average Val Loss: 1.3687, Val Accuracy: 12/32 (37.500%)\n",
            "\n",
            "\n",
            "Average Val Loss: 1.3687, Val Accuracy: 12/32 (37.500%)\n",
            "\n",
            "\n",
            "Average Val Loss: 1.3687, Val Accuracy: 12/32 (37.500%)\n",
            "\n",
            "\n",
            "Average Val Loss: 1.3687, Val Accuracy: 12/32 (37.500%)\n",
            "\n",
            "\n",
            "Average Val Loss: 1.3687, Val Accuracy: 12/32 (37.500%)\n",
            "\n",
            "\n",
            "Average Val Loss: 1.3687, Val Accuracy: 12/32 (37.500%)\n",
            "\n",
            "\n",
            "Average Val Loss: 1.3687, Val Accuracy: 12/32 (37.500%)\n",
            "\n",
            "\n",
            "Average Val Loss: 1.3687, Val Accuracy: 12/32 (37.500%)\n",
            "\n",
            "\n",
            "Average Val Loss: 1.3687, Val Accuracy: 12/32 (37.500%)\n",
            "\n",
            "\n",
            "Average Val Loss: 1.3687, Val Accuracy: 12/32 (37.500%)\n",
            "\n",
            "\n",
            "Average Val Loss: 1.3687, Val Accuracy: 12/32 (37.500%)\n",
            "\n",
            "\n",
            "Average Val Loss: 1.3687, Val Accuracy: 12/32 (37.500%)\n",
            "\n",
            "\n",
            "Average Val Loss: 1.3687, Val Accuracy: 12/32 (37.500%)\n",
            "\n",
            "\n",
            "Average Val Loss: 1.3687, Val Accuracy: 12/32 (37.500%)\n",
            "\n",
            "\n",
            "Average Val Loss: 1.3687, Val Accuracy: 12/32 (37.500%)\n",
            "\n",
            "\n",
            "Average Val Loss: 1.3687, Val Accuracy: 12/32 (37.500%)\n",
            "\n",
            "\n",
            "Average Val Loss: 1.3687, Val Accuracy: 12/32 (37.500%)\n",
            "\n",
            "\n",
            "Average Val Loss: 1.3687, Val Accuracy: 12/32 (37.500%)\n",
            "\n",
            "\n",
            "Average Val Loss: 1.3687, Val Accuracy: 12/32 (37.500%)\n",
            "\n",
            "\n",
            "Average Val Loss: 1.3687, Val Accuracy: 12/32 (37.500%)\n",
            "\n",
            "\n",
            "Average Val Loss: 1.3687, Val Accuracy: 12/32 (37.500%)\n",
            "\n",
            "\n",
            "Average Val Loss: 1.3687, Val Accuracy: 12/32 (37.500%)\n",
            "\n",
            "\n",
            "Average Val Loss: 1.3687, Val Accuracy: 12/32 (37.500%)\n",
            "\n",
            "\n",
            "Average Val Loss: 1.3687, Val Accuracy: 12/32 (37.500%)\n",
            "\n",
            "\n",
            "Average Val Loss: 1.3687, Val Accuracy: 12/32 (37.500%)\n",
            "\n",
            "\n",
            "Average Val Loss: 1.3687, Val Accuracy: 12/32 (37.500%)\n",
            "\n",
            "\n",
            "Average Val Loss: 1.3687, Val Accuracy: 12/32 (37.500%)\n",
            "\n",
            "\n",
            "Average Val Loss: 1.3687, Val Accuracy: 12/32 (37.500%)\n",
            "\n",
            "\n",
            "Average Val Loss: 1.3687, Val Accuracy: 12/32 (37.500%)\n",
            "\n",
            "\n",
            "Average Val Loss: 1.3687, Val Accuracy: 12/32 (37.500%)\n",
            "\n",
            "\n",
            "Average Val Loss: 1.3687, Val Accuracy: 12/32 (37.500%)\n",
            "\n",
            "\n",
            "Average Val Loss: 1.3687, Val Accuracy: 12/32 (37.500%)\n",
            "\n",
            "\n",
            "Average Val Loss: 1.3687, Val Accuracy: 12/32 (37.500%)\n",
            "\n",
            "\n",
            "Average Val Loss: 1.3687, Val Accuracy: 12/32 (37.500%)\n",
            "\n",
            "\n",
            "Average Val Loss: 1.3687, Val Accuracy: 12/32 (37.500%)\n",
            "\n",
            "\n",
            "Average Val Loss: 1.3687, Val Accuracy: 12/32 (37.500%)\n",
            "\n",
            "\n",
            "Average Val Loss: 1.3687, Val Accuracy: 12/32 (37.500%)\n",
            "\n",
            "\n",
            "Average Val Loss: 1.3687, Val Accuracy: 12/32 (37.500%)\n",
            "\n",
            "\n",
            "Average Val Loss: 1.3687, Val Accuracy: 12/32 (37.500%)\n",
            "\n",
            "\n",
            "Average Val Loss: 1.3687, Val Accuracy: 12/32 (37.500%)\n",
            "\n",
            "\n",
            "Average Val Loss: 1.3687, Val Accuracy: 12/32 (37.500%)\n",
            "\n",
            "\n",
            "Average Val Loss: 1.3687, Val Accuracy: 12/32 (37.500%)\n",
            "\n",
            "\n",
            "Average Val Loss: 1.3687, Val Accuracy: 12/32 (37.500%)\n",
            "\n",
            "\n",
            "Average Val Loss: 1.3687, Val Accuracy: 12/32 (37.500%)\n",
            "\n",
            "\n",
            "Average Val Loss: 1.3687, Val Accuracy: 12/32 (37.500%)\n",
            "\n"
          ]
        }
      ]
    },
    {
      "cell_type": "markdown",
      "source": [
        "### Training Plot"
      ],
      "metadata": {
        "id": "r7MV-3TlA-xt"
      }
    },
    {
      "cell_type": "code",
      "source": [
        "plt.rcParams['figure.figsize'] = (10,8)\n",
        "plt.plot(range(num_epochs),loss_per_epoch)\n",
        "plt.title('Average Loss Per epochs')\n",
        "plt.xlabel(\"epochs\")\n",
        "plt.ylabel(\"Loss\")"
      ],
      "metadata": {
        "colab": {
          "base_uri": "https://localhost:8080/"
        },
        "outputId": "dab87535-76e1-45aa-9e42-d4b24664f48f",
        "id": "TeHxL2LoA-xt"
      },
      "execution_count": null,
      "outputs": [
        {
          "output_type": "execute_result",
          "data": {
            "text/plain": [
              "Text(0, 0.5, 'Loss')"
            ]
          },
          "metadata": {},
          "execution_count": 176
        },
        {
          "output_type": "display_data",
          "data": {
            "text/plain": [
              "<Figure size 720x576 with 1 Axes>"
            ],
            "image/png": "[encoded data removed]"
          },
          "metadata": {
            "needs_background": "light"
          }
        }
      ]
    },
    {
      "cell_type": "code",
      "source": [
        "plt.rcParams['figure.figsize'] = (10,8)\n",
        "plt.plot(range(num_epochs),acc_per_epoch)\n",
        "plt.title('Val accuracy Per epochs')\n",
        "plt.xlabel(\"epochs\")\n",
        "plt.ylabel(\"Accuracy\")"
      ],
      "metadata": {
        "colab": {
          "base_uri": "https://localhost:8080/"
        },
        "outputId": "e5d5ed6f-ae12-44ac-cea1-44b8bf8fdaa0",
        "id": "kQPvGRotA-xt"
      },
      "execution_count": null,
      "outputs": [
        {
          "output_type": "execute_result",
          "data": {
            "text/plain": [
              "Text(0, 0.5, 'Accuracy')"
            ]
          },
          "metadata": {},
          "execution_count": 177
        },
        {
          "output_type": "display_data",
          "data": {
            "text/plain": [
              "<Figure size 720x576 with 1 Axes>"
            ],
            "image/png": "[encoded data removed]"
          },
          "metadata": {
            "needs_background": "light"
          }
        }
      ]
    },
    {
      "cell_type": "code",
      "source": [
        "y_pred, y_true, y_prob = get_output(ann_model,test_loader)"
      ],
      "metadata": {
        "colab": {
          "base_uri": "https://localhost:8080/"
        },
        "outputId": "6e64a329-0a54-49b2-8b87-19df5e917aa9",
        "id": "_7JpOZ7KA-xt"
      },
      "execution_count": null,
      "outputs": [
        {
          "output_type": "stream",
          "name": "stdout",
          "text": [
            "\n",
            "Average Val Loss: 1.3818, Val Accuracy: 29/80 (36.250%)\n",
            "\n"
          ]
        },
        {
          "output_type": "stream",
          "name": "stderr",
          "text": [
            "/usr/local/lib/python3.8/dist-packages/torch/nn/_reduction.py:42: UserWarning: size_average and reduce args will be deprecated, please use reduction='sum' instead.\n",
            "  warnings.warn(warning.format(ret))\n"
          ]
        }
      ]
    },
    {
      "cell_type": "markdown",
      "source": [
        "## report classification"
      ],
      "metadata": {
        "id": "7OS2r4pCA-xu"
      }
    },
    {
      "cell_type": "code",
      "source": [
        "# Make the confusion matrix\n",
        "confusion_plot(y_true,y_pred)"
      ],
      "metadata": {
        "colab": {
          "base_uri": "https://localhost:8080/"
        },
        "outputId": "136fb4e8-6fe8-4b7d-d838-84ac35c993c0",
        "id": "e3wsXXyqA-xu"
      },
      "execution_count": null,
      "outputs": [
        {
          "output_type": "display_data",
          "data": {
            "text/plain": [
              "<Figure size 720x576 with 2 Axes>"
            ],
            "image/png": "[encoded data removed]"
          },
          "metadata": {
            "needs_background": "light"
          }
        }
      ]
    },
    {
      "cell_type": "code",
      "source": [
        "generate_classification_report(y_true,y_pred)"
      ],
      "metadata": {
        "colab": {
          "base_uri": "https://localhost:8080/"
        },
        "outputId": "bc70b84a-5ce8-4a22-9e27-2fb65194d015",
        "id": "bDbvD5UaA-xu"
      },
      "execution_count": null,
      "outputs": [
        {
          "output_type": "stream",
          "name": "stderr",
          "text": [
            "/usr/local/lib/python3.8/dist-packages/sklearn/metrics/_classification.py:1318: UndefinedMetricWarning: Recall and F-score are ill-defined and being set to 0.0 in labels with no true samples. Use `zero_division` parameter to control this behavior.\n",
            "  _warn_prf(average, modifier, msg_start, len(result))\n",
            "/usr/local/lib/python3.8/dist-packages/sklearn/metrics/_classification.py:1318: UndefinedMetricWarning: Recall and F-score are ill-defined and being set to 0.0 in labels with no true samples. Use `zero_division` parameter to control this behavior.\n",
            "  _warn_prf(average, modifier, msg_start, len(result))\n",
            "/usr/local/lib/python3.8/dist-packages/sklearn/metrics/_classification.py:1318: UndefinedMetricWarning: Recall and F-score are ill-defined and being set to 0.0 in labels with no true samples. Use `zero_division` parameter to control this behavior.\n",
            "  _warn_prf(average, modifier, msg_start, len(result))\n"
          ]
        },
        {
          "output_type": "execute_result",
          "data": {
            "text/plain": [
              "             Label  f1-score  precision    recall  support\n",
              "0                0  0.000000    0.00000  0.000000   0.0000\n",
              "1                1  0.000000    0.00000  0.000000   0.0000\n",
              "2                2  0.516129    0.80000  0.380952  42.0000\n",
              "3                3  0.448276    0.65000  0.342105  38.0000\n",
              "accuracy            0.362500    0.36250  0.362500   0.3625\n",
              "macro avg           0.241101    0.36250  0.180764  80.0000\n",
              "weighted avg        0.483899    0.72875  0.362500  80.0000"
            ],
            "text/html": [
              "\n",
              "  <div id=\"df-3cda1655-d39a-4ded-a2da-2fd0350c4a20\">\n",
              "    <div class=\"colab-df-container\">\n",
              "      <div>\n",
              "<style scoped>\n",
              "    .dataframe tbody tr th:only-of-type {\n",
              "        vertical-align: middle;\n",
              "    }\n",
              "\n",
              "    .dataframe tbody tr th {\n",
              "        vertical-align: top;\n",
              "    }\n",
              "\n",
              "    .dataframe thead th {\n",
              "        text-align: right;\n",
              "    }\n",
              "</style>\n",
              "<table border=\"1\" class=\"dataframe\">\n",
              "  <thead>\n",
              "    <tr style=\"text-align: right;\">\n",
              "      <th></th>\n",
              "      <th>Label</th>\n",
              "      <th>f1-score</th>\n",
              "      <th>precision</th>\n",
              "      <th>recall</th>\n",
              "      <th>support</th>\n",
              "    </tr>\n",
              "  </thead>\n",
              "  <tbody>\n",
              "    <tr>\n",
              "      <th>0</th>\n",
              "      <td>0</td>\n",
              "      <td>0.000000</td>\n",
              "      <td>0.00000</td>\n",
              "      <td>0.000000</td>\n",
              "      <td>0.0000</td>\n",
              "    </tr>\n",
              "    <tr>\n",
              "      <th>1</th>\n",
              "      <td>1</td>\n",
              "      <td>0.000000</td>\n",
              "      <td>0.00000</td>\n",
              "      <td>0.000000</td>\n",
              "      <td>0.0000</td>\n",
              "    </tr>\n",
              "    <tr>\n",
              "      <th>2</th>\n",
              "      <td>2</td>\n",
              "      <td>0.516129</td>\n",
              "      <td>0.80000</td>\n",
              "      <td>0.380952</td>\n",
              "      <td>42.0000</td>\n",
              "    </tr>\n",
              "    <tr>\n",
              "      <th>3</th>\n",
              "      <td>3</td>\n",
              "      <td>0.448276</td>\n",
              "      <td>0.65000</td>\n",
              "      <td>0.342105</td>\n",
              "      <td>38.0000</td>\n",
              "    </tr>\n",
              "    <tr>\n",
              "      <th>accuracy</th>\n",
              "      <td></td>\n",
              "      <td>0.362500</td>\n",
              "      <td>0.36250</td>\n",
              "      <td>0.362500</td>\n",
              "      <td>0.3625</td>\n",
              "    </tr>\n",
              "    <tr>\n",
              "      <th>macro avg</th>\n",
              "      <td></td>\n",
              "      <td>0.241101</td>\n",
              "      <td>0.36250</td>\n",
              "      <td>0.180764</td>\n",
              "      <td>80.0000</td>\n",
              "    </tr>\n",
              "    <tr>\n",
              "      <th>weighted avg</th>\n",
              "      <td></td>\n",
              "      <td>0.483899</td>\n",
              "      <td>0.72875</td>\n",
              "      <td>0.362500</td>\n",
              "      <td>80.0000</td>\n",
              "    </tr>\n",
              "  </tbody>\n",
              "</table>\n",
              "</div>\n",
              "      <button class=\"colab-df-convert\" onclick=\"convertToInteractive('df-3cda1655-d39a-4ded-a2da-2fd0350c4a20')\"\n",
              "              title=\"Convert this dataframe to an interactive table.\"\n",
              "              style=\"display:none;\">\n",
              "        \n",
              "  <svg xmlns=\"http://www.w3.org/2000/svg\" height=\"24px\"viewBox=\"0 0 24 24\"\n",
              "       width=\"24px\">\n",
              "    <path d=\"M0 0h24v24H0V0z\" fill=\"none\"/>\n",
              "    <path d=\"M18.56 5.44l.94 2.06.94-2.06 2.06-.94-2.06-.94-.94-2.06-.94 2.06-2.06.94zm-11 1L8.5 8.5l.94-2.06 2.06-.94-2.06-.94L8.5 2.5l-.94 2.06-2.06.94zm10 10l.94 2.06.94-2.06 2.06-.94-2.06-.94-.94-2.06-.94 2.06-2.06.94z\"/><path d=\"M17.41 7.96l-1.37-1.37c-.4-.4-.92-.59-1.43-.59-.52 0-1.04.2-1.43.59L10.3 9.45l-7.72 7.72c-.78.78-.78 2.05 0 2.83L4 21.41c.39.39.9.59 1.41.59.51 0 1.02-.2 1.41-.59l7.78-7.78 2.81-2.81c.8-.78.8-2.07 0-2.86zM5.41 20L4 18.59l7.72-7.72 1.47 1.35L5.41 20z\"/>\n",
              "  </svg>\n",
              "      </button>\n",
              "      \n",
              "  <style>\n",
              "    .colab-df-container {\n",
              "      display:flex;\n",
              "      flex-wrap:wrap;\n",
              "      gap: 12px;\n",
              "    }\n",
              "\n",
              "    .colab-df-convert {\n",
              "      background-color: #E8F0FE;\n",
              "      border: none;\n",
              "      border-radius: 50%;\n",
              "      cursor: pointer;\n",
              "      display: none;\n",
              "      fill: #1967D2;\n",
              "      height: 32px;\n",
              "      padding: 0 0 0 0;\n",
              "      width: 32px;\n",
              "    }\n",
              "\n",
              "    .colab-df-convert:hover {\n",
              "      background-color: #E2EBFA;\n",
              "      box-shadow: 0px 1px 2px rgba(60, 64, 67, 0.3), 0px 1px 3px 1px rgba(60, 64, 67, 0.15);\n",
              "      fill: #174EA6;\n",
              "    }\n",
              "\n",
              "    [theme=dark] .colab-df-convert {\n",
              "      background-color: #3B4455;\n",
              "      fill: #D2E3FC;\n",
              "    }\n",
              "\n",
              "    [theme=dark] .colab-df-convert:hover {\n",
              "      background-color: #434B5C;\n",
              "      box-shadow: 0px 1px 3px 1px rgba(0, 0, 0, 0.15);\n",
              "      filter: drop-shadow(0px 1px 2px rgba(0, 0, 0, 0.3));\n",
              "      fill: #FFFFFF;\n",
              "    }\n",
              "  </style>\n",
              "\n",
              "      <script>\n",
              "        const buttonEl =\n",
              "          document.querySelector('#df-3cda1655-d39a-4ded-a2da-2fd0350c4a20 button.colab-df-convert');\n",
              "        buttonEl.style.display =\n",
              "          google.colab.kernel.accessAllowed ? 'block' : 'none';\n",
              "\n",
              "        async function convertToInteractive(key) {\n",
              "          const element = document.querySelector('#df-3cda1655-d39a-4ded-a2da-2fd0350c4a20');\n",
              "          const dataTable =\n",
              "            await google.colab.kernel.invokeFunction('convertToInteractive',\n",
              "                                                     [key], {});\n",
              "          if (!dataTable) return;\n",
              "\n",
              "          const docLinkHtml = 'Like what you see? Visit the ' +\n",
              "            '<a target=\"_blank\" href=https://colab.research.google.com/notebooks/data_table.ipynb>data table notebook</a>'\n",
              "            + ' to learn more about interactive tables.';\n",
              "          element.innerHTML = '';\n",
              "          dataTable['output_type'] = 'display_data';\n",
              "          await google.colab.output.renderOutput(dataTable, element);\n",
              "          const docLink = document.createElement('div');\n",
              "          docLink.innerHTML = docLinkHtml;\n",
              "          element.appendChild(docLink);\n",
              "        }\n",
              "      </script>\n",
              "    </div>\n",
              "  </div>\n",
              "  "
            ]
          },
          "metadata": {},
          "execution_count": 180
        }
      ]
    },
    {
      "cell_type": "code",
      "source": [
        "plot_roc_curve_all(y_true, y_prob,4,(10,8))"
      ],
      "metadata": {
        "colab": {
          "base_uri": "https://localhost:8080/"
        },
        "outputId": "5b7d883e-1c2b-4a0a-8ddb-58aa40fe1274",
        "id": "TpnaH3rBA-xu"
      },
      "execution_count": null,
      "outputs": [
        {
          "output_type": "display_data",
          "data": {
            "text/plain": [
              "<Figure size 720x576 with 1 Axes>"
            ],
            "image/png": "[encoded data removed]"
          },
          "metadata": {
            "needs_background": "light"
          }
        }
      ]
    }
  ]
}