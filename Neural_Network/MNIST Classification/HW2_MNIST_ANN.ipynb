{
  "nbformat": 4,
  "nbformat_minor": 0,
  "metadata": {
    "colab": {
      "provenance": []
    },
    "kernelspec": {
      "name": "python3",
      "display_name": "Python 3"
    },
    "language_info": {
      "name": "python"
    },
    "accelerator": "GPU",
    "gpuClass": "standard"
  },
  "cells": [
    {
      "cell_type": "markdown",
      "source": [
        "# Download Dataset"
      ],
      "metadata": {
        "id": "oiAkma9_Ygsr"
      }
    },
    {
      "cell_type": "code",
      "execution_count": null,
      "metadata": {
        "colab": {
          "base_uri": "https://localhost:8080/"
        },
        "id": "gsnsIj77421E",
        "outputId": "72ccdcdf-927f-4d02-93cf-affb2c94b1df"
      },
      "outputs": [
        {
          "output_type": "stream",
          "name": "stdout",
          "text": [
            "--2022-12-09 06:33:22--  http://yann.lecun.com/exdb/mnist/train-images-idx3-ubyte.gz\n",
            "Resolving yann.lecun.com (yann.lecun.com)... 172.67.171.76, 104.21.29.36, 2606:4700:3034::6815:1d24, ...\n",
            "Connecting to yann.lecun.com (yann.lecun.com)|172.67.171.76|:80... connected.\n",
            "HTTP request sent, awaiting response... 200 OK\n",
            "Length: 9912422 (9.5M) [application/x-gzip]\n",
            "Saving to: ‘train-images-idx3-ubyte.gz’\n",
            "\n",
            "train-images-idx3-u 100%[===================>]   9.45M  52.1MB/s    in 0.2s    \n",
            "\n",
            "2022-12-09 06:33:23 (52.1 MB/s) - ‘train-images-idx3-ubyte.gz’ saved [9912422/9912422]\n",
            "\n",
            "--2022-12-09 06:33:23--  http://yann.lecun.com/exdb/mnist/train-labels-idx1-ubyte.gz\n",
            "Resolving yann.lecun.com (yann.lecun.com)... 172.67.171.76, 104.21.29.36, 2606:4700:3034::6815:1d24, ...\n",
            "Connecting to yann.lecun.com (yann.lecun.com)|172.67.171.76|:80... connected.\n",
            "HTTP request sent, awaiting response... 200 OK\n",
            "Length: 28881 (28K) [application/x-gzip]\n",
            "Saving to: ‘train-labels-idx1-ubyte.gz’\n",
            "\n",
            "train-labels-idx1-u 100%[===================>]  28.20K  --.-KB/s    in 0.002s  \n",
            "\n",
            "2022-12-09 06:33:23 (12.6 MB/s) - ‘train-labels-idx1-ubyte.gz’ saved [28881/28881]\n",
            "\n",
            "--2022-12-09 06:33:23--  http://yann.lecun.com/exdb/mnist/t10k-images-idx3-ubyte.gz\n",
            "Resolving yann.lecun.com (yann.lecun.com)... 172.67.171.76, 104.21.29.36, 2606:4700:3034::6815:1d24, ...\n",
            "Connecting to yann.lecun.com (yann.lecun.com)|172.67.171.76|:80... connected.\n",
            "HTTP request sent, awaiting response... 200 OK\n",
            "Length: 1648877 (1.6M) [application/x-gzip]\n",
            "Saving to: ‘t10k-images-idx3-ubyte.gz’\n",
            "\n",
            "t10k-images-idx3-ub 100%[===================>]   1.57M  --.-KB/s    in 0.1s    \n",
            "\n",
            "2022-12-09 06:33:23 (15.6 MB/s) - ‘t10k-images-idx3-ubyte.gz’ saved [1648877/1648877]\n",
            "\n",
            "--2022-12-09 06:33:23--  http://yann.lecun.com/exdb/mnist/t10k-labels-idx1-ubyte.gz\n",
            "Resolving yann.lecun.com (yann.lecun.com)... 172.67.171.76, 104.21.29.36, 2606:4700:3034::6815:1d24, ...\n",
            "Connecting to yann.lecun.com (yann.lecun.com)|172.67.171.76|:80... connected.\n",
            "HTTP request sent, awaiting response... 200 OK\n",
            "Length: 4542 (4.4K) [application/x-gzip]\n",
            "Saving to: ‘t10k-labels-idx1-ubyte.gz’\n",
            "\n",
            "t10k-labels-idx1-ub 100%[===================>]   4.44K  --.-KB/s    in 0s      \n",
            "\n",
            "2022-12-09 06:33:23 (422 MB/s) - ‘t10k-labels-idx1-ubyte.gz’ saved [4542/4542]\n",
            "\n"
          ]
        }
      ],
      "source": [
        "!wget http://yann.lecun.com/exdb/mnist/train-images-idx3-ubyte.gz\n",
        "!wget http://yann.lecun.com/exdb/mnist/train-labels-idx1-ubyte.gz\n",
        "!wget http://yann.lecun.com/exdb/mnist/t10k-images-idx3-ubyte.gz\n",
        "!wget http://yann.lecun.com/exdb/mnist/t10k-labels-idx1-ubyte.gz\n",
        "!gunzip train-images-idx3-ubyte.gz\n",
        "!gunzip train-labels-idx1-ubyte.gz\n",
        "!gunzip t10k-labels-idx1-ubyte.gz\n",
        "!gunzip t10k-images-idx3-ubyte.gz"
      ]
    },
    {
      "cell_type": "code",
      "source": [
        "!pip install idx2numpy"
      ],
      "metadata": {
        "colab": {
          "base_uri": "https://localhost:8080/"
        },
        "id": "whC0q8GC512L",
        "outputId": "5d9c5b79-8228-4a8a-f26b-fbe9b5e3f51b"
      },
      "execution_count": null,
      "outputs": [
        {
          "output_type": "stream",
          "name": "stdout",
          "text": [
            "Looking in indexes: https://pypi.org/simple, https://us-python.pkg.dev/colab-wheels/public/simple/\n",
            "Collecting idx2numpy\n",
            "  Downloading idx2numpy-1.2.3.tar.gz (6.8 kB)\n",
            "Requirement already satisfied: numpy in /usr/local/lib/python3.8/dist-packages (from idx2numpy) (1.21.6)\n",
            "Requirement already satisfied: six in /usr/local/lib/python3.8/dist-packages (from idx2numpy) (1.15.0)\n",
            "Building wheels for collected packages: idx2numpy\n",
            "  Building wheel for idx2numpy (setup.py) ... \u001b[?25l\u001b[?25hdone\n",
            "  Created wheel for idx2numpy: filename=idx2numpy-1.2.3-py3-none-any.whl size=7919 sha256=2a614ff2e93ec63d34d5465e05c28753c80656f9a7d90ab38d621a703290addc\n",
            "  Stored in directory: /root/.cache/pip/wheels/27/40/a8/6447ee4a00cb87e2084e1ef1df5c38433720cc1090be082842\n",
            "Successfully built idx2numpy\n",
            "Installing collected packages: idx2numpy\n",
            "Successfully installed idx2numpy-1.2.3\n"
          ]
        }
      ]
    },
    {
      "cell_type": "markdown",
      "source": [
        "# Import Libraries"
      ],
      "metadata": {
        "id": "QDyZz_P9ZT1l"
      }
    },
    {
      "cell_type": "code",
      "source": [
        "import idx2numpy\n",
        "import numpy as np\n",
        "import matplotlib\n",
        "import matplotlib.pyplot as plt\n",
        "from sklearn.model_selection import train_test_split\n",
        "from sklearn.metrics import accuracy_score,classification_report,roc_curve,roc_auc_score ,confusion_matrix\n",
        "import seaborn as sns\n",
        "import pandas as pd"
      ],
      "metadata": {
        "id": "eTLGGI-36BiR"
      },
      "execution_count": null,
      "outputs": []
    },
    {
      "cell_type": "code",
      "source": [
        "import torch\n",
        "from torch.utils.data import DataLoader, TensorDataset\n",
        "from torchvision.utils import make_grid\n",
        "import torchvision\n",
        "import torchvision.transforms as transforms\n"
      ],
      "metadata": {
        "id": "7i3aL-1fBmPa"
      },
      "execution_count": null,
      "outputs": []
    },
    {
      "cell_type": "code",
      "source": [
        "import torch.nn as nn\n",
        "import torch.nn.functional as F\n",
        "import torch.optim as optim\n",
        "from torch.autograd import Variable"
      ],
      "metadata": {
        "id": "50Wc9P1KavFH"
      },
      "execution_count": null,
      "outputs": []
    },
    {
      "cell_type": "code",
      "source": [
        "if torch.cuda.is_available():\n",
        "    print('use',torch.device('cuda'))\n",
        "else:\n",
        "    print('use',torch.device('cpu'))\n"
      ],
      "metadata": {
        "colab": {
          "base_uri": "https://localhost:8080/"
        },
        "id": "UbB0bq6bHBDg",
        "outputId": "ac2757cf-a508-454a-cc84-8761fdc2175a"
      },
      "execution_count": null,
      "outputs": [
        {
          "output_type": "stream",
          "name": "stdout",
          "text": [
            "use cuda\n"
          ]
        }
      ]
    },
    {
      "cell_type": "markdown",
      "source": [
        "# Preprocess data"
      ],
      "metadata": {
        "id": "eu29hxJTZaFU"
      }
    },
    {
      "cell_type": "code",
      "source": [
        "# import Train dataset as Array\n",
        "X_train_3D = idx2numpy.convert_from_file('train-images-idx3-ubyte')\n",
        "X_train = X_train_3D.flatten().reshape(60000,784).astype(np.float32)\n",
        "Y_train = idx2numpy.convert_from_file('train-labels-idx1-ubyte')\n",
        "Y_train=Y_train.reshape(60000,1)\n",
        "\n",
        "# import Test dataset as Array\n",
        "X_test_3D = idx2numpy.convert_from_file('t10k-images-idx3-ubyte')\n",
        "X_test = X_test_3D.flatten().reshape(10000,784).astype(np.float32)\n",
        "Y_test = idx2numpy.convert_from_file('t10k-labels-idx1-ubyte')"
      ],
      "metadata": {
        "id": "L6ZWzd1D547y"
      },
      "execution_count": null,
      "outputs": []
    },
    {
      "cell_type": "code",
      "source": [
        "# make Train & validation set\n",
        "train_images, val_images, train_labels, val_labels = train_test_split(X_train, Y_train, stratify=Y_train,\n",
        "                                                                      random_state= 231,test_size=0.20)\n",
        "test_images = X_test\n",
        "test_labels = Y_test"
      ],
      "metadata": {
        "id": "dYTblSaP82_A"
      },
      "execution_count": null,
      "outputs": []
    },
    {
      "cell_type": "code",
      "source": [
        "# Reshape for plot\n",
        "train_images = train_images.reshape(train_images.shape[0], 28, 28)\n",
        "val_images = val_images.reshape(val_images.shape[0], 28, 28)\n",
        "test_images = test_images.reshape(test_images.shape[0], 28, 28)\n",
        "\n",
        "train_labels = train_labels.squeeze()\n",
        "val_labels = val_labels.squeeze()"
      ],
      "metadata": {
        "id": "DoFteIQZ-6pl"
      },
      "execution_count": null,
      "outputs": []
    },
    {
      "cell_type": "code",
      "source": [
        "print(train_images.shape,val_images.shape,test_images.shape)\n",
        "print(train_labels.shape,val_labels.shape,test_labels.shape)"
      ],
      "metadata": {
        "colab": {
          "base_uri": "https://localhost:8080/"
        },
        "id": "QitBbGQYgnK5",
        "outputId": "72e5a2ab-6b1f-490e-be08-77d7abe012d5"
      },
      "execution_count": null,
      "outputs": [
        {
          "output_type": "stream",
          "name": "stdout",
          "text": [
            "(48000, 28, 28) (12000, 28, 28) (10000, 28, 28)\n",
            "(48000,) (12000,) (10000,)\n"
          ]
        }
      ]
    },
    {
      "cell_type": "code",
      "source": [
        "for i in range(1,5):\n",
        "  plt.subplot(140 + i)\n",
        "  plt.imshow(train_images[i].squeeze())\n",
        "  plt.title(\"Y = %d\" %(train_labels[i]))"
      ],
      "metadata": {
        "colab": {
          "base_uri": "https://localhost:8080/",
          "height": 137
        },
        "id": "Mdsaccqw8ivo",
        "outputId": "60d467cd-37dc-499d-c89b-1043819bd4c9"
      },
      "execution_count": null,
      "outputs": [
        {
          "output_type": "display_data",
          "data": {
            "text/plain": [
              "<Figure size 432x288 with 4 Axes>"
            ],
            "image/png": "[encoded data removed]"
          },
          "metadata": {
            "needs_background": "light"
          }
        }
      ]
    },
    {
      "cell_type": "markdown",
      "source": [
        "# Make *DataLoader*"
      ],
      "metadata": {
        "id": "kjdEI4K8aGsT"
      }
    },
    {
      "cell_type": "code",
      "source": [
        "# prepare dataset for torch\n",
        "train_images_tensor = torch.tensor(train_images)/255.0\n",
        "train_labels_tensor = torch.tensor(train_labels)\n",
        "train_tensor = TensorDataset(train_images_tensor, train_labels_tensor)\n",
        "train_loader = DataLoader(train_tensor, batch_size=16, num_workers=2, shuffle=True)\n",
        "\n",
        "val_images_tensor = torch.tensor(val_images)/255.0\n",
        "val_labels_tensor = torch.tensor(val_labels)\n",
        "val_tensor = TensorDataset(val_images_tensor, val_labels_tensor)\n",
        "val_loader =   DataLoader(val_tensor, batch_size=16, num_workers=2, shuffle=True)\n",
        "\n",
        "test_images_tensor = torch.tensor(test_images)/255.0\n",
        "test_labels_tensor = torch.tensor(test_labels)\n",
        "test_tensor = TensorDataset(test_images_tensor, test_labels_tensor)\n",
        "test_loader = DataLoader(test_tensor, batch_size=16, num_workers=2, shuffle=False)"
      ],
      "metadata": {
        "id": "mAG0dLd9AsF4"
      },
      "execution_count": null,
      "outputs": []
    },
    {
      "cell_type": "code",
      "source": [
        "for i, (data, label) in enumerate(train_loader):\n",
        "    img_grid = make_grid(data[0:8,].unsqueeze(1), nrow=8)\n",
        "    img_target_labels = label[0:8,].numpy().reshape(1,8)\n",
        "    break\n"
      ],
      "metadata": {
        "id": "FaGrkf13ILEA"
      },
      "execution_count": null,
      "outputs": []
    },
    {
      "cell_type": "code",
      "source": [
        "plt.imshow(img_grid.numpy().transpose((1,2,0)))\n",
        "plt.rcParams['figure.figsize'] = (10,2)\n",
        "plt.title(img_target_labels[0,:], size=16)\n",
        "plt.show()"
      ],
      "metadata": {
        "colab": {
          "base_uri": "https://localhost:8080/",
          "height": 167
        },
        "id": "fqjdxljtX-tH",
        "outputId": "b93141bf-bbe6-4c8c-f275-02ede7b0f9dc"
      },
      "execution_count": null,
      "outputs": [
        {
          "output_type": "stream",
          "name": "stderr",
          "text": [
            "/usr/local/lib/python3.8/dist-packages/matplotlib/text.py:1165: FutureWarning: elementwise comparison failed; returning scalar instead, but in the future will perform elementwise comparison\n",
            "  if s != self._text:\n"
          ]
        },
        {
          "output_type": "display_data",
          "data": {
            "text/plain": [
              "<Figure size 432x288 with 1 Axes>"
            ],
            "image/png": "[encoded data removed]"
          },
          "metadata": {
            "needs_background": "light"
          }
        }
      ]
    },
    {
      "cell_type": "markdown",
      "source": [
        "# Making Network"
      ],
      "metadata": {
        "id": "vUi8dgjRgJly"
      }
    },
    {
      "cell_type": "code",
      "source": [
        "class Net(nn.Module):\n",
        "    def __init__(self):\n",
        "        super(Net, self).__init__()\n",
        "        \n",
        "        self.linear_block = nn.Sequential(\n",
        "            nn.Dropout(0.1),\n",
        "            nn.Linear(28*28, 256),\n",
        "            nn.ReLU(),\n",
        "            nn.Dropout(0.1),\n",
        "            nn.Linear(256, 64),\n",
        "            nn.ReLU(),\n",
        "            nn.Dropout(0.1),\n",
        "            nn.Linear(64, 10),\n",
        "        )\n",
        "        \n",
        "    def forward(self, x):\n",
        "        x = x.view(x.size(0), -1)\n",
        "        x = self.linear_block(x)\n",
        "        return x"
      ],
      "metadata": {
        "id": "alRwAN8CaPI-"
      },
      "execution_count": null,
      "outputs": []
    },
    {
      "cell_type": "code",
      "source": [
        "ann_model = Net()\n",
        "if torch.cuda.is_available():\n",
        "    ann_model = ann_model.cuda()\n",
        "ann_model"
      ],
      "metadata": {
        "colab": {
          "base_uri": "https://localhost:8080/"
        },
        "id": "tElWtlxHa2-0",
        "outputId": "44dddb3b-f99f-4465-aa9f-919d2d46e357"
      },
      "execution_count": null,
      "outputs": [
        {
          "output_type": "execute_result",
          "data": {
            "text/plain": [
              "Net(\n",
              "  (linear_block): Sequential(\n",
              "    (0): Dropout(p=0.1, inplace=False)\n",
              "    (1): Linear(in_features=784, out_features=256, bias=True)\n",
              "    (2): ReLU()\n",
              "    (3): Dropout(p=0.1, inplace=False)\n",
              "    (4): Linear(in_features=256, out_features=64, bias=True)\n",
              "    (5): ReLU()\n",
              "    (6): Dropout(p=0.1, inplace=False)\n",
              "    (7): Linear(in_features=64, out_features=10, bias=True)\n",
              "  )\n",
              ")"
            ]
          },
          "metadata": {},
          "execution_count": 44
        }
      ]
    },
    {
      "cell_type": "markdown",
      "source": [
        "## adding optimizer"
      ],
      "metadata": {
        "id": "5l38umJ2gTUn"
      }
    },
    {
      "cell_type": "code",
      "source": [
        "optimizer = optim.Adam(params=ann_model.parameters(), lr=0.01)\n",
        "criterion = nn.CrossEntropyLoss()\n",
        "\n",
        "exp_lr_scheduler = optim.lr_scheduler.StepLR(optimizer, step_size=7, gamma=0.1)\n",
        "\n",
        "if torch.cuda.is_available():\n",
        "    criterion = criterion.cuda()"
      ],
      "metadata": {
        "id": "Osp7rYAqa_dG"
      },
      "execution_count": null,
      "outputs": []
    },
    {
      "cell_type": "code",
      "source": [
        "def train_model(model,train_loader,num_epoch):\n",
        "    model.train()\n",
        "    exp_lr_scheduler.step()\n",
        "    \n",
        "    for batch_idx, (data, target) in enumerate(train_loader):\n",
        "        data = data.unsqueeze(1)\n",
        "        data, target = data, target\n",
        "        \n",
        "        if torch.cuda.is_available():\n",
        "            data = data.cuda()\n",
        "            target = target.cuda()\n",
        "            \n",
        "        optimizer.zero_grad()\n",
        "        output = model(data)\n",
        "        loss = criterion(output, target)\n",
        "        loss.backward()\n",
        "        optimizer.step()\n",
        "        \n",
        "        if (batch_idx + 1)% 100 == 0:\n",
        "            print('Train Epoch: {} [{}/{} ({:.0f}%)]\\tLoss: {:.6f}'.format(\n",
        "                num_epoch, (batch_idx + 1) * len(data), len(train_loader.dataset),\n",
        "                100. * (batch_idx + 1) / len(train_loader), loss.data))\n",
        "            \n",
        "def evaluate(model,data_loader):\n",
        "    model.eval()\n",
        "    loss = 0\n",
        "    acc = 0\n",
        "    correct = 0\n",
        "    \n",
        "    for data, target in data_loader:\n",
        "        data = data.unsqueeze(1)\n",
        "        data, target = data, target\n",
        "        \n",
        "        if torch.cuda.is_available():\n",
        "            data = data.cuda()\n",
        "            target = target.cuda()\n",
        "        \n",
        "        output = model(data)\n",
        "        \n",
        "        loss += F.cross_entropy(output, target, size_average=False).data\n",
        "\n",
        "        pred = output.data.max(1, keepdim=True)[1]\n",
        "        correct += pred.eq(target.data.view_as(pred)).cpu().sum()\n",
        "        \n",
        "    loss /= len(data_loader.dataset)\n",
        "        \n",
        "    print('\\nAverage Val Loss: {:.4f}, Val Accuracy: {}/{} ({:.3f}%)\\n'.format(\n",
        "        loss, correct, len(data_loader.dataset),\n",
        "        100. * correct / len(data_loader.dataset)))\n",
        "    acc = 100. * correct / len(data_loader.dataset)\n",
        "    return loss.cpu(), acc.cpu()"
      ],
      "metadata": {
        "id": "OAM97ZSzbDCj"
      },
      "execution_count": null,
      "outputs": []
    },
    {
      "cell_type": "code",
      "source": [
        "def get_output(model, loader, with_prob=True):\n",
        "    y_pred, y_true, = [], []\n",
        "    loss = 0\n",
        "    correct = 0\n",
        "    if with_prob:\n",
        "        y_prob = []\n",
        "    else:\n",
        "        y_prob = None\n",
        "    for inputs, labels in loader:\n",
        "        if torch.cuda.is_available():\n",
        "            inputs = inputs.cuda()\n",
        "            labels = labels.cuda()\n",
        "        outputs = model(inputs)\n",
        "        loss += F.cross_entropy(outputs, labels, size_average=False).data\n",
        "        _, preds = torch.max(outputs, 1)\n",
        "        if with_prob:\n",
        "            probs = torch.nn.functional.softmax(outputs, dim=1)\n",
        "        else:\n",
        "            probs = None\n",
        "        y_pred.append(preds.cpu().numpy())\n",
        "        y_true.append(labels.cpu().numpy())\n",
        "        if with_prob:\n",
        "            y_prob.append(probs.detach().cpu().numpy())\n",
        "\n",
        "        correct += preds.eq(labels.data.view_as(preds)).cpu().sum()\n",
        "\n",
        "    loss /= len(loader.dataset)\n",
        "    print('\\nAverage Val Loss: {:.4f}, Val Accuracy: {}/{} ({:.3f}%)\\n'.format(\n",
        "        loss, correct, len(loader.dataset),\n",
        "        100. * correct / len(loader.dataset)))\n",
        "    y_pred = np.concatenate(y_pred)\n",
        "    y_true = np.concatenate(y_true)\n",
        "    if with_prob:\n",
        "        y_prob = np.concatenate(y_prob)\n",
        "    return y_pred, y_true, y_prob"
      ],
      "metadata": {
        "id": "VYHdB0svdKYk"
      },
      "execution_count": null,
      "outputs": []
    },
    {
      "cell_type": "code",
      "source": [
        "num_epochs = 30\n",
        "loss_per_epoch = np.array([])\n",
        "acc_per_epoch = np.array([])\n",
        "for n in range(num_epochs):\n",
        "    train_model(ann_model, train_loader, n)\n",
        "    lpe,ape = evaluate(ann_model, val_loader)\n",
        "    loss_per_epoch = np.append(loss_per_epoch,lpe)\n",
        "    acc_per_epoch = np.append(acc_per_epoch,ape)"
      ],
      "metadata": {
        "colab": {
          "base_uri": "https://localhost:8080/"
        },
        "id": "9Y_nGV5UbI5_",
        "outputId": "8d275817-6b57-44c3-eb96-b2e8487921ac"
      },
      "execution_count": null,
      "outputs": [
        {
          "output_type": "stream",
          "name": "stdout",
          "text": [
            "Train Epoch: 0 [1600/48000 (3%)]\tLoss: 1.107208\n",
            "Train Epoch: 0 [3200/48000 (7%)]\tLoss: 0.351183\n",
            "Train Epoch: 0 [4800/48000 (10%)]\tLoss: 0.179464\n",
            "Train Epoch: 0 [6400/48000 (13%)]\tLoss: 0.725904\n",
            "Train Epoch: 0 [8000/48000 (17%)]\tLoss: 0.182440\n",
            "Train Epoch: 0 [9600/48000 (20%)]\tLoss: 0.173670\n",
            "Train Epoch: 0 [11200/48000 (23%)]\tLoss: 0.772373\n",
            "Train Epoch: 0 [12800/48000 (27%)]\tLoss: 0.683052\n",
            "Train Epoch: 0 [14400/48000 (30%)]\tLoss: 0.089070\n",
            "Train Epoch: 0 [16000/48000 (33%)]\tLoss: 0.134856\n",
            "Train Epoch: 0 [17600/48000 (37%)]\tLoss: 0.309469\n",
            "Train Epoch: 0 [19200/48000 (40%)]\tLoss: 0.334960\n",
            "Train Epoch: 0 [20800/48000 (43%)]\tLoss: 0.405626\n",
            "Train Epoch: 0 [22400/48000 (47%)]\tLoss: 0.187258\n",
            "Train Epoch: 0 [24000/48000 (50%)]\tLoss: 0.170916\n",
            "Train Epoch: 0 [25600/48000 (53%)]\tLoss: 0.506476\n",
            "Train Epoch: 0 [27200/48000 (57%)]\tLoss: 0.341369\n",
            "Train Epoch: 0 [28800/48000 (60%)]\tLoss: 0.401906\n",
            "Train Epoch: 0 [30400/48000 (63%)]\tLoss: 0.587576\n",
            "Train Epoch: 0 [32000/48000 (67%)]\tLoss: 0.663676\n",
            "Train Epoch: 0 [33600/48000 (70%)]\tLoss: 0.786927\n",
            "Train Epoch: 0 [35200/48000 (73%)]\tLoss: 0.125444\n",
            "Train Epoch: 0 [36800/48000 (77%)]\tLoss: 0.206962\n",
            "Train Epoch: 0 [38400/48000 (80%)]\tLoss: 0.314494\n",
            "Train Epoch: 0 [40000/48000 (83%)]\tLoss: 0.214287\n",
            "Train Epoch: 0 [41600/48000 (87%)]\tLoss: 0.507778\n",
            "Train Epoch: 0 [43200/48000 (90%)]\tLoss: 1.084319\n",
            "Train Epoch: 0 [44800/48000 (93%)]\tLoss: 0.141586\n",
            "Train Epoch: 0 [46400/48000 (97%)]\tLoss: 0.239456\n",
            "Train Epoch: 0 [48000/48000 (100%)]\tLoss: 0.154520\n",
            "\n",
            "Average Val Loss: 0.2557, Val Accuracy: 11211/12000 (93.425%)\n",
            "\n",
            "Train Epoch: 1 [1600/48000 (3%)]\tLoss: 0.000701\n",
            "Train Epoch: 1 [3200/48000 (7%)]\tLoss: 0.131074\n",
            "Train Epoch: 1 [4800/48000 (10%)]\tLoss: 0.191464\n",
            "Train Epoch: 1 [6400/48000 (13%)]\tLoss: 0.895202\n",
            "Train Epoch: 1 [8000/48000 (17%)]\tLoss: 0.113125\n",
            "Train Epoch: 1 [9600/48000 (20%)]\tLoss: 0.340346\n",
            "Train Epoch: 1 [11200/48000 (23%)]\tLoss: 0.199255\n",
            "Train Epoch: 1 [12800/48000 (27%)]\tLoss: 0.083031\n",
            "Train Epoch: 1 [14400/48000 (30%)]\tLoss: 0.291923\n",
            "Train Epoch: 1 [16000/48000 (33%)]\tLoss: 0.254292\n",
            "Train Epoch: 1 [17600/48000 (37%)]\tLoss: 0.890598\n",
            "Train Epoch: 1 [19200/48000 (40%)]\tLoss: 0.127111\n",
            "Train Epoch: 1 [20800/48000 (43%)]\tLoss: 0.322987\n",
            "Train Epoch: 1 [22400/48000 (47%)]\tLoss: 0.158709\n",
            "Train Epoch: 1 [24000/48000 (50%)]\tLoss: 0.055433\n",
            "Train Epoch: 1 [25600/48000 (53%)]\tLoss: 0.405900\n",
            "Train Epoch: 1 [27200/48000 (57%)]\tLoss: 0.051279\n",
            "Train Epoch: 1 [28800/48000 (60%)]\tLoss: 0.526260\n",
            "Train Epoch: 1 [30400/48000 (63%)]\tLoss: 0.833303\n",
            "Train Epoch: 1 [32000/48000 (67%)]\tLoss: 0.157332\n",
            "Train Epoch: 1 [33600/48000 (70%)]\tLoss: 0.586775\n",
            "Train Epoch: 1 [35200/48000 (73%)]\tLoss: 0.406215\n",
            "Train Epoch: 1 [36800/48000 (77%)]\tLoss: 0.182984\n",
            "Train Epoch: 1 [38400/48000 (80%)]\tLoss: 0.005780\n",
            "Train Epoch: 1 [40000/48000 (83%)]\tLoss: 0.427901\n",
            "Train Epoch: 1 [41600/48000 (87%)]\tLoss: 0.345955\n",
            "Train Epoch: 1 [43200/48000 (90%)]\tLoss: 0.023482\n",
            "Train Epoch: 1 [44800/48000 (93%)]\tLoss: 0.711789\n",
            "Train Epoch: 1 [46400/48000 (97%)]\tLoss: 0.009944\n",
            "Train Epoch: 1 [48000/48000 (100%)]\tLoss: 0.461256\n",
            "\n",
            "Average Val Loss: 0.2789, Val Accuracy: 11130/12000 (92.750%)\n",
            "\n",
            "Train Epoch: 2 [1600/48000 (3%)]\tLoss: 0.009560\n",
            "Train Epoch: 2 [3200/48000 (7%)]\tLoss: 0.051926\n",
            "Train Epoch: 2 [4800/48000 (10%)]\tLoss: 0.797516\n",
            "Train Epoch: 2 [6400/48000 (13%)]\tLoss: 0.045971\n",
            "Train Epoch: 2 [8000/48000 (17%)]\tLoss: 0.240664\n",
            "Train Epoch: 2 [9600/48000 (20%)]\tLoss: 0.737432\n",
            "Train Epoch: 2 [11200/48000 (23%)]\tLoss: 0.500891\n",
            "Train Epoch: 2 [12800/48000 (27%)]\tLoss: 0.101112\n",
            "Train Epoch: 2 [14400/48000 (30%)]\tLoss: 0.596988\n",
            "Train Epoch: 2 [16000/48000 (33%)]\tLoss: 0.072513\n",
            "Train Epoch: 2 [17600/48000 (37%)]\tLoss: 0.015827\n",
            "Train Epoch: 2 [19200/48000 (40%)]\tLoss: 0.446540\n",
            "Train Epoch: 2 [20800/48000 (43%)]\tLoss: 0.236090\n",
            "Train Epoch: 2 [22400/48000 (47%)]\tLoss: 0.151706\n",
            "Train Epoch: 2 [24000/48000 (50%)]\tLoss: 0.392351\n",
            "Train Epoch: 2 [25600/48000 (53%)]\tLoss: 0.247672\n",
            "Train Epoch: 2 [27200/48000 (57%)]\tLoss: 0.266888\n",
            "Train Epoch: 2 [28800/48000 (60%)]\tLoss: 0.520830\n",
            "Train Epoch: 2 [30400/48000 (63%)]\tLoss: 0.173143\n",
            "Train Epoch: 2 [32000/48000 (67%)]\tLoss: 0.122439\n",
            "Train Epoch: 2 [33600/48000 (70%)]\tLoss: 0.119134\n",
            "Train Epoch: 2 [35200/48000 (73%)]\tLoss: 0.716583\n",
            "Train Epoch: 2 [36800/48000 (77%)]\tLoss: 0.286340\n",
            "Train Epoch: 2 [38400/48000 (80%)]\tLoss: 0.097052\n",
            "Train Epoch: 2 [40000/48000 (83%)]\tLoss: 0.203595\n",
            "Train Epoch: 2 [41600/48000 (87%)]\tLoss: 0.307383\n",
            "Train Epoch: 2 [43200/48000 (90%)]\tLoss: 0.270369\n",
            "Train Epoch: 2 [44800/48000 (93%)]\tLoss: 0.585365\n",
            "Train Epoch: 2 [46400/48000 (97%)]\tLoss: 0.157393\n",
            "Train Epoch: 2 [48000/48000 (100%)]\tLoss: 0.220884\n",
            "\n",
            "Average Val Loss: 0.2557, Val Accuracy: 11205/12000 (93.375%)\n",
            "\n",
            "Train Epoch: 3 [1600/48000 (3%)]\tLoss: 0.142663\n",
            "Train Epoch: 3 [3200/48000 (7%)]\tLoss: 0.036517\n",
            "Train Epoch: 3 [4800/48000 (10%)]\tLoss: 0.152808\n",
            "Train Epoch: 3 [6400/48000 (13%)]\tLoss: 0.423084\n",
            "Train Epoch: 3 [8000/48000 (17%)]\tLoss: 1.338407\n",
            "Train Epoch: 3 [9600/48000 (20%)]\tLoss: 0.360540\n",
            "Train Epoch: 3 [11200/48000 (23%)]\tLoss: 0.030564\n",
            "Train Epoch: 3 [12800/48000 (27%)]\tLoss: 0.003772\n",
            "Train Epoch: 3 [14400/48000 (30%)]\tLoss: 0.243919\n",
            "Train Epoch: 3 [16000/48000 (33%)]\tLoss: 0.137974\n",
            "Train Epoch: 3 [17600/48000 (37%)]\tLoss: 0.159339\n",
            "Train Epoch: 3 [19200/48000 (40%)]\tLoss: 0.024475\n",
            "Train Epoch: 3 [20800/48000 (43%)]\tLoss: 0.652934\n",
            "Train Epoch: 3 [22400/48000 (47%)]\tLoss: 0.028248\n",
            "Train Epoch: 3 [24000/48000 (50%)]\tLoss: 0.106728\n",
            "Train Epoch: 3 [25600/48000 (53%)]\tLoss: 0.222498\n",
            "Train Epoch: 3 [27200/48000 (57%)]\tLoss: 0.083202\n",
            "Train Epoch: 3 [28800/48000 (60%)]\tLoss: 1.747390\n",
            "Train Epoch: 3 [30400/48000 (63%)]\tLoss: 0.864003\n",
            "Train Epoch: 3 [32000/48000 (67%)]\tLoss: 0.402445\n",
            "Train Epoch: 3 [33600/48000 (70%)]\tLoss: 0.036010\n",
            "Train Epoch: 3 [35200/48000 (73%)]\tLoss: 0.088385\n",
            "Train Epoch: 3 [36800/48000 (77%)]\tLoss: 0.390908\n",
            "Train Epoch: 3 [38400/48000 (80%)]\tLoss: 0.195153\n",
            "Train Epoch: 3 [40000/48000 (83%)]\tLoss: 0.007058\n",
            "Train Epoch: 3 [41600/48000 (87%)]\tLoss: 0.183520\n",
            "Train Epoch: 3 [43200/48000 (90%)]\tLoss: 0.476689\n",
            "Train Epoch: 3 [44800/48000 (93%)]\tLoss: 0.322671\n",
            "Train Epoch: 3 [46400/48000 (97%)]\tLoss: 0.015767\n",
            "Train Epoch: 3 [48000/48000 (100%)]\tLoss: 0.285689\n",
            "\n",
            "Average Val Loss: 0.2591, Val Accuracy: 11312/12000 (94.267%)\n",
            "\n",
            "Train Epoch: 4 [1600/48000 (3%)]\tLoss: 0.051702\n",
            "Train Epoch: 4 [3200/48000 (7%)]\tLoss: 0.155970\n",
            "Train Epoch: 4 [4800/48000 (10%)]\tLoss: 0.200337\n",
            "Train Epoch: 4 [6400/48000 (13%)]\tLoss: 0.615762\n",
            "Train Epoch: 4 [8000/48000 (17%)]\tLoss: 0.413761\n",
            "Train Epoch: 4 [9600/48000 (20%)]\tLoss: 0.437918\n",
            "Train Epoch: 4 [11200/48000 (23%)]\tLoss: 1.195479\n",
            "Train Epoch: 4 [12800/48000 (27%)]\tLoss: 0.342537\n",
            "Train Epoch: 4 [14400/48000 (30%)]\tLoss: 0.395074\n",
            "Train Epoch: 4 [16000/48000 (33%)]\tLoss: 0.172498\n",
            "Train Epoch: 4 [17600/48000 (37%)]\tLoss: 0.234197\n",
            "Train Epoch: 4 [19200/48000 (40%)]\tLoss: 0.051402\n",
            "Train Epoch: 4 [20800/48000 (43%)]\tLoss: 0.337687\n",
            "Train Epoch: 4 [22400/48000 (47%)]\tLoss: 0.025950\n",
            "Train Epoch: 4 [24000/48000 (50%)]\tLoss: 0.750906\n",
            "Train Epoch: 4 [25600/48000 (53%)]\tLoss: 0.291972\n",
            "Train Epoch: 4 [27200/48000 (57%)]\tLoss: 0.083309\n",
            "Train Epoch: 4 [28800/48000 (60%)]\tLoss: 0.300416\n",
            "Train Epoch: 4 [30400/48000 (63%)]\tLoss: 0.344447\n",
            "Train Epoch: 4 [32000/48000 (67%)]\tLoss: 0.255206\n",
            "Train Epoch: 4 [33600/48000 (70%)]\tLoss: 1.400016\n",
            "Train Epoch: 4 [35200/48000 (73%)]\tLoss: 1.790902\n",
            "Train Epoch: 4 [36800/48000 (77%)]\tLoss: 1.034398\n",
            "Train Epoch: 4 [38400/48000 (80%)]\tLoss: 0.028337\n",
            "Train Epoch: 4 [40000/48000 (83%)]\tLoss: 0.296773\n",
            "Train Epoch: 4 [41600/48000 (87%)]\tLoss: 0.404418\n",
            "Train Epoch: 4 [43200/48000 (90%)]\tLoss: 0.212758\n",
            "Train Epoch: 4 [44800/48000 (93%)]\tLoss: 0.145056\n",
            "Train Epoch: 4 [46400/48000 (97%)]\tLoss: 0.332514\n",
            "Train Epoch: 4 [48000/48000 (100%)]\tLoss: 0.104341\n",
            "\n",
            "Average Val Loss: 0.2990, Val Accuracy: 11325/12000 (94.375%)\n",
            "\n",
            "Train Epoch: 5 [1600/48000 (3%)]\tLoss: 0.194819\n",
            "Train Epoch: 5 [3200/48000 (7%)]\tLoss: 1.824431\n",
            "Train Epoch: 5 [4800/48000 (10%)]\tLoss: 0.400692\n",
            "Train Epoch: 5 [6400/48000 (13%)]\tLoss: 0.414622\n",
            "Train Epoch: 5 [8000/48000 (17%)]\tLoss: 0.185473\n",
            "Train Epoch: 5 [9600/48000 (20%)]\tLoss: 0.385317\n",
            "Train Epoch: 5 [11200/48000 (23%)]\tLoss: 0.182713\n",
            "Train Epoch: 5 [12800/48000 (27%)]\tLoss: 1.084465\n",
            "Train Epoch: 5 [14400/48000 (30%)]\tLoss: 0.168115\n",
            "Train Epoch: 5 [16000/48000 (33%)]\tLoss: 0.178276\n",
            "Train Epoch: 5 [17600/48000 (37%)]\tLoss: 0.057201\n",
            "Train Epoch: 5 [19200/48000 (40%)]\tLoss: 0.149323\n",
            "Train Epoch: 5 [20800/48000 (43%)]\tLoss: 0.204464\n",
            "Train Epoch: 5 [22400/48000 (47%)]\tLoss: 0.164043\n",
            "Train Epoch: 5 [24000/48000 (50%)]\tLoss: 0.180993\n",
            "Train Epoch: 5 [25600/48000 (53%)]\tLoss: 0.186006\n",
            "Train Epoch: 5 [27200/48000 (57%)]\tLoss: 1.179796\n",
            "Train Epoch: 5 [28800/48000 (60%)]\tLoss: 0.217692\n",
            "Train Epoch: 5 [30400/48000 (63%)]\tLoss: 0.313769\n",
            "Train Epoch: 5 [32000/48000 (67%)]\tLoss: 0.239010\n",
            "Train Epoch: 5 [33600/48000 (70%)]\tLoss: 0.270149\n",
            "Train Epoch: 5 [35200/48000 (73%)]\tLoss: 0.488365\n",
            "Train Epoch: 5 [36800/48000 (77%)]\tLoss: 0.000251\n",
            "Train Epoch: 5 [38400/48000 (80%)]\tLoss: 0.337141\n",
            "Train Epoch: 5 [40000/48000 (83%)]\tLoss: 0.398474\n",
            "Train Epoch: 5 [41600/48000 (87%)]\tLoss: 0.418442\n",
            "Train Epoch: 5 [43200/48000 (90%)]\tLoss: 0.345063\n",
            "Train Epoch: 5 [44800/48000 (93%)]\tLoss: 0.193558\n",
            "Train Epoch: 5 [46400/48000 (97%)]\tLoss: 0.194463\n",
            "Train Epoch: 5 [48000/48000 (100%)]\tLoss: 0.950140\n",
            "\n",
            "Average Val Loss: 0.2794, Val Accuracy: 11373/12000 (94.775%)\n",
            "\n",
            "Train Epoch: 6 [1600/48000 (3%)]\tLoss: 0.157626\n",
            "Train Epoch: 6 [3200/48000 (7%)]\tLoss: 0.356670\n",
            "Train Epoch: 6 [4800/48000 (10%)]\tLoss: 0.382855\n",
            "Train Epoch: 6 [6400/48000 (13%)]\tLoss: 0.036582\n",
            "Train Epoch: 6 [8000/48000 (17%)]\tLoss: 0.166810\n",
            "Train Epoch: 6 [9600/48000 (20%)]\tLoss: 0.918647\n",
            "Train Epoch: 6 [11200/48000 (23%)]\tLoss: 0.159548\n",
            "Train Epoch: 6 [12800/48000 (27%)]\tLoss: 0.024354\n",
            "Train Epoch: 6 [14400/48000 (30%)]\tLoss: 0.190659\n",
            "Train Epoch: 6 [16000/48000 (33%)]\tLoss: 0.000318\n",
            "Train Epoch: 6 [17600/48000 (37%)]\tLoss: 0.381372\n",
            "Train Epoch: 6 [19200/48000 (40%)]\tLoss: 0.298645\n",
            "Train Epoch: 6 [20800/48000 (43%)]\tLoss: 0.185586\n",
            "Train Epoch: 6 [22400/48000 (47%)]\tLoss: 0.115115\n",
            "Train Epoch: 6 [24000/48000 (50%)]\tLoss: 0.260583\n",
            "Train Epoch: 6 [25600/48000 (53%)]\tLoss: 0.049565\n",
            "Train Epoch: 6 [27200/48000 (57%)]\tLoss: 0.092370\n",
            "Train Epoch: 6 [28800/48000 (60%)]\tLoss: 0.061880\n",
            "Train Epoch: 6 [30400/48000 (63%)]\tLoss: 0.150981\n",
            "Train Epoch: 6 [32000/48000 (67%)]\tLoss: 0.016091\n",
            "Train Epoch: 6 [33600/48000 (70%)]\tLoss: 0.121746\n",
            "Train Epoch: 6 [35200/48000 (73%)]\tLoss: 0.309141\n",
            "Train Epoch: 6 [36800/48000 (77%)]\tLoss: 0.156190\n",
            "Train Epoch: 6 [38400/48000 (80%)]\tLoss: 0.010929\n",
            "Train Epoch: 6 [40000/48000 (83%)]\tLoss: 0.057403\n",
            "Train Epoch: 6 [41600/48000 (87%)]\tLoss: 0.052953\n",
            "Train Epoch: 6 [43200/48000 (90%)]\tLoss: 0.167692\n",
            "Train Epoch: 6 [44800/48000 (93%)]\tLoss: 0.001107\n",
            "Train Epoch: 6 [46400/48000 (97%)]\tLoss: 0.006560\n",
            "Train Epoch: 6 [48000/48000 (100%)]\tLoss: 0.294510\n",
            "\n",
            "Average Val Loss: 0.1800, Val Accuracy: 11538/12000 (96.150%)\n",
            "\n",
            "Train Epoch: 7 [1600/48000 (3%)]\tLoss: 0.057961\n",
            "Train Epoch: 7 [3200/48000 (7%)]\tLoss: 0.506307\n",
            "Train Epoch: 7 [4800/48000 (10%)]\tLoss: 0.003080\n",
            "Train Epoch: 7 [6400/48000 (13%)]\tLoss: 0.115677\n",
            "Train Epoch: 7 [8000/48000 (17%)]\tLoss: 0.000012\n",
            "Train Epoch: 7 [9600/48000 (20%)]\tLoss: 0.003824\n",
            "Train Epoch: 7 [11200/48000 (23%)]\tLoss: 0.027790\n",
            "Train Epoch: 7 [12800/48000 (27%)]\tLoss: 0.812650\n",
            "Train Epoch: 7 [14400/48000 (30%)]\tLoss: 0.213778\n",
            "Train Epoch: 7 [16000/48000 (33%)]\tLoss: 0.134302\n",
            "Train Epoch: 7 [17600/48000 (37%)]\tLoss: 0.008478\n",
            "Train Epoch: 7 [19200/48000 (40%)]\tLoss: 0.002550\n",
            "Train Epoch: 7 [20800/48000 (43%)]\tLoss: 0.204479\n",
            "Train Epoch: 7 [22400/48000 (47%)]\tLoss: 0.015107\n",
            "Train Epoch: 7 [24000/48000 (50%)]\tLoss: 0.006477\n",
            "Train Epoch: 7 [25600/48000 (53%)]\tLoss: 0.000775\n",
            "Train Epoch: 7 [27200/48000 (57%)]\tLoss: 0.186086\n",
            "Train Epoch: 7 [28800/48000 (60%)]\tLoss: 0.000024\n",
            "Train Epoch: 7 [30400/48000 (63%)]\tLoss: 0.003155\n",
            "Train Epoch: 7 [32000/48000 (67%)]\tLoss: 0.008647\n",
            "Train Epoch: 7 [33600/48000 (70%)]\tLoss: 0.340737\n",
            "Train Epoch: 7 [35200/48000 (73%)]\tLoss: 0.012731\n",
            "Train Epoch: 7 [36800/48000 (77%)]\tLoss: 0.120515\n",
            "Train Epoch: 7 [38400/48000 (80%)]\tLoss: 0.000923\n",
            "Train Epoch: 7 [40000/48000 (83%)]\tLoss: 0.175062\n",
            "Train Epoch: 7 [41600/48000 (87%)]\tLoss: 0.084292\n",
            "Train Epoch: 7 [43200/48000 (90%)]\tLoss: 0.477752\n",
            "Train Epoch: 7 [44800/48000 (93%)]\tLoss: 0.278048\n",
            "Train Epoch: 7 [46400/48000 (97%)]\tLoss: 0.217526\n",
            "Train Epoch: 7 [48000/48000 (100%)]\tLoss: 0.175010\n",
            "\n",
            "Average Val Loss: 0.1702, Val Accuracy: 11585/12000 (96.542%)\n",
            "\n",
            "Train Epoch: 8 [1600/48000 (3%)]\tLoss: 0.000213\n",
            "Train Epoch: 8 [3200/48000 (7%)]\tLoss: 0.108913\n",
            "Train Epoch: 8 [4800/48000 (10%)]\tLoss: 0.051486\n",
            "Train Epoch: 8 [6400/48000 (13%)]\tLoss: 0.063149\n",
            "Train Epoch: 8 [8000/48000 (17%)]\tLoss: 0.506570\n",
            "Train Epoch: 8 [9600/48000 (20%)]\tLoss: 0.222342\n",
            "Train Epoch: 8 [11200/48000 (23%)]\tLoss: 0.066985\n",
            "Train Epoch: 8 [12800/48000 (27%)]\tLoss: 0.118004\n",
            "Train Epoch: 8 [14400/48000 (30%)]\tLoss: 0.006040\n",
            "Train Epoch: 8 [16000/48000 (33%)]\tLoss: 0.031002\n",
            "Train Epoch: 8 [17600/48000 (37%)]\tLoss: 0.000526\n",
            "Train Epoch: 8 [19200/48000 (40%)]\tLoss: 0.000017\n",
            "Train Epoch: 8 [20800/48000 (43%)]\tLoss: 0.099478\n",
            "Train Epoch: 8 [22400/48000 (47%)]\tLoss: 0.329949\n",
            "Train Epoch: 8 [24000/48000 (50%)]\tLoss: 0.207660\n",
            "Train Epoch: 8 [25600/48000 (53%)]\tLoss: 0.000801\n",
            "Train Epoch: 8 [27200/48000 (57%)]\tLoss: 0.025066\n",
            "Train Epoch: 8 [28800/48000 (60%)]\tLoss: 0.004648\n",
            "Train Epoch: 8 [30400/48000 (63%)]\tLoss: 0.044163\n",
            "Train Epoch: 8 [32000/48000 (67%)]\tLoss: 0.010812\n",
            "Train Epoch: 8 [33600/48000 (70%)]\tLoss: 0.004892\n",
            "Train Epoch: 8 [35200/48000 (73%)]\tLoss: 0.124507\n",
            "Train Epoch: 8 [36800/48000 (77%)]\tLoss: 0.025189\n",
            "Train Epoch: 8 [38400/48000 (80%)]\tLoss: 0.033185\n",
            "Train Epoch: 8 [40000/48000 (83%)]\tLoss: 0.025598\n",
            "Train Epoch: 8 [41600/48000 (87%)]\tLoss: 0.144725\n",
            "Train Epoch: 8 [43200/48000 (90%)]\tLoss: 0.031809\n",
            "Train Epoch: 8 [44800/48000 (93%)]\tLoss: 0.053500\n",
            "Train Epoch: 8 [46400/48000 (97%)]\tLoss: 0.222122\n",
            "Train Epoch: 8 [48000/48000 (100%)]\tLoss: 0.164119\n",
            "\n",
            "Average Val Loss: 0.1605, Val Accuracy: 11599/12000 (96.658%)\n",
            "\n",
            "Train Epoch: 9 [1600/48000 (3%)]\tLoss: 0.361495\n",
            "Train Epoch: 9 [3200/48000 (7%)]\tLoss: 0.271278\n",
            "Train Epoch: 9 [4800/48000 (10%)]\tLoss: 0.003038\n",
            "Train Epoch: 9 [6400/48000 (13%)]\tLoss: 0.111862\n",
            "Train Epoch: 9 [8000/48000 (17%)]\tLoss: 0.296573\n",
            "Train Epoch: 9 [9600/48000 (20%)]\tLoss: 0.069840\n",
            "Train Epoch: 9 [11200/48000 (23%)]\tLoss: 0.461224\n",
            "Train Epoch: 9 [12800/48000 (27%)]\tLoss: 0.057206\n",
            "Train Epoch: 9 [14400/48000 (30%)]\tLoss: 0.017374\n",
            "Train Epoch: 9 [16000/48000 (33%)]\tLoss: 0.372518\n",
            "Train Epoch: 9 [17600/48000 (37%)]\tLoss: 0.722210\n",
            "Train Epoch: 9 [19200/48000 (40%)]\tLoss: 0.477461\n",
            "Train Epoch: 9 [20800/48000 (43%)]\tLoss: 0.073712\n",
            "Train Epoch: 9 [22400/48000 (47%)]\tLoss: 0.000033\n",
            "Train Epoch: 9 [24000/48000 (50%)]\tLoss: 0.131646\n",
            "Train Epoch: 9 [25600/48000 (53%)]\tLoss: 0.091874\n",
            "Train Epoch: 9 [27200/48000 (57%)]\tLoss: 0.004915\n",
            "Train Epoch: 9 [28800/48000 (60%)]\tLoss: 0.046633\n",
            "Train Epoch: 9 [30400/48000 (63%)]\tLoss: 0.000191\n",
            "Train Epoch: 9 [32000/48000 (67%)]\tLoss: 0.265200\n",
            "Train Epoch: 9 [33600/48000 (70%)]\tLoss: 0.008049\n",
            "Train Epoch: 9 [35200/48000 (73%)]\tLoss: 0.092624\n",
            "Train Epoch: 9 [36800/48000 (77%)]\tLoss: 0.517473\n",
            "Train Epoch: 9 [38400/48000 (80%)]\tLoss: 0.025997\n",
            "Train Epoch: 9 [40000/48000 (83%)]\tLoss: 0.068415\n",
            "Train Epoch: 9 [41600/48000 (87%)]\tLoss: 0.000221\n",
            "Train Epoch: 9 [43200/48000 (90%)]\tLoss: 0.000580\n",
            "Train Epoch: 9 [44800/48000 (93%)]\tLoss: 0.037527\n",
            "Train Epoch: 9 [46400/48000 (97%)]\tLoss: 0.181249\n",
            "Train Epoch: 9 [48000/48000 (100%)]\tLoss: 0.034877\n",
            "\n",
            "Average Val Loss: 0.1658, Val Accuracy: 11608/12000 (96.733%)\n",
            "\n",
            "Train Epoch: 10 [1600/48000 (3%)]\tLoss: 0.001775\n",
            "Train Epoch: 10 [3200/48000 (7%)]\tLoss: 0.083042\n",
            "Train Epoch: 10 [4800/48000 (10%)]\tLoss: 0.257893\n",
            "Train Epoch: 10 [6400/48000 (13%)]\tLoss: 0.124151\n",
            "Train Epoch: 10 [8000/48000 (17%)]\tLoss: 0.007572\n",
            "Train Epoch: 10 [9600/48000 (20%)]\tLoss: 0.300210\n",
            "Train Epoch: 10 [11200/48000 (23%)]\tLoss: 0.071597\n",
            "Train Epoch: 10 [12800/48000 (27%)]\tLoss: 0.073454\n",
            "Train Epoch: 10 [14400/48000 (30%)]\tLoss: 0.001509\n",
            "Train Epoch: 10 [16000/48000 (33%)]\tLoss: 0.475108\n",
            "Train Epoch: 10 [17600/48000 (37%)]\tLoss: 0.507503\n",
            "Train Epoch: 10 [19200/48000 (40%)]\tLoss: 0.307751\n",
            "Train Epoch: 10 [20800/48000 (43%)]\tLoss: 0.176695\n",
            "Train Epoch: 10 [22400/48000 (47%)]\tLoss: 0.020126\n",
            "Train Epoch: 10 [24000/48000 (50%)]\tLoss: 0.039231\n",
            "Train Epoch: 10 [25600/48000 (53%)]\tLoss: 0.055643\n",
            "Train Epoch: 10 [27200/48000 (57%)]\tLoss: 0.016802\n",
            "Train Epoch: 10 [28800/48000 (60%)]\tLoss: 0.225509\n",
            "Train Epoch: 10 [30400/48000 (63%)]\tLoss: 0.291237\n",
            "Train Epoch: 10 [32000/48000 (67%)]\tLoss: 0.117800\n",
            "Train Epoch: 10 [33600/48000 (70%)]\tLoss: 0.039288\n",
            "Train Epoch: 10 [35200/48000 (73%)]\tLoss: 0.233804\n",
            "Train Epoch: 10 [36800/48000 (77%)]\tLoss: 0.053374\n",
            "Train Epoch: 10 [38400/48000 (80%)]\tLoss: 0.555248\n",
            "Train Epoch: 10 [40000/48000 (83%)]\tLoss: 0.997892\n",
            "Train Epoch: 10 [41600/48000 (87%)]\tLoss: 0.004055\n",
            "Train Epoch: 10 [43200/48000 (90%)]\tLoss: 0.174944\n",
            "Train Epoch: 10 [44800/48000 (93%)]\tLoss: 0.038424\n",
            "Train Epoch: 10 [46400/48000 (97%)]\tLoss: 0.200532\n",
            "Train Epoch: 10 [48000/48000 (100%)]\tLoss: 0.118484\n",
            "\n",
            "Average Val Loss: 0.1656, Val Accuracy: 11613/12000 (96.775%)\n",
            "\n",
            "Train Epoch: 11 [1600/48000 (3%)]\tLoss: 0.220311\n",
            "Train Epoch: 11 [3200/48000 (7%)]\tLoss: 0.034559\n",
            "Train Epoch: 11 [4800/48000 (10%)]\tLoss: 0.372496\n",
            "Train Epoch: 11 [6400/48000 (13%)]\tLoss: 0.086775\n",
            "Train Epoch: 11 [8000/48000 (17%)]\tLoss: 0.030739\n",
            "Train Epoch: 11 [9600/48000 (20%)]\tLoss: 0.001166\n",
            "Train Epoch: 11 [11200/48000 (23%)]\tLoss: 0.394855\n",
            "Train Epoch: 11 [12800/48000 (27%)]\tLoss: 0.008709\n",
            "Train Epoch: 11 [14400/48000 (30%)]\tLoss: 0.238205\n",
            "Train Epoch: 11 [16000/48000 (33%)]\tLoss: 0.109802\n",
            "Train Epoch: 11 [17600/48000 (37%)]\tLoss: 0.080823\n",
            "Train Epoch: 11 [19200/48000 (40%)]\tLoss: 0.481271\n",
            "Train Epoch: 11 [20800/48000 (43%)]\tLoss: 0.017505\n",
            "Train Epoch: 11 [22400/48000 (47%)]\tLoss: 0.017347\n",
            "Train Epoch: 11 [24000/48000 (50%)]\tLoss: 0.150185\n",
            "Train Epoch: 11 [25600/48000 (53%)]\tLoss: 0.003984\n",
            "Train Epoch: 11 [27200/48000 (57%)]\tLoss: 0.197785\n",
            "Train Epoch: 11 [28800/48000 (60%)]\tLoss: 0.207411\n",
            "Train Epoch: 11 [30400/48000 (63%)]\tLoss: 0.108434\n",
            "Train Epoch: 11 [32000/48000 (67%)]\tLoss: 0.001063\n",
            "Train Epoch: 11 [33600/48000 (70%)]\tLoss: 0.102677\n",
            "Train Epoch: 11 [35200/48000 (73%)]\tLoss: 0.076730\n",
            "Train Epoch: 11 [36800/48000 (77%)]\tLoss: 0.210577\n",
            "Train Epoch: 11 [38400/48000 (80%)]\tLoss: 0.111057\n",
            "Train Epoch: 11 [40000/48000 (83%)]\tLoss: 0.051068\n",
            "Train Epoch: 11 [41600/48000 (87%)]\tLoss: 0.159576\n",
            "Train Epoch: 11 [43200/48000 (90%)]\tLoss: 0.001356\n",
            "Train Epoch: 11 [44800/48000 (93%)]\tLoss: 0.001999\n",
            "Train Epoch: 11 [46400/48000 (97%)]\tLoss: 0.210697\n",
            "Train Epoch: 11 [48000/48000 (100%)]\tLoss: 0.572111\n",
            "\n",
            "Average Val Loss: 0.1623, Val Accuracy: 11613/12000 (96.775%)\n",
            "\n",
            "Train Epoch: 12 [1600/48000 (3%)]\tLoss: 0.071966\n",
            "Train Epoch: 12 [3200/48000 (7%)]\tLoss: 0.134213\n",
            "Train Epoch: 12 [4800/48000 (10%)]\tLoss: 0.096832\n",
            "Train Epoch: 12 [6400/48000 (13%)]\tLoss: 0.000041\n",
            "Train Epoch: 12 [8000/48000 (17%)]\tLoss: 0.001110\n",
            "Train Epoch: 12 [9600/48000 (20%)]\tLoss: 0.020529\n",
            "Train Epoch: 12 [11200/48000 (23%)]\tLoss: 0.000004\n",
            "Train Epoch: 12 [12800/48000 (27%)]\tLoss: 0.180316\n",
            "Train Epoch: 12 [14400/48000 (30%)]\tLoss: 0.001009\n",
            "Train Epoch: 12 [16000/48000 (33%)]\tLoss: 0.006549\n",
            "Train Epoch: 12 [17600/48000 (37%)]\tLoss: 0.019482\n",
            "Train Epoch: 12 [19200/48000 (40%)]\tLoss: 0.001119\n",
            "Train Epoch: 12 [20800/48000 (43%)]\tLoss: 0.027024\n",
            "Train Epoch: 12 [22400/48000 (47%)]\tLoss: 0.195398\n",
            "Train Epoch: 12 [24000/48000 (50%)]\tLoss: 0.252854\n",
            "Train Epoch: 12 [25600/48000 (53%)]\tLoss: 0.251353\n",
            "Train Epoch: 12 [27200/48000 (57%)]\tLoss: 0.055929\n",
            "Train Epoch: 12 [28800/48000 (60%)]\tLoss: 0.135679\n",
            "Train Epoch: 12 [30400/48000 (63%)]\tLoss: 0.007550\n",
            "Train Epoch: 12 [32000/48000 (67%)]\tLoss: 0.057060\n",
            "Train Epoch: 12 [33600/48000 (70%)]\tLoss: 0.332246\n",
            "Train Epoch: 12 [35200/48000 (73%)]\tLoss: 0.152524\n",
            "Train Epoch: 12 [36800/48000 (77%)]\tLoss: 0.031713\n",
            "Train Epoch: 12 [38400/48000 (80%)]\tLoss: 0.007743\n",
            "Train Epoch: 12 [40000/48000 (83%)]\tLoss: 0.155372\n",
            "Train Epoch: 12 [41600/48000 (87%)]\tLoss: 0.006136\n",
            "Train Epoch: 12 [43200/48000 (90%)]\tLoss: 0.136977\n",
            "Train Epoch: 12 [44800/48000 (93%)]\tLoss: 0.189479\n",
            "Train Epoch: 12 [46400/48000 (97%)]\tLoss: 0.136222\n",
            "Train Epoch: 12 [48000/48000 (100%)]\tLoss: 0.275728\n",
            "\n",
            "Average Val Loss: 0.1596, Val Accuracy: 11627/12000 (96.892%)\n",
            "\n",
            "Train Epoch: 13 [1600/48000 (3%)]\tLoss: 0.004559\n",
            "Train Epoch: 13 [3200/48000 (7%)]\tLoss: 0.003297\n",
            "Train Epoch: 13 [4800/48000 (10%)]\tLoss: 0.292912\n",
            "Train Epoch: 13 [6400/48000 (13%)]\tLoss: 0.273039\n",
            "Train Epoch: 13 [8000/48000 (17%)]\tLoss: 0.033472\n",
            "Train Epoch: 13 [9600/48000 (20%)]\tLoss: 0.023041\n",
            "Train Epoch: 13 [11200/48000 (23%)]\tLoss: 0.022045\n",
            "Train Epoch: 13 [12800/48000 (27%)]\tLoss: 0.054914\n",
            "Train Epoch: 13 [14400/48000 (30%)]\tLoss: 0.146064\n",
            "Train Epoch: 13 [16000/48000 (33%)]\tLoss: 0.052868\n",
            "Train Epoch: 13 [17600/48000 (37%)]\tLoss: 0.166947\n",
            "Train Epoch: 13 [19200/48000 (40%)]\tLoss: 0.001949\n",
            "Train Epoch: 13 [20800/48000 (43%)]\tLoss: 0.000082\n",
            "Train Epoch: 13 [22400/48000 (47%)]\tLoss: 0.001069\n",
            "Train Epoch: 13 [24000/48000 (50%)]\tLoss: 0.061642\n",
            "Train Epoch: 13 [25600/48000 (53%)]\tLoss: 0.020231\n",
            "Train Epoch: 13 [27200/48000 (57%)]\tLoss: 0.000018\n",
            "Train Epoch: 13 [28800/48000 (60%)]\tLoss: 0.176333\n",
            "Train Epoch: 13 [30400/48000 (63%)]\tLoss: 0.133824\n",
            "Train Epoch: 13 [32000/48000 (67%)]\tLoss: 0.000010\n",
            "Train Epoch: 13 [33600/48000 (70%)]\tLoss: 0.000835\n",
            "Train Epoch: 13 [35200/48000 (73%)]\tLoss: 0.215523\n",
            "Train Epoch: 13 [36800/48000 (77%)]\tLoss: 0.061058\n",
            "Train Epoch: 13 [38400/48000 (80%)]\tLoss: 0.000145\n",
            "Train Epoch: 13 [40000/48000 (83%)]\tLoss: 0.001106\n",
            "Train Epoch: 13 [41600/48000 (87%)]\tLoss: 0.032496\n",
            "Train Epoch: 13 [43200/48000 (90%)]\tLoss: 0.209346\n",
            "Train Epoch: 13 [44800/48000 (93%)]\tLoss: 0.007366\n",
            "Train Epoch: 13 [46400/48000 (97%)]\tLoss: 0.337329\n",
            "Train Epoch: 13 [48000/48000 (100%)]\tLoss: 0.009535\n"
          ]
        },
        {
          "output_type": "stream",
          "name": "stderr",
          "text": [
            "Exception ignored in: <function _MultiProcessingDataLoaderIter.__del__ at 0x7fec2827cc10>\n",
            "Traceback (most recent call last):\n",
            "  File \"/usr/local/lib/python3.8/dist-packages/torch/utils/data/dataloader.py\", line 1466, in __del__\n",
            "    self._shutdown_workers()\n",
            "  File \"/usr/local/lib/python3.8/dist-packages/torch/utils/data/dataloader.py\", line 1449, in _shutdown_workers\n",
            "    if w.is_alive():\n",
            "  File \"/usr/lib/python3.8/multiprocessing/process.py\", line 160, in is_alive\n",
            "    assert self._parent_pid == os.getpid(), 'can only test a child process'\n",
            "AssertionError: can only test a child process\n"
          ]
        },
        {
          "output_type": "stream",
          "name": "stdout",
          "text": [
            "\n",
            "Average Val Loss: 0.1573, Val Accuracy: 11629/12000 (96.908%)\n",
            "\n",
            "Train Epoch: 14 [1600/48000 (3%)]\tLoss: 0.025292\n"
          ]
        },
        {
          "output_type": "stream",
          "name": "stderr",
          "text": [
            "Exception ignored in: <function _MultiProcessingDataLoaderIter.__del__ at 0x7fec2827cc10>\n",
            "Exception ignored in: <function _MultiProcessingDataLoaderIter.__del__ at 0x7fec2827cc10>Traceback (most recent call last):\n",
            "\n",
            "  File \"/usr/local/lib/python3.8/dist-packages/torch/utils/data/dataloader.py\", line 1466, in __del__\n",
            "Traceback (most recent call last):\n",
            "      File \"/usr/local/lib/python3.8/dist-packages/torch/utils/data/dataloader.py\", line 1466, in __del__\n",
            "self._shutdown_workers()    self._shutdown_workers()"
          ]
        },
        {
          "output_type": "stream",
          "name": "stdout",
          "text": [
            "Train Epoch: 14 [3200/48000 (7%)]\tLoss: 0.111462\n"
          ]
        },
        {
          "output_type": "stream",
          "name": "stderr",
          "text": [
            "\n",
            "\n",
            "  File \"/usr/local/lib/python3.8/dist-packages/torch/utils/data/dataloader.py\", line 1449, in _shutdown_workers\n",
            "  File \"/usr/local/lib/python3.8/dist-packages/torch/utils/data/dataloader.py\", line 1449, in _shutdown_workers\n",
            "        if w.is_alive():if w.is_alive():\n",
            "  File \"/usr/lib/python3.8/multiprocessing/process.py\", line 160, in is_alive\n",
            "\n",
            "  File \"/usr/lib/python3.8/multiprocessing/process.py\", line 160, in is_alive\n",
            "        assert self._parent_pid == os.getpid(), 'can only test a child process'\n",
            "assert self._parent_pid == os.getpid(), 'can only test a child process'AssertionError: can only test a child process\n",
            "\n",
            "AssertionError: can only test a child process\n"
          ]
        },
        {
          "output_type": "stream",
          "name": "stdout",
          "text": [
            "Train Epoch: 14 [4800/48000 (10%)]\tLoss: 0.012499\n",
            "Train Epoch: 14 [6400/48000 (13%)]\tLoss: 0.032099\n",
            "Train Epoch: 14 [8000/48000 (17%)]\tLoss: 0.089199\n",
            "Train Epoch: 14 [9600/48000 (20%)]\tLoss: 0.035625\n",
            "Train Epoch: 14 [11200/48000 (23%)]\tLoss: 0.300765\n",
            "Train Epoch: 14 [12800/48000 (27%)]\tLoss: 0.125246\n",
            "Train Epoch: 14 [14400/48000 (30%)]\tLoss: 0.000001\n",
            "Train Epoch: 14 [16000/48000 (33%)]\tLoss: 0.011391\n",
            "Train Epoch: 14 [17600/48000 (37%)]\tLoss: 0.079443\n",
            "Train Epoch: 14 [19200/48000 (40%)]\tLoss: 0.133361\n",
            "Train Epoch: 14 [20800/48000 (43%)]\tLoss: 0.031090\n",
            "Train Epoch: 14 [22400/48000 (47%)]\tLoss: 0.000632\n",
            "Train Epoch: 14 [24000/48000 (50%)]\tLoss: 0.021146\n",
            "Train Epoch: 14 [25600/48000 (53%)]\tLoss: 0.002297\n",
            "Train Epoch: 14 [27200/48000 (57%)]\tLoss: 0.022995\n",
            "Train Epoch: 14 [28800/48000 (60%)]\tLoss: 0.092797\n",
            "Train Epoch: 14 [30400/48000 (63%)]\tLoss: 0.032757\n",
            "Train Epoch: 14 [32000/48000 (67%)]\tLoss: 0.089723\n",
            "Train Epoch: 14 [33600/48000 (70%)]\tLoss: 0.004384\n",
            "Train Epoch: 14 [35200/48000 (73%)]\tLoss: 0.000415\n",
            "Train Epoch: 14 [36800/48000 (77%)]\tLoss: 0.020655\n",
            "Train Epoch: 14 [38400/48000 (80%)]\tLoss: 0.832791\n",
            "Train Epoch: 14 [40000/48000 (83%)]\tLoss: 0.158602\n",
            "Train Epoch: 14 [41600/48000 (87%)]\tLoss: 0.404028\n",
            "Train Epoch: 14 [43200/48000 (90%)]\tLoss: 0.000003\n",
            "Train Epoch: 14 [44800/48000 (93%)]\tLoss: 0.132654\n",
            "Train Epoch: 14 [46400/48000 (97%)]\tLoss: 0.061150\n",
            "Train Epoch: 14 [48000/48000 (100%)]\tLoss: 0.113991\n"
          ]
        },
        {
          "output_type": "stream",
          "name": "stderr",
          "text": [
            "Exception ignored in: <function _MultiProcessingDataLoaderIter.__del__ at 0x7fec2827cc10>\n",
            "Traceback (most recent call last):\n",
            "  File \"/usr/local/lib/python3.8/dist-packages/torch/utils/data/dataloader.py\", line 1466, in __del__\n",
            "    self._shutdown_workers()\n",
            "  File \"/usr/local/lib/python3.8/dist-packages/torch/utils/data/dataloader.py\", line 1449, in _shutdown_workers\n",
            "    if w.is_alive():\n",
            "  File \"/usr/lib/python3.8/multiprocessing/process.py\", line 160, in is_alive\n",
            "    assert self._parent_pid == os.getpid(), 'can only test a child process'\n",
            "AssertionError: can only test a child process\n",
            "Exception ignored in: <function _MultiProcessingDataLoaderIter.__del__ at 0x7fec2827cc10>\n",
            "Traceback (most recent call last):\n",
            "  File \"/usr/local/lib/python3.8/dist-packages/torch/utils/data/dataloader.py\", line 1466, in __del__\n",
            "    self._shutdown_workers()\n",
            "  File \"/usr/local/lib/python3.8/dist-packages/torch/utils/data/dataloader.py\", line 1449, in _shutdown_workers\n",
            "    if w.is_alive():\n",
            "  File \"/usr/lib/python3.8/multiprocessing/process.py\", line 160, in is_alive\n",
            "    assert self._parent_pid == os.getpid(), 'can only test a child process'\n",
            "AssertionError: can only test a child process\n"
          ]
        },
        {
          "output_type": "stream",
          "name": "stdout",
          "text": [
            "\n",
            "Average Val Loss: 0.1576, Val Accuracy: 11632/12000 (96.933%)\n",
            "\n",
            "Train Epoch: 15 [1600/48000 (3%)]\tLoss: 0.008945\n"
          ]
        },
        {
          "output_type": "stream",
          "name": "stderr",
          "text": [
            "Exception ignored in: <function _MultiProcessingDataLoaderIter.__del__ at 0x7fec2827cc10>\n",
            "Traceback (most recent call last):\n",
            "  File \"/usr/local/lib/python3.8/dist-packages/torch/utils/data/dataloader.py\", line 1466, in __del__\n",
            "    self._shutdown_workers()\n",
            "  File \"/usr/local/lib/python3.8/dist-packages/torch/utils/data/dataloader.py\", line 1449, in _shutdown_workers\n",
            "    if w.is_alive():\n",
            "  File \"/usr/lib/python3.8/multiprocessing/process.py\", line 160, in is_alive\n",
            "    assert self._parent_pid == os.getpid(), 'can only test a child process'\n",
            "AssertionError: can only test a child process\n",
            "Exception ignored in: <function _MultiProcessingDataLoaderIter.__del__ at 0x7fec2827cc10>\n",
            "Traceback (most recent call last):\n",
            "  File \"/usr/local/lib/python3.8/dist-packages/torch/utils/data/dataloader.py\", line 1466, in __del__\n",
            "    self._shutdown_workers()\n",
            "  File \"/usr/local/lib/python3.8/dist-packages/torch/utils/data/dataloader.py\", line 1449, in _shutdown_workers\n",
            "    if w.is_alive():\n",
            "  File \"/usr/lib/python3.8/multiprocessing/process.py\", line 160, in is_alive\n",
            "    assert self._parent_pid == os.getpid(), 'can only test a child process'\n",
            "AssertionError: can only test a child process\n"
          ]
        },
        {
          "output_type": "stream",
          "name": "stdout",
          "text": [
            "Train Epoch: 15 [3200/48000 (7%)]\tLoss: 0.000040\n",
            "Train Epoch: 15 [4800/48000 (10%)]\tLoss: 0.200298\n",
            "Train Epoch: 15 [6400/48000 (13%)]\tLoss: 0.000469\n",
            "Train Epoch: 15 [8000/48000 (17%)]\tLoss: 0.119054\n",
            "Train Epoch: 15 [9600/48000 (20%)]\tLoss: 0.001292\n",
            "Train Epoch: 15 [11200/48000 (23%)]\tLoss: 0.147461\n",
            "Train Epoch: 15 [12800/48000 (27%)]\tLoss: 0.000045\n",
            "Train Epoch: 15 [14400/48000 (30%)]\tLoss: 0.086044\n",
            "Train Epoch: 15 [16000/48000 (33%)]\tLoss: 0.141659\n",
            "Train Epoch: 15 [17600/48000 (37%)]\tLoss: 0.001708\n",
            "Train Epoch: 15 [19200/48000 (40%)]\tLoss: 0.016016\n",
            "Train Epoch: 15 [20800/48000 (43%)]\tLoss: 0.003409\n",
            "Train Epoch: 15 [22400/48000 (47%)]\tLoss: 0.009029\n",
            "Train Epoch: 15 [24000/48000 (50%)]\tLoss: 0.001150\n",
            "Train Epoch: 15 [25600/48000 (53%)]\tLoss: 0.119939\n",
            "Train Epoch: 15 [27200/48000 (57%)]\tLoss: 0.000001\n",
            "Train Epoch: 15 [28800/48000 (60%)]\tLoss: 0.028495\n",
            "Train Epoch: 15 [30400/48000 (63%)]\tLoss: 0.000020\n",
            "Train Epoch: 15 [32000/48000 (67%)]\tLoss: 0.099041\n",
            "Train Epoch: 15 [33600/48000 (70%)]\tLoss: 0.036806\n",
            "Train Epoch: 15 [35200/48000 (73%)]\tLoss: 0.017239\n",
            "Train Epoch: 15 [36800/48000 (77%)]\tLoss: 0.101021\n",
            "Train Epoch: 15 [38400/48000 (80%)]\tLoss: 0.002192\n",
            "Train Epoch: 15 [40000/48000 (83%)]\tLoss: 0.004087\n",
            "Train Epoch: 15 [41600/48000 (87%)]\tLoss: 0.019626\n",
            "Train Epoch: 15 [43200/48000 (90%)]\tLoss: 0.168401\n",
            "Train Epoch: 15 [44800/48000 (93%)]\tLoss: 0.025159\n",
            "Train Epoch: 15 [46400/48000 (97%)]\tLoss: 0.067755\n",
            "Train Epoch: 15 [48000/48000 (100%)]\tLoss: 0.007617\n"
          ]
        },
        {
          "output_type": "stream",
          "name": "stderr",
          "text": [
            "Exception ignored in: <function _MultiProcessingDataLoaderIter.__del__ at 0x7fec2827cc10>\n",
            "Traceback (most recent call last):\n",
            "  File \"/usr/local/lib/python3.8/dist-packages/torch/utils/data/dataloader.py\", line 1466, in __del__\n",
            "    self._shutdown_workers()Exception ignored in: \n",
            "<function _MultiProcessingDataLoaderIter.__del__ at 0x7fec2827cc10>  File \"/usr/local/lib/python3.8/dist-packages/torch/utils/data/dataloader.py\", line 1449, in _shutdown_workers\n",
            "\n",
            "    Traceback (most recent call last):\n",
            "  File \"/usr/local/lib/python3.8/dist-packages/torch/utils/data/dataloader.py\", line 1466, in __del__\n",
            "    if w.is_alive():self._shutdown_workers()\n",
            "  File \"/usr/lib/python3.8/multiprocessing/process.py\", line 160, in is_alive\n",
            "\n",
            "    assert self._parent_pid == os.getpid(), 'can only test a child process'  File \"/usr/local/lib/python3.8/dist-packages/torch/utils/data/dataloader.py\", line 1449, in _shutdown_workers\n",
            "\n",
            "    AssertionErrorif w.is_alive():\n",
            ": can only test a child process\n",
            "  File \"/usr/lib/python3.8/multiprocessing/process.py\", line 160, in is_alive\n",
            "    assert self._parent_pid == os.getpid(), 'can only test a child process'\n",
            "AssertionError: can only test a child process\n"
          ]
        },
        {
          "output_type": "stream",
          "name": "stdout",
          "text": [
            "\n",
            "Average Val Loss: 0.1592, Val Accuracy: 11636/12000 (96.967%)\n",
            "\n"
          ]
        },
        {
          "output_type": "stream",
          "name": "stderr",
          "text": [
            "Exception ignored in: <function _MultiProcessingDataLoaderIter.__del__ at 0x7fec2827cc10>\n",
            "Traceback (most recent call last):\n",
            "  File \"/usr/local/lib/python3.8/dist-packages/torch/utils/data/dataloader.py\", line 1466, in __del__\n",
            "    self._shutdown_workers()\n",
            "  File \"/usr/local/lib/python3.8/dist-packages/torch/utils/data/dataloader.py\", line 1449, in _shutdown_workers\n",
            "    if w.is_alive():\n",
            "  File \"/usr/lib/python3.8/multiprocessing/process.py\", line 160, in is_alive\n",
            "    Exception ignored in: assert self._parent_pid == os.getpid(), 'can only test a child process'<function _MultiProcessingDataLoaderIter.__del__ at 0x7fec2827cc10>\n",
            "AssertionError\n",
            ": Traceback (most recent call last):\n",
            "  File \"/usr/local/lib/python3.8/dist-packages/torch/utils/data/dataloader.py\", line 1466, in __del__\n",
            "can only test a child process\n",
            "    self._shutdown_workers()\n",
            "  File \"/usr/local/lib/python3.8/dist-packages/torch/utils/data/dataloader.py\", line 1449, in _shutdown_workers\n",
            "    if w.is_alive():\n",
            "  File \"/usr/lib/python3.8/multiprocessing/process.py\", line 160, in is_alive\n",
            "    assert self._parent_pid == os.getpid(), 'can only test a child process'\n",
            "AssertionError: can only test a child process\n"
          ]
        },
        {
          "output_type": "stream",
          "name": "stdout",
          "text": [
            "Train Epoch: 16 [1600/48000 (3%)]\tLoss: 0.042480\n",
            "Train Epoch: 16 [3200/48000 (7%)]\tLoss: 0.024219\n",
            "Train Epoch: 16 [4800/48000 (10%)]\tLoss: 0.000865\n",
            "Train Epoch: 16 [6400/48000 (13%)]\tLoss: 0.063960\n",
            "Train Epoch: 16 [8000/48000 (17%)]\tLoss: 0.000298\n",
            "Train Epoch: 16 [9600/48000 (20%)]\tLoss: 0.001407\n",
            "Train Epoch: 16 [11200/48000 (23%)]\tLoss: 0.151236\n",
            "Train Epoch: 16 [12800/48000 (27%)]\tLoss: 0.001072\n",
            "Train Epoch: 16 [14400/48000 (30%)]\tLoss: 0.000492\n",
            "Train Epoch: 16 [16000/48000 (33%)]\tLoss: 0.043094\n",
            "Train Epoch: 16 [17600/48000 (37%)]\tLoss: 0.252749\n",
            "Train Epoch: 16 [19200/48000 (40%)]\tLoss: 0.055227\n",
            "Train Epoch: 16 [20800/48000 (43%)]\tLoss: 0.003297\n",
            "Train Epoch: 16 [22400/48000 (47%)]\tLoss: 0.001467\n",
            "Train Epoch: 16 [24000/48000 (50%)]\tLoss: 0.272046\n",
            "Train Epoch: 16 [25600/48000 (53%)]\tLoss: 0.000226\n",
            "Train Epoch: 16 [27200/48000 (57%)]\tLoss: 0.000733\n",
            "Train Epoch: 16 [28800/48000 (60%)]\tLoss: 0.046310\n",
            "Train Epoch: 16 [30400/48000 (63%)]\tLoss: 0.000126\n",
            "Train Epoch: 16 [32000/48000 (67%)]\tLoss: 0.031372\n",
            "Train Epoch: 16 [33600/48000 (70%)]\tLoss: 0.024452\n",
            "Train Epoch: 16 [35200/48000 (73%)]\tLoss: 0.001240\n",
            "Train Epoch: 16 [36800/48000 (77%)]\tLoss: 0.002335\n",
            "Train Epoch: 16 [38400/48000 (80%)]\tLoss: 0.001175\n",
            "Train Epoch: 16 [40000/48000 (83%)]\tLoss: 0.069377\n",
            "Train Epoch: 16 [41600/48000 (87%)]\tLoss: 0.028723\n",
            "Train Epoch: 16 [43200/48000 (90%)]\tLoss: 0.066647\n",
            "Train Epoch: 16 [44800/48000 (93%)]\tLoss: 0.000352\n",
            "Train Epoch: 16 [46400/48000 (97%)]\tLoss: 0.000017\n",
            "Train Epoch: 16 [48000/48000 (100%)]\tLoss: 0.440482\n"
          ]
        },
        {
          "output_type": "stream",
          "name": "stderr",
          "text": [
            "Exception ignored in: <function _MultiProcessingDataLoaderIter.__del__ at 0x7fec2827cc10>\n",
            "Exception ignored in: <function _MultiProcessingDataLoaderIter.__del__ at 0x7fec2827cc10>\n",
            "Traceback (most recent call last):\n",
            "  File \"/usr/local/lib/python3.8/dist-packages/torch/utils/data/dataloader.py\", line 1466, in __del__\n",
            "    Traceback (most recent call last):\n",
            "self._shutdown_workers()  File \"/usr/local/lib/python3.8/dist-packages/torch/utils/data/dataloader.py\", line 1466, in __del__\n",
            "\n",
            "  File \"/usr/local/lib/python3.8/dist-packages/torch/utils/data/dataloader.py\", line 1449, in _shutdown_workers\n",
            "    self._shutdown_workers()    \n",
            "if w.is_alive():\n",
            "  File \"/usr/local/lib/python3.8/dist-packages/torch/utils/data/dataloader.py\", line 1449, in _shutdown_workers\n",
            "  File \"/usr/lib/python3.8/multiprocessing/process.py\", line 160, in is_alive\n",
            "        assert self._parent_pid == os.getpid(), 'can only test a child process'\n",
            "AssertionErrorif w.is_alive():: \n",
            "  File \"/usr/lib/python3.8/multiprocessing/process.py\", line 160, in is_alive\n",
            "    can only test a child process\n",
            "assert self._parent_pid == os.getpid(), 'can only test a child process'\n",
            "AssertionError: can only test a child process\n"
          ]
        },
        {
          "output_type": "stream",
          "name": "stdout",
          "text": [
            "\n",
            "Average Val Loss: 0.1593, Val Accuracy: 11634/12000 (96.950%)\n",
            "\n"
          ]
        },
        {
          "output_type": "stream",
          "name": "stderr",
          "text": [
            "Exception ignored in: Exception ignored in: <function _MultiProcessingDataLoaderIter.__del__ at 0x7fec2827cc10><function _MultiProcessingDataLoaderIter.__del__ at 0x7fec2827cc10>\n",
            "\n",
            "Traceback (most recent call last):\n",
            "  File \"/usr/local/lib/python3.8/dist-packages/torch/utils/data/dataloader.py\", line 1466, in __del__\n",
            "Traceback (most recent call last):\n",
            "      File \"/usr/local/lib/python3.8/dist-packages/torch/utils/data/dataloader.py\", line 1466, in __del__\n",
            "    self._shutdown_workers()\n",
            "  File \"/usr/local/lib/python3.8/dist-packages/torch/utils/data/dataloader.py\", line 1449, in _shutdown_workers\n",
            "self._shutdown_workers()    \n",
            "if w.is_alive():    \n",
            "  File \"/usr/local/lib/python3.8/dist-packages/torch/utils/data/dataloader.py\", line 1449, in _shutdown_workers\n",
            "if w.is_alive():  File \"/usr/lib/python3.8/multiprocessing/process.py\", line 160, in is_alive\n",
            "    assert self._parent_pid == os.getpid(), 'can only test a child process'\n",
            "AssertionError: \n",
            "can only test a child process  File \"/usr/lib/python3.8/multiprocessing/process.py\", line 160, in is_alive\n",
            "    \n",
            "assert self._parent_pid == os.getpid(), 'can only test a child process'\n",
            "AssertionError: can only test a child process\n"
          ]
        },
        {
          "output_type": "stream",
          "name": "stdout",
          "text": [
            "Train Epoch: 17 [1600/48000 (3%)]\tLoss: 0.169790\n",
            "Train Epoch: 17 [3200/48000 (7%)]\tLoss: 0.052624\n",
            "Train Epoch: 17 [4800/48000 (10%)]\tLoss: 0.058423\n",
            "Train Epoch: 17 [6400/48000 (13%)]\tLoss: 0.042893\n",
            "Train Epoch: 17 [8000/48000 (17%)]\tLoss: 0.215133\n",
            "Train Epoch: 17 [9600/48000 (20%)]\tLoss: 0.025293\n",
            "Train Epoch: 17 [11200/48000 (23%)]\tLoss: 0.058718\n",
            "Train Epoch: 17 [12800/48000 (27%)]\tLoss: 0.317255\n",
            "Train Epoch: 17 [14400/48000 (30%)]\tLoss: 0.000186\n",
            "Train Epoch: 17 [16000/48000 (33%)]\tLoss: 0.005752\n",
            "Train Epoch: 17 [17600/48000 (37%)]\tLoss: 0.097036\n",
            "Train Epoch: 17 [19200/48000 (40%)]\tLoss: 0.458384\n",
            "Train Epoch: 17 [20800/48000 (43%)]\tLoss: 0.006415\n",
            "Train Epoch: 17 [22400/48000 (47%)]\tLoss: 0.280731\n",
            "Train Epoch: 17 [24000/48000 (50%)]\tLoss: 0.005389\n",
            "Train Epoch: 17 [25600/48000 (53%)]\tLoss: 0.009824\n",
            "Train Epoch: 17 [27200/48000 (57%)]\tLoss: 0.007720\n",
            "Train Epoch: 17 [28800/48000 (60%)]\tLoss: 0.705323\n",
            "Train Epoch: 17 [30400/48000 (63%)]\tLoss: 0.058764\n",
            "Train Epoch: 17 [32000/48000 (67%)]\tLoss: 0.221435\n",
            "Train Epoch: 17 [33600/48000 (70%)]\tLoss: 0.176463\n",
            "Train Epoch: 17 [35200/48000 (73%)]\tLoss: 0.110763\n",
            "Train Epoch: 17 [36800/48000 (77%)]\tLoss: 0.000131\n",
            "Train Epoch: 17 [38400/48000 (80%)]\tLoss: 0.077658\n",
            "Train Epoch: 17 [40000/48000 (83%)]\tLoss: 0.190704\n",
            "Train Epoch: 17 [41600/48000 (87%)]\tLoss: 0.186737\n",
            "Train Epoch: 17 [43200/48000 (90%)]\tLoss: 0.004453\n",
            "Train Epoch: 17 [44800/48000 (93%)]\tLoss: 0.463883\n",
            "Train Epoch: 17 [46400/48000 (97%)]\tLoss: 0.013161\n",
            "Train Epoch: 17 [48000/48000 (100%)]\tLoss: 0.087144\n"
          ]
        },
        {
          "output_type": "stream",
          "name": "stderr",
          "text": [
            "Exception ignored in: <function _MultiProcessingDataLoaderIter.__del__ at 0x7fec2827cc10>Exception ignored in: \n",
            "<function _MultiProcessingDataLoaderIter.__del__ at 0x7fec2827cc10>\n",
            "Traceback (most recent call last):\n",
            "  File \"/usr/local/lib/python3.8/dist-packages/torch/utils/data/dataloader.py\", line 1466, in __del__\n",
            "Traceback (most recent call last):\n",
            "      File \"/usr/local/lib/python3.8/dist-packages/torch/utils/data/dataloader.py\", line 1466, in __del__\n",
            "    self._shutdown_workers()self._shutdown_workers()\n",
            "  File \"/usr/local/lib/python3.8/dist-packages/torch/utils/data/dataloader.py\", line 1449, in _shutdown_workers\n",
            "    if w.is_alive():\n",
            "  File \"/usr/local/lib/python3.8/dist-packages/torch/utils/data/dataloader.py\", line 1449, in _shutdown_workers\n",
            "\n",
            "      File \"/usr/lib/python3.8/multiprocessing/process.py\", line 160, in is_alive\n",
            "if w.is_alive():    \n",
            "assert self._parent_pid == os.getpid(), 'can only test a child process'  File \"/usr/lib/python3.8/multiprocessing/process.py\", line 160, in is_alive\n",
            "    \n",
            "assert self._parent_pid == os.getpid(), 'can only test a child process'AssertionError\n",
            ": AssertionError: can only test a child process\n",
            "can only test a child process\n"
          ]
        },
        {
          "output_type": "stream",
          "name": "stdout",
          "text": [
            "\n",
            "Average Val Loss: 0.1575, Val Accuracy: 11639/12000 (96.992%)\n",
            "\n"
          ]
        },
        {
          "output_type": "stream",
          "name": "stderr",
          "text": [
            "Exception ignored in: <function _MultiProcessingDataLoaderIter.__del__ at 0x7fec2827cc10>\n",
            "Traceback (most recent call last):\n",
            "  File \"/usr/local/lib/python3.8/dist-packages/torch/utils/data/dataloader.py\", line 1466, in __del__\n",
            "    self._shutdown_workers()\n",
            "  File \"/usr/local/lib/python3.8/dist-packages/torch/utils/data/dataloader.py\", line 1449, in _shutdown_workers\n",
            "    Exception ignored in: <function _MultiProcessingDataLoaderIter.__del__ at 0x7fec2827cc10>if w.is_alive():\n",
            "Traceback (most recent call last):\n",
            "\n",
            "  File \"/usr/lib/python3.8/multiprocessing/process.py\", line 160, in is_alive\n",
            "  File \"/usr/local/lib/python3.8/dist-packages/torch/utils/data/dataloader.py\", line 1466, in __del__\n",
            "        self._shutdown_workers()assert self._parent_pid == os.getpid(), 'can only test a child process'\n",
            "\n",
            "AssertionError  File \"/usr/local/lib/python3.8/dist-packages/torch/utils/data/dataloader.py\", line 1449, in _shutdown_workers\n",
            ": can only test a child process    if w.is_alive():\n",
            "\n",
            "  File \"/usr/lib/python3.8/multiprocessing/process.py\", line 160, in is_alive\n",
            "    assert self._parent_pid == os.getpid(), 'can only test a child process'\n",
            "AssertionError: can only test a child process\n"
          ]
        },
        {
          "output_type": "stream",
          "name": "stdout",
          "text": [
            "Train Epoch: 18 [1600/48000 (3%)]\tLoss: 0.012327\n",
            "Train Epoch: 18 [3200/48000 (7%)]\tLoss: 0.148408\n",
            "Train Epoch: 18 [4800/48000 (10%)]\tLoss: 0.000209\n",
            "Train Epoch: 18 [6400/48000 (13%)]\tLoss: 0.087518\n",
            "Train Epoch: 18 [8000/48000 (17%)]\tLoss: 0.000751\n",
            "Train Epoch: 18 [9600/48000 (20%)]\tLoss: 0.169492\n",
            "Train Epoch: 18 [11200/48000 (23%)]\tLoss: 0.068569\n",
            "Train Epoch: 18 [12800/48000 (27%)]\tLoss: 0.002457\n",
            "Train Epoch: 18 [14400/48000 (30%)]\tLoss: 0.003904\n",
            "Train Epoch: 18 [16000/48000 (33%)]\tLoss: 0.033861\n",
            "Train Epoch: 18 [17600/48000 (37%)]\tLoss: 0.296761\n",
            "Train Epoch: 18 [19200/48000 (40%)]\tLoss: 0.002128\n",
            "Train Epoch: 18 [20800/48000 (43%)]\tLoss: 0.003907\n",
            "Train Epoch: 18 [22400/48000 (47%)]\tLoss: 0.136153\n",
            "Train Epoch: 18 [24000/48000 (50%)]\tLoss: 0.072961\n",
            "Train Epoch: 18 [25600/48000 (53%)]\tLoss: 0.000003\n",
            "Train Epoch: 18 [27200/48000 (57%)]\tLoss: 0.002197\n",
            "Train Epoch: 18 [28800/48000 (60%)]\tLoss: 0.063527\n",
            "Train Epoch: 18 [30400/48000 (63%)]\tLoss: 0.007717\n",
            "Train Epoch: 18 [32000/48000 (67%)]\tLoss: 0.152676\n",
            "Train Epoch: 18 [33600/48000 (70%)]\tLoss: 0.266606\n",
            "Train Epoch: 18 [35200/48000 (73%)]\tLoss: 0.008345\n",
            "Train Epoch: 18 [36800/48000 (77%)]\tLoss: 0.040286\n",
            "Train Epoch: 18 [38400/48000 (80%)]\tLoss: 0.177294\n",
            "Train Epoch: 18 [40000/48000 (83%)]\tLoss: 0.005209\n",
            "Train Epoch: 18 [41600/48000 (87%)]\tLoss: 0.109231\n",
            "Train Epoch: 18 [43200/48000 (90%)]\tLoss: 0.007946\n",
            "Train Epoch: 18 [44800/48000 (93%)]\tLoss: 0.000519\n",
            "Train Epoch: 18 [46400/48000 (97%)]\tLoss: 0.487607\n",
            "Train Epoch: 18 [48000/48000 (100%)]\tLoss: 0.592342\n"
          ]
        },
        {
          "output_type": "stream",
          "name": "stderr",
          "text": [
            "Exception ignored in: Exception ignored in: <function _MultiProcessingDataLoaderIter.__del__ at 0x7fec2827cc10><function _MultiProcessingDataLoaderIter.__del__ at 0x7fec2827cc10>\n",
            "Traceback (most recent call last):\n",
            "  File \"/usr/local/lib/python3.8/dist-packages/torch/utils/data/dataloader.py\", line 1466, in __del__\n",
            "self._shutdown_workers()    \n",
            "\n",
            "  File \"/usr/local/lib/python3.8/dist-packages/torch/utils/data/dataloader.py\", line 1449, in _shutdown_workers\n",
            "    if w.is_alive():\n",
            "  File \"/usr/lib/python3.8/multiprocessing/process.py\", line 160, in is_alive\n",
            "    Traceback (most recent call last):\n",
            "  File \"/usr/local/lib/python3.8/dist-packages/torch/utils/data/dataloader.py\", line 1466, in __del__\n",
            "assert self._parent_pid == os.getpid(), 'can only test a child process'    self._shutdown_workers()\n",
            "  File \"/usr/local/lib/python3.8/dist-packages/torch/utils/data/dataloader.py\", line 1449, in _shutdown_workers\n",
            "\n",
            "    if w.is_alive():AssertionError\n",
            "  File \"/usr/lib/python3.8/multiprocessing/process.py\", line 160, in is_alive\n",
            "    : assert self._parent_pid == os.getpid(), 'can only test a child process'can only test a child process\n",
            "AssertionError: can only test a child process\n",
            "\n"
          ]
        },
        {
          "output_type": "stream",
          "name": "stdout",
          "text": [
            "\n",
            "Average Val Loss: 0.1581, Val Accuracy: 11641/12000 (97.008%)\n",
            "\n"
          ]
        },
        {
          "output_type": "stream",
          "name": "stderr",
          "text": [
            "Exception ignored in: <function _MultiProcessingDataLoaderIter.__del__ at 0x7fec2827cc10>\n",
            "Traceback (most recent call last):\n",
            "  File \"/usr/local/lib/python3.8/dist-packages/torch/utils/data/dataloader.py\", line 1466, in __del__\n",
            "    self._shutdown_workers()\n",
            "  File \"/usr/local/lib/python3.8/dist-packages/torch/utils/data/dataloader.py\", line 1449, in _shutdown_workers\n",
            "    if w.is_alive():Exception ignored in: <function _MultiProcessingDataLoaderIter.__del__ at 0x7fec2827cc10>\n",
            "Traceback (most recent call last):\n",
            "\n",
            "  File \"/usr/local/lib/python3.8/dist-packages/torch/utils/data/dataloader.py\", line 1466, in __del__\n",
            "  File \"/usr/lib/python3.8/multiprocessing/process.py\", line 160, in is_alive\n",
            "        assert self._parent_pid == os.getpid(), 'can only test a child process'\n",
            "self._shutdown_workers()AssertionError: can only test a child process\n",
            "\n",
            "  File \"/usr/local/lib/python3.8/dist-packages/torch/utils/data/dataloader.py\", line 1449, in _shutdown_workers\n",
            "    if w.is_alive():\n",
            "  File \"/usr/lib/python3.8/multiprocessing/process.py\", line 160, in is_alive\n",
            "    assert self._parent_pid == os.getpid(), 'can only test a child process'\n",
            "AssertionError: can only test a child process\n"
          ]
        },
        {
          "output_type": "stream",
          "name": "stdout",
          "text": [
            "Train Epoch: 19 [1600/48000 (3%)]\tLoss: 0.001958\n",
            "Train Epoch: 19 [3200/48000 (7%)]\tLoss: 0.000760\n",
            "Train Epoch: 19 [4800/48000 (10%)]\tLoss: 0.045410\n",
            "Train Epoch: 19 [6400/48000 (13%)]\tLoss: 0.411426\n",
            "Train Epoch: 19 [8000/48000 (17%)]\tLoss: 0.773609\n",
            "Train Epoch: 19 [9600/48000 (20%)]\tLoss: 0.014486\n",
            "Train Epoch: 19 [11200/48000 (23%)]\tLoss: 0.011299\n",
            "Train Epoch: 19 [12800/48000 (27%)]\tLoss: 0.146078\n",
            "Train Epoch: 19 [14400/48000 (30%)]\tLoss: 0.001373\n",
            "Train Epoch: 19 [16000/48000 (33%)]\tLoss: 0.267520\n",
            "Train Epoch: 19 [17600/48000 (37%)]\tLoss: 0.449978\n",
            "Train Epoch: 19 [19200/48000 (40%)]\tLoss: 0.040267\n",
            "Train Epoch: 19 [20800/48000 (43%)]\tLoss: 0.000204\n",
            "Train Epoch: 19 [22400/48000 (47%)]\tLoss: 0.000795\n",
            "Train Epoch: 19 [24000/48000 (50%)]\tLoss: 0.006852\n",
            "Train Epoch: 19 [25600/48000 (53%)]\tLoss: 0.233273\n",
            "Train Epoch: 19 [27200/48000 (57%)]\tLoss: 0.020518\n",
            "Train Epoch: 19 [28800/48000 (60%)]\tLoss: 0.285721\n",
            "Train Epoch: 19 [30400/48000 (63%)]\tLoss: 0.017006\n",
            "Train Epoch: 19 [32000/48000 (67%)]\tLoss: 0.016592\n",
            "Train Epoch: 19 [33600/48000 (70%)]\tLoss: 0.109731\n",
            "Train Epoch: 19 [35200/48000 (73%)]\tLoss: 0.378790\n",
            "Train Epoch: 19 [36800/48000 (77%)]\tLoss: 0.045498\n",
            "Train Epoch: 19 [38400/48000 (80%)]\tLoss: 0.002456\n",
            "Train Epoch: 19 [40000/48000 (83%)]\tLoss: 0.000661\n",
            "Train Epoch: 19 [41600/48000 (87%)]\tLoss: 0.257139\n",
            "Train Epoch: 19 [43200/48000 (90%)]\tLoss: 0.002235\n",
            "Train Epoch: 19 [44800/48000 (93%)]\tLoss: 0.018883\n",
            "Train Epoch: 19 [46400/48000 (97%)]\tLoss: 0.029562\n",
            "Train Epoch: 19 [48000/48000 (100%)]\tLoss: 0.087352\n"
          ]
        },
        {
          "output_type": "stream",
          "name": "stderr",
          "text": [
            "Exception ignored in: <function _MultiProcessingDataLoaderIter.__del__ at 0x7fec2827cc10>\n",
            "Traceback (most recent call last):\n",
            "  File \"/usr/local/lib/python3.8/dist-packages/torch/utils/data/dataloader.py\", line 1466, in __del__\n",
            "    self._shutdown_workers()\n",
            "  File \"/usr/local/lib/python3.8/dist-packages/torch/utils/data/dataloader.py\", line 1449, in _shutdown_workers\n",
            "    if w.is_alive():\n",
            "  File \"/usr/lib/python3.8/multiprocessing/process.py\", line 160, in is_alive\n",
            "    assert self._parent_pid == os.getpid(), 'can only test a child process'\n",
            "AssertionError: can only test a child process\n",
            "Exception ignored in: <function _MultiProcessingDataLoaderIter.__del__ at 0x7fec2827cc10>Traceback (most recent call last):\n",
            "\n",
            "  File \"/usr/local/lib/python3.8/dist-packages/torch/utils/data/dataloader.py\", line 1466, in __del__\n",
            "    self._shutdown_workers()\n",
            "  File \"/usr/local/lib/python3.8/dist-packages/torch/utils/data/dataloader.py\", line 1449, in _shutdown_workers\n",
            "    if w.is_alive():\n",
            "  File \"/usr/lib/python3.8/multiprocessing/process.py\", line 160, in is_alive\n",
            "    assert self._parent_pid == os.getpid(), 'can only test a child process'\n",
            "AssertionError: can only test a child process\n"
          ]
        },
        {
          "output_type": "stream",
          "name": "stdout",
          "text": [
            "\n",
            "Average Val Loss: 0.1590, Val Accuracy: 11648/12000 (97.067%)\n",
            "\n"
          ]
        },
        {
          "output_type": "stream",
          "name": "stderr",
          "text": [
            "Exception ignored in: <function _MultiProcessingDataLoaderIter.__del__ at 0x7fec2827cc10>\n",
            "Traceback (most recent call last):\n",
            "  File \"/usr/local/lib/python3.8/dist-packages/torch/utils/data/dataloader.py\", line 1466, in __del__\n",
            "    self._shutdown_workers()\n",
            "  File \"/usr/local/lib/python3.8/dist-packages/torch/utils/data/dataloader.py\", line 1449, in _shutdown_workers\n",
            "Exception ignored in:     <function _MultiProcessingDataLoaderIter.__del__ at 0x7fec2827cc10>if w.is_alive():\n",
            "\n",
            "  File \"/usr/lib/python3.8/multiprocessing/process.py\", line 160, in is_alive\n",
            "Traceback (most recent call last):\n",
            "      File \"/usr/local/lib/python3.8/dist-packages/torch/utils/data/dataloader.py\", line 1466, in __del__\n",
            "assert self._parent_pid == os.getpid(), 'can only test a child process'    self._shutdown_workers()\n",
            "\n",
            "  File \"/usr/local/lib/python3.8/dist-packages/torch/utils/data/dataloader.py\", line 1449, in _shutdown_workers\n",
            "AssertionError    if w.is_alive():\n",
            "  File \"/usr/lib/python3.8/multiprocessing/process.py\", line 160, in is_alive\n",
            "    assert self._parent_pid == os.getpid(), 'can only test a child process'\n",
            "AssertionError: can only test a child process\n",
            ": can only test a child process\n"
          ]
        },
        {
          "output_type": "stream",
          "name": "stdout",
          "text": [
            "Train Epoch: 20 [1600/48000 (3%)]\tLoss: 0.004541\n",
            "Train Epoch: 20 [3200/48000 (7%)]\tLoss: 0.466511\n",
            "Train Epoch: 20 [4800/48000 (10%)]\tLoss: 0.000236\n",
            "Train Epoch: 20 [6400/48000 (13%)]\tLoss: 0.047126\n",
            "Train Epoch: 20 [8000/48000 (17%)]\tLoss: 0.000451\n",
            "Train Epoch: 20 [9600/48000 (20%)]\tLoss: 0.001964\n",
            "Train Epoch: 20 [11200/48000 (23%)]\tLoss: 0.004802\n",
            "Train Epoch: 20 [12800/48000 (27%)]\tLoss: 0.002132\n",
            "Train Epoch: 20 [14400/48000 (30%)]\tLoss: 0.135153\n",
            "Train Epoch: 20 [16000/48000 (33%)]\tLoss: 0.000215\n",
            "Train Epoch: 20 [17600/48000 (37%)]\tLoss: 0.000029\n",
            "Train Epoch: 20 [19200/48000 (40%)]\tLoss: 0.011023\n",
            "Train Epoch: 20 [20800/48000 (43%)]\tLoss: 0.082584\n",
            "Train Epoch: 20 [22400/48000 (47%)]\tLoss: 0.003380\n",
            "Train Epoch: 20 [24000/48000 (50%)]\tLoss: 0.001500\n",
            "Train Epoch: 20 [25600/48000 (53%)]\tLoss: 0.211039\n",
            "Train Epoch: 20 [27200/48000 (57%)]\tLoss: 0.000179\n",
            "Train Epoch: 20 [28800/48000 (60%)]\tLoss: 0.059931\n",
            "Train Epoch: 20 [30400/48000 (63%)]\tLoss: 0.000014\n",
            "Train Epoch: 20 [32000/48000 (67%)]\tLoss: 0.003548\n",
            "Train Epoch: 20 [33600/48000 (70%)]\tLoss: 0.001421\n",
            "Train Epoch: 20 [35200/48000 (73%)]\tLoss: 0.002683\n",
            "Train Epoch: 20 [36800/48000 (77%)]\tLoss: 0.010962\n",
            "Train Epoch: 20 [38400/48000 (80%)]\tLoss: 0.056082\n",
            "Train Epoch: 20 [40000/48000 (83%)]\tLoss: 0.036383\n",
            "Train Epoch: 20 [41600/48000 (87%)]\tLoss: 0.000030\n",
            "Train Epoch: 20 [43200/48000 (90%)]\tLoss: 0.227201\n",
            "Train Epoch: 20 [44800/48000 (93%)]\tLoss: 0.120957\n",
            "Train Epoch: 20 [46400/48000 (97%)]\tLoss: 0.012161\n",
            "Train Epoch: 20 [48000/48000 (100%)]\tLoss: 0.237246\n"
          ]
        },
        {
          "output_type": "stream",
          "name": "stderr",
          "text": [
            "Exception ignored in: <function _MultiProcessingDataLoaderIter.__del__ at 0x7fec2827cc10>\n",
            "Traceback (most recent call last):\n",
            "  File \"/usr/local/lib/python3.8/dist-packages/torch/utils/data/dataloader.py\", line 1466, in __del__\n",
            "    self._shutdown_workers()\n",
            "  File \"/usr/local/lib/python3.8/dist-packages/torch/utils/data/dataloader.py\", line 1449, in _shutdown_workers\n",
            "    if w.is_alive():\n",
            "  File \"/usr/lib/python3.8/multiprocessing/process.py\", line 160, in is_alive\n",
            "    assert self._parent_pid == os.getpid(), 'can only test a child process'\n",
            "AssertionError: can only test a child process\n",
            "Exception ignored in: <function _MultiProcessingDataLoaderIter.__del__ at 0x7fec2827cc10>\n",
            "Traceback (most recent call last):\n",
            "  File \"/usr/local/lib/python3.8/dist-packages/torch/utils/data/dataloader.py\", line 1466, in __del__\n",
            "    self._shutdown_workers()\n",
            "  File \"/usr/local/lib/python3.8/dist-packages/torch/utils/data/dataloader.py\", line 1449, in _shutdown_workers\n",
            "    if w.is_alive():\n",
            "  File \"/usr/lib/python3.8/multiprocessing/process.py\", line 160, in is_alive\n",
            "    assert self._parent_pid == os.getpid(), 'can only test a child process'\n",
            "AssertionError: can only test a child process\n"
          ]
        },
        {
          "output_type": "stream",
          "name": "stdout",
          "text": [
            "\n",
            "Average Val Loss: 0.1587, Val Accuracy: 11647/12000 (97.058%)\n",
            "\n"
          ]
        },
        {
          "output_type": "stream",
          "name": "stderr",
          "text": [
            "Exception ignored in: <function _MultiProcessingDataLoaderIter.__del__ at 0x7fec2827cc10>\n",
            "Traceback (most recent call last):\n",
            "  File \"/usr/local/lib/python3.8/dist-packages/torch/utils/data/dataloader.py\", line 1466, in __del__\n",
            "\n",
            "    self._shutdown_workers()      File \"/usr/local/lib/python3.8/dist-packages/torch/utils/data/dataloader.py\", line 1449, in _shutdown_workers\n",
            "if w.is_alive():\n",
            "  File \"/usr/lib/python3.8/multiprocessing/process.py\", line 160, in is_alive\n",
            "    assert self._parent_pid == os.getpid(), 'can only test a child process'\n",
            "AssertionError: can only test a child process\n",
            "Exception ignored in: <function _MultiProcessingDataLoaderIter.__del__ at 0x7fec2827cc10>\n",
            "Traceback (most recent call last):\n",
            "  File \"/usr/local/lib/python3.8/dist-packages/torch/utils/data/dataloader.py\", line 1466, in __del__\n",
            "    self._shutdown_workers()\n",
            "  File \"/usr/local/lib/python3.8/dist-packages/torch/utils/data/dataloader.py\", line 1449, in _shutdown_workers\n",
            "    if w.is_alive():\n",
            "  File \"/usr/lib/python3.8/multiprocessing/process.py\", line 160, in is_alive\n",
            "    assert self._parent_pid == os.getpid(), 'can only test a child process'\n",
            "AssertionError: can only test a child process\n"
          ]
        },
        {
          "output_type": "stream",
          "name": "stdout",
          "text": [
            "Train Epoch: 21 [1600/48000 (3%)]\tLoss: 0.000603\n",
            "Train Epoch: 21 [3200/48000 (7%)]\tLoss: 0.166074\n",
            "Train Epoch: 21 [4800/48000 (10%)]\tLoss: 0.117487\n",
            "Train Epoch: 21 [6400/48000 (13%)]\tLoss: 0.004553\n",
            "Train Epoch: 21 [8000/48000 (17%)]\tLoss: 0.209635\n",
            "Train Epoch: 21 [9600/48000 (20%)]\tLoss: 0.020966\n",
            "Train Epoch: 21 [11200/48000 (23%)]\tLoss: 0.057900\n",
            "Train Epoch: 21 [12800/48000 (27%)]\tLoss: 0.013592\n",
            "Train Epoch: 21 [14400/48000 (30%)]\tLoss: 0.093454\n",
            "Train Epoch: 21 [16000/48000 (33%)]\tLoss: 0.022651\n",
            "Train Epoch: 21 [17600/48000 (37%)]\tLoss: 0.021355\n",
            "Train Epoch: 21 [19200/48000 (40%)]\tLoss: 0.056359\n",
            "Train Epoch: 21 [20800/48000 (43%)]\tLoss: 0.063137\n",
            "Train Epoch: 21 [22400/48000 (47%)]\tLoss: 0.058458\n",
            "Train Epoch: 21 [24000/48000 (50%)]\tLoss: 0.001304\n",
            "Train Epoch: 21 [25600/48000 (53%)]\tLoss: 0.010084\n",
            "Train Epoch: 21 [27200/48000 (57%)]\tLoss: 0.010003\n",
            "Train Epoch: 21 [28800/48000 (60%)]\tLoss: 0.014891\n",
            "Train Epoch: 21 [30400/48000 (63%)]\tLoss: 0.079125\n",
            "Train Epoch: 21 [32000/48000 (67%)]\tLoss: 0.019989\n",
            "Train Epoch: 21 [33600/48000 (70%)]\tLoss: 0.005347\n",
            "Train Epoch: 21 [35200/48000 (73%)]\tLoss: 0.029263\n",
            "Train Epoch: 21 [36800/48000 (77%)]\tLoss: 0.189669\n",
            "Train Epoch: 21 [38400/48000 (80%)]\tLoss: 0.023257\n",
            "Train Epoch: 21 [40000/48000 (83%)]\tLoss: 0.003557\n",
            "Train Epoch: 21 [41600/48000 (87%)]\tLoss: 0.235351\n",
            "Train Epoch: 21 [43200/48000 (90%)]\tLoss: 0.009063\n",
            "Train Epoch: 21 [44800/48000 (93%)]\tLoss: 0.012959\n",
            "Train Epoch: 21 [46400/48000 (97%)]\tLoss: 0.018038\n",
            "Train Epoch: 21 [48000/48000 (100%)]\tLoss: 0.113998\n"
          ]
        },
        {
          "output_type": "stream",
          "name": "stderr",
          "text": [
            "Exception ignored in: <function _MultiProcessingDataLoaderIter.__del__ at 0x7fec2827cc10>\n",
            "Traceback (most recent call last):\n",
            "  File \"/usr/local/lib/python3.8/dist-packages/torch/utils/data/dataloader.py\", line 1466, in __del__\n",
            "    self._shutdown_workers()\n",
            "  File \"/usr/local/lib/python3.8/dist-packages/torch/utils/data/dataloader.py\", line 1449, in _shutdown_workers\n",
            "    if w.is_alive():\n",
            "  File \"/usr/lib/python3.8/multiprocessing/process.py\", line 160, in is_alive\n",
            "    assert self._parent_pid == os.getpid(), 'can only test a child process'\n",
            "AssertionError: can only test a child processException ignored in: <function _MultiProcessingDataLoaderIter.__del__ at 0x7fec2827cc10>\n",
            "\n",
            "Traceback (most recent call last):\n",
            "  File \"/usr/local/lib/python3.8/dist-packages/torch/utils/data/dataloader.py\", line 1466, in __del__\n",
            "    self._shutdown_workers()\n",
            "  File \"/usr/local/lib/python3.8/dist-packages/torch/utils/data/dataloader.py\", line 1449, in _shutdown_workers\n",
            "    if w.is_alive():\n",
            "  File \"/usr/lib/python3.8/multiprocessing/process.py\", line 160, in is_alive\n",
            "    assert self._parent_pid == os.getpid(), 'can only test a child process'\n",
            "AssertionError: can only test a child process\n"
          ]
        },
        {
          "output_type": "stream",
          "name": "stdout",
          "text": [
            "\n",
            "Average Val Loss: 0.1585, Val Accuracy: 11649/12000 (97.075%)\n",
            "\n"
          ]
        },
        {
          "output_type": "stream",
          "name": "stderr",
          "text": [
            "Exception ignored in: <function _MultiProcessingDataLoaderIter.__del__ at 0x7fec2827cc10>\n",
            "Traceback (most recent call last):\n",
            "  File \"/usr/local/lib/python3.8/dist-packages/torch/utils/data/dataloader.py\", line 1466, in __del__\n",
            "    Exception ignored in: <function _MultiProcessingDataLoaderIter.__del__ at 0x7fec2827cc10>self._shutdown_workers()\n",
            "  File \"/usr/local/lib/python3.8/dist-packages/torch/utils/data/dataloader.py\", line 1449, in _shutdown_workers\n",
            "\n",
            "    Traceback (most recent call last):\n",
            "if w.is_alive():  File \"/usr/local/lib/python3.8/dist-packages/torch/utils/data/dataloader.py\", line 1466, in __del__\n",
            "\n",
            "      File \"/usr/lib/python3.8/multiprocessing/process.py\", line 160, in is_alive\n",
            "self._shutdown_workers()\n",
            "    assert self._parent_pid == os.getpid(), 'can only test a child process'  File \"/usr/local/lib/python3.8/dist-packages/torch/utils/data/dataloader.py\", line 1449, in _shutdown_workers\n",
            "\n",
            "AssertionError: can only test a child process    \n",
            "if w.is_alive():\n",
            "  File \"/usr/lib/python3.8/multiprocessing/process.py\", line 160, in is_alive\n",
            "    assert self._parent_pid == os.getpid(), 'can only test a child process'\n",
            "AssertionError: can only test a child process\n"
          ]
        },
        {
          "output_type": "stream",
          "name": "stdout",
          "text": [
            "Train Epoch: 22 [1600/48000 (3%)]\tLoss: 0.000005\n",
            "Train Epoch: 22 [3200/48000 (7%)]\tLoss: 0.006601\n",
            "Train Epoch: 22 [4800/48000 (10%)]\tLoss: 0.092872\n",
            "Train Epoch: 22 [6400/48000 (13%)]\tLoss: 0.000074\n",
            "Train Epoch: 22 [8000/48000 (17%)]\tLoss: 0.000004\n",
            "Train Epoch: 22 [9600/48000 (20%)]\tLoss: 0.070676\n",
            "Train Epoch: 22 [11200/48000 (23%)]\tLoss: 0.041270\n",
            "Train Epoch: 22 [12800/48000 (27%)]\tLoss: 0.178429\n",
            "Train Epoch: 22 [14400/48000 (30%)]\tLoss: 0.351986\n",
            "Train Epoch: 22 [16000/48000 (33%)]\tLoss: 0.022914\n",
            "Train Epoch: 22 [17600/48000 (37%)]\tLoss: 0.010236\n",
            "Train Epoch: 22 [19200/48000 (40%)]\tLoss: 0.047826\n",
            "Train Epoch: 22 [20800/48000 (43%)]\tLoss: 0.023088\n",
            "Train Epoch: 22 [22400/48000 (47%)]\tLoss: 0.028962\n",
            "Train Epoch: 22 [24000/48000 (50%)]\tLoss: 0.000471\n",
            "Train Epoch: 22 [25600/48000 (53%)]\tLoss: 0.052369\n",
            "Train Epoch: 22 [27200/48000 (57%)]\tLoss: 0.210714\n",
            "Train Epoch: 22 [28800/48000 (60%)]\tLoss: 0.014064\n",
            "Train Epoch: 22 [30400/48000 (63%)]\tLoss: 0.019138\n",
            "Train Epoch: 22 [32000/48000 (67%)]\tLoss: 0.053678\n",
            "Train Epoch: 22 [33600/48000 (70%)]\tLoss: 0.000164\n",
            "Train Epoch: 22 [35200/48000 (73%)]\tLoss: 0.004790\n",
            "Train Epoch: 22 [36800/48000 (77%)]\tLoss: 0.005441\n",
            "Train Epoch: 22 [38400/48000 (80%)]\tLoss: 0.009205\n",
            "Train Epoch: 22 [40000/48000 (83%)]\tLoss: 0.005724\n",
            "Train Epoch: 22 [41600/48000 (87%)]\tLoss: 0.000351\n",
            "Train Epoch: 22 [43200/48000 (90%)]\tLoss: 0.163380\n",
            "Train Epoch: 22 [44800/48000 (93%)]\tLoss: 0.036155\n",
            "Train Epoch: 22 [46400/48000 (97%)]\tLoss: 0.433893\n",
            "Train Epoch: 22 [48000/48000 (100%)]\tLoss: 0.350975\n"
          ]
        },
        {
          "output_type": "stream",
          "name": "stderr",
          "text": [
            "Exception ignored in: <function _MultiProcessingDataLoaderIter.__del__ at 0x7fec2827cc10>\n",
            "Traceback (most recent call last):\n",
            "  File \"/usr/local/lib/python3.8/dist-packages/torch/utils/data/dataloader.py\", line 1466, in __del__\n",
            "    self._shutdown_workers()\n",
            "  File \"/usr/local/lib/python3.8/dist-packages/torch/utils/data/dataloader.py\", line 1449, in _shutdown_workers\n",
            "    if w.is_alive():\n",
            "  File \"/usr/lib/python3.8/multiprocessing/process.py\", line 160, in is_alive\n",
            "    Exception ignored in: assert self._parent_pid == os.getpid(), 'can only test a child process'\n",
            "<function _MultiProcessingDataLoaderIter.__del__ at 0x7fec2827cc10>AssertionError\n",
            ": Traceback (most recent call last):\n",
            "can only test a child process  File \"/usr/local/lib/python3.8/dist-packages/torch/utils/data/dataloader.py\", line 1466, in __del__\n",
            "    \n",
            "self._shutdown_workers()\n",
            "  File \"/usr/local/lib/python3.8/dist-packages/torch/utils/data/dataloader.py\", line 1449, in _shutdown_workers\n",
            "    if w.is_alive():\n",
            "  File \"/usr/lib/python3.8/multiprocessing/process.py\", line 160, in is_alive\n",
            "    assert self._parent_pid == os.getpid(), 'can only test a child process'\n",
            "AssertionError: can only test a child process\n"
          ]
        },
        {
          "output_type": "stream",
          "name": "stdout",
          "text": [
            "\n",
            "Average Val Loss: 0.1585, Val Accuracy: 11649/12000 (97.075%)\n",
            "\n"
          ]
        },
        {
          "output_type": "stream",
          "name": "stderr",
          "text": [
            "Exception ignored in: <function _MultiProcessingDataLoaderIter.__del__ at 0x7fec2827cc10>\n",
            "Traceback (most recent call last):\n",
            "  File \"/usr/local/lib/python3.8/dist-packages/torch/utils/data/dataloader.py\", line 1466, in __del__\n",
            "    self._shutdown_workers()\n",
            "Exception ignored in:   File \"/usr/local/lib/python3.8/dist-packages/torch/utils/data/dataloader.py\", line 1449, in _shutdown_workers\n",
            "<function _MultiProcessingDataLoaderIter.__del__ at 0x7fec2827cc10>    if w.is_alive():\n",
            "\n",
            "  File \"/usr/lib/python3.8/multiprocessing/process.py\", line 160, in is_alive\n",
            "Traceback (most recent call last):\n",
            "      File \"/usr/local/lib/python3.8/dist-packages/torch/utils/data/dataloader.py\", line 1466, in __del__\n",
            "    assert self._parent_pid == os.getpid(), 'can only test a child process'self._shutdown_workers()\n",
            "\n",
            "AssertionError:   File \"/usr/local/lib/python3.8/dist-packages/torch/utils/data/dataloader.py\", line 1449, in _shutdown_workers\n",
            "    can only test a child processif w.is_alive():\n",
            "\n",
            "  File \"/usr/lib/python3.8/multiprocessing/process.py\", line 160, in is_alive\n",
            "    assert self._parent_pid == os.getpid(), 'can only test a child process'\n",
            "AssertionError: can only test a child process\n"
          ]
        },
        {
          "output_type": "stream",
          "name": "stdout",
          "text": [
            "Train Epoch: 23 [1600/48000 (3%)]\tLoss: 0.201572\n",
            "Train Epoch: 23 [3200/48000 (7%)]\tLoss: 0.059789\n",
            "Train Epoch: 23 [4800/48000 (10%)]\tLoss: 0.075795\n",
            "Train Epoch: 23 [6400/48000 (13%)]\tLoss: 0.000651\n",
            "Train Epoch: 23 [8000/48000 (17%)]\tLoss: 0.151075\n",
            "Train Epoch: 23 [9600/48000 (20%)]\tLoss: 0.001721\n",
            "Train Epoch: 23 [11200/48000 (23%)]\tLoss: 0.186335\n",
            "Train Epoch: 23 [12800/48000 (27%)]\tLoss: 0.001440\n",
            "Train Epoch: 23 [14400/48000 (30%)]\tLoss: 0.000330\n",
            "Train Epoch: 23 [16000/48000 (33%)]\tLoss: 0.022506\n",
            "Train Epoch: 23 [17600/48000 (37%)]\tLoss: 0.521385\n",
            "Train Epoch: 23 [19200/48000 (40%)]\tLoss: 0.108442\n",
            "Train Epoch: 23 [20800/48000 (43%)]\tLoss: 0.018563\n",
            "Train Epoch: 23 [22400/48000 (47%)]\tLoss: 0.224300\n",
            "Train Epoch: 23 [24000/48000 (50%)]\tLoss: 0.000037\n",
            "Train Epoch: 23 [25600/48000 (53%)]\tLoss: 0.004394\n",
            "Train Epoch: 23 [27200/48000 (57%)]\tLoss: 0.000763\n",
            "Train Epoch: 23 [28800/48000 (60%)]\tLoss: 0.000949\n",
            "Train Epoch: 23 [30400/48000 (63%)]\tLoss: 0.266047\n",
            "Train Epoch: 23 [32000/48000 (67%)]\tLoss: 0.059263\n",
            "Train Epoch: 23 [33600/48000 (70%)]\tLoss: 0.368659\n",
            "Train Epoch: 23 [35200/48000 (73%)]\tLoss: 0.977379\n",
            "Train Epoch: 23 [36800/48000 (77%)]\tLoss: 0.208034\n",
            "Train Epoch: 23 [38400/48000 (80%)]\tLoss: 0.039404\n",
            "Train Epoch: 23 [40000/48000 (83%)]\tLoss: 0.041980\n",
            "Train Epoch: 23 [41600/48000 (87%)]\tLoss: 0.102311\n",
            "Train Epoch: 23 [43200/48000 (90%)]\tLoss: 0.184652\n",
            "Train Epoch: 23 [44800/48000 (93%)]\tLoss: 0.041566\n",
            "Train Epoch: 23 [46400/48000 (97%)]\tLoss: 0.227234\n",
            "Train Epoch: 23 [48000/48000 (100%)]\tLoss: 0.491191\n"
          ]
        },
        {
          "output_type": "stream",
          "name": "stderr",
          "text": [
            "Exception ignored in: <function _MultiProcessingDataLoaderIter.__del__ at 0x7fec2827cc10>\n",
            "Traceback (most recent call last):\n",
            "  File \"/usr/local/lib/python3.8/dist-packages/torch/utils/data/dataloader.py\", line 1466, in __del__\n",
            "Exception ignored in:     self._shutdown_workers()<function _MultiProcessingDataLoaderIter.__del__ at 0x7fec2827cc10>\n",
            "\n",
            "  File \"/usr/local/lib/python3.8/dist-packages/torch/utils/data/dataloader.py\", line 1449, in _shutdown_workers\n",
            "Traceback (most recent call last):\n",
            "  File \"/usr/local/lib/python3.8/dist-packages/torch/utils/data/dataloader.py\", line 1466, in __del__\n",
            "    self._shutdown_workers()\n",
            "  File \"/usr/local/lib/python3.8/dist-packages/torch/utils/data/dataloader.py\", line 1449, in _shutdown_workers\n",
            "        if w.is_alive():if w.is_alive():\n",
            "\n",
            "  File \"/usr/lib/python3.8/multiprocessing/process.py\", line 160, in is_alive\n",
            "  File \"/usr/lib/python3.8/multiprocessing/process.py\", line 160, in is_alive\n",
            "        assert self._parent_pid == os.getpid(), 'can only test a child process'assert self._parent_pid == os.getpid(), 'can only test a child process'\n",
            "AssertionError: can only test a child process\n",
            "\n",
            "AssertionError: can only test a child process\n"
          ]
        },
        {
          "output_type": "stream",
          "name": "stdout",
          "text": [
            "\n",
            "Average Val Loss: 0.1587, Val Accuracy: 11647/12000 (97.058%)\n",
            "\n"
          ]
        },
        {
          "output_type": "stream",
          "name": "stderr",
          "text": [
            "Exception ignored in: Exception ignored in: <function _MultiProcessingDataLoaderIter.__del__ at 0x7fec2827cc10><function _MultiProcessingDataLoaderIter.__del__ at 0x7fec2827cc10>\n",
            "Traceback (most recent call last):\n",
            "  File \"/usr/local/lib/python3.8/dist-packages/torch/utils/data/dataloader.py\", line 1466, in __del__\n",
            "\n",
            "Traceback (most recent call last):\n",
            "  File \"/usr/local/lib/python3.8/dist-packages/torch/utils/data/dataloader.py\", line 1466, in __del__\n",
            "        self._shutdown_workers()\n",
            "  File \"/usr/local/lib/python3.8/dist-packages/torch/utils/data/dataloader.py\", line 1449, in _shutdown_workers\n",
            "    if w.is_alive():self._shutdown_workers()\n",
            "\n",
            "  File \"/usr/lib/python3.8/multiprocessing/process.py\", line 160, in is_alive\n",
            "  File \"/usr/local/lib/python3.8/dist-packages/torch/utils/data/dataloader.py\", line 1449, in _shutdown_workers\n",
            "        if w.is_alive():\n",
            "  File \"/usr/lib/python3.8/multiprocessing/process.py\", line 160, in is_alive\n",
            "    assert self._parent_pid == os.getpid(), 'can only test a child process'\n",
            "assert self._parent_pid == os.getpid(), 'can only test a child process'AssertionError: \n",
            "AssertionErrorcan only test a child process: can only test a child process\n",
            "\n"
          ]
        },
        {
          "output_type": "stream",
          "name": "stdout",
          "text": [
            "Train Epoch: 24 [1600/48000 (3%)]\tLoss: 0.000267\n",
            "Train Epoch: 24 [3200/48000 (7%)]\tLoss: 0.053079\n",
            "Train Epoch: 24 [4800/48000 (10%)]\tLoss: 0.008852\n",
            "Train Epoch: 24 [6400/48000 (13%)]\tLoss: 0.085737\n",
            "Train Epoch: 24 [8000/48000 (17%)]\tLoss: 0.016579\n",
            "Train Epoch: 24 [9600/48000 (20%)]\tLoss: 0.017780\n",
            "Train Epoch: 24 [11200/48000 (23%)]\tLoss: 0.000649\n",
            "Train Epoch: 24 [12800/48000 (27%)]\tLoss: 0.056658\n",
            "Train Epoch: 24 [14400/48000 (30%)]\tLoss: 0.088272\n",
            "Train Epoch: 24 [16000/48000 (33%)]\tLoss: 0.217007\n",
            "Train Epoch: 24 [17600/48000 (37%)]\tLoss: 0.106007\n",
            "Train Epoch: 24 [19200/48000 (40%)]\tLoss: 0.211495\n",
            "Train Epoch: 24 [20800/48000 (43%)]\tLoss: 0.030758\n",
            "Train Epoch: 24 [22400/48000 (47%)]\tLoss: 0.080135\n",
            "Train Epoch: 24 [24000/48000 (50%)]\tLoss: 0.001699\n",
            "Train Epoch: 24 [25600/48000 (53%)]\tLoss: 0.180781\n",
            "Train Epoch: 24 [27200/48000 (57%)]\tLoss: 0.084152\n",
            "Train Epoch: 24 [28800/48000 (60%)]\tLoss: 0.047755\n",
            "Train Epoch: 24 [30400/48000 (63%)]\tLoss: 0.149329\n",
            "Train Epoch: 24 [32000/48000 (67%)]\tLoss: 0.176199\n",
            "Train Epoch: 24 [33600/48000 (70%)]\tLoss: 0.002213\n",
            "Train Epoch: 24 [35200/48000 (73%)]\tLoss: 0.046271\n",
            "Train Epoch: 24 [36800/48000 (77%)]\tLoss: 0.001403\n",
            "Train Epoch: 24 [38400/48000 (80%)]\tLoss: 0.004380\n",
            "Train Epoch: 24 [40000/48000 (83%)]\tLoss: 0.042080\n",
            "Train Epoch: 24 [41600/48000 (87%)]\tLoss: 0.024942\n",
            "Train Epoch: 24 [43200/48000 (90%)]\tLoss: 0.017848\n",
            "Train Epoch: 24 [44800/48000 (93%)]\tLoss: 0.000972\n",
            "Train Epoch: 24 [46400/48000 (97%)]\tLoss: 0.002781\n",
            "Train Epoch: 24 [48000/48000 (100%)]\tLoss: 0.098444\n"
          ]
        },
        {
          "output_type": "stream",
          "name": "stderr",
          "text": [
            "Exception ignored in: <function _MultiProcessingDataLoaderIter.__del__ at 0x7fec2827cc10>Exception ignored in: \n",
            "Traceback (most recent call last):\n",
            "  File \"/usr/local/lib/python3.8/dist-packages/torch/utils/data/dataloader.py\", line 1466, in __del__\n",
            "<function _MultiProcessingDataLoaderIter.__del__ at 0x7fec2827cc10>    \n",
            "self._shutdown_workers()Traceback (most recent call last):\n",
            "\n",
            "  File \"/usr/local/lib/python3.8/dist-packages/torch/utils/data/dataloader.py\", line 1466, in __del__\n",
            "  File \"/usr/local/lib/python3.8/dist-packages/torch/utils/data/dataloader.py\", line 1449, in _shutdown_workers\n",
            "        self._shutdown_workers()if w.is_alive():\n",
            "\n",
            "  File \"/usr/local/lib/python3.8/dist-packages/torch/utils/data/dataloader.py\", line 1449, in _shutdown_workers\n",
            "      File \"/usr/lib/python3.8/multiprocessing/process.py\", line 160, in is_alive\n",
            "    if w.is_alive():\n",
            "assert self._parent_pid == os.getpid(), 'can only test a child process'  File \"/usr/lib/python3.8/multiprocessing/process.py\", line 160, in is_alive\n",
            "    \n",
            "assert self._parent_pid == os.getpid(), 'can only test a child process'AssertionError\n",
            ": can only test a child process\n",
            "AssertionError: can only test a child process\n"
          ]
        },
        {
          "output_type": "stream",
          "name": "stdout",
          "text": [
            "\n",
            "Average Val Loss: 0.1588, Val Accuracy: 11648/12000 (97.067%)\n",
            "\n"
          ]
        },
        {
          "output_type": "stream",
          "name": "stderr",
          "text": [
            "Exception ignored in: Exception ignored in: <function _MultiProcessingDataLoaderIter.__del__ at 0x7fec2827cc10><function _MultiProcessingDataLoaderIter.__del__ at 0x7fec2827cc10>\n",
            "\n",
            "Traceback (most recent call last):\n",
            "  File \"/usr/local/lib/python3.8/dist-packages/torch/utils/data/dataloader.py\", line 1466, in __del__\n",
            "Traceback (most recent call last):\n",
            "      File \"/usr/local/lib/python3.8/dist-packages/torch/utils/data/dataloader.py\", line 1466, in __del__\n",
            "self._shutdown_workers()    \n",
            "  File \"/usr/local/lib/python3.8/dist-packages/torch/utils/data/dataloader.py\", line 1449, in _shutdown_workers\n",
            "    if w.is_alive():self._shutdown_workers()\n",
            "\n",
            "  File \"/usr/local/lib/python3.8/dist-packages/torch/utils/data/dataloader.py\", line 1449, in _shutdown_workers\n",
            "    if w.is_alive():\n",
            "  File \"/usr/lib/python3.8/multiprocessing/process.py\", line 160, in is_alive\n",
            "  File \"/usr/lib/python3.8/multiprocessing/process.py\", line 160, in is_alive\n",
            "        \n",
            "assert self._parent_pid == os.getpid(), 'can only test a child process'assert self._parent_pid == os.getpid(), 'can only test a child process'AssertionError\n",
            ": can only test a child process\n",
            "AssertionError: can only test a child process\n"
          ]
        },
        {
          "output_type": "stream",
          "name": "stdout",
          "text": [
            "Train Epoch: 25 [1600/48000 (3%)]\tLoss: 0.009639\n",
            "Train Epoch: 25 [3200/48000 (7%)]\tLoss: 0.048558\n",
            "Train Epoch: 25 [4800/48000 (10%)]\tLoss: 0.001600\n",
            "Train Epoch: 25 [6400/48000 (13%)]\tLoss: 0.001429\n",
            "Train Epoch: 25 [8000/48000 (17%)]\tLoss: 0.016854\n",
            "Train Epoch: 25 [9600/48000 (20%)]\tLoss: 0.511077\n",
            "Train Epoch: 25 [11200/48000 (23%)]\tLoss: 0.000057\n",
            "Train Epoch: 25 [12800/48000 (27%)]\tLoss: 0.305006\n",
            "Train Epoch: 25 [14400/48000 (30%)]\tLoss: 0.000985\n",
            "Train Epoch: 25 [16000/48000 (33%)]\tLoss: 0.000520\n",
            "Train Epoch: 25 [17600/48000 (37%)]\tLoss: 0.059772\n",
            "Train Epoch: 25 [19200/48000 (40%)]\tLoss: 0.141041\n",
            "Train Epoch: 25 [20800/48000 (43%)]\tLoss: 0.234129\n",
            "Train Epoch: 25 [22400/48000 (47%)]\tLoss: 0.003268\n",
            "Train Epoch: 25 [24000/48000 (50%)]\tLoss: 0.098571\n",
            "Train Epoch: 25 [25600/48000 (53%)]\tLoss: 0.086989\n",
            "Train Epoch: 25 [27200/48000 (57%)]\tLoss: 0.078730\n",
            "Train Epoch: 25 [28800/48000 (60%)]\tLoss: 0.123965\n",
            "Train Epoch: 25 [30400/48000 (63%)]\tLoss: 0.157350\n",
            "Train Epoch: 25 [32000/48000 (67%)]\tLoss: 0.083987\n",
            "Train Epoch: 25 [33600/48000 (70%)]\tLoss: 0.013433\n",
            "Train Epoch: 25 [35200/48000 (73%)]\tLoss: 0.024395\n",
            "Train Epoch: 25 [36800/48000 (77%)]\tLoss: 0.004114\n",
            "Train Epoch: 25 [38400/48000 (80%)]\tLoss: 0.000050\n",
            "Train Epoch: 25 [40000/48000 (83%)]\tLoss: 0.173345\n",
            "Train Epoch: 25 [41600/48000 (87%)]\tLoss: 0.194598\n",
            "Train Epoch: 25 [43200/48000 (90%)]\tLoss: 0.018813\n",
            "Train Epoch: 25 [44800/48000 (93%)]\tLoss: 0.060393\n",
            "Train Epoch: 25 [46400/48000 (97%)]\tLoss: 0.056355\n",
            "Train Epoch: 25 [48000/48000 (100%)]\tLoss: 0.020646\n",
            "\n",
            "Average Val Loss: 0.1587, Val Accuracy: 11648/12000 (97.067%)\n",
            "\n",
            "Train Epoch: 26 [1600/48000 (3%)]\tLoss: 0.209999\n",
            "Train Epoch: 26 [3200/48000 (7%)]\tLoss: 0.056337\n",
            "Train Epoch: 26 [4800/48000 (10%)]\tLoss: 0.037812\n",
            "Train Epoch: 26 [6400/48000 (13%)]\tLoss: 0.012952\n",
            "Train Epoch: 26 [8000/48000 (17%)]\tLoss: 0.127935\n",
            "Train Epoch: 26 [9600/48000 (20%)]\tLoss: 0.007387\n",
            "Train Epoch: 26 [11200/48000 (23%)]\tLoss: 0.007811\n",
            "Train Epoch: 26 [12800/48000 (27%)]\tLoss: 0.000152\n",
            "Train Epoch: 26 [14400/48000 (30%)]\tLoss: 0.056966\n",
            "Train Epoch: 26 [16000/48000 (33%)]\tLoss: 0.144804\n",
            "Train Epoch: 26 [17600/48000 (37%)]\tLoss: 0.003380\n",
            "Train Epoch: 26 [19200/48000 (40%)]\tLoss: 0.000001\n",
            "Train Epoch: 26 [20800/48000 (43%)]\tLoss: 0.378236\n",
            "Train Epoch: 26 [22400/48000 (47%)]\tLoss: 0.122218\n",
            "Train Epoch: 26 [24000/48000 (50%)]\tLoss: 0.000667\n",
            "Train Epoch: 26 [25600/48000 (53%)]\tLoss: 0.079608\n",
            "Train Epoch: 26 [27200/48000 (57%)]\tLoss: 0.002191\n",
            "Train Epoch: 26 [28800/48000 (60%)]\tLoss: 0.087818\n",
            "Train Epoch: 26 [30400/48000 (63%)]\tLoss: 0.080563\n",
            "Train Epoch: 26 [32000/48000 (67%)]\tLoss: 0.002544\n",
            "Train Epoch: 26 [33600/48000 (70%)]\tLoss: 0.077879\n",
            "Train Epoch: 26 [35200/48000 (73%)]\tLoss: 0.037759\n",
            "Train Epoch: 26 [36800/48000 (77%)]\tLoss: 0.004582\n",
            "Train Epoch: 26 [38400/48000 (80%)]\tLoss: 0.028140\n",
            "Train Epoch: 26 [40000/48000 (83%)]\tLoss: 0.082914\n",
            "Train Epoch: 26 [41600/48000 (87%)]\tLoss: 0.000577\n",
            "Train Epoch: 26 [43200/48000 (90%)]\tLoss: 0.312345\n",
            "Train Epoch: 26 [44800/48000 (93%)]\tLoss: 0.023643\n",
            "Train Epoch: 26 [46400/48000 (97%)]\tLoss: 0.022486\n",
            "Train Epoch: 26 [48000/48000 (100%)]\tLoss: 0.214547\n",
            "\n",
            "Average Val Loss: 0.1588, Val Accuracy: 11647/12000 (97.058%)\n",
            "\n",
            "Train Epoch: 27 [1600/48000 (3%)]\tLoss: 0.006887\n",
            "Train Epoch: 27 [3200/48000 (7%)]\tLoss: 0.007234\n",
            "Train Epoch: 27 [4800/48000 (10%)]\tLoss: 0.070912\n",
            "Train Epoch: 27 [6400/48000 (13%)]\tLoss: 0.132474\n",
            "Train Epoch: 27 [8000/48000 (17%)]\tLoss: 0.020377\n",
            "Train Epoch: 27 [9600/48000 (20%)]\tLoss: 0.058510\n",
            "Train Epoch: 27 [11200/48000 (23%)]\tLoss: 0.010196\n",
            "Train Epoch: 27 [12800/48000 (27%)]\tLoss: 0.004680\n",
            "Train Epoch: 27 [14400/48000 (30%)]\tLoss: 0.022621\n",
            "Train Epoch: 27 [16000/48000 (33%)]\tLoss: 0.006336\n",
            "Train Epoch: 27 [17600/48000 (37%)]\tLoss: 0.001940\n",
            "Train Epoch: 27 [19200/48000 (40%)]\tLoss: 0.001085\n",
            "Train Epoch: 27 [20800/48000 (43%)]\tLoss: 0.055248\n",
            "Train Epoch: 27 [22400/48000 (47%)]\tLoss: 0.200230\n",
            "Train Epoch: 27 [24000/48000 (50%)]\tLoss: 0.120646\n",
            "Train Epoch: 27 [25600/48000 (53%)]\tLoss: 0.123275\n",
            "Train Epoch: 27 [27200/48000 (57%)]\tLoss: 0.023322\n",
            "Train Epoch: 27 [28800/48000 (60%)]\tLoss: 0.044758\n",
            "Train Epoch: 27 [30400/48000 (63%)]\tLoss: 0.055477\n",
            "Train Epoch: 27 [32000/48000 (67%)]\tLoss: 0.441121\n",
            "Train Epoch: 27 [33600/48000 (70%)]\tLoss: 0.280061\n",
            "Train Epoch: 27 [35200/48000 (73%)]\tLoss: 0.132705\n",
            "Train Epoch: 27 [36800/48000 (77%)]\tLoss: 0.000867\n",
            "Train Epoch: 27 [38400/48000 (80%)]\tLoss: 0.151154\n",
            "Train Epoch: 27 [40000/48000 (83%)]\tLoss: 0.123448\n",
            "Train Epoch: 27 [41600/48000 (87%)]\tLoss: 0.004212\n",
            "Train Epoch: 27 [43200/48000 (90%)]\tLoss: 0.000105\n",
            "Train Epoch: 27 [44800/48000 (93%)]\tLoss: 0.058078\n",
            "Train Epoch: 27 [46400/48000 (97%)]\tLoss: 0.012691\n",
            "Train Epoch: 27 [48000/48000 (100%)]\tLoss: 0.080950\n",
            "\n",
            "Average Val Loss: 0.1588, Val Accuracy: 11647/12000 (97.058%)\n",
            "\n",
            "Train Epoch: 28 [1600/48000 (3%)]\tLoss: 0.617629\n",
            "Train Epoch: 28 [3200/48000 (7%)]\tLoss: 0.169423\n",
            "Train Epoch: 28 [4800/48000 (10%)]\tLoss: 0.027148\n",
            "Train Epoch: 28 [6400/48000 (13%)]\tLoss: 0.017496\n",
            "Train Epoch: 28 [8000/48000 (17%)]\tLoss: 0.037615\n",
            "Train Epoch: 28 [9600/48000 (20%)]\tLoss: 0.279976\n",
            "Train Epoch: 28 [11200/48000 (23%)]\tLoss: 0.176557\n",
            "Train Epoch: 28 [12800/48000 (27%)]\tLoss: 0.020531\n",
            "Train Epoch: 28 [14400/48000 (30%)]\tLoss: 0.152630\n",
            "Train Epoch: 28 [16000/48000 (33%)]\tLoss: 0.121007\n",
            "Train Epoch: 28 [17600/48000 (37%)]\tLoss: 0.084006\n",
            "Train Epoch: 28 [19200/48000 (40%)]\tLoss: 0.015353\n",
            "Train Epoch: 28 [20800/48000 (43%)]\tLoss: 0.021059\n",
            "Train Epoch: 28 [22400/48000 (47%)]\tLoss: 0.094254\n",
            "Train Epoch: 28 [24000/48000 (50%)]\tLoss: 0.054454\n",
            "Train Epoch: 28 [25600/48000 (53%)]\tLoss: 0.008259\n",
            "Train Epoch: 28 [27200/48000 (57%)]\tLoss: 0.165930\n",
            "Train Epoch: 28 [28800/48000 (60%)]\tLoss: 0.019806\n",
            "Train Epoch: 28 [30400/48000 (63%)]\tLoss: 0.024347\n",
            "Train Epoch: 28 [32000/48000 (67%)]\tLoss: 0.214118\n",
            "Train Epoch: 28 [33600/48000 (70%)]\tLoss: 0.072397\n",
            "Train Epoch: 28 [35200/48000 (73%)]\tLoss: 0.143618\n",
            "Train Epoch: 28 [36800/48000 (77%)]\tLoss: 0.000174\n",
            "Train Epoch: 28 [38400/48000 (80%)]\tLoss: 0.000032\n",
            "Train Epoch: 28 [40000/48000 (83%)]\tLoss: 0.133177\n",
            "Train Epoch: 28 [41600/48000 (87%)]\tLoss: 0.121818\n",
            "Train Epoch: 28 [43200/48000 (90%)]\tLoss: 0.108272\n",
            "Train Epoch: 28 [44800/48000 (93%)]\tLoss: 0.185128\n",
            "Train Epoch: 28 [46400/48000 (97%)]\tLoss: 0.172988\n",
            "Train Epoch: 28 [48000/48000 (100%)]\tLoss: 0.066087\n",
            "\n",
            "Average Val Loss: 0.1588, Val Accuracy: 11647/12000 (97.058%)\n",
            "\n",
            "Train Epoch: 29 [1600/48000 (3%)]\tLoss: 0.274274\n",
            "Train Epoch: 29 [3200/48000 (7%)]\tLoss: 0.141083\n",
            "Train Epoch: 29 [4800/48000 (10%)]\tLoss: 0.017544\n",
            "Train Epoch: 29 [6400/48000 (13%)]\tLoss: 0.012279\n",
            "Train Epoch: 29 [8000/48000 (17%)]\tLoss: 0.056948\n",
            "Train Epoch: 29 [9600/48000 (20%)]\tLoss: 0.044233\n",
            "Train Epoch: 29 [11200/48000 (23%)]\tLoss: 0.168453\n",
            "Train Epoch: 29 [12800/48000 (27%)]\tLoss: 0.090435\n",
            "Train Epoch: 29 [14400/48000 (30%)]\tLoss: 0.372171\n",
            "Train Epoch: 29 [16000/48000 (33%)]\tLoss: 0.028834\n",
            "Train Epoch: 29 [17600/48000 (37%)]\tLoss: 0.065232\n",
            "Train Epoch: 29 [19200/48000 (40%)]\tLoss: 0.106779\n",
            "Train Epoch: 29 [20800/48000 (43%)]\tLoss: 0.214257\n",
            "Train Epoch: 29 [22400/48000 (47%)]\tLoss: 0.000371\n",
            "Train Epoch: 29 [24000/48000 (50%)]\tLoss: 0.035678\n",
            "Train Epoch: 29 [25600/48000 (53%)]\tLoss: 0.072183\n",
            "Train Epoch: 29 [27200/48000 (57%)]\tLoss: 0.029607\n",
            "Train Epoch: 29 [28800/48000 (60%)]\tLoss: 0.000573\n",
            "Train Epoch: 29 [30400/48000 (63%)]\tLoss: 0.212830\n",
            "Train Epoch: 29 [32000/48000 (67%)]\tLoss: 0.007123\n",
            "Train Epoch: 29 [33600/48000 (70%)]\tLoss: 0.002688\n",
            "Train Epoch: 29 [35200/48000 (73%)]\tLoss: 0.092872\n",
            "Train Epoch: 29 [36800/48000 (77%)]\tLoss: 0.041173\n",
            "Train Epoch: 29 [38400/48000 (80%)]\tLoss: 0.118406\n",
            "Train Epoch: 29 [40000/48000 (83%)]\tLoss: 0.003327\n",
            "Train Epoch: 29 [41600/48000 (87%)]\tLoss: 0.414523\n",
            "Train Epoch: 29 [43200/48000 (90%)]\tLoss: 0.327065\n",
            "Train Epoch: 29 [44800/48000 (93%)]\tLoss: 0.006958\n",
            "Train Epoch: 29 [46400/48000 (97%)]\tLoss: 0.072971\n",
            "Train Epoch: 29 [48000/48000 (100%)]\tLoss: 0.020086\n",
            "\n",
            "Average Val Loss: 0.1588, Val Accuracy: 11646/12000 (97.050%)\n",
            "\n"
          ]
        }
      ]
    },
    {
      "cell_type": "code",
      "source": [
        "plt.rcParams['figure.figsize'] = (10,8)\n",
        "plt.plot(range(num_epochs),loss_per_epoch)\n",
        "plt.title('Average Loss Per epochs')\n",
        "plt.xlabel(\"epochs\")\n",
        "plt.ylabel(\"Loss\")"
      ],
      "metadata": {
        "colab": {
          "base_uri": "https://localhost:8080/",
          "height": 531
        },
        "id": "wxsPmd5dmgJc",
        "outputId": "8f4ac911-698c-4f0f-aaa6-de46dcad178f"
      },
      "execution_count": null,
      "outputs": [
        {
          "output_type": "execute_result",
          "data": {
            "text/plain": [
              "Text(0, 0.5, 'Loss')"
            ]
          },
          "metadata": {},
          "execution_count": 49
        },
        {
          "output_type": "display_data",
          "data": {
            "text/plain": [
              "<Figure size 720x576 with 1 Axes>"
            ],
            "image/png": "[encoded data removed]"
          },
          "metadata": {
            "needs_background": "light"
          }
        }
      ]
    },
    {
      "cell_type": "code",
      "source": [
        "plt.rcParams['figure.figsize'] = (10,8)\n",
        "plt.plot(range(num_epochs),acc_per_epoch)\n",
        "plt.title('Val accuracy Per epochs')\n",
        "plt.xlabel(\"epochs\")\n",
        "plt.ylabel(\"Accuracy\")"
      ],
      "metadata": {
        "colab": {
          "base_uri": "https://localhost:8080/",
          "height": 531
        },
        "id": "NrrlI_tnnO3C",
        "outputId": "f6571d7a-90ac-4bcb-d73b-f3d3417d876a"
      },
      "execution_count": null,
      "outputs": [
        {
          "output_type": "execute_result",
          "data": {
            "text/plain": [
              "Text(0, 0.5, 'Accuracy')"
            ]
          },
          "metadata": {},
          "execution_count": 50
        },
        {
          "output_type": "display_data",
          "data": {
            "text/plain": [
              "<Figure size 720x576 with 1 Axes>"
            ],
            "image/png": "[encoded data removed]"
          },
          "metadata": {
            "needs_background": "light"
          }
        }
      ]
    },
    {
      "cell_type": "code",
      "source": [
        "y_pred, y_true, y_prob = get_output(ann_model,test_loader)"
      ],
      "metadata": {
        "colab": {
          "base_uri": "https://localhost:8080/"
        },
        "id": "q2-449o7dM6v",
        "outputId": "63188f52-995f-4bdd-c51d-073b8d4fe514"
      },
      "execution_count": null,
      "outputs": [
        {
          "output_type": "stream",
          "name": "stderr",
          "text": [
            "/usr/local/lib/python3.8/dist-packages/torch/nn/_reduction.py:42: UserWarning: size_average and reduce args will be deprecated, please use reduction='sum' instead.\n",
            "  warnings.warn(warning.format(ret))\n"
          ]
        },
        {
          "output_type": "stream",
          "name": "stdout",
          "text": [
            "\n",
            "Average Val Loss: 0.1437, Val Accuracy: 9733/10000 (97.330%)\n",
            "\n"
          ]
        }
      ]
    },
    {
      "cell_type": "code",
      "source": [
        "# Make the confusion matrix\n",
        "def confusion_plot(y_test,y_pred):\n",
        "    cmt = confusion_matrix(y_test,y_pred)\n",
        "    plt.rcParams['figure.figsize'] = (10,8)\n",
        "    sns.heatmap(cmt,fmt='',annot=True,linewidth=0.01,cmap=sns.cubehelix_palette(as_cmap=True))\n",
        "    plt.title(\"confusion matrix heat map\")\n",
        "    plt.xlabel(\"predicted\")\n",
        "    plt.ylabel(\"true\")\n",
        "    plt.show()\n",
        "\n",
        "\n",
        "# generate classification report\n",
        "def generate_classification_report(y_test,y_pred):\n",
        "    report=pd.DataFrame.from_dict(classification_report(y_pred,y_test,output_dict=True)).T\n",
        "    report['Label']=[i  if x.isdigit() else \" \" for i,x in enumerate(report.index)]\n",
        "    report=report[['Label','f1-score','precision','recall','support']]\n",
        "    pd.set_option('display.max_rows', report.shape[0]+1)\n",
        "    return report\n",
        "\n",
        "# ROC Curve\n",
        "def plot_roc_curve(y_test,proba,pos_label):\n",
        "    fpr, tpr, thresholds = roc_curve(y_test, proba[:,pos_label], pos_label= pos_label)\n",
        "    roc_auc = roc_auc_score(y_test, proba, multi_class='ovr')\n",
        "\n",
        "    plt.rcParams['figure.figsize'] = (10,8)\n",
        "    plt.plot(fpr, tpr,'k:',lw=5, label='average ROC curve (area = {0:0.2f})'.format(roc_auc))\n",
        "    plt.plot([0 ,1],[0 ,1],'r')\n",
        "    plt.legend(loc=\"lower right\")\n",
        "    plt.title('ROC Curve for {0}'.format(pos_label))\n",
        "    plt.ylabel('True Positive Rate')\n",
        "    plt.xlabel('False Positive Rate')\n",
        "    plt.show()\n",
        "\n",
        "\n",
        "# ROC Curve for all classes\n",
        "def plot_roc_curve_all(y_test,proba,n_class):\n",
        "    roc_auc = roc_auc_score(y_test, proba, multi_class='ovr')\n",
        "    for i in range(n_class):\n",
        "      fpr, tpr, thresholds = roc_curve(y_test, proba[:,i],pos_label= i)\n",
        "      plt.plot(fpr, tpr,lw=1)\n",
        "    plt.plot([0 ,1],[0 ,1],'r')\n",
        "    plt.title('ROC Curve for all classes ,auc = {}'.format(roc_auc))\n",
        "    plt.ylabel('True Positive Rate')\n",
        "    plt.xlabel('False Positive Rate')\n",
        "    plt.legend(np.linspace(0,9,10))\n",
        "    plt.show()"
      ],
      "metadata": {
        "id": "savdv2Uh_11h"
      },
      "execution_count": null,
      "outputs": []
    },
    {
      "cell_type": "code",
      "source": [
        "# Make the confusion matrix\n",
        "confusion_plot(y_true,y_pred)"
      ],
      "metadata": {
        "colab": {
          "base_uri": "https://localhost:8080/",
          "height": 513
        },
        "id": "nbh1nVdsWAYw",
        "outputId": "5440a4e0-1bb7-4d57-8614-6d05bc9cb97c"
      },
      "execution_count": null,
      "outputs": [
        {
          "output_type": "display_data",
          "data": {
            "text/plain": [
              "<Figure size 720x576 with 2 Axes>"
            ],
            "image/png": "[encoded data removed]"
          },
          "metadata": {
            "needs_background": "light"
          }
        }
      ]
    },
    {
      "cell_type": "code",
      "source": [
        "generate_classification_report(y_true,y_pred)"
      ],
      "metadata": {
        "colab": {
          "base_uri": "https://localhost:8080/",
          "height": 457
        },
        "id": "TPXSY4DV9_fk",
        "outputId": "e61fff78-b6c0-44ce-bac3-c35c274ff26d"
      },
      "execution_count": null,
      "outputs": [
        {
          "output_type": "execute_result",
          "data": {
            "text/plain": [
              "             Label  f1-score  precision    recall     support\n",
              "0                0  0.983223   0.986735  0.979737    987.0000\n",
              "1                1  0.990274   0.986784  0.993789   1127.0000\n",
              "2                2  0.970546   0.973837  0.967276   1039.0000\n",
              "3                3  0.970385   0.973267  0.967520   1016.0000\n",
              "4                4  0.972449   0.970468  0.974438    978.0000\n",
              "5                5  0.971203   0.964126  0.978385    879.0000\n",
              "6                6  0.975941   0.973904  0.977987    954.0000\n",
              "7                7  0.973710   0.972763  0.974659   1026.0000\n",
              "8                8  0.963831   0.971253  0.956522    989.0000\n",
              "9                9  0.959285   0.957384  0.961194   1005.0000\n",
              "accuracy            0.973300   0.973300  0.973300      0.9733\n",
              "macro avg           0.973085   0.973052  0.973151  10000.0000\n",
              "weighted avg        0.973292   0.973315  0.973300  10000.0000"
            ],
            "text/html": [
              "\n",
              "  <div id=\"df-a0671275-5cbf-4884-a8ad-3fd7a768af3f\">\n",
              "    <div class=\"colab-df-container\">\n",
              "      <div>\n",
              "<style scoped>\n",
              "    .dataframe tbody tr th:only-of-type {\n",
              "        vertical-align: middle;\n",
              "    }\n",
              "\n",
              "    .dataframe tbody tr th {\n",
              "        vertical-align: top;\n",
              "    }\n",
              "\n",
              "    .dataframe thead th {\n",
              "        text-align: right;\n",
              "    }\n",
              "</style>\n",
              "<table border=\"1\" class=\"dataframe\">\n",
              "  <thead>\n",
              "    <tr style=\"text-align: right;\">\n",
              "      <th></th>\n",
              "      <th>Label</th>\n",
              "      <th>f1-score</th>\n",
              "      <th>precision</th>\n",
              "      <th>recall</th>\n",
              "      <th>support</th>\n",
              "    </tr>\n",
              "  </thead>\n",
              "  <tbody>\n",
              "    <tr>\n",
              "      <th>0</th>\n",
              "      <td>0</td>\n",
              "      <td>0.983223</td>\n",
              "      <td>0.986735</td>\n",
              "      <td>0.979737</td>\n",
              "      <td>987.0000</td>\n",
              "    </tr>\n",
              "    <tr>\n",
              "      <th>1</th>\n",
              "      <td>1</td>\n",
              "      <td>0.990274</td>\n",
              "      <td>0.986784</td>\n",
              "      <td>0.993789</td>\n",
              "      <td>1127.0000</td>\n",
              "    </tr>\n",
              "    <tr>\n",
              "      <th>2</th>\n",
              "      <td>2</td>\n",
              "      <td>0.970546</td>\n",
              "      <td>0.973837</td>\n",
              "      <td>0.967276</td>\n",
              "      <td>1039.0000</td>\n",
              "    </tr>\n",
              "    <tr>\n",
              "      <th>3</th>\n",
              "      <td>3</td>\n",
              "      <td>0.970385</td>\n",
              "      <td>0.973267</td>\n",
              "      <td>0.967520</td>\n",
              "      <td>1016.0000</td>\n",
              "    </tr>\n",
              "    <tr>\n",
              "      <th>4</th>\n",
              "      <td>4</td>\n",
              "      <td>0.972449</td>\n",
              "      <td>0.970468</td>\n",
              "      <td>0.974438</td>\n",
              "      <td>978.0000</td>\n",
              "    </tr>\n",
              "    <tr>\n",
              "      <th>5</th>\n",
              "      <td>5</td>\n",
              "      <td>0.971203</td>\n",
              "      <td>0.964126</td>\n",
              "      <td>0.978385</td>\n",
              "      <td>879.0000</td>\n",
              "    </tr>\n",
              "    <tr>\n",
              "      <th>6</th>\n",
              "      <td>6</td>\n",
              "      <td>0.975941</td>\n",
              "      <td>0.973904</td>\n",
              "      <td>0.977987</td>\n",
              "      <td>954.0000</td>\n",
              "    </tr>\n",
              "    <tr>\n",
              "      <th>7</th>\n",
              "      <td>7</td>\n",
              "      <td>0.973710</td>\n",
              "      <td>0.972763</td>\n",
              "      <td>0.974659</td>\n",
              "      <td>1026.0000</td>\n",
              "    </tr>\n",
              "    <tr>\n",
              "      <th>8</th>\n",
              "      <td>8</td>\n",
              "      <td>0.963831</td>\n",
              "      <td>0.971253</td>\n",
              "      <td>0.956522</td>\n",
              "      <td>989.0000</td>\n",
              "    </tr>\n",
              "    <tr>\n",
              "      <th>9</th>\n",
              "      <td>9</td>\n",
              "      <td>0.959285</td>\n",
              "      <td>0.957384</td>\n",
              "      <td>0.961194</td>\n",
              "      <td>1005.0000</td>\n",
              "    </tr>\n",
              "    <tr>\n",
              "      <th>accuracy</th>\n",
              "      <td></td>\n",
              "      <td>0.973300</td>\n",
              "      <td>0.973300</td>\n",
              "      <td>0.973300</td>\n",
              "      <td>0.9733</td>\n",
              "    </tr>\n",
              "    <tr>\n",
              "      <th>macro avg</th>\n",
              "      <td></td>\n",
              "      <td>0.973085</td>\n",
              "      <td>0.973052</td>\n",
              "      <td>0.973151</td>\n",
              "      <td>10000.0000</td>\n",
              "    </tr>\n",
              "    <tr>\n",
              "      <th>weighted avg</th>\n",
              "      <td></td>\n",
              "      <td>0.973292</td>\n",
              "      <td>0.973315</td>\n",
              "      <td>0.973300</td>\n",
              "      <td>10000.0000</td>\n",
              "    </tr>\n",
              "  </tbody>\n",
              "</table>\n",
              "</div>\n",
              "      <button class=\"colab-df-convert\" onclick=\"convertToInteractive('df-a0671275-5cbf-4884-a8ad-3fd7a768af3f')\"\n",
              "              title=\"Convert this dataframe to an interactive table.\"\n",
              "              style=\"display:none;\">\n",
              "        \n",
              "  <svg xmlns=\"http://www.w3.org/2000/svg\" height=\"24px\"viewBox=\"0 0 24 24\"\n",
              "       width=\"24px\">\n",
              "    <path d=\"M0 0h24v24H0V0z\" fill=\"none\"/>\n",
              "    <path d=\"M18.56 5.44l.94 2.06.94-2.06 2.06-.94-2.06-.94-.94-2.06-.94 2.06-2.06.94zm-11 1L8.5 8.5l.94-2.06 2.06-.94-2.06-.94L8.5 2.5l-.94 2.06-2.06.94zm10 10l.94 2.06.94-2.06 2.06-.94-2.06-.94-.94-2.06-.94 2.06-2.06.94z\"/><path d=\"M17.41 7.96l-1.37-1.37c-.4-.4-.92-.59-1.43-.59-.52 0-1.04.2-1.43.59L10.3 9.45l-7.72 7.72c-.78.78-.78 2.05 0 2.83L4 21.41c.39.39.9.59 1.41.59.51 0 1.02-.2 1.41-.59l7.78-7.78 2.81-2.81c.8-.78.8-2.07 0-2.86zM5.41 20L4 18.59l7.72-7.72 1.47 1.35L5.41 20z\"/>\n",
              "  </svg>\n",
              "      </button>\n",
              "      \n",
              "  <style>\n",
              "    .colab-df-container {\n",
              "      display:flex;\n",
              "      flex-wrap:wrap;\n",
              "      gap: 12px;\n",
              "    }\n",
              "\n",
              "    .colab-df-convert {\n",
              "      background-color: #E8F0FE;\n",
              "      border: none;\n",
              "      border-radius: 50%;\n",
              "      cursor: pointer;\n",
              "      display: none;\n",
              "      fill: #1967D2;\n",
              "      height: 32px;\n",
              "      padding: 0 0 0 0;\n",
              "      width: 32px;\n",
              "    }\n",
              "\n",
              "    .colab-df-convert:hover {\n",
              "      background-color: #E2EBFA;\n",
              "      box-shadow: 0px 1px 2px rgba(60, 64, 67, 0.3), 0px 1px 3px 1px rgba(60, 64, 67, 0.15);\n",
              "      fill: #174EA6;\n",
              "    }\n",
              "\n",
              "    [theme=dark] .colab-df-convert {\n",
              "      background-color: #3B4455;\n",
              "      fill: #D2E3FC;\n",
              "    }\n",
              "\n",
              "    [theme=dark] .colab-df-convert:hover {\n",
              "      background-color: #434B5C;\n",
              "      box-shadow: 0px 1px 3px 1px rgba(0, 0, 0, 0.15);\n",
              "      filter: drop-shadow(0px 1px 2px rgba(0, 0, 0, 0.3));\n",
              "      fill: #FFFFFF;\n",
              "    }\n",
              "  </style>\n",
              "\n",
              "      <script>\n",
              "        const buttonEl =\n",
              "          document.querySelector('#df-a0671275-5cbf-4884-a8ad-3fd7a768af3f button.colab-df-convert');\n",
              "        buttonEl.style.display =\n",
              "          google.colab.kernel.accessAllowed ? 'block' : 'none';\n",
              "\n",
              "        async function convertToInteractive(key) {\n",
              "          const element = document.querySelector('#df-a0671275-5cbf-4884-a8ad-3fd7a768af3f');\n",
              "          const dataTable =\n",
              "            await google.colab.kernel.invokeFunction('convertToInteractive',\n",
              "                                                     [key], {});\n",
              "          if (!dataTable) return;\n",
              "\n",
              "          const docLinkHtml = 'Like what you see? Visit the ' +\n",
              "            '<a target=\"_blank\" href=https://colab.research.google.com/notebooks/data_table.ipynb>data table notebook</a>'\n",
              "            + ' to learn more about interactive tables.';\n",
              "          element.innerHTML = '';\n",
              "          dataTable['output_type'] = 'display_data';\n",
              "          await google.colab.output.renderOutput(dataTable, element);\n",
              "          const docLink = document.createElement('div');\n",
              "          docLink.innerHTML = docLinkHtml;\n",
              "          element.appendChild(docLink);\n",
              "        }\n",
              "      </script>\n",
              "    </div>\n",
              "  </div>\n",
              "  "
            ]
          },
          "metadata": {},
          "execution_count": 55
        }
      ]
    },
    {
      "cell_type": "code",
      "source": [
        "plot_roc_curve_all(y_true, y_prob,10)"
      ],
      "metadata": {
        "colab": {
          "base_uri": "https://localhost:8080/",
          "height": 513
        },
        "id": "JKifPiMEDXdm",
        "outputId": "3da5fa3e-d85d-498c-ba88-0b7316e16b33"
      },
      "execution_count": null,
      "outputs": [
        {
          "output_type": "display_data",
          "data": {
            "text/plain": [
              "<Figure size 720x576 with 1 Axes>"
            ],
            "image/png": "[encoded data removed]"
          },
          "metadata": {
            "needs_background": "light"
          }
        }
      ]
    }
  ]
}