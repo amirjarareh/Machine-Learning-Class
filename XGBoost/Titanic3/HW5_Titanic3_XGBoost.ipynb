{
  "nbformat": 4,
  "nbformat_minor": 0,
  "metadata": {
    "colab": {
      "provenance": [],
      "toc_visible": true
    },
    "kernelspec": {
      "name": "python3",
      "display_name": "Python 3"
    },
    "language_info": {
      "name": "python"
    }
  },
  "cells": [
    {
      "cell_type": "markdown",
      "source": [
        "# import Libraries "
      ],
      "metadata": {
        "id": "VbeYxk_DO1iy"
      }
    },
    {
      "cell_type": "code",
      "source": [
        "import numpy as np\n",
        "import pandas as pd\n",
        "import matplotlib\n",
        "import matplotlib.pyplot as plt\n",
        "\n",
        "from xgboost import XGBClassifier\n",
        "from sklearn import preprocessing\n",
        "from sklearn.metrics import accuracy_score, confusion_matrix, roc_auc_score, roc_curve, classification_report, auc\n",
        "import seaborn as sns\n",
        "from sklearn.model_selection import train_test_split"
      ],
      "metadata": {
        "id": "Euop8LFrzC6g"
      },
      "execution_count": 5,
      "outputs": []
    },
    {
      "cell_type": "markdown",
      "source": [
        "# Import Dataset"
      ],
      "metadata": {
        "id": "I2U0E3VHOv97"
      }
    },
    {
      "cell_type": "code",
      "execution_count": 6,
      "metadata": {
        "colab": {
          "base_uri": "https://localhost:8080/"
        },
        "id": "kRKyrTq4wA46",
        "outputId": "1002b336-52d5-4f0b-9cde-dad294ee9282"
      },
      "outputs": [
        {
          "output_type": "stream",
          "name": "stdout",
          "text": [
            "Cloning into 'Machine-Learning-Class'...\n",
            "remote: Enumerating objects: 163, done.\u001b[K\n",
            "remote: Counting objects: 100% (55/55), done.\u001b[K\n",
            "remote: Compressing objects: 100% (44/44), done.\u001b[K\n",
            "remote: Total 163 (delta 17), reused 3 (delta 3), pack-reused 108\u001b[K\n",
            "Receiving objects: 100% (163/163), 10.48 MiB | 110.00 KiB/s, done.\n",
            "Resolving deltas: 100% (41/41), done.\n"
          ]
        }
      ],
      "source": [
        "!git clone \"https://github.com/hmda77/Machine-Learning-Class\"\n",
        "!mv \"Machine-Learning-Class\"/XGBoost/Titanic3/titanic3.xls ./\n",
        "!rm -rf \"Machine-Learning-Class\""
      ]
    },
    {
      "cell_type": "code",
      "source": [
        "data = pd.read_excel(\"titanic3.xls\")\n",
        "data.head(5)"
      ],
      "metadata": {
        "colab": {
          "base_uri": "https://localhost:8080/",
          "height": 206
        },
        "id": "KDKBw7gMzISC",
        "outputId": "62a90c15-35ab-4483-9597-285288132b37"
      },
      "execution_count": 7,
      "outputs": [
        {
          "output_type": "execute_result",
          "data": {
            "text/plain": [
              "   pclass  survived                                             name     sex  \\\n",
              "0       1         1                    Allen, Miss. Elisabeth Walton  female   \n",
              "1       1         1                   Allison, Master. Hudson Trevor    male   \n",
              "2       1         0                     Allison, Miss. Helen Loraine  female   \n",
              "3       1         0             Allison, Mr. Hudson Joshua Creighton    male   \n",
              "4       1         0  Allison, Mrs. Hudson J C (Bessie Waldo Daniels)  female   \n",
              "\n",
              "       age  sibsp  parch  ticket      fare    cabin embarked boat   body  \\\n",
              "0  29.0000      0      0   24160  211.3375       B5        S    2    NaN   \n",
              "1   0.9167      1      2  113781  151.5500  C22 C26        S   11    NaN   \n",
              "2   2.0000      1      2  113781  151.5500  C22 C26        S  NaN    NaN   \n",
              "3  30.0000      1      2  113781  151.5500  C22 C26        S  NaN  135.0   \n",
              "4  25.0000      1      2  113781  151.5500  C22 C26        S  NaN    NaN   \n",
              "\n",
              "                         home.dest  \n",
              "0                     St Louis, MO  \n",
              "1  Montreal, PQ / Chesterville, ON  \n",
              "2  Montreal, PQ / Chesterville, ON  \n",
              "3  Montreal, PQ / Chesterville, ON  \n",
              "4  Montreal, PQ / Chesterville, ON  "
            ],
            "text/html": [
              "<div>\n",
              "<style scoped>\n",
              "    .dataframe tbody tr th:only-of-type {\n",
              "        vertical-align: middle;\n",
              "    }\n",
              "\n",
              "    .dataframe tbody tr th {\n",
              "        vertical-align: top;\n",
              "    }\n",
              "\n",
              "    .dataframe thead th {\n",
              "        text-align: right;\n",
              "    }\n",
              "</style>\n",
              "<table border=\"1\" class=\"dataframe\">\n",
              "  <thead>\n",
              "    <tr style=\"text-align: right;\">\n",
              "      <th></th>\n",
              "      <th>pclass</th>\n",
              "      <th>survived</th>\n",
              "      <th>name</th>\n",
              "      <th>sex</th>\n",
              "      <th>age</th>\n",
              "      <th>sibsp</th>\n",
              "      <th>parch</th>\n",
              "      <th>ticket</th>\n",
              "      <th>fare</th>\n",
              "      <th>cabin</th>\n",
              "      <th>embarked</th>\n",
              "      <th>boat</th>\n",
              "      <th>body</th>\n",
              "      <th>home.dest</th>\n",
              "    </tr>\n",
              "  </thead>\n",
              "  <tbody>\n",
              "    <tr>\n",
              "      <th>0</th>\n",
              "      <td>1</td>\n",
              "      <td>1</td>\n",
              "      <td>Allen, Miss. Elisabeth Walton</td>\n",
              "      <td>female</td>\n",
              "      <td>29.0000</td>\n",
              "      <td>0</td>\n",
              "      <td>0</td>\n",
              "      <td>24160</td>\n",
              "      <td>211.3375</td>\n",
              "      <td>B5</td>\n",
              "      <td>S</td>\n",
              "      <td>2</td>\n",
              "      <td>NaN</td>\n",
              "      <td>St Louis, MO</td>\n",
              "    </tr>\n",
              "    <tr>\n",
              "      <th>1</th>\n",
              "      <td>1</td>\n",
              "      <td>1</td>\n",
              "      <td>Allison, Master. Hudson Trevor</td>\n",
              "      <td>male</td>\n",
              "      <td>0.9167</td>\n",
              "      <td>1</td>\n",
              "      <td>2</td>\n",
              "      <td>113781</td>\n",
              "      <td>151.5500</td>\n",
              "      <td>C22 C26</td>\n",
              "      <td>S</td>\n",
              "      <td>11</td>\n",
              "      <td>NaN</td>\n",
              "      <td>Montreal, PQ / Chesterville, ON</td>\n",
              "    </tr>\n",
              "    <tr>\n",
              "      <th>2</th>\n",
              "      <td>1</td>\n",
              "      <td>0</td>\n",
              "      <td>Allison, Miss. Helen Loraine</td>\n",
              "      <td>female</td>\n",
              "      <td>2.0000</td>\n",
              "      <td>1</td>\n",
              "      <td>2</td>\n",
              "      <td>113781</td>\n",
              "      <td>151.5500</td>\n",
              "      <td>C22 C26</td>\n",
              "      <td>S</td>\n",
              "      <td>NaN</td>\n",
              "      <td>NaN</td>\n",
              "      <td>Montreal, PQ / Chesterville, ON</td>\n",
              "    </tr>\n",
              "    <tr>\n",
              "      <th>3</th>\n",
              "      <td>1</td>\n",
              "      <td>0</td>\n",
              "      <td>Allison, Mr. Hudson Joshua Creighton</td>\n",
              "      <td>male</td>\n",
              "      <td>30.0000</td>\n",
              "      <td>1</td>\n",
              "      <td>2</td>\n",
              "      <td>113781</td>\n",
              "      <td>151.5500</td>\n",
              "      <td>C22 C26</td>\n",
              "      <td>S</td>\n",
              "      <td>NaN</td>\n",
              "      <td>135.0</td>\n",
              "      <td>Montreal, PQ / Chesterville, ON</td>\n",
              "    </tr>\n",
              "    <tr>\n",
              "      <th>4</th>\n",
              "      <td>1</td>\n",
              "      <td>0</td>\n",
              "      <td>Allison, Mrs. Hudson J C (Bessie Waldo Daniels)</td>\n",
              "      <td>female</td>\n",
              "      <td>25.0000</td>\n",
              "      <td>1</td>\n",
              "      <td>2</td>\n",
              "      <td>113781</td>\n",
              "      <td>151.5500</td>\n",
              "      <td>C22 C26</td>\n",
              "      <td>S</td>\n",
              "      <td>NaN</td>\n",
              "      <td>NaN</td>\n",
              "      <td>Montreal, PQ / Chesterville, ON</td>\n",
              "    </tr>\n",
              "  </tbody>\n",
              "</table>\n",
              "</div>"
            ]
          },
          "metadata": {},
          "execution_count": 7
        }
      ]
    },
    {
      "cell_type": "code",
      "source": [
        "data.columns"
      ],
      "metadata": {
        "colab": {
          "base_uri": "https://localhost:8080/"
        },
        "id": "lXfzlzeP-D3z",
        "outputId": "4e8ca790-b54d-4fad-eb47-e138fe63a0f4"
      },
      "execution_count": 8,
      "outputs": [
        {
          "output_type": "execute_result",
          "data": {
            "text/plain": [
              "Index(['pclass', 'survived', 'name', 'sex', 'age', 'sibsp', 'parch', 'ticket',\n",
              "       'fare', 'cabin', 'embarked', 'boat', 'body', 'home.dest'],\n",
              "      dtype='object')"
            ]
          },
          "metadata": {},
          "execution_count": 8
        }
      ]
    },
    {
      "cell_type": "markdown",
      "source": [
        "# Process On Dataset"
      ],
      "metadata": {
        "id": "GJ3BmMOGPacq"
      }
    },
    {
      "cell_type": "markdown",
      "source": [
        "## Split Features"
      ],
      "metadata": {
        "id": "3zy5y1IdPjRk"
      }
    },
    {
      "cell_type": "code",
      "source": [
        "X_Train = data.drop('survived', axis = 1)"
      ],
      "metadata": {
        "id": "tG7AQ4cy-P_H"
      },
      "execution_count": 9,
      "outputs": []
    },
    {
      "cell_type": "code",
      "source": [
        "X_Train.shape"
      ],
      "metadata": {
        "colab": {
          "base_uri": "https://localhost:8080/"
        },
        "id": "OK5Fgtf2-jGt",
        "outputId": "e53a7a96-26c1-4b83-8999-3079ebbb97af"
      },
      "execution_count": 10,
      "outputs": [
        {
          "output_type": "execute_result",
          "data": {
            "text/plain": [
              "(1309, 13)"
            ]
          },
          "metadata": {},
          "execution_count": 10
        }
      ]
    },
    {
      "cell_type": "markdown",
      "source": [
        "### check null cells"
      ],
      "metadata": {
        "id": "Bw0Rzh6QPrYB"
      }
    },
    {
      "cell_type": "code",
      "source": [
        "X_Train.isnull().sum()"
      ],
      "metadata": {
        "colab": {
          "base_uri": "https://localhost:8080/"
        },
        "id": "fAF7ABcb-oj6",
        "outputId": "3039f7db-eebe-4e92-f132-ba7724954d53"
      },
      "execution_count": 11,
      "outputs": [
        {
          "output_type": "execute_result",
          "data": {
            "text/plain": [
              "pclass          0\n",
              "name            0\n",
              "sex             0\n",
              "age           263\n",
              "sibsp           0\n",
              "parch           0\n",
              "ticket          0\n",
              "fare            1\n",
              "cabin        1014\n",
              "embarked        2\n",
              "boat          823\n",
              "body         1188\n",
              "home.dest     564\n",
              "dtype: int64"
            ]
          },
          "metadata": {},
          "execution_count": 11
        }
      ]
    },
    {
      "cell_type": "markdown",
      "source": [
        "## Reproduce data for Nulls"
      ],
      "metadata": {
        "id": "2OZhxBBgPxfi"
      }
    },
    {
      "cell_type": "markdown",
      "source": [
        "### Cabin, Age, Body Combination\n",
        "Combine this three Features for making new attribute"
      ],
      "metadata": {
        "id": "xeo26LOAQBWx"
      }
    },
    {
      "cell_type": "code",
      "source": [
        "data.survived.mean()"
      ],
      "metadata": {
        "colab": {
          "base_uri": "https://localhost:8080/"
        },
        "id": "osonsqRb_31h",
        "outputId": "70e3d941-8074-42ca-8af6-8e80ae27b1ac"
      },
      "execution_count": 12,
      "outputs": [
        {
          "output_type": "execute_result",
          "data": {
            "text/plain": [
              "0.3819709702062643"
            ]
          },
          "metadata": {},
          "execution_count": 12
        }
      ]
    },
    {
      "cell_type": "markdown",
      "source": [
        "38% of passengers dead"
      ],
      "metadata": {
        "id": "rJWZvLhVQWmi"
      }
    },
    {
      "cell_type": "code",
      "source": [
        "data.cabin.isnull().mean()"
      ],
      "metadata": {
        "colab": {
          "base_uri": "https://localhost:8080/"
        },
        "id": "ItpF41Sh_-91",
        "outputId": "62563da1-f044-43c3-922c-d2d6654f3b53"
      },
      "execution_count": 13,
      "outputs": [
        {
          "output_type": "execute_result",
          "data": {
            "text/plain": [
              "0.774637127578304"
            ]
          },
          "metadata": {},
          "execution_count": 13
        }
      ]
    },
    {
      "cell_type": "markdown",
      "source": [
        "77% of all passengers don't have \"Cabin\" attribiute"
      ],
      "metadata": {
        "id": "Jmie2lUmQina"
      }
    },
    {
      "cell_type": "code",
      "source": [
        "(data.cabin.isnull() & (data.survived == 0)).mean()"
      ],
      "metadata": {
        "colab": {
          "base_uri": "https://localhost:8080/"
        },
        "id": "6FW3Pj4aAMZT",
        "outputId": "8c174145-6c12-47f9-94f4-b68101ce582e"
      },
      "execution_count": 14,
      "outputs": [
        {
          "output_type": "execute_result",
          "data": {
            "text/plain": [
              "0.5401069518716578"
            ]
          },
          "metadata": {},
          "execution_count": 14
        }
      ]
    },
    {
      "cell_type": "markdown",
      "source": [
        "54% of them didn't survive"
      ],
      "metadata": {
        "id": "ntmJ8z9dQ-Ey"
      }
    },
    {
      "cell_type": "code",
      "source": [
        "data.body.isnull().mean()"
      ],
      "metadata": {
        "colab": {
          "base_uri": "https://localhost:8080/"
        },
        "id": "y3RlLPDEHyCX",
        "outputId": "ffa4242f-fcc5-4ab8-abf3-94b14d28a86c"
      },
      "execution_count": 15,
      "outputs": [
        {
          "output_type": "execute_result",
          "data": {
            "text/plain": [
              "0.907563025210084"
            ]
          },
          "metadata": {},
          "execution_count": 15
        }
      ]
    },
    {
      "cell_type": "markdown",
      "source": [
        "90% of all passengers don't have \"Body\" attribiute"
      ],
      "metadata": {
        "id": "Z3ysCU7SRX7_"
      }
    },
    {
      "cell_type": "code",
      "source": [
        "(data.body.isnull() & (data.survived == 0)).mean()"
      ],
      "metadata": {
        "colab": {
          "base_uri": "https://localhost:8080/"
        },
        "id": "3OE3bo0bH5Tg",
        "outputId": "ddcfe506-3636-44a2-89aa-69674a708471"
      },
      "execution_count": 12,
      "outputs": [
        {
          "output_type": "execute_result",
          "data": {
            "text/plain": [
              "0.5255920550038197"
            ]
          },
          "metadata": {},
          "execution_count": 12
        }
      ]
    },
    {
      "cell_type": "markdown",
      "source": [
        "52% of them didn't survive"
      ],
      "metadata": {
        "id": "Q367Lu7hR7E5"
      }
    },
    {
      "cell_type": "code",
      "source": [
        "selector = (data.cabin.isnull() & data.age.isnull() & data.body.isnull())\n",
        "data[selector].survived.mean()"
      ],
      "metadata": {
        "colab": {
          "base_uri": "https://localhost:8080/"
        },
        "id": "ffjVx4g2AYaC",
        "outputId": "16825408-d3e9-484d-be53-e1a5c267da10"
      },
      "execution_count": 16,
      "outputs": [
        {
          "output_type": "execute_result",
          "data": {
            "text/plain": [
              "0.2594142259414226"
            ]
          },
          "metadata": {},
          "execution_count": 16
        }
      ]
    },
    {
      "cell_type": "markdown",
      "source": [
        "this number shows that we can cobmine this features"
      ],
      "metadata": {
        "id": "D_QVi0XASlSR"
      }
    },
    {
      "cell_type": "code",
      "source": [
        "X_Train['nulls'] = X_Train.cabin.isnull().astype('int') + X_Train.age.isnull().astype('int') \\\n",
        "                    + X_Train.body.isnull().astype('int')"
      ],
      "metadata": {
        "id": "jyEWhq89CCTq"
      },
      "execution_count": 17,
      "outputs": []
    },
    {
      "cell_type": "markdown",
      "source": [
        "### map string attribute to number"
      ],
      "metadata": {
        "id": "zLq-hJEASypO"
      }
    },
    {
      "cell_type": "code",
      "source": [
        "X_Train['cabin_mapped'] = X_Train['cabin'].astype(str).str[0] # this captures the letter"
      ],
      "metadata": {
        "id": "YGZrDD4CCvOR"
      },
      "execution_count": 18,
      "outputs": []
    },
    {
      "cell_type": "code",
      "source": [
        "# this transforms the letters into numbers\n",
        "cabin_dict = {k:i for i, k in enumerate(X_Train.cabin_mapped.unique())} \n",
        "X_Train.loc[:, 'cabin_mapped'] = X_Train.loc[:, 'cabin_mapped'].map(cabin_dict)"
      ],
      "metadata": {
        "colab": {
          "base_uri": "https://localhost:8080/"
        },
        "id": "z8smOiY2C2RS",
        "outputId": "bb0140fb-7107-4d58-c214-84d43dafb720"
      },
      "execution_count": 19,
      "outputs": [
        {
          "output_type": "stream",
          "name": "stderr",
          "text": [
            "/tmp/ipykernel_682/3030243961.py:3: FutureWarning: In a future version, `df.iloc[:, i] = newvals` will attempt to set the values inplace instead of always setting a new array. To retain the old behavior, use either `df[df.columns[i]] = newvals` or, if columns are non-unique, `df.isetitem(i, newvals)`\n",
            "  X_Train.loc[:, 'cabin_mapped'] = X_Train.loc[:, 'cabin_mapped'].map(cabin_dict)\n"
          ]
        }
      ]
    },
    {
      "cell_type": "code",
      "source": [
        "cabin_dict"
      ],
      "metadata": {
        "colab": {
          "base_uri": "https://localhost:8080/"
        },
        "id": "3w0voRCxDE_7",
        "outputId": "343567b6-98ae-4c42-f726-eb4f8d005249"
      },
      "execution_count": 20,
      "outputs": [
        {
          "output_type": "execute_result",
          "data": {
            "text/plain": [
              "{'B': 0, 'C': 1, 'E': 2, 'D': 3, 'A': 4, 'n': 5, 'T': 6, 'F': 7, 'G': 8}"
            ]
          },
          "metadata": {},
          "execution_count": 20
        }
      ]
    },
    {
      "cell_type": "code",
      "source": [
        "X_Train.columns"
      ],
      "metadata": {
        "colab": {
          "base_uri": "https://localhost:8080/"
        },
        "id": "_5KEQsCmDI54",
        "outputId": "f26ed19a-97de-4456-8c4a-8d40a86a7d91"
      },
      "execution_count": 21,
      "outputs": [
        {
          "output_type": "execute_result",
          "data": {
            "text/plain": [
              "Index(['pclass', 'name', 'sex', 'age', 'sibsp', 'parch', 'ticket', 'fare',\n",
              "       'cabin', 'embarked', 'boat', 'body', 'home.dest', 'nulls',\n",
              "       'cabin_mapped'],\n",
              "      dtype='object')"
            ]
          },
          "metadata": {},
          "execution_count": 21
        }
      ]
    },
    {
      "cell_type": "code",
      "source": [
        "X_Train.drop(['age', 'cabin','body'], inplace = True, axis = 1)"
      ],
      "metadata": {
        "id": "tM7aQlcwD5O5"
      },
      "execution_count": 22,
      "outputs": []
    },
    {
      "cell_type": "code",
      "source": [
        "X_Train.isnull().sum()"
      ],
      "metadata": {
        "colab": {
          "base_uri": "https://localhost:8080/"
        },
        "id": "q98e-3h3Da0P",
        "outputId": "edc743a9-99ad-45bc-ecbe-91fd03ac5037"
      },
      "execution_count": 23,
      "outputs": [
        {
          "output_type": "execute_result",
          "data": {
            "text/plain": [
              "pclass            0\n",
              "name              0\n",
              "sex               0\n",
              "sibsp             0\n",
              "parch             0\n",
              "ticket            0\n",
              "fare              1\n",
              "embarked          2\n",
              "boat            823\n",
              "home.dest       564\n",
              "nulls             0\n",
              "cabin_mapped      0\n",
              "dtype: int64"
            ]
          },
          "metadata": {},
          "execution_count": 23
        }
      ]
    },
    {
      "cell_type": "markdown",
      "source": [
        "### fill Null in \"Fare\"\n",
        "Consider that dude with Null Fare, is in Pclass 3"
      ],
      "metadata": {
        "id": "5CXO1SjnTIPm"
      }
    },
    {
      "cell_type": "code",
      "source": [
        "fare_mean = X_Train[X_Train.pclass == 3].fare.mean()"
      ],
      "metadata": {
        "id": "oT_WtcrrEFe9"
      },
      "execution_count": 24,
      "outputs": []
    },
    {
      "cell_type": "code",
      "source": [
        "X_Train['fare'].fillna(fare_mean, inplace = True)"
      ],
      "metadata": {
        "id": "rxqpQFxfESk6"
      },
      "execution_count": 25,
      "outputs": []
    },
    {
      "cell_type": "code",
      "source": [
        "X_Train.isnull().sum()"
      ],
      "metadata": {
        "colab": {
          "base_uri": "https://localhost:8080/"
        },
        "id": "cFn8V4ngEixa",
        "outputId": "e07fdf26-66ee-4afc-e37a-89a5ac439b65"
      },
      "execution_count": 26,
      "outputs": [
        {
          "output_type": "execute_result",
          "data": {
            "text/plain": [
              "pclass            0\n",
              "name              0\n",
              "sex               0\n",
              "sibsp             0\n",
              "parch             0\n",
              "ticket            0\n",
              "fare              0\n",
              "embarked          2\n",
              "boat            823\n",
              "home.dest       564\n",
              "nulls             0\n",
              "cabin_mapped      0\n",
              "dtype: int64"
            ]
          },
          "metadata": {},
          "execution_count": 26
        }
      ]
    },
    {
      "cell_type": "markdown",
      "source": [
        "### fill null in \"Embarked\""
      ],
      "metadata": {
        "id": "osyXTv98Tszc"
      }
    },
    {
      "cell_type": "code",
      "source": [
        "X_Train[X_Train.embarked.isnull()]"
      ],
      "metadata": {
        "colab": {
          "base_uri": "https://localhost:8080/",
          "height": 112
        },
        "id": "Wuf6fp-QFl2B",
        "outputId": "70859575-8c8f-4249-8c83-4507b58b7805"
      },
      "execution_count": 27,
      "outputs": [
        {
          "output_type": "execute_result",
          "data": {
            "text/plain": [
              "     pclass                                       name     sex  sibsp  parch  \\\n",
              "168       1                        Icard, Miss. Amelie  female      0      0   \n",
              "284       1  Stone, Mrs. George Nelson (Martha Evelyn)  female      0      0   \n",
              "\n",
              "     ticket  fare embarked boat       home.dest  nulls  cabin_mapped  \n",
              "168  113572  80.0      NaN    6             NaN      1             0  \n",
              "284  113572  80.0      NaN    6  Cincinatti, OH      1             0  "
            ],
            "text/html": [
              "<div>\n",
              "<style scoped>\n",
              "    .dataframe tbody tr th:only-of-type {\n",
              "        vertical-align: middle;\n",
              "    }\n",
              "\n",
              "    .dataframe tbody tr th {\n",
              "        vertical-align: top;\n",
              "    }\n",
              "\n",
              "    .dataframe thead th {\n",
              "        text-align: right;\n",
              "    }\n",
              "</style>\n",
              "<table border=\"1\" class=\"dataframe\">\n",
              "  <thead>\n",
              "    <tr style=\"text-align: right;\">\n",
              "      <th></th>\n",
              "      <th>pclass</th>\n",
              "      <th>name</th>\n",
              "      <th>sex</th>\n",
              "      <th>sibsp</th>\n",
              "      <th>parch</th>\n",
              "      <th>ticket</th>\n",
              "      <th>fare</th>\n",
              "      <th>embarked</th>\n",
              "      <th>boat</th>\n",
              "      <th>home.dest</th>\n",
              "      <th>nulls</th>\n",
              "      <th>cabin_mapped</th>\n",
              "    </tr>\n",
              "  </thead>\n",
              "  <tbody>\n",
              "    <tr>\n",
              "      <th>168</th>\n",
              "      <td>1</td>\n",
              "      <td>Icard, Miss. Amelie</td>\n",
              "      <td>female</td>\n",
              "      <td>0</td>\n",
              "      <td>0</td>\n",
              "      <td>113572</td>\n",
              "      <td>80.0</td>\n",
              "      <td>NaN</td>\n",
              "      <td>6</td>\n",
              "      <td>NaN</td>\n",
              "      <td>1</td>\n",
              "      <td>0</td>\n",
              "    </tr>\n",
              "    <tr>\n",
              "      <th>284</th>\n",
              "      <td>1</td>\n",
              "      <td>Stone, Mrs. George Nelson (Martha Evelyn)</td>\n",
              "      <td>female</td>\n",
              "      <td>0</td>\n",
              "      <td>0</td>\n",
              "      <td>113572</td>\n",
              "      <td>80.0</td>\n",
              "      <td>NaN</td>\n",
              "      <td>6</td>\n",
              "      <td>Cincinatti, OH</td>\n",
              "      <td>1</td>\n",
              "      <td>0</td>\n",
              "    </tr>\n",
              "  </tbody>\n",
              "</table>\n",
              "</div>"
            ]
          },
          "metadata": {},
          "execution_count": 27
        }
      ]
    },
    {
      "cell_type": "code",
      "source": [
        "X_Train[X_Train['pclass'] == 1].embarked.value_counts()"
      ],
      "metadata": {
        "colab": {
          "base_uri": "https://localhost:8080/"
        },
        "id": "ZsP_WSY4F1bd",
        "outputId": "e55cd418-3256-43ee-d734-cd9f862e9a28"
      },
      "execution_count": 28,
      "outputs": [
        {
          "output_type": "execute_result",
          "data": {
            "text/plain": [
              "S    177\n",
              "C    141\n",
              "Q      3\n",
              "Name: embarked, dtype: int64"
            ]
          },
          "metadata": {},
          "execution_count": 28
        }
      ]
    },
    {
      "cell_type": "code",
      "source": [
        "X_Train['embarked'].fillna('S', inplace = True)"
      ],
      "metadata": {
        "id": "4bPOFl8iGEA5"
      },
      "execution_count": 29,
      "outputs": []
    },
    {
      "cell_type": "code",
      "source": [
        "X_Train.isnull().sum()"
      ],
      "metadata": {
        "colab": {
          "base_uri": "https://localhost:8080/"
        },
        "id": "jaFo-42NGXbq",
        "outputId": "f00c6d53-09ea-4cea-a92d-a3eaddfe67a7"
      },
      "execution_count": 30,
      "outputs": [
        {
          "output_type": "execute_result",
          "data": {
            "text/plain": [
              "pclass            0\n",
              "name              0\n",
              "sex               0\n",
              "sibsp             0\n",
              "parch             0\n",
              "ticket            0\n",
              "fare              0\n",
              "embarked          0\n",
              "boat            823\n",
              "home.dest       564\n",
              "nulls             0\n",
              "cabin_mapped      0\n",
              "dtype: int64"
            ]
          },
          "metadata": {},
          "execution_count": 30
        }
      ]
    },
    {
      "cell_type": "markdown",
      "source": [
        "### map string \"boat\" attribute to number"
      ],
      "metadata": {
        "id": "5FYncFnqT6OC"
      }
    },
    {
      "cell_type": "code",
      "source": [
        "X_Train['boat_mapped'] = X_Train['boat'].astype(str).str[0] # this captures the letter"
      ],
      "metadata": {
        "id": "SZMf4kQSGl4F"
      },
      "execution_count": 31,
      "outputs": []
    },
    {
      "cell_type": "code",
      "source": [
        "# this transforms the letters into numbers\n",
        "boat_dict = {k:i for i, k in enumerate(X_Train.boat_mapped.unique())} \n",
        "X_Train.loc[:, 'boat_mapped'] = X_Train.loc[:, 'boat_mapped'].map(boat_dict)"
      ],
      "metadata": {
        "colab": {
          "base_uri": "https://localhost:8080/"
        },
        "id": "qRI2c9MgGtKB",
        "outputId": "e1088b6e-cc73-4129-9067-0585958cfce0"
      },
      "execution_count": 32,
      "outputs": [
        {
          "output_type": "stream",
          "name": "stderr",
          "text": [
            "/tmp/ipykernel_682/1922127723.py:3: FutureWarning: In a future version, `df.iloc[:, i] = newvals` will attempt to set the values inplace instead of always setting a new array. To retain the old behavior, use either `df[df.columns[i]] = newvals` or, if columns are non-unique, `df.isetitem(i, newvals)`\n",
            "  X_Train.loc[:, 'boat_mapped'] = X_Train.loc[:, 'boat_mapped'].map(boat_dict)\n"
          ]
        }
      ]
    },
    {
      "cell_type": "code",
      "source": [
        "boat_dict"
      ],
      "metadata": {
        "colab": {
          "base_uri": "https://localhost:8080/"
        },
        "id": "0fBeOYeVG4Zy",
        "outputId": "44784be9-c674-4a19-d903-821a86b035f7"
      },
      "execution_count": 33,
      "outputs": [
        {
          "output_type": "execute_result",
          "data": {
            "text/plain": [
              "{'2': 0,\n",
              " '1': 1,\n",
              " 'n': 2,\n",
              " '3': 3,\n",
              " 'D': 4,\n",
              " '4': 5,\n",
              " '9': 6,\n",
              " '6': 7,\n",
              " 'B': 8,\n",
              " '8': 9,\n",
              " 'A': 10,\n",
              " '5': 11,\n",
              " '7': 12,\n",
              " 'C': 13}"
            ]
          },
          "metadata": {},
          "execution_count": 33
        }
      ]
    },
    {
      "cell_type": "markdown",
      "source": [
        "## Drop useless attributes"
      ],
      "metadata": {
        "id": "3894Coy9UUOD"
      }
    },
    {
      "cell_type": "code",
      "source": [
        "X_Train.drop(['boat', 'home.dest'], inplace = True, axis = 1)"
      ],
      "metadata": {
        "id": "P7OADnKRHH9m"
      },
      "execution_count": 34,
      "outputs": []
    },
    {
      "cell_type": "code",
      "source": [
        "X_Train.isnull().sum()"
      ],
      "metadata": {
        "colab": {
          "base_uri": "https://localhost:8080/"
        },
        "id": "dUaebo39HWf1",
        "outputId": "9f03987f-58a8-4f4b-90ad-3500e59496ac"
      },
      "execution_count": 35,
      "outputs": [
        {
          "output_type": "execute_result",
          "data": {
            "text/plain": [
              "pclass          0\n",
              "name            0\n",
              "sex             0\n",
              "sibsp           0\n",
              "parch           0\n",
              "ticket          0\n",
              "fare            0\n",
              "embarked        0\n",
              "nulls           0\n",
              "cabin_mapped    0\n",
              "boat_mapped     0\n",
              "dtype: int64"
            ]
          },
          "metadata": {},
          "execution_count": 35
        }
      ]
    },
    {
      "cell_type": "code",
      "source": [
        "X_Train.drop(['name', 'ticket'], axis = 1, inplace = True)"
      ],
      "metadata": {
        "id": "y-vFTzBAJf_J"
      },
      "execution_count": 39,
      "outputs": []
    },
    {
      "cell_type": "markdown",
      "source": [
        "## Changing Types"
      ],
      "metadata": {
        "id": "thzUgJifUdqA"
      }
    },
    {
      "cell_type": "code",
      "source": [
        "X_Train.dtypes"
      ],
      "metadata": {
        "colab": {
          "base_uri": "https://localhost:8080/"
        },
        "id": "tMoSElSYJoZ2",
        "outputId": "bc43c94f-e770-4cd7-a2ef-f312b7ebb878"
      },
      "execution_count": 40,
      "outputs": [
        {
          "output_type": "execute_result",
          "data": {
            "text/plain": [
              "pclass            int64\n",
              "sex              object\n",
              "sibsp             int64\n",
              "parch             int64\n",
              "fare            float64\n",
              "embarked         object\n",
              "nulls             int64\n",
              "cabin_mapped      int64\n",
              "boat_mapped       int64\n",
              "dtype: object"
            ]
          },
          "metadata": {},
          "execution_count": 40
        }
      ]
    },
    {
      "cell_type": "code",
      "source": [
        "X_dummies = pd.get_dummies(X_Train, columns = ['sex', 'nulls', 'cabin_mapped', 'embarked', 'boat_mapped'],\\\n",
        "                           drop_first= True)"
      ],
      "metadata": {
        "id": "lzWLx1AuJ2dV"
      },
      "execution_count": 41,
      "outputs": []
    },
    {
      "cell_type": "code",
      "source": [
        "X_dummies.dtypes"
      ],
      "metadata": {
        "colab": {
          "base_uri": "https://localhost:8080/"
        },
        "id": "7tfrqBQXKOSt",
        "outputId": "3459aa5a-d05a-4677-cdb7-80e86234caa4"
      },
      "execution_count": 42,
      "outputs": [
        {
          "output_type": "execute_result",
          "data": {
            "text/plain": [
              "pclass              int64\n",
              "sibsp               int64\n",
              "parch               int64\n",
              "fare              float64\n",
              "sex_male            uint8\n",
              "nulls_1             uint8\n",
              "nulls_2             uint8\n",
              "nulls_3             uint8\n",
              "cabin_mapped_1      uint8\n",
              "cabin_mapped_2      uint8\n",
              "cabin_mapped_3      uint8\n",
              "cabin_mapped_4      uint8\n",
              "cabin_mapped_5      uint8\n",
              "cabin_mapped_6      uint8\n",
              "cabin_mapped_7      uint8\n",
              "cabin_mapped_8      uint8\n",
              "embarked_Q          uint8\n",
              "embarked_S          uint8\n",
              "boat_mapped_1       uint8\n",
              "boat_mapped_2       uint8\n",
              "boat_mapped_3       uint8\n",
              "boat_mapped_4       uint8\n",
              "boat_mapped_5       uint8\n",
              "boat_mapped_6       uint8\n",
              "boat_mapped_7       uint8\n",
              "boat_mapped_8       uint8\n",
              "boat_mapped_9       uint8\n",
              "boat_mapped_10      uint8\n",
              "boat_mapped_11      uint8\n",
              "boat_mapped_12      uint8\n",
              "boat_mapped_13      uint8\n",
              "dtype: object"
            ]
          },
          "metadata": {},
          "execution_count": 42
        }
      ]
    },
    {
      "cell_type": "markdown",
      "source": [
        "## Split Train ,Test Data"
      ],
      "metadata": {
        "id": "5__lVA4wU541"
      }
    },
    {
      "cell_type": "code",
      "source": [
        "# split data & label\n",
        "X_train = X_dummies\n",
        "Y_train = data.survived\n",
        "\n",
        "# make Train & validation set\n",
        "train_set, test_set, train_labels, test_labels = train_test_split(X_train, Y_train, stratify=Y_train,\n",
        "                                                                      random_state= 231,test_size=0.20)"
      ],
      "metadata": {
        "id": "wh1oZ04_zriY"
      },
      "execution_count": 43,
      "outputs": []
    },
    {
      "cell_type": "code",
      "source": [
        "unique, counts = np.unique(Y_train, return_counts=True)\n",
        "for i in range(len(unique)):\n",
        "  print('Survived: {} counts: {}'.format(unique[i],counts[i]))"
      ],
      "metadata": {
        "colab": {
          "base_uri": "https://localhost:8080/"
        },
        "id": "ucpg4BkD1uuv",
        "outputId": "571774d3-8bf2-4a9f-86bb-195122d963ee"
      },
      "execution_count": 44,
      "outputs": [
        {
          "output_type": "stream",
          "name": "stdout",
          "text": [
            "Survived: 0 counts: 809\n",
            "Survived: 1 counts: 500\n"
          ]
        }
      ]
    },
    {
      "cell_type": "code",
      "source": [
        "print(train_set.shape,test_set.shape)\n",
        "print(train_labels.shape,test_labels.shape)"
      ],
      "metadata": {
        "colab": {
          "base_uri": "https://localhost:8080/"
        },
        "id": "hZz1xGj52M_M",
        "outputId": "9bcd9cf8-7ea1-4309-e046-b3bd6406c1b1"
      },
      "execution_count": 45,
      "outputs": [
        {
          "output_type": "stream",
          "name": "stdout",
          "text": [
            "(1047, 31) (262, 31)\n",
            "(1047,) (262,)\n"
          ]
        }
      ]
    },
    {
      "cell_type": "markdown",
      "source": [
        "# Train XGBoost Classifier"
      ],
      "metadata": {
        "id": "cK6eiWAZVAkJ"
      }
    },
    {
      "cell_type": "code",
      "source": [
        "model = XGBClassifier()\n",
        "model.fit(train_set, train_labels)"
      ],
      "metadata": {
        "colab": {
          "base_uri": "https://localhost:8080/",
          "height": 248
        },
        "id": "T_TE5BT32V-Y",
        "outputId": "4e0182be-bd82-43b7-cb6e-02337c0781e7"
      },
      "execution_count": 46,
      "outputs": [
        {
          "output_type": "execute_result",
          "data": {
            "text/plain": [
              "XGBClassifier(base_score=None, booster=None, callbacks=None,\n",
              "              colsample_bylevel=None, colsample_bynode=None,\n",
              "              colsample_bytree=None, early_stopping_rounds=None,\n",
              "              enable_categorical=False, eval_metric=None, feature_types=None,\n",
              "              gamma=None, gpu_id=None, grow_policy=None, importance_type=None,\n",
              "              interaction_constraints=None, learning_rate=None, max_bin=None,\n",
              "              max_cat_threshold=None, max_cat_to_onehot=None,\n",
              "              max_delta_step=None, max_depth=None, max_leaves=None,\n",
              "              min_child_weight=None, missing=nan, monotone_constraints=None,\n",
              "              n_estimators=100, n_jobs=None, num_parallel_tree=None,\n",
              "              predictor=None, random_state=None, ...)"
            ],
            "text/html": [
              "<style>#sk-container-id-1 {color: black;background-color: white;}#sk-container-id-1 pre{padding: 0;}#sk-container-id-1 div.sk-toggleable {background-color: white;}#sk-container-id-1 label.sk-toggleable__label {cursor: pointer;display: block;width: 100%;margin-bottom: 0;padding: 0.3em;box-sizing: border-box;text-align: center;}#sk-container-id-1 label.sk-toggleable__label-arrow:before {content: \"▸\";float: left;margin-right: 0.25em;color: #696969;}#sk-container-id-1 label.sk-toggleable__label-arrow:hover:before {color: black;}#sk-container-id-1 div.sk-estimator:hover label.sk-toggleable__label-arrow:before {color: black;}#sk-container-id-1 div.sk-toggleable__content {max-height: 0;max-width: 0;overflow: hidden;text-align: left;background-color: #f0f8ff;}#sk-container-id-1 div.sk-toggleable__content pre {margin: 0.2em;color: black;border-radius: 0.25em;background-color: #f0f8ff;}#sk-container-id-1 input.sk-toggleable__control:checked~div.sk-toggleable__content {max-height: 200px;max-width: 100%;overflow: auto;}#sk-container-id-1 input.sk-toggleable__control:checked~label.sk-toggleable__label-arrow:before {content: \"▾\";}#sk-container-id-1 div.sk-estimator input.sk-toggleable__control:checked~label.sk-toggleable__label {background-color: #d4ebff;}#sk-container-id-1 div.sk-label input.sk-toggleable__control:checked~label.sk-toggleable__label {background-color: #d4ebff;}#sk-container-id-1 input.sk-hidden--visually {border: 0;clip: rect(1px 1px 1px 1px);clip: rect(1px, 1px, 1px, 1px);height: 1px;margin: -1px;overflow: hidden;padding: 0;position: absolute;width: 1px;}#sk-container-id-1 div.sk-estimator {font-family: monospace;background-color: #f0f8ff;border: 1px dotted black;border-radius: 0.25em;box-sizing: border-box;margin-bottom: 0.5em;}#sk-container-id-1 div.sk-estimator:hover {background-color: #d4ebff;}#sk-container-id-1 div.sk-parallel-item::after {content: \"\";width: 100%;border-bottom: 1px solid gray;flex-grow: 1;}#sk-container-id-1 div.sk-label:hover label.sk-toggleable__label {background-color: #d4ebff;}#sk-container-id-1 div.sk-serial::before {content: \"\";position: absolute;border-left: 1px solid gray;box-sizing: border-box;top: 0;bottom: 0;left: 50%;z-index: 0;}#sk-container-id-1 div.sk-serial {display: flex;flex-direction: column;align-items: center;background-color: white;padding-right: 0.2em;padding-left: 0.2em;position: relative;}#sk-container-id-1 div.sk-item {position: relative;z-index: 1;}#sk-container-id-1 div.sk-parallel {display: flex;align-items: stretch;justify-content: center;background-color: white;position: relative;}#sk-container-id-1 div.sk-item::before, #sk-container-id-1 div.sk-parallel-item::before {content: \"\";position: absolute;border-left: 1px solid gray;box-sizing: border-box;top: 0;bottom: 0;left: 50%;z-index: -1;}#sk-container-id-1 div.sk-parallel-item {display: flex;flex-direction: column;z-index: 1;position: relative;background-color: white;}#sk-container-id-1 div.sk-parallel-item:first-child::after {align-self: flex-end;width: 50%;}#sk-container-id-1 div.sk-parallel-item:last-child::after {align-self: flex-start;width: 50%;}#sk-container-id-1 div.sk-parallel-item:only-child::after {width: 0;}#sk-container-id-1 div.sk-dashed-wrapped {border: 1px dashed gray;margin: 0 0.4em 0.5em 0.4em;box-sizing: border-box;padding-bottom: 0.4em;background-color: white;}#sk-container-id-1 div.sk-label label {font-family: monospace;font-weight: bold;display: inline-block;line-height: 1.2em;}#sk-container-id-1 div.sk-label-container {text-align: center;}#sk-container-id-1 div.sk-container {/* jupyter's `normalize.less` sets `[hidden] { display: none; }` but bootstrap.min.css set `[hidden] { display: none !important; }` so we also need the `!important` here to be able to override the default hidden behavior on the sphinx rendered scikit-learn.org. See: https://github.com/scikit-learn/scikit-learn/issues/21755 */display: inline-block !important;position: relative;}#sk-container-id-1 div.sk-text-repr-fallback {display: none;}</style><div id=\"sk-container-id-1\" class=\"sk-top-container\"><div class=\"sk-text-repr-fallback\"><pre>XGBClassifier(base_score=None, booster=None, callbacks=None,\n",
              "              colsample_bylevel=None, colsample_bynode=None,\n",
              "              colsample_bytree=None, early_stopping_rounds=None,\n",
              "              enable_categorical=False, eval_metric=None, feature_types=None,\n",
              "              gamma=None, gpu_id=None, grow_policy=None, importance_type=None,\n",
              "              interaction_constraints=None, learning_rate=None, max_bin=None,\n",
              "              max_cat_threshold=None, max_cat_to_onehot=None,\n",
              "              max_delta_step=None, max_depth=None, max_leaves=None,\n",
              "              min_child_weight=None, missing=nan, monotone_constraints=None,\n",
              "              n_estimators=100, n_jobs=None, num_parallel_tree=None,\n",
              "              predictor=None, random_state=None, ...)</pre><b>In a Jupyter environment, please rerun this cell to show the HTML representation or trust the notebook. <br />On GitHub, the HTML representation is unable to render, please try loading this page with nbviewer.org.</b></div><div class=\"sk-container\" hidden><div class=\"sk-item\"><div class=\"sk-estimator sk-toggleable\"><input class=\"sk-toggleable__control sk-hidden--visually\" id=\"sk-estimator-id-1\" type=\"checkbox\" checked><label for=\"sk-estimator-id-1\" class=\"sk-toggleable__label sk-toggleable__label-arrow\">XGBClassifier</label><div class=\"sk-toggleable__content\"><pre>XGBClassifier(base_score=None, booster=None, callbacks=None,\n",
              "              colsample_bylevel=None, colsample_bynode=None,\n",
              "              colsample_bytree=None, early_stopping_rounds=None,\n",
              "              enable_categorical=False, eval_metric=None, feature_types=None,\n",
              "              gamma=None, gpu_id=None, grow_policy=None, importance_type=None,\n",
              "              interaction_constraints=None, learning_rate=None, max_bin=None,\n",
              "              max_cat_threshold=None, max_cat_to_onehot=None,\n",
              "              max_delta_step=None, max_depth=None, max_leaves=None,\n",
              "              min_child_weight=None, missing=nan, monotone_constraints=None,\n",
              "              n_estimators=100, n_jobs=None, num_parallel_tree=None,\n",
              "              predictor=None, random_state=None, ...)</pre></div></div></div></div></div>"
            ]
          },
          "metadata": {},
          "execution_count": 46
        }
      ]
    },
    {
      "cell_type": "markdown",
      "source": [
        "# Metric Functions"
      ],
      "metadata": {
        "id": "viIRXmhHVKb1"
      }
    },
    {
      "cell_type": "code",
      "source": [
        "# Make the confusion matrix\n",
        "def confusion_plot(y_test,y_pred,title):\n",
        "    cmt = confusion_matrix(y_test,y_pred)\n",
        "    plt.rcParams['figure.figsize'] = (10,8)\n",
        "    sns.heatmap(cmt,fmt='',annot=True,linewidth=0.01,cmap=sns.cubehelix_palette(as_cmap=True))\n",
        "    plt.title(\"confusion matrix {}\".format(title))\n",
        "    plt.xlabel(\"predicted\")\n",
        "    plt.ylabel(\"true\")\n",
        "    plt.show()\n",
        "\n",
        "\n",
        "# generate classification report\n",
        "def generate_classification_report(y_test,y_pred):\n",
        "    report=pd.DataFrame.from_dict(classification_report(y_pred,y_test,output_dict=True)).T\n",
        "    # report['Label']=[data_classes[i]  if i<5 else \" \" for i,x in enumerate(report.index)]\n",
        "    report=report[['f1-score','precision','recall','support']]\n",
        "    pd.set_option('display.max_rows', report.shape[0]+1)\n",
        "    return report\n",
        "\n",
        "# ROC Curve\n",
        "def plot_roc_curve(y_test,proba,pos_label):\n",
        "    fpr, tpr, thresholds = roc_curve(y_test, proba[:,pos_label], pos_label= pos_label)\n",
        "    roc_auc = roc_auc_score(y_test, proba, multi_class='ovr')\n",
        "\n",
        "    plt.rcParams['figure.figsize'] = (5,4)\n",
        "    plt.plot(fpr, tpr,'k:',lw=5, label='average ROC curve (area = {0:0.2f})'.format(roc_auc))\n",
        "    plt.plot([0 ,1],[0 ,1],'r')\n",
        "    plt.legend(loc=\"lower right\")\n",
        "    plt.title('ROC Curve for calss {0}'.format(data_classes[pos_label]))\n",
        "    plt.ylabel('True Positive Rate')\n",
        "    plt.xlabel('False Positive Rate')\n",
        "    plt.show()\n",
        "\n",
        "\n",
        "# ROC Curve for all classes\n",
        "def plot_roc_curve_all(y_test,proba,n_class,title):\n",
        "    for i in range(n_class):\n",
        "      fpr, tpr, thresholds = roc_curve(y_test, proba[:,i],pos_label= i)\n",
        "      plt.plot(fpr, tpr,lw=1)\n",
        "    plt.plot([0 ,1],[0 ,1],'r')\n",
        "    plt.title('ROC Curve for all classes in {}'.format(title))\n",
        "    plt.ylabel('True Positive Rate')\n",
        "    plt.xlabel('False Positive Rate')\n",
        "    plt.legend(data_classes)\n",
        "    plt.show()"
      ],
      "metadata": {
        "id": "0NOvEA3CLsvu"
      },
      "execution_count": 47,
      "outputs": []
    },
    {
      "cell_type": "markdown",
      "source": [
        "# Predict, Accuracy, Confusion Matrix"
      ],
      "metadata": {
        "id": "cjyz977RVOGb"
      }
    },
    {
      "cell_type": "code",
      "source": [
        "y_pred = model.predict(test_set)"
      ],
      "metadata": {
        "id": "tGCaH-QxLwEQ"
      },
      "execution_count": 48,
      "outputs": []
    },
    {
      "cell_type": "code",
      "source": [
        "generate_classification_report(test_labels, y_pred)"
      ],
      "metadata": {
        "colab": {
          "base_uri": "https://localhost:8080/",
          "height": 206
        },
        "id": "KxxNVP94Lxm7",
        "outputId": "c370d862-a25b-4a8f-b5f9-00902ae5d1b0"
      },
      "execution_count": 49,
      "outputs": [
        {
          "output_type": "execute_result",
          "data": {
            "text/plain": [
              "              f1-score  precision    recall     support\n",
              "0             0.965944   0.962963  0.968944  161.000000\n",
              "1             0.945274   0.950000  0.940594  101.000000\n",
              "accuracy      0.958015   0.958015  0.958015    0.958015\n",
              "macro avg     0.955609   0.956481  0.954769  262.000000\n",
              "weighted avg  0.957976   0.957966  0.958015  262.000000"
            ],
            "text/html": [
              "<div>\n",
              "<style scoped>\n",
              "    .dataframe tbody tr th:only-of-type {\n",
              "        vertical-align: middle;\n",
              "    }\n",
              "\n",
              "    .dataframe tbody tr th {\n",
              "        vertical-align: top;\n",
              "    }\n",
              "\n",
              "    .dataframe thead th {\n",
              "        text-align: right;\n",
              "    }\n",
              "</style>\n",
              "<table border=\"1\" class=\"dataframe\">\n",
              "  <thead>\n",
              "    <tr style=\"text-align: right;\">\n",
              "      <th></th>\n",
              "      <th>f1-score</th>\n",
              "      <th>precision</th>\n",
              "      <th>recall</th>\n",
              "      <th>support</th>\n",
              "    </tr>\n",
              "  </thead>\n",
              "  <tbody>\n",
              "    <tr>\n",
              "      <th>0</th>\n",
              "      <td>0.965944</td>\n",
              "      <td>0.962963</td>\n",
              "      <td>0.968944</td>\n",
              "      <td>161.000000</td>\n",
              "    </tr>\n",
              "    <tr>\n",
              "      <th>1</th>\n",
              "      <td>0.945274</td>\n",
              "      <td>0.950000</td>\n",
              "      <td>0.940594</td>\n",
              "      <td>101.000000</td>\n",
              "    </tr>\n",
              "    <tr>\n",
              "      <th>accuracy</th>\n",
              "      <td>0.958015</td>\n",
              "      <td>0.958015</td>\n",
              "      <td>0.958015</td>\n",
              "      <td>0.958015</td>\n",
              "    </tr>\n",
              "    <tr>\n",
              "      <th>macro avg</th>\n",
              "      <td>0.955609</td>\n",
              "      <td>0.956481</td>\n",
              "      <td>0.954769</td>\n",
              "      <td>262.000000</td>\n",
              "    </tr>\n",
              "    <tr>\n",
              "      <th>weighted avg</th>\n",
              "      <td>0.957976</td>\n",
              "      <td>0.957966</td>\n",
              "      <td>0.958015</td>\n",
              "      <td>262.000000</td>\n",
              "    </tr>\n",
              "  </tbody>\n",
              "</table>\n",
              "</div>"
            ]
          },
          "metadata": {},
          "execution_count": 49
        }
      ]
    },
    {
      "cell_type": "code",
      "source": [
        "confusion_plot(test_labels,y_pred,'for XGBoost')"
      ],
      "metadata": {
        "colab": {
          "base_uri": "https://localhost:8080/",
          "height": 718
        },
        "id": "qJuAOR1lL0ZQ",
        "outputId": "b348d3a9-3da7-43d0-dd7b-2f71c01c4fca"
      },
      "execution_count": 50,
      "outputs": [
        {
          "output_type": "display_data",
          "data": {
            "text/plain": [
              "<Figure size 1000x800 with 2 Axes>"
            ],
            "image/png": "[encoded data removed]"
          },
          "metadata": {}
        }
      ]
    }
  ]
}