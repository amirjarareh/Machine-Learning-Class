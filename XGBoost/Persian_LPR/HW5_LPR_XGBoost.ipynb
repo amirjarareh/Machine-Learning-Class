{
  "nbformat": 4,
  "nbformat_minor": 0,
  "metadata": {
    "colab": {
      "provenance": []
    },
    "kernelspec": {
      "name": "python3",
      "display_name": "Python 3"
    },
    "language_info": {
      "name": "python"
    }
  },
  "cells": [
    {
      "cell_type": "markdown",
      "source": [
        "#import Libraries"
      ],
      "metadata": {
        "id": "ATOWR8mflkpb"
      }
    },
    {
      "cell_type": "code",
      "execution_count": null,
      "metadata": {
        "id": "t1MRMFH66wlw"
      },
      "outputs": [],
      "source": [
        "from PIL import Image, ImageDraw, ImageFilter\n",
        "import glob\n",
        "import numpy as np\n",
        "import pandas as pd\n",
        "import matplotlib\n",
        "import matplotlib.pyplot as plt\n",
        "\n",
        "from xgboost import XGBClassifier\n",
        "from sklearn import preprocessing\n",
        "from sklearn.metrics import accuracy_score, confusion_matrix, roc_auc_score, roc_curve, classification_report, auc\n",
        "import seaborn as sns\n",
        "from sklearn.model_selection import train_test_split\n",
        "from sklearn.model_selection import RandomizedSearchCV"
      ]
    },
    {
      "cell_type": "markdown",
      "source": [
        "# Import Dataset"
      ],
      "metadata": {
        "id": "q_lbgnUllpgR"
      }
    },
    {
      "cell_type": "code",
      "source": [
        "!git clone \"https://github.com/hmda77/Machine-Learning-Class\"\n",
        "!mv \"Machine-Learning-Class\"/XGBoost/Persian_LPR/persian_LPR.zip ./\n",
        "!rm -rf \"Machine-Learning-Class\"\n",
        "!unzip persian_LPR.zip\n",
        "!rm -rf persian_LPR.zip"
      ],
      "metadata": {
        "id": "TqFzTNMq_w-F",
        "colab": {
          "base_uri": "https://localhost:8080/"
        },
        "outputId": "9d7147f7-bbef-4ec1-b4e8-d431a3ff759d"
      },
      "execution_count": null,
      "outputs": [
        {
          "output_type": "stream",
          "name": "stdout",
          "text": [
            "Cloning into 'Machine-Learning-Class'...\n",
            "remote: Enumerating objects: 163, done.\u001b[K\n",
            "remote: Counting objects: 100% (55/55), done.\u001b[K\n",
            "remote: Compressing objects: 100% (44/44), done.\u001b[K\n",
            "remote: Total 163 (delta 17), reused 3 (delta 3), pack-reused 108\u001b[K\n",
            "Receiving objects: 100% (163/163), 10.48 MiB | 206.00 KiB/s, done.\n",
            "Resolving deltas: 100% (41/41), done.\n",
            "Updating files: 100% (21/21), done.\n",
            "Archive:  persian_LPR.zip\n",
            "replace persian_LPR/2/100_13,96222_2616_8_0.82_2_18933 - Copy.bmp? [y]es, [n]o, [A]ll, [N]one, [r]ename: ^C\n"
          ]
        }
      ]
    },
    {
      "cell_type": "markdown",
      "source": [
        "# Preproess on Dataset"
      ],
      "metadata": {
        "id": "kyVrh7EpluQ-"
      }
    },
    {
      "cell_type": "code",
      "source": [
        "thumb_width = 16\n",
        "input = []\n",
        "label = []\n",
        "for filename in glob.glob('persian_LPR/3/*.bmp'):\n",
        "  im = Image.open(filename).convert('L')\n",
        "  x = np.asarray(im).reshape(thumb_width**2)\n",
        "  x = np.append(x,'3')\n",
        "  input.append(x)\n",
        "\n",
        "for filename in glob.glob('persian_LPR/2/*.bmp'):\n",
        "  im = Image.open(filename).convert('L')\n",
        "  x = np.asarray(im).reshape(thumb_width**2)\n",
        "  x = np.append(x,'2')\n",
        "  input.append(x)\n",
        "\n",
        "for filename in glob.glob('persian_LPR/7/*.bmp'):\n",
        "  im = Image.open(filename).convert('L')\n",
        "  x = np.asarray(im).reshape(thumb_width**2)\n",
        "  x = np.append(x,'7')\n",
        "  input.append(x)\n",
        "  \n",
        "for filename in glob.glob('persian_LPR/W/*.bmp'):\n",
        "  im = Image.open(filename).convert('L')\n",
        "  x = np.asarray(im).reshape(thumb_width**2)\n",
        "  x = np.append(x,'W')\n",
        "  input.append(x)\n",
        "\n",
        "for filename in glob.glob('persian_LPR/S/*.bmp'):\n",
        "  im = Image.open(filename).convert('L')\n",
        "  x = np.asarray(im).reshape(thumb_width**2)\n",
        "  x = np.append(x,'S')\n",
        "  input.append(x)"
      ],
      "metadata": {
        "id": "RcL2CZQJBvP3"
      },
      "execution_count": null,
      "outputs": []
    },
    {
      "cell_type": "markdown",
      "source": [
        "## Save Dataset as CSV File"
      ],
      "metadata": {
        "id": "8RghAFRql2nF"
      }
    },
    {
      "cell_type": "code",
      "source": [
        "DF = pd.DataFrame(input)\n",
        "DF.to_csv(\"Persian_LPR.csv\")"
      ],
      "metadata": {
        "id": "8XkEDTpaI3NT"
      },
      "execution_count": null,
      "outputs": []
    },
    {
      "cell_type": "code",
      "source": [
        "data = pd.read_csv(\"Persian_LPR.csv\")\n",
        "data.head(5)"
      ],
      "metadata": {
        "colab": {
          "base_uri": "https://localhost:8080/",
          "height": 236
        },
        "id": "IiRN4vgsMRPn",
        "outputId": "9c6490e3-a1bb-454a-eb73-618bd3ed65ab"
      },
      "execution_count": null,
      "outputs": [
        {
          "output_type": "execute_result",
          "data": {
            "text/plain": [
              "   Unnamed: 0   0   1   2   3   4   5   6   7   8  ...  247  248  249  250  \\\n",
              "0           0  51  51  56  56  51  47  37  27  25  ...  118  108  103   98   \n",
              "1           1  70  68  72  70  66  60  55  62  66  ...  115  115   94   59   \n",
              "2           2  10  10   8   8  10  10  10   8   8  ...   70   55   52   52   \n",
              "3           3  78  74  72  72  76  78  83  85  85  ...  102  124  124  105   \n",
              "4           4  45  48  50  48  45  41  36  33  36  ...   74   79   64   50   \n",
              "\n",
              "   251  252  253  254  255  256  \n",
              "0   98  103  115  130  145    3  \n",
              "1   34   28   36   42   40    3  \n",
              "2   52   49   52   55   68    3  \n",
              "3   76   52   44   41   48    3  \n",
              "4   45   41   29   19   17    3  \n",
              "\n",
              "[5 rows x 258 columns]"
            ],
            "text/html": [
              "<div>\n",
              "<style scoped>\n",
              "    .dataframe tbody tr th:only-of-type {\n",
              "        vertical-align: middle;\n",
              "    }\n",
              "\n",
              "    .dataframe tbody tr th {\n",
              "        vertical-align: top;\n",
              "    }\n",
              "\n",
              "    .dataframe thead th {\n",
              "        text-align: right;\n",
              "    }\n",
              "</style>\n",
              "<table border=\"1\" class=\"dataframe\">\n",
              "  <thead>\n",
              "    <tr style=\"text-align: right;\">\n",
              "      <th></th>\n",
              "      <th>Unnamed: 0</th>\n",
              "      <th>0</th>\n",
              "      <th>1</th>\n",
              "      <th>2</th>\n",
              "      <th>3</th>\n",
              "      <th>4</th>\n",
              "      <th>5</th>\n",
              "      <th>6</th>\n",
              "      <th>7</th>\n",
              "      <th>8</th>\n",
              "      <th>...</th>\n",
              "      <th>247</th>\n",
              "      <th>248</th>\n",
              "      <th>249</th>\n",
              "      <th>250</th>\n",
              "      <th>251</th>\n",
              "      <th>252</th>\n",
              "      <th>253</th>\n",
              "      <th>254</th>\n",
              "      <th>255</th>\n",
              "      <th>256</th>\n",
              "    </tr>\n",
              "  </thead>\n",
              "  <tbody>\n",
              "    <tr>\n",
              "      <th>0</th>\n",
              "      <td>0</td>\n",
              "      <td>51</td>\n",
              "      <td>51</td>\n",
              "      <td>56</td>\n",
              "      <td>56</td>\n",
              "      <td>51</td>\n",
              "      <td>47</td>\n",
              "      <td>37</td>\n",
              "      <td>27</td>\n",
              "      <td>25</td>\n",
              "      <td>...</td>\n",
              "      <td>118</td>\n",
              "      <td>108</td>\n",
              "      <td>103</td>\n",
              "      <td>98</td>\n",
              "      <td>98</td>\n",
              "      <td>103</td>\n",
              "      <td>115</td>\n",
              "      <td>130</td>\n",
              "      <td>145</td>\n",
              "      <td>3</td>\n",
              "    </tr>\n",
              "    <tr>\n",
              "      <th>1</th>\n",
              "      <td>1</td>\n",
              "      <td>70</td>\n",
              "      <td>68</td>\n",
              "      <td>72</td>\n",
              "      <td>70</td>\n",
              "      <td>66</td>\n",
              "      <td>60</td>\n",
              "      <td>55</td>\n",
              "      <td>62</td>\n",
              "      <td>66</td>\n",
              "      <td>...</td>\n",
              "      <td>115</td>\n",
              "      <td>115</td>\n",
              "      <td>94</td>\n",
              "      <td>59</td>\n",
              "      <td>34</td>\n",
              "      <td>28</td>\n",
              "      <td>36</td>\n",
              "      <td>42</td>\n",
              "      <td>40</td>\n",
              "      <td>3</td>\n",
              "    </tr>\n",
              "    <tr>\n",
              "      <th>2</th>\n",
              "      <td>2</td>\n",
              "      <td>10</td>\n",
              "      <td>10</td>\n",
              "      <td>8</td>\n",
              "      <td>8</td>\n",
              "      <td>10</td>\n",
              "      <td>10</td>\n",
              "      <td>10</td>\n",
              "      <td>8</td>\n",
              "      <td>8</td>\n",
              "      <td>...</td>\n",
              "      <td>70</td>\n",
              "      <td>55</td>\n",
              "      <td>52</td>\n",
              "      <td>52</td>\n",
              "      <td>52</td>\n",
              "      <td>49</td>\n",
              "      <td>52</td>\n",
              "      <td>55</td>\n",
              "      <td>68</td>\n",
              "      <td>3</td>\n",
              "    </tr>\n",
              "    <tr>\n",
              "      <th>3</th>\n",
              "      <td>3</td>\n",
              "      <td>78</td>\n",
              "      <td>74</td>\n",
              "      <td>72</td>\n",
              "      <td>72</td>\n",
              "      <td>76</td>\n",
              "      <td>78</td>\n",
              "      <td>83</td>\n",
              "      <td>85</td>\n",
              "      <td>85</td>\n",
              "      <td>...</td>\n",
              "      <td>102</td>\n",
              "      <td>124</td>\n",
              "      <td>124</td>\n",
              "      <td>105</td>\n",
              "      <td>76</td>\n",
              "      <td>52</td>\n",
              "      <td>44</td>\n",
              "      <td>41</td>\n",
              "      <td>48</td>\n",
              "      <td>3</td>\n",
              "    </tr>\n",
              "    <tr>\n",
              "      <th>4</th>\n",
              "      <td>4</td>\n",
              "      <td>45</td>\n",
              "      <td>48</td>\n",
              "      <td>50</td>\n",
              "      <td>48</td>\n",
              "      <td>45</td>\n",
              "      <td>41</td>\n",
              "      <td>36</td>\n",
              "      <td>33</td>\n",
              "      <td>36</td>\n",
              "      <td>...</td>\n",
              "      <td>74</td>\n",
              "      <td>79</td>\n",
              "      <td>64</td>\n",
              "      <td>50</td>\n",
              "      <td>45</td>\n",
              "      <td>41</td>\n",
              "      <td>29</td>\n",
              "      <td>19</td>\n",
              "      <td>17</td>\n",
              "      <td>3</td>\n",
              "    </tr>\n",
              "  </tbody>\n",
              "</table>\n",
              "<p>5 rows × 258 columns</p>\n",
              "</div>"
            ]
          },
          "metadata": {},
          "execution_count": 155
        }
      ]
    },
    {
      "cell_type": "code",
      "source": [
        "data_classes = {'3':0, '2':1, '7':2, 'W':3,'S':4}"
      ],
      "metadata": {
        "id": "hzv6KCbNNt05"
      },
      "execution_count": null,
      "outputs": []
    },
    {
      "cell_type": "code",
      "source": [
        "data['label'] = data['256'].astype(str).str[0]"
      ],
      "metadata": {
        "id": "Hn_EfTVJdAdq"
      },
      "execution_count": null,
      "outputs": []
    },
    {
      "cell_type": "code",
      "source": [
        "data.loc[:, 'label'] = data.loc[:, 'label'].map(data_classes)"
      ],
      "metadata": {
        "colab": {
          "base_uri": "https://localhost:8080/"
        },
        "id": "AlVTnxIbctzr",
        "outputId": "84be1946-bd12-4e7a-9438-5e332085deff"
      },
      "execution_count": null,
      "outputs": [
        {
          "output_type": "stream",
          "name": "stderr",
          "text": [
            "/tmp/ipykernel_733/2978893286.py:1: FutureWarning: In a future version, `df.iloc[:, i] = newvals` will attempt to set the values inplace instead of always setting a new array. To retain the old behavior, use either `df[df.columns[i]] = newvals` or, if columns are non-unique, `df.isetitem(i, newvals)`\n",
            "  data.loc[:, 'label'] = data.loc[:, 'label'].map(data_classes)\n"
          ]
        }
      ]
    },
    {
      "cell_type": "code",
      "source": [
        "data.drop(['256'], inplace = True, axis = 1)"
      ],
      "metadata": {
        "id": "nmPO4RUddIMw"
      },
      "execution_count": null,
      "outputs": []
    },
    {
      "cell_type": "code",
      "source": [
        "data.isnull().sum()"
      ],
      "metadata": {
        "colab": {
          "base_uri": "https://localhost:8080/"
        },
        "id": "qHQ1ujLEdezZ",
        "outputId": "367a0f2a-2f13-455a-cdb6-8831df0774c2"
      },
      "execution_count": null,
      "outputs": [
        {
          "output_type": "execute_result",
          "data": {
            "text/plain": [
              "Unnamed: 0    0\n",
              "0             0\n",
              "1             0\n",
              "2             0\n",
              "             ..\n",
              "253           0\n",
              "254           0\n",
              "255           0\n",
              "label         0\n",
              "Length: 258, dtype: int64"
            ]
          },
          "metadata": {},
          "execution_count": 160
        }
      ]
    },
    {
      "cell_type": "code",
      "source": [
        "data.to_csv(\"Persian_LPR.csv\")"
      ],
      "metadata": {
        "id": "9swGEFgCn5Cg"
      },
      "execution_count": null,
      "outputs": []
    },
    {
      "cell_type": "code",
      "source": [
        "data = pd.read_csv(\"Persian_LPR.csv\")\n",
        "data.head(5)"
      ],
      "metadata": {
        "id": "DiIXT8IyolsC",
        "outputId": "b445151a-677a-4a72-d56e-5741cb08049d",
        "colab": {
          "base_uri": "https://localhost:8080/",
          "height": 236
        }
      },
      "execution_count": null,
      "outputs": [
        {
          "output_type": "execute_result",
          "data": {
            "text/plain": [
              "   Unnamed: 0.1  Unnamed: 0   0   1   2   3   4   5   6   7  ...  247  248  \\\n",
              "0             0           0  51  51  56  56  51  47  37  27  ...  118  108   \n",
              "1             1           1  70  68  72  70  66  60  55  62  ...  115  115   \n",
              "2             2           2  10  10   8   8  10  10  10   8  ...   70   55   \n",
              "3             3           3  78  74  72  72  76  78  83  85  ...  102  124   \n",
              "4             4           4  45  48  50  48  45  41  36  33  ...   74   79   \n",
              "\n",
              "   249  250  251  252  253  254  255  label  \n",
              "0  103   98   98  103  115  130  145      0  \n",
              "1   94   59   34   28   36   42   40      0  \n",
              "2   52   52   52   49   52   55   68      0  \n",
              "3  124  105   76   52   44   41   48      0  \n",
              "4   64   50   45   41   29   19   17      0  \n",
              "\n",
              "[5 rows x 259 columns]"
            ],
            "text/html": [
              "<div>\n",
              "<style scoped>\n",
              "    .dataframe tbody tr th:only-of-type {\n",
              "        vertical-align: middle;\n",
              "    }\n",
              "\n",
              "    .dataframe tbody tr th {\n",
              "        vertical-align: top;\n",
              "    }\n",
              "\n",
              "    .dataframe thead th {\n",
              "        text-align: right;\n",
              "    }\n",
              "</style>\n",
              "<table border=\"1\" class=\"dataframe\">\n",
              "  <thead>\n",
              "    <tr style=\"text-align: right;\">\n",
              "      <th></th>\n",
              "      <th>Unnamed: 0.1</th>\n",
              "      <th>Unnamed: 0</th>\n",
              "      <th>0</th>\n",
              "      <th>1</th>\n",
              "      <th>2</th>\n",
              "      <th>3</th>\n",
              "      <th>4</th>\n",
              "      <th>5</th>\n",
              "      <th>6</th>\n",
              "      <th>7</th>\n",
              "      <th>...</th>\n",
              "      <th>247</th>\n",
              "      <th>248</th>\n",
              "      <th>249</th>\n",
              "      <th>250</th>\n",
              "      <th>251</th>\n",
              "      <th>252</th>\n",
              "      <th>253</th>\n",
              "      <th>254</th>\n",
              "      <th>255</th>\n",
              "      <th>label</th>\n",
              "    </tr>\n",
              "  </thead>\n",
              "  <tbody>\n",
              "    <tr>\n",
              "      <th>0</th>\n",
              "      <td>0</td>\n",
              "      <td>0</td>\n",
              "      <td>51</td>\n",
              "      <td>51</td>\n",
              "      <td>56</td>\n",
              "      <td>56</td>\n",
              "      <td>51</td>\n",
              "      <td>47</td>\n",
              "      <td>37</td>\n",
              "      <td>27</td>\n",
              "      <td>...</td>\n",
              "      <td>118</td>\n",
              "      <td>108</td>\n",
              "      <td>103</td>\n",
              "      <td>98</td>\n",
              "      <td>98</td>\n",
              "      <td>103</td>\n",
              "      <td>115</td>\n",
              "      <td>130</td>\n",
              "      <td>145</td>\n",
              "      <td>0</td>\n",
              "    </tr>\n",
              "    <tr>\n",
              "      <th>1</th>\n",
              "      <td>1</td>\n",
              "      <td>1</td>\n",
              "      <td>70</td>\n",
              "      <td>68</td>\n",
              "      <td>72</td>\n",
              "      <td>70</td>\n",
              "      <td>66</td>\n",
              "      <td>60</td>\n",
              "      <td>55</td>\n",
              "      <td>62</td>\n",
              "      <td>...</td>\n",
              "      <td>115</td>\n",
              "      <td>115</td>\n",
              "      <td>94</td>\n",
              "      <td>59</td>\n",
              "      <td>34</td>\n",
              "      <td>28</td>\n",
              "      <td>36</td>\n",
              "      <td>42</td>\n",
              "      <td>40</td>\n",
              "      <td>0</td>\n",
              "    </tr>\n",
              "    <tr>\n",
              "      <th>2</th>\n",
              "      <td>2</td>\n",
              "      <td>2</td>\n",
              "      <td>10</td>\n",
              "      <td>10</td>\n",
              "      <td>8</td>\n",
              "      <td>8</td>\n",
              "      <td>10</td>\n",
              "      <td>10</td>\n",
              "      <td>10</td>\n",
              "      <td>8</td>\n",
              "      <td>...</td>\n",
              "      <td>70</td>\n",
              "      <td>55</td>\n",
              "      <td>52</td>\n",
              "      <td>52</td>\n",
              "      <td>52</td>\n",
              "      <td>49</td>\n",
              "      <td>52</td>\n",
              "      <td>55</td>\n",
              "      <td>68</td>\n",
              "      <td>0</td>\n",
              "    </tr>\n",
              "    <tr>\n",
              "      <th>3</th>\n",
              "      <td>3</td>\n",
              "      <td>3</td>\n",
              "      <td>78</td>\n",
              "      <td>74</td>\n",
              "      <td>72</td>\n",
              "      <td>72</td>\n",
              "      <td>76</td>\n",
              "      <td>78</td>\n",
              "      <td>83</td>\n",
              "      <td>85</td>\n",
              "      <td>...</td>\n",
              "      <td>102</td>\n",
              "      <td>124</td>\n",
              "      <td>124</td>\n",
              "      <td>105</td>\n",
              "      <td>76</td>\n",
              "      <td>52</td>\n",
              "      <td>44</td>\n",
              "      <td>41</td>\n",
              "      <td>48</td>\n",
              "      <td>0</td>\n",
              "    </tr>\n",
              "    <tr>\n",
              "      <th>4</th>\n",
              "      <td>4</td>\n",
              "      <td>4</td>\n",
              "      <td>45</td>\n",
              "      <td>48</td>\n",
              "      <td>50</td>\n",
              "      <td>48</td>\n",
              "      <td>45</td>\n",
              "      <td>41</td>\n",
              "      <td>36</td>\n",
              "      <td>33</td>\n",
              "      <td>...</td>\n",
              "      <td>74</td>\n",
              "      <td>79</td>\n",
              "      <td>64</td>\n",
              "      <td>50</td>\n",
              "      <td>45</td>\n",
              "      <td>41</td>\n",
              "      <td>29</td>\n",
              "      <td>19</td>\n",
              "      <td>17</td>\n",
              "      <td>0</td>\n",
              "    </tr>\n",
              "  </tbody>\n",
              "</table>\n",
              "<p>5 rows × 259 columns</p>\n",
              "</div>"
            ]
          },
          "metadata": {},
          "execution_count": 162
        }
      ]
    },
    {
      "cell_type": "markdown",
      "source": [
        "## Split Train Test"
      ],
      "metadata": {
        "id": "Gdv33bnKl8W3"
      }
    },
    {
      "cell_type": "code",
      "source": [
        "# split data & label\n",
        "X_train = data.iloc[:, 1:-1].values.astype(np.float32)\n",
        "Y_train = data.iloc[:, -1].values\n",
        "\n",
        "\n",
        "# make Train & validation set\n",
        "train_set, test_set, train_labels, test_labels = train_test_split(X_train, Y_train, random_state= 231,test_size=0.10)"
      ],
      "metadata": {
        "id": "vKyEhTcnMgi-"
      },
      "execution_count": null,
      "outputs": []
    },
    {
      "cell_type": "code",
      "source": [
        "unique, counts = np.unique(Y_train, return_counts=True)\n",
        "for i,x in enumerate(data_classes):\n",
        "    print('{} counts: {}'.format(x,counts[i]))"
      ],
      "metadata": {
        "colab": {
          "base_uri": "https://localhost:8080/"
        },
        "id": "NUtZ2P3PNQpt",
        "outputId": "7ac99ced-a028-4723-d9a7-dc7199c7916f"
      },
      "execution_count": null,
      "outputs": [
        {
          "output_type": "stream",
          "name": "stdout",
          "text": [
            "3 counts: 300\n",
            "2 counts: 300\n",
            "7 counts: 300\n",
            "W counts: 300\n",
            "S counts: 300\n"
          ]
        }
      ]
    },
    {
      "cell_type": "code",
      "source": [
        "print(train_set.shape,test_set.shape)\n",
        "print(train_labels.shape,test_labels.shape)"
      ],
      "metadata": {
        "colab": {
          "base_uri": "https://localhost:8080/"
        },
        "id": "lhED-rj-ODxX",
        "outputId": "baff377c-4741-4854-9cd4-eccceae39531"
      },
      "execution_count": null,
      "outputs": [
        {
          "output_type": "stream",
          "name": "stdout",
          "text": [
            "(1350, 256) (150, 256)\n",
            "(1350,) (150,)\n"
          ]
        }
      ]
    },
    {
      "cell_type": "code",
      "source": [
        "sample_image = train_set[1].reshape(thumb_width,thumb_width)\n",
        "sample_image.shape"
      ],
      "metadata": {
        "colab": {
          "base_uri": "https://localhost:8080/"
        },
        "id": "ilDj0jM6OGxy",
        "outputId": "72ce4858-f3b4-4055-e50b-ae1b251d206f"
      },
      "execution_count": null,
      "outputs": [
        {
          "output_type": "execute_result",
          "data": {
            "text/plain": [
              "(16, 16)"
            ]
          },
          "metadata": {},
          "execution_count": 106
        }
      ]
    },
    {
      "cell_type": "markdown",
      "source": [
        "## Show random pictures"
      ],
      "metadata": {
        "id": "zvParwtqmDsS"
      }
    },
    {
      "cell_type": "code",
      "source": [
        "fig=plt.figure(figsize=(25,4))\n",
        "for i in range(1,11):\n",
        "    ax=fig.add_subplot(2,5,i,xticks=[],yticks=[])\n",
        "    ax.imshow(train_set[i].reshape(thumb_width,thumb_width),cmap='gray')\n",
        "    ax.set_title({j for j in data_classes if data_classes[j]==train_labels[i]})"
      ],
      "metadata": {
        "colab": {
          "base_uri": "https://localhost:8080/",
          "height": 318
        },
        "id": "3s7ToCeoOQna",
        "outputId": "99eecd81-fb82-455f-8963-b0abca57a6a7"
      },
      "execution_count": null,
      "outputs": [
        {
          "output_type": "display_data",
          "data": {
            "text/plain": [
              "<Figure size 2500x400 with 10 Axes>"
            ],
            "image/png": "[encoded data removed]"
          },
          "metadata": {}
        }
      ]
    },
    {
      "cell_type": "markdown",
      "source": [
        "# Metric Functions"
      ],
      "metadata": {
        "id": "utQvsMCFmIPu"
      }
    },
    {
      "cell_type": "code",
      "source": [
        "# Make the confusion matrix\n",
        "def confusion_plot(y_test,y_pred,title):\n",
        "    cmt = confusion_matrix(y_test,y_pred)\n",
        "    plt.rcParams['figure.figsize'] = (10,8)\n",
        "    sns.heatmap(cmt,fmt='',annot=True,linewidth=0.01,cmap=sns.cubehelix_palette(as_cmap=True))\n",
        "    plt.title(\"confusion matrix {}\".format(title))\n",
        "    plt.xlabel(\"predicted\")\n",
        "    plt.ylabel(\"true\")\n",
        "    plt.show()\n",
        "\n",
        "\n",
        "# generate classification report\n",
        "def generate_classification_report(y_test,y_pred):\n",
        "    report=pd.DataFrame.from_dict(classification_report(y_pred,y_test,output_dict=True)).T\n",
        "    # report['Label']=[data_classes[i]  if i<5 else \" \" for i,x in enumerate(report.index)]\n",
        "    report=report[['f1-score','precision','recall','support']]\n",
        "    pd.set_option('display.max_rows', report.shape[0]+1)\n",
        "    return report\n",
        "\n",
        "# ROC Curve\n",
        "def plot_roc_curve(y_test,proba,pos_label):\n",
        "    fpr, tpr, thresholds = roc_curve(y_test, proba[:,pos_label], pos_label= pos_label)\n",
        "    roc_auc = roc_auc_score(y_test, proba, multi_class='ovr')\n",
        "\n",
        "    plt.rcParams['figure.figsize'] = (5,4)\n",
        "    plt.plot(fpr, tpr,'k:',lw=5, label='average ROC curve (area = {0:0.2f})'.format(roc_auc))\n",
        "    plt.plot([0 ,1],[0 ,1],'r')\n",
        "    plt.legend(loc=\"lower right\")\n",
        "    plt.title('ROC Curve for calss {0}'.format(data_classes[pos_label]))\n",
        "    plt.ylabel('True Positive Rate')\n",
        "    plt.xlabel('False Positive Rate')\n",
        "    plt.show()\n",
        "\n",
        "\n",
        "# ROC Curve for all classes\n",
        "def plot_roc_curve_all(y_test,proba,n_class,title):\n",
        "    for i in range(n_class):\n",
        "      fpr, tpr, thresholds = roc_curve(y_test, proba[:,i],pos_label= i)\n",
        "      plt.plot(fpr, tpr,lw=1)\n",
        "    plt.plot([0 ,1],[0 ,1],'r')\n",
        "    plt.title('ROC Curve for all classes in {}'.format(title))\n",
        "    plt.ylabel('True Positive Rate')\n",
        "    plt.xlabel('False Positive Rate')\n",
        "    plt.legend(data_classes)\n",
        "    plt.show()"
      ],
      "metadata": {
        "id": "1z8jIYG9Orkz"
      },
      "execution_count": null,
      "outputs": []
    },
    {
      "cell_type": "markdown",
      "source": [
        "# Train XGBoost Model"
      ],
      "metadata": {
        "id": "8lHJV0MamPFJ"
      }
    },
    {
      "cell_type": "code",
      "source": [
        "model = XGBClassifier()\n",
        "model.fit(train_set, train_labels)"
      ],
      "metadata": {
        "colab": {
          "base_uri": "https://localhost:8080/",
          "height": 248
        },
        "id": "benKudfgOspe",
        "outputId": "6d1ad568-38db-429e-9f01-25991b3f922c"
      },
      "execution_count": null,
      "outputs": [
        {
          "output_type": "execute_result",
          "data": {
            "text/plain": [
              "XGBClassifier(base_score=None, booster=None, callbacks=None,\n",
              "              colsample_bylevel=None, colsample_bynode=None,\n",
              "              colsample_bytree=None, early_stopping_rounds=None,\n",
              "              enable_categorical=False, eval_metric=None, feature_types=None,\n",
              "              gamma=None, gpu_id=None, grow_policy=None, importance_type=None,\n",
              "              interaction_constraints=None, learning_rate=None, max_bin=None,\n",
              "              max_cat_threshold=None, max_cat_to_onehot=None,\n",
              "              max_delta_step=None, max_depth=None, max_leaves=None,\n",
              "              min_child_weight=None, missing=nan, monotone_constraints=None,\n",
              "              n_estimators=100, n_jobs=None, num_parallel_tree=None,\n",
              "              objective='multi:softprob', predictor=None, ...)"
            ],
            "text/html": [
              "<style>#sk-container-id-1 {color: black;background-color: white;}#sk-container-id-1 pre{padding: 0;}#sk-container-id-1 div.sk-toggleable {background-color: white;}#sk-container-id-1 label.sk-toggleable__label {cursor: pointer;display: block;width: 100%;margin-bottom: 0;padding: 0.3em;box-sizing: border-box;text-align: center;}#sk-container-id-1 label.sk-toggleable__label-arrow:before {content: \"▸\";float: left;margin-right: 0.25em;color: #696969;}#sk-container-id-1 label.sk-toggleable__label-arrow:hover:before {color: black;}#sk-container-id-1 div.sk-estimator:hover label.sk-toggleable__label-arrow:before {color: black;}#sk-container-id-1 div.sk-toggleable__content {max-height: 0;max-width: 0;overflow: hidden;text-align: left;background-color: #f0f8ff;}#sk-container-id-1 div.sk-toggleable__content pre {margin: 0.2em;color: black;border-radius: 0.25em;background-color: #f0f8ff;}#sk-container-id-1 input.sk-toggleable__control:checked~div.sk-toggleable__content {max-height: 200px;max-width: 100%;overflow: auto;}#sk-container-id-1 input.sk-toggleable__control:checked~label.sk-toggleable__label-arrow:before {content: \"▾\";}#sk-container-id-1 div.sk-estimator input.sk-toggleable__control:checked~label.sk-toggleable__label {background-color: #d4ebff;}#sk-container-id-1 div.sk-label input.sk-toggleable__control:checked~label.sk-toggleable__label {background-color: #d4ebff;}#sk-container-id-1 input.sk-hidden--visually {border: 0;clip: rect(1px 1px 1px 1px);clip: rect(1px, 1px, 1px, 1px);height: 1px;margin: -1px;overflow: hidden;padding: 0;position: absolute;width: 1px;}#sk-container-id-1 div.sk-estimator {font-family: monospace;background-color: #f0f8ff;border: 1px dotted black;border-radius: 0.25em;box-sizing: border-box;margin-bottom: 0.5em;}#sk-container-id-1 div.sk-estimator:hover {background-color: #d4ebff;}#sk-container-id-1 div.sk-parallel-item::after {content: \"\";width: 100%;border-bottom: 1px solid gray;flex-grow: 1;}#sk-container-id-1 div.sk-label:hover label.sk-toggleable__label {background-color: #d4ebff;}#sk-container-id-1 div.sk-serial::before {content: \"\";position: absolute;border-left: 1px solid gray;box-sizing: border-box;top: 0;bottom: 0;left: 50%;z-index: 0;}#sk-container-id-1 div.sk-serial {display: flex;flex-direction: column;align-items: center;background-color: white;padding-right: 0.2em;padding-left: 0.2em;position: relative;}#sk-container-id-1 div.sk-item {position: relative;z-index: 1;}#sk-container-id-1 div.sk-parallel {display: flex;align-items: stretch;justify-content: center;background-color: white;position: relative;}#sk-container-id-1 div.sk-item::before, #sk-container-id-1 div.sk-parallel-item::before {content: \"\";position: absolute;border-left: 1px solid gray;box-sizing: border-box;top: 0;bottom: 0;left: 50%;z-index: -1;}#sk-container-id-1 div.sk-parallel-item {display: flex;flex-direction: column;z-index: 1;position: relative;background-color: white;}#sk-container-id-1 div.sk-parallel-item:first-child::after {align-self: flex-end;width: 50%;}#sk-container-id-1 div.sk-parallel-item:last-child::after {align-self: flex-start;width: 50%;}#sk-container-id-1 div.sk-parallel-item:only-child::after {width: 0;}#sk-container-id-1 div.sk-dashed-wrapped {border: 1px dashed gray;margin: 0 0.4em 0.5em 0.4em;box-sizing: border-box;padding-bottom: 0.4em;background-color: white;}#sk-container-id-1 div.sk-label label {font-family: monospace;font-weight: bold;display: inline-block;line-height: 1.2em;}#sk-container-id-1 div.sk-label-container {text-align: center;}#sk-container-id-1 div.sk-container {/* jupyter's `normalize.less` sets `[hidden] { display: none; }` but bootstrap.min.css set `[hidden] { display: none !important; }` so we also need the `!important` here to be able to override the default hidden behavior on the sphinx rendered scikit-learn.org. See: https://github.com/scikit-learn/scikit-learn/issues/21755 */display: inline-block !important;position: relative;}#sk-container-id-1 div.sk-text-repr-fallback {display: none;}</style><div id=\"sk-container-id-1\" class=\"sk-top-container\"><div class=\"sk-text-repr-fallback\"><pre>XGBClassifier(base_score=None, booster=None, callbacks=None,\n",
              "              colsample_bylevel=None, colsample_bynode=None,\n",
              "              colsample_bytree=None, early_stopping_rounds=None,\n",
              "              enable_categorical=False, eval_metric=None, feature_types=None,\n",
              "              gamma=None, gpu_id=None, grow_policy=None, importance_type=None,\n",
              "              interaction_constraints=None, learning_rate=None, max_bin=None,\n",
              "              max_cat_threshold=None, max_cat_to_onehot=None,\n",
              "              max_delta_step=None, max_depth=None, max_leaves=None,\n",
              "              min_child_weight=None, missing=nan, monotone_constraints=None,\n",
              "              n_estimators=100, n_jobs=None, num_parallel_tree=None,\n",
              "              objective=&#x27;multi:softprob&#x27;, predictor=None, ...)</pre><b>In a Jupyter environment, please rerun this cell to show the HTML representation or trust the notebook. <br />On GitHub, the HTML representation is unable to render, please try loading this page with nbviewer.org.</b></div><div class=\"sk-container\" hidden><div class=\"sk-item\"><div class=\"sk-estimator sk-toggleable\"><input class=\"sk-toggleable__control sk-hidden--visually\" id=\"sk-estimator-id-1\" type=\"checkbox\" checked><label for=\"sk-estimator-id-1\" class=\"sk-toggleable__label sk-toggleable__label-arrow\">XGBClassifier</label><div class=\"sk-toggleable__content\"><pre>XGBClassifier(base_score=None, booster=None, callbacks=None,\n",
              "              colsample_bylevel=None, colsample_bynode=None,\n",
              "              colsample_bytree=None, early_stopping_rounds=None,\n",
              "              enable_categorical=False, eval_metric=None, feature_types=None,\n",
              "              gamma=None, gpu_id=None, grow_policy=None, importance_type=None,\n",
              "              interaction_constraints=None, learning_rate=None, max_bin=None,\n",
              "              max_cat_threshold=None, max_cat_to_onehot=None,\n",
              "              max_delta_step=None, max_depth=None, max_leaves=None,\n",
              "              min_child_weight=None, missing=nan, monotone_constraints=None,\n",
              "              n_estimators=100, n_jobs=None, num_parallel_tree=None,\n",
              "              objective=&#x27;multi:softprob&#x27;, predictor=None, ...)</pre></div></div></div></div></div>"
            ]
          },
          "metadata": {},
          "execution_count": 130
        }
      ]
    },
    {
      "cell_type": "code",
      "source": [
        "y_pred = model.predict(test_set)"
      ],
      "metadata": {
        "id": "1m-bef73PWvC"
      },
      "execution_count": null,
      "outputs": []
    },
    {
      "cell_type": "markdown",
      "source": [
        "## Metric Results"
      ],
      "metadata": {
        "id": "dnLVnggPmSEM"
      }
    },
    {
      "cell_type": "code",
      "source": [
        "generate_classification_report(test_labels, y_pred)"
      ],
      "metadata": {
        "colab": {
          "base_uri": "https://localhost:8080/",
          "height": 300
        },
        "id": "j-4knkveQNTe",
        "outputId": "9c2903d5-5f44-4fbb-9c81-e1e988e08e85"
      },
      "execution_count": null,
      "outputs": [
        {
          "output_type": "execute_result",
          "data": {
            "text/plain": [
              "              f1-score  precision    recall     support\n",
              "0             0.965517   0.933333  1.000000   28.000000\n",
              "1             0.920635   0.966667  0.878788   33.000000\n",
              "2             0.949153   0.933333  0.965517   29.000000\n",
              "3             0.965517   0.933333  1.000000   28.000000\n",
              "4             0.967742   1.000000  0.937500   32.000000\n",
              "accuracy      0.953333   0.953333  0.953333    0.953333\n",
              "macro avg     0.953713   0.953333  0.956361  150.000000\n",
              "weighted avg  0.952954   0.954889  0.953333  150.000000"
            ],
            "text/html": [
              "<div>\n",
              "<style scoped>\n",
              "    .dataframe tbody tr th:only-of-type {\n",
              "        vertical-align: middle;\n",
              "    }\n",
              "\n",
              "    .dataframe tbody tr th {\n",
              "        vertical-align: top;\n",
              "    }\n",
              "\n",
              "    .dataframe thead th {\n",
              "        text-align: right;\n",
              "    }\n",
              "</style>\n",
              "<table border=\"1\" class=\"dataframe\">\n",
              "  <thead>\n",
              "    <tr style=\"text-align: right;\">\n",
              "      <th></th>\n",
              "      <th>f1-score</th>\n",
              "      <th>precision</th>\n",
              "      <th>recall</th>\n",
              "      <th>support</th>\n",
              "    </tr>\n",
              "  </thead>\n",
              "  <tbody>\n",
              "    <tr>\n",
              "      <th>0</th>\n",
              "      <td>0.965517</td>\n",
              "      <td>0.933333</td>\n",
              "      <td>1.000000</td>\n",
              "      <td>28.000000</td>\n",
              "    </tr>\n",
              "    <tr>\n",
              "      <th>1</th>\n",
              "      <td>0.920635</td>\n",
              "      <td>0.966667</td>\n",
              "      <td>0.878788</td>\n",
              "      <td>33.000000</td>\n",
              "    </tr>\n",
              "    <tr>\n",
              "      <th>2</th>\n",
              "      <td>0.949153</td>\n",
              "      <td>0.933333</td>\n",
              "      <td>0.965517</td>\n",
              "      <td>29.000000</td>\n",
              "    </tr>\n",
              "    <tr>\n",
              "      <th>3</th>\n",
              "      <td>0.965517</td>\n",
              "      <td>0.933333</td>\n",
              "      <td>1.000000</td>\n",
              "      <td>28.000000</td>\n",
              "    </tr>\n",
              "    <tr>\n",
              "      <th>4</th>\n",
              "      <td>0.967742</td>\n",
              "      <td>1.000000</td>\n",
              "      <td>0.937500</td>\n",
              "      <td>32.000000</td>\n",
              "    </tr>\n",
              "    <tr>\n",
              "      <th>accuracy</th>\n",
              "      <td>0.953333</td>\n",
              "      <td>0.953333</td>\n",
              "      <td>0.953333</td>\n",
              "      <td>0.953333</td>\n",
              "    </tr>\n",
              "    <tr>\n",
              "      <th>macro avg</th>\n",
              "      <td>0.953713</td>\n",
              "      <td>0.953333</td>\n",
              "      <td>0.956361</td>\n",
              "      <td>150.000000</td>\n",
              "    </tr>\n",
              "    <tr>\n",
              "      <th>weighted avg</th>\n",
              "      <td>0.952954</td>\n",
              "      <td>0.954889</td>\n",
              "      <td>0.953333</td>\n",
              "      <td>150.000000</td>\n",
              "    </tr>\n",
              "  </tbody>\n",
              "</table>\n",
              "</div>"
            ]
          },
          "metadata": {},
          "execution_count": 132
        }
      ]
    },
    {
      "cell_type": "code",
      "source": [
        "confusion_plot(test_labels,y_pred,'for XGBoost')"
      ],
      "metadata": {
        "colab": {
          "base_uri": "https://localhost:8080/",
          "height": 718
        },
        "id": "N_CYJFvpPIvr",
        "outputId": "e196acf2-e071-4dd2-85de-d27e64da932b"
      },
      "execution_count": null,
      "outputs": [
        {
          "output_type": "display_data",
          "data": {
            "text/plain": [
              "<Figure size 1000x800 with 2 Axes>"
            ],
            "image/png": "[encoded data removed]"
          },
          "metadata": {}
        }
      ]
    },
    {
      "cell_type": "markdown",
      "source": [
        "# Fine-Tunning"
      ],
      "metadata": {
        "id": "hbjweN0GmVL_"
      }
    },
    {
      "cell_type": "code",
      "source": [
        "# Create the parameter grid: gbm_param_grid \n",
        "gbm_param_grid = {\n",
        "    'n_estimators': range(8, 20),\n",
        "    'max_depth': range(6, 10),\n",
        "    'learning_rate': [.4, .45, .5, .55, .6],\n",
        "    'colsample_bytree': [.6, .7, .8, .9, 1]\n",
        "}\n",
        "\n",
        "# Instantiate the regressor: gbm\n",
        "gbm = XGBClassifier(n_estimators=10)\n",
        "\n",
        "# Perform random search: grid_mse\n",
        "xgb_random = RandomizedSearchCV(param_distributions=gbm_param_grid, \n",
        "                                    estimator = gbm, scoring = \"accuracy\", \n",
        "                                    verbose = 1, n_iter = 50, cv = 4)\n",
        "\n",
        "\n",
        "# Fit randomized_mse to the data\n",
        "xgb_random.fit(X_train, Y_train)\n",
        "\n",
        "# Print the best parameters and lowest RMSE\n",
        "print(\"Best parameters found: \", xgb_random.best_params_)\n",
        "print(\"Best accuracy found: \", xgb_random.best_score_)"
      ],
      "metadata": {
        "colab": {
          "base_uri": "https://localhost:8080/"
        },
        "id": "DhQPZ-IDg5Nk",
        "outputId": "a307a825-116c-465c-dedb-ff3e708bf0a5"
      },
      "execution_count": null,
      "outputs": [
        {
          "output_type": "stream",
          "name": "stdout",
          "text": [
            "Fitting 4 folds for each of 50 candidates, totalling 200 fits\n",
            "Best parameters found:  {'n_estimators': 17, 'max_depth': 7, 'learning_rate': 0.6, 'colsample_bytree': 0.8}\n",
            "Best accuracy found:  0.9413333333333334\n"
          ]
        }
      ]
    },
    {
      "cell_type": "code",
      "source": [
        "y_pred = xgb_random.predict(test_set)"
      ],
      "metadata": {
        "id": "FH6yT5m3jwIl"
      },
      "execution_count": null,
      "outputs": []
    },
    {
      "cell_type": "markdown",
      "source": [
        "## Result for best Model"
      ],
      "metadata": {
        "id": "gEt2-E0fmYTM"
      }
    },
    {
      "cell_type": "code",
      "source": [
        "generate_classification_report(test_labels, y_pred)"
      ],
      "metadata": {
        "colab": {
          "base_uri": "https://localhost:8080/",
          "height": 300
        },
        "outputId": "fa5c6fd5-178d-4e89-9248-e400fb45e4b9",
        "id": "G4T8hcECjwIm"
      },
      "execution_count": null,
      "outputs": [
        {
          "output_type": "execute_result",
          "data": {
            "text/plain": [
              "              f1-score  precision  recall  support\n",
              "0                  1.0        1.0     1.0     30.0\n",
              "1                  1.0        1.0     1.0     30.0\n",
              "2                  1.0        1.0     1.0     30.0\n",
              "3                  1.0        1.0     1.0     30.0\n",
              "4                  1.0        1.0     1.0     30.0\n",
              "accuracy           1.0        1.0     1.0      1.0\n",
              "macro avg          1.0        1.0     1.0    150.0\n",
              "weighted avg       1.0        1.0     1.0    150.0"
            ],
            "text/html": [
              "<div>\n",
              "<style scoped>\n",
              "    .dataframe tbody tr th:only-of-type {\n",
              "        vertical-align: middle;\n",
              "    }\n",
              "\n",
              "    .dataframe tbody tr th {\n",
              "        vertical-align: top;\n",
              "    }\n",
              "\n",
              "    .dataframe thead th {\n",
              "        text-align: right;\n",
              "    }\n",
              "</style>\n",
              "<table border=\"1\" class=\"dataframe\">\n",
              "  <thead>\n",
              "    <tr style=\"text-align: right;\">\n",
              "      <th></th>\n",
              "      <th>f1-score</th>\n",
              "      <th>precision</th>\n",
              "      <th>recall</th>\n",
              "      <th>support</th>\n",
              "    </tr>\n",
              "  </thead>\n",
              "  <tbody>\n",
              "    <tr>\n",
              "      <th>0</th>\n",
              "      <td>1.0</td>\n",
              "      <td>1.0</td>\n",
              "      <td>1.0</td>\n",
              "      <td>30.0</td>\n",
              "    </tr>\n",
              "    <tr>\n",
              "      <th>1</th>\n",
              "      <td>1.0</td>\n",
              "      <td>1.0</td>\n",
              "      <td>1.0</td>\n",
              "      <td>30.0</td>\n",
              "    </tr>\n",
              "    <tr>\n",
              "      <th>2</th>\n",
              "      <td>1.0</td>\n",
              "      <td>1.0</td>\n",
              "      <td>1.0</td>\n",
              "      <td>30.0</td>\n",
              "    </tr>\n",
              "    <tr>\n",
              "      <th>3</th>\n",
              "      <td>1.0</td>\n",
              "      <td>1.0</td>\n",
              "      <td>1.0</td>\n",
              "      <td>30.0</td>\n",
              "    </tr>\n",
              "    <tr>\n",
              "      <th>4</th>\n",
              "      <td>1.0</td>\n",
              "      <td>1.0</td>\n",
              "      <td>1.0</td>\n",
              "      <td>30.0</td>\n",
              "    </tr>\n",
              "    <tr>\n",
              "      <th>accuracy</th>\n",
              "      <td>1.0</td>\n",
              "      <td>1.0</td>\n",
              "      <td>1.0</td>\n",
              "      <td>1.0</td>\n",
              "    </tr>\n",
              "    <tr>\n",
              "      <th>macro avg</th>\n",
              "      <td>1.0</td>\n",
              "      <td>1.0</td>\n",
              "      <td>1.0</td>\n",
              "      <td>150.0</td>\n",
              "    </tr>\n",
              "    <tr>\n",
              "      <th>weighted avg</th>\n",
              "      <td>1.0</td>\n",
              "      <td>1.0</td>\n",
              "      <td>1.0</td>\n",
              "      <td>150.0</td>\n",
              "    </tr>\n",
              "  </tbody>\n",
              "</table>\n",
              "</div>"
            ]
          },
          "metadata": {},
          "execution_count": 151
        }
      ]
    },
    {
      "cell_type": "code",
      "source": [
        "confusion_plot(test_labels,y_pred,'for XGBoost')"
      ],
      "metadata": {
        "colab": {
          "base_uri": "https://localhost:8080/",
          "height": 718
        },
        "outputId": "c8454327-c3d0-46a7-97cf-61adf1039b6e",
        "id": "SJgMsnSdjwIm"
      },
      "execution_count": null,
      "outputs": [
        {
          "output_type": "display_data",
          "data": {
            "text/plain": [
              "<Figure size 1000x800 with 2 Axes>"
            ],
            "image/png": "[encoded data removed]"
          },
          "metadata": {}
        }
      ]
    }
  ]
}